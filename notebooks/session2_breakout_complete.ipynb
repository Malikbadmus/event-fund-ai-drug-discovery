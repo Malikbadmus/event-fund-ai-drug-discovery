{
  "nbformat": 4,
  "nbformat_minor": 0,
  "metadata": {
    "colab": {
      "provenance": [],
      "collapsed_sections": [],
      "mount_file_id": "https://github.com/ersilia-os/event-fund-ai-drug-discovery/blob/main/session2_breakout_solved.ipynb",
      "authorship_tag": "ABX9TyNyZbtDcXBeHRz0jVUAPv1S",
      "include_colab_link": true
    },
    "kernelspec": {
      "name": "python3",
      "display_name": "Python 3"
    },
    "language_info": {
      "name": "python"
    }
  },
  "cells": [
    {
      "cell_type": "markdown",
      "metadata": {
        "id": "view-in-github",
        "colab_type": "text"
      },
      "source": [
        "<a href=\"https://colab.research.google.com/github/ersilia-os/event-fund-ai-drug-discovery/blob/main/notebooks/session2_breakout_complete.ipynb\" target=\"_parent\"><img src=\"https://colab.research.google.com/assets/colab-badge.svg\" alt=\"Open In Colab\"/></a>"
      ]
    },
    {
      "cell_type": "markdown",
      "source": [
        "# MMV Malaria Dataset\n",
        "We will use the list of 400 compounds from the MMV Malaria Box for this exercise. The list of molecules is already prepared in the /data folder of the google drive DataScience_Workshop we created during Session 1\n",
        "First, we will mount Google Drive on the notebook to access the data."
      ],
      "metadata": {
        "id": "xjJsxgmC0Pzs"
      }
    },
    {
      "cell_type": "code",
      "source": [
        "# Mount Google Drive\n",
        "from google.colab import drive\n",
        "drive.mount('/content/drive')\n",
        "\n",
        "#import necessary packages\n",
        "import matplotlib.pyplot as plt\n",
        "import pandas as pd"
      ],
      "metadata": {
        "colab": {
          "base_uri": "https://localhost:8080/"
        },
        "id": "FFlKZR-uy9hj",
        "outputId": "0571663a-72f1-4ab2-d349-decd7d71d0c8"
      },
      "execution_count": 1,
      "outputs": [
        {
          "output_type": "stream",
          "name": "stdout",
          "text": [
            "Drive already mounted at /content/drive; to attempt to forcibly remount, call drive.mount(\"/content/drive\", force_remount=True).\n"
          ]
        }
      ]
    },
    {
      "cell_type": "code",
      "source": [
        "#do not run this if you already did during Session 1\n",
        "!mkdir /content/drive/MyDrive/DataScience_Workshop\n",
        "!git clone https://github.com/ersilia-os/event-fund-ai-drug-discovery.git /content/drive/MyDrive/DataScience_Workshop"
      ],
      "metadata": {
        "id": "sMT0at1jzF-X",
        "outputId": "6faca46d-33cb-49c6-9226-957e00558012",
        "colab": {
          "base_uri": "https://localhost:8080/"
        }
      },
      "execution_count": 3,
      "outputs": [
        {
          "output_type": "stream",
          "name": "stdout",
          "text": [
            "Cloning into '/content/drive/MyDrive/DataScience_Workshop'...\n",
            "remote: Enumerating objects: 143, done.\u001b[K\n",
            "remote: Counting objects: 100% (143/143), done.\u001b[K\n",
            "remote: Compressing objects: 100% (112/112), done.\u001b[K\n",
            "remote: Total 143 (delta 64), reused 82 (delta 27), pack-reused 0\u001b[K\n",
            "Receiving objects: 100% (143/143), 1.85 MiB | 7.45 MiB/s, done.\n",
            "Resolving deltas: 100% (64/64), done.\n"
          ]
        }
      ]
    },
    {
      "cell_type": "code",
      "source": [
        "#we can open it as a pandas dataframe\n",
        "smiles = \"drive/MyDrive/DataScience_Workshop/data/day2/mmv_malariabox.csv\"\n",
        "df=pd.read_csv(smiles)\n",
        "df.head()"
      ],
      "metadata": {
        "id": "VMuOGn-O0e5n",
        "outputId": "009c81d5-cf02-43cf-f0eb-0d124415a6b1",
        "colab": {
          "base_uri": "https://localhost:8080/",
          "height": 206
        }
      },
      "execution_count": 5,
      "outputs": [
        {
          "output_type": "execute_result",
          "data": {
            "text/plain": [
              "                                          CAN_SMILES\n",
              "0          COc1ccccc1CNC(=O)CCn1c(=O)[nH]c2ccsc2c1=O\n",
              "1  CN(C)c1ccc(C(O)(c2ccc(N(C)C)cc2)c2ccc(N(C)C)cc...\n",
              "2  Cc1ccc(-c2cc3c(SCC(=O)Nc4cc(C(F)(F)F)ccc4Cl)nc...\n",
              "3  CCOC(=O)C1=C(c2ccccc2)N=c2sc(=Cc3cc(C)n(-c4ccc...\n",
              "4      CCOC(=O)c1cnc2c(C)cc(C)cc2c1Nc1ccc(OC)c(OC)c1"
            ],
            "text/html": [
              "\n",
              "  <div id=\"df-8fb791b4-189b-4bfd-a844-cd6f16528a8b\">\n",
              "    <div class=\"colab-df-container\">\n",
              "      <div>\n",
              "<style scoped>\n",
              "    .dataframe tbody tr th:only-of-type {\n",
              "        vertical-align: middle;\n",
              "    }\n",
              "\n",
              "    .dataframe tbody tr th {\n",
              "        vertical-align: top;\n",
              "    }\n",
              "\n",
              "    .dataframe thead th {\n",
              "        text-align: right;\n",
              "    }\n",
              "</style>\n",
              "<table border=\"1\" class=\"dataframe\">\n",
              "  <thead>\n",
              "    <tr style=\"text-align: right;\">\n",
              "      <th></th>\n",
              "      <th>CAN_SMILES</th>\n",
              "    </tr>\n",
              "  </thead>\n",
              "  <tbody>\n",
              "    <tr>\n",
              "      <th>0</th>\n",
              "      <td>COc1ccccc1CNC(=O)CCn1c(=O)[nH]c2ccsc2c1=O</td>\n",
              "    </tr>\n",
              "    <tr>\n",
              "      <th>1</th>\n",
              "      <td>CN(C)c1ccc(C(O)(c2ccc(N(C)C)cc2)c2ccc(N(C)C)cc...</td>\n",
              "    </tr>\n",
              "    <tr>\n",
              "      <th>2</th>\n",
              "      <td>Cc1ccc(-c2cc3c(SCC(=O)Nc4cc(C(F)(F)F)ccc4Cl)nc...</td>\n",
              "    </tr>\n",
              "    <tr>\n",
              "      <th>3</th>\n",
              "      <td>CCOC(=O)C1=C(c2ccccc2)N=c2sc(=Cc3cc(C)n(-c4ccc...</td>\n",
              "    </tr>\n",
              "    <tr>\n",
              "      <th>4</th>\n",
              "      <td>CCOC(=O)c1cnc2c(C)cc(C)cc2c1Nc1ccc(OC)c(OC)c1</td>\n",
              "    </tr>\n",
              "  </tbody>\n",
              "</table>\n",
              "</div>\n",
              "      <button class=\"colab-df-convert\" onclick=\"convertToInteractive('df-8fb791b4-189b-4bfd-a844-cd6f16528a8b')\"\n",
              "              title=\"Convert this dataframe to an interactive table.\"\n",
              "              style=\"display:none;\">\n",
              "        \n",
              "  <svg xmlns=\"http://www.w3.org/2000/svg\" height=\"24px\"viewBox=\"0 0 24 24\"\n",
              "       width=\"24px\">\n",
              "    <path d=\"M0 0h24v24H0V0z\" fill=\"none\"/>\n",
              "    <path d=\"M18.56 5.44l.94 2.06.94-2.06 2.06-.94-2.06-.94-.94-2.06-.94 2.06-2.06.94zm-11 1L8.5 8.5l.94-2.06 2.06-.94-2.06-.94L8.5 2.5l-.94 2.06-2.06.94zm10 10l.94 2.06.94-2.06 2.06-.94-2.06-.94-.94-2.06-.94 2.06-2.06.94z\"/><path d=\"M17.41 7.96l-1.37-1.37c-.4-.4-.92-.59-1.43-.59-.52 0-1.04.2-1.43.59L10.3 9.45l-7.72 7.72c-.78.78-.78 2.05 0 2.83L4 21.41c.39.39.9.59 1.41.59.51 0 1.02-.2 1.41-.59l7.78-7.78 2.81-2.81c.8-.78.8-2.07 0-2.86zM5.41 20L4 18.59l7.72-7.72 1.47 1.35L5.41 20z\"/>\n",
              "  </svg>\n",
              "      </button>\n",
              "      \n",
              "  <style>\n",
              "    .colab-df-container {\n",
              "      display:flex;\n",
              "      flex-wrap:wrap;\n",
              "      gap: 12px;\n",
              "    }\n",
              "\n",
              "    .colab-df-convert {\n",
              "      background-color: #E8F0FE;\n",
              "      border: none;\n",
              "      border-radius: 50%;\n",
              "      cursor: pointer;\n",
              "      display: none;\n",
              "      fill: #1967D2;\n",
              "      height: 32px;\n",
              "      padding: 0 0 0 0;\n",
              "      width: 32px;\n",
              "    }\n",
              "\n",
              "    .colab-df-convert:hover {\n",
              "      background-color: #E2EBFA;\n",
              "      box-shadow: 0px 1px 2px rgba(60, 64, 67, 0.3), 0px 1px 3px 1px rgba(60, 64, 67, 0.15);\n",
              "      fill: #174EA6;\n",
              "    }\n",
              "\n",
              "    [theme=dark] .colab-df-convert {\n",
              "      background-color: #3B4455;\n",
              "      fill: #D2E3FC;\n",
              "    }\n",
              "\n",
              "    [theme=dark] .colab-df-convert:hover {\n",
              "      background-color: #434B5C;\n",
              "      box-shadow: 0px 1px 3px 1px rgba(0, 0, 0, 0.15);\n",
              "      filter: drop-shadow(0px 1px 2px rgba(0, 0, 0, 0.3));\n",
              "      fill: #FFFFFF;\n",
              "    }\n",
              "  </style>\n",
              "\n",
              "      <script>\n",
              "        const buttonEl =\n",
              "          document.querySelector('#df-8fb791b4-189b-4bfd-a844-cd6f16528a8b button.colab-df-convert');\n",
              "        buttonEl.style.display =\n",
              "          google.colab.kernel.accessAllowed ? 'block' : 'none';\n",
              "\n",
              "        async function convertToInteractive(key) {\n",
              "          const element = document.querySelector('#df-8fb791b4-189b-4bfd-a844-cd6f16528a8b');\n",
              "          const dataTable =\n",
              "            await google.colab.kernel.invokeFunction('convertToInteractive',\n",
              "                                                     [key], {});\n",
              "          if (!dataTable) return;\n",
              "\n",
              "          const docLinkHtml = 'Like what you see? Visit the ' +\n",
              "            '<a target=\"_blank\" href=https://colab.research.google.com/notebooks/data_table.ipynb>data table notebook</a>'\n",
              "            + ' to learn more about interactive tables.';\n",
              "          element.innerHTML = '';\n",
              "          dataTable['output_type'] = 'display_data';\n",
              "          await google.colab.output.renderOutput(dataTable, element);\n",
              "          const docLink = document.createElement('div');\n",
              "          docLink.innerHTML = docLinkHtml;\n",
              "          element.appendChild(docLink);\n",
              "        }\n",
              "      </script>\n",
              "    </div>\n",
              "  </div>\n",
              "  "
            ]
          },
          "metadata": {},
          "execution_count": 5
        }
      ]
    },
    {
      "cell_type": "markdown",
      "source": [
        "# Ersilia Model Hub\n",
        "The Ersilia Model Hub is a repository of pre-trained, ready-to-use AI models for drug discovery. A list of models and its applications is available [here](https://ersilia.io/model-hub).\n",
        "\n",
        "You can run the Ersilia Model Hub in your computer by installing the [Ersilia Python Package](https://github.com/ersilia-os/ersilia). In this session, we will use the Google Colab implementation of the Ersilia Model Hub to ensure compatibility with all systems."
      ],
      "metadata": {
        "id": "878ye_rfyPE1"
      }
    },
    {
      "cell_type": "code",
      "source": [
        "#@title The Ersilia Model Hub\n",
        "#@markdown Click on the play button to install Ersilia in this Colab notebook.\n",
        "\n",
        "%%capture\n",
        "%env MINICONDA_INSTALLER_SCRIPT=Miniconda3-py37_4.12.0-Linux-x86_64.sh\n",
        "%env MINICONDA_PREFIX=/usr/local\n",
        "%env PYTHONPATH={PYTHONPATH}:/usr/local/lib/python3.7/site-packages\n",
        "%env CONDA_PREFIX=/usr/local\n",
        "%env CONDA_PREFIX_1=/usr/local\n",
        "%env CONDA_DIR=/usr/local\n",
        "%env CONDA_DEFAULT_ENV=base\n",
        "!wget https://repo.anaconda.com/miniconda/$MINICONDA_INSTALLER_SCRIPT\n",
        "!chmod +x $MINICONDA_INSTALLER_SCRIPT\n",
        "!./$MINICONDA_INSTALLER_SCRIPT -b -f -p $MINICONDA_PREFIX\n",
        "!python -m pip install git+https://github.com/ersilia-os/ersilia.git\n",
        "!python -m pip install requests --upgrade\n",
        "import sys\n",
        "_ = (sys.path.append(\"/usr/local/lib/python3.7/site-packages\"))"
      ],
      "metadata": {
        "id": "hLxIH8hxyOte"
      },
      "execution_count": 6,
      "outputs": []
    },
    {
      "cell_type": "markdown",
      "source": [
        "# Example Model Prediction\n",
        "We will use one model as a step-by-step guide of how to use the Ersilia Model Hub and analyse the results. Each Ersilia model is identified by a code (eosxxxx) and a slug (one - two word identifier). We will always refer to the models by either the code or the slug. More details are available in the Ersilia Model Hub [documentation](https://ersilia.gitbook.io/ersilia-book/).\n",
        "\n"
      ],
      "metadata": {
        "id": "TWA7BLGtzgWg"
      }
    },
    {
      "cell_type": "markdown",
      "source": [
        "## Antimalarial Activity\n",
        "The Ersilia Model Hub contains a surrogate version of MAIP, a web-based model for predicting blood-stage malaria inhibitors, published in [Bosc et al, 2021](https://jcheminf.biomedcentral.com/articles/10.1186/s13321-021-00487-2).\n",
        "\n",
        "### Steps\n",
        "1. Fetch the model from the online repositor using a bash command (!) \n",
        "2. Import the ersilia package as a Python function\n",
        "3. Load the selected model, \"eos2gth\"\n",
        "4. Run predictions for the input of interest (the MMV Malaria Box smiles list). The output will be loaded in a Pandas dataframe\n",
        "5. Close the model"
      ],
      "metadata": {
        "id": "c7Bpe3pbz5YY"
      }
    },
    {
      "cell_type": "code",
      "source": [
        "!ersilia fetch eos2gth"
      ],
      "metadata": {
        "colab": {
          "base_uri": "https://localhost:8080/"
        },
        "id": "0Opjm0Wq5lfi",
        "outputId": "1b12e3c2-bbc1-4a43-adf5-f03d70c8b915"
      },
      "execution_count": 7,
      "outputs": [
        {
          "output_type": "stream",
          "name": "stdout",
          "text": [
            "\u001b[34m⬇️  Fetching model eos2gth: maip-malaria-surrogate\u001b[0m\n",
            "\u001b[32m👍 Model eos2gth fetched successfully!\u001b[0m\n"
          ]
        }
      ]
    },
    {
      "cell_type": "code",
      "execution_count": 8,
      "metadata": {
        "id": "T2lNuiazx9m5"
      },
      "outputs": [],
      "source": [
        "from ersilia import ErsiliaModel\n",
        "\n",
        "model = ErsiliaModel(\"eos2gth\")\n",
        "model.serve()\n",
        "output = model.predict(input=smiles, output=\"pandas\")\n",
        "model.close()"
      ]
    },
    {
      "cell_type": "code",
      "source": [
        "#once the model has run the predictions, let's save the output in our Google Drive\n",
        "output.to_csv(\"drive/MyDrive/DataScience_Workshop/data/day2/eos2gth.csv\", index=False)"
      ],
      "metadata": {
        "id": "CL0BURmg7oKM"
      },
      "execution_count": 9,
      "outputs": []
    },
    {
      "cell_type": "markdown",
      "source": [
        "### Analyising the model output"
      ],
      "metadata": {
        "id": "wL3TVCz07M3L"
      }
    },
    {
      "cell_type": "code",
      "source": [
        "#First, let's load the predictions we just stored in drive\n",
        "\n",
        "maip = pd.read_csv(\"drive/MyDrive/DataScience_Workshop/data/day2/eos2gth.csv\")\n",
        "maip.head()"
      ],
      "metadata": {
        "id": "QKoufpayYWIw",
        "outputId": "9e821d76-bed9-47a9-86dd-f6722c76aff4",
        "colab": {
          "base_uri": "https://localhost:8080/",
          "height": 206
        }
      },
      "execution_count": 10,
      "outputs": [
        {
          "output_type": "execute_result",
          "data": {
            "text/plain": [
              "                           key  \\\n",
              "0  ALGPHOUNWIZIOQ-UHFFFAOYSA-N   \n",
              "1  QFVDKARCPMTZCS-UHFFFAOYSA-N   \n",
              "2  HKNNPGWJKJDXCN-UHFFFAOYSA-N   \n",
              "3  QQNUVMRXVVLAAU-UHFFFAOYSA-N   \n",
              "4  MSGARPVVCYTSLR-UHFFFAOYSA-N   \n",
              "\n",
              "                                               input      score  \n",
              "0          COc1ccccc1CNC(=O)CCn1c(=O)[nH]c2ccsc2c1=O   6.886159  \n",
              "1  CN(C)c1ccc(C(O)(c2ccc(N(C)C)cc2)c2ccc(N(C)C)cc...  15.483176  \n",
              "2  Cc1ccc(-c2cc3c(SCC(=O)Nc4cc(C(F)(F)F)ccc4Cl)nc...  27.288107  \n",
              "3  CCOC(=O)C1=C(c2ccccc2)N=c2sc(=Cc3cc(C)n(-c4ccc...  12.532308  \n",
              "4      CCOC(=O)c1cnc2c(C)cc(C)cc2c1Nc1ccc(OC)c(OC)c1  37.554440  "
            ],
            "text/html": [
              "\n",
              "  <div id=\"df-bb80bba0-2f9e-4cc4-a762-75835a4e7b48\">\n",
              "    <div class=\"colab-df-container\">\n",
              "      <div>\n",
              "<style scoped>\n",
              "    .dataframe tbody tr th:only-of-type {\n",
              "        vertical-align: middle;\n",
              "    }\n",
              "\n",
              "    .dataframe tbody tr th {\n",
              "        vertical-align: top;\n",
              "    }\n",
              "\n",
              "    .dataframe thead th {\n",
              "        text-align: right;\n",
              "    }\n",
              "</style>\n",
              "<table border=\"1\" class=\"dataframe\">\n",
              "  <thead>\n",
              "    <tr style=\"text-align: right;\">\n",
              "      <th></th>\n",
              "      <th>key</th>\n",
              "      <th>input</th>\n",
              "      <th>score</th>\n",
              "    </tr>\n",
              "  </thead>\n",
              "  <tbody>\n",
              "    <tr>\n",
              "      <th>0</th>\n",
              "      <td>ALGPHOUNWIZIOQ-UHFFFAOYSA-N</td>\n",
              "      <td>COc1ccccc1CNC(=O)CCn1c(=O)[nH]c2ccsc2c1=O</td>\n",
              "      <td>6.886159</td>\n",
              "    </tr>\n",
              "    <tr>\n",
              "      <th>1</th>\n",
              "      <td>QFVDKARCPMTZCS-UHFFFAOYSA-N</td>\n",
              "      <td>CN(C)c1ccc(C(O)(c2ccc(N(C)C)cc2)c2ccc(N(C)C)cc...</td>\n",
              "      <td>15.483176</td>\n",
              "    </tr>\n",
              "    <tr>\n",
              "      <th>2</th>\n",
              "      <td>HKNNPGWJKJDXCN-UHFFFAOYSA-N</td>\n",
              "      <td>Cc1ccc(-c2cc3c(SCC(=O)Nc4cc(C(F)(F)F)ccc4Cl)nc...</td>\n",
              "      <td>27.288107</td>\n",
              "    </tr>\n",
              "    <tr>\n",
              "      <th>3</th>\n",
              "      <td>QQNUVMRXVVLAAU-UHFFFAOYSA-N</td>\n",
              "      <td>CCOC(=O)C1=C(c2ccccc2)N=c2sc(=Cc3cc(C)n(-c4ccc...</td>\n",
              "      <td>12.532308</td>\n",
              "    </tr>\n",
              "    <tr>\n",
              "      <th>4</th>\n",
              "      <td>MSGARPVVCYTSLR-UHFFFAOYSA-N</td>\n",
              "      <td>CCOC(=O)c1cnc2c(C)cc(C)cc2c1Nc1ccc(OC)c(OC)c1</td>\n",
              "      <td>37.554440</td>\n",
              "    </tr>\n",
              "  </tbody>\n",
              "</table>\n",
              "</div>\n",
              "      <button class=\"colab-df-convert\" onclick=\"convertToInteractive('df-bb80bba0-2f9e-4cc4-a762-75835a4e7b48')\"\n",
              "              title=\"Convert this dataframe to an interactive table.\"\n",
              "              style=\"display:none;\">\n",
              "        \n",
              "  <svg xmlns=\"http://www.w3.org/2000/svg\" height=\"24px\"viewBox=\"0 0 24 24\"\n",
              "       width=\"24px\">\n",
              "    <path d=\"M0 0h24v24H0V0z\" fill=\"none\"/>\n",
              "    <path d=\"M18.56 5.44l.94 2.06.94-2.06 2.06-.94-2.06-.94-.94-2.06-.94 2.06-2.06.94zm-11 1L8.5 8.5l.94-2.06 2.06-.94-2.06-.94L8.5 2.5l-.94 2.06-2.06.94zm10 10l.94 2.06.94-2.06 2.06-.94-2.06-.94-.94-2.06-.94 2.06-2.06.94z\"/><path d=\"M17.41 7.96l-1.37-1.37c-.4-.4-.92-.59-1.43-.59-.52 0-1.04.2-1.43.59L10.3 9.45l-7.72 7.72c-.78.78-.78 2.05 0 2.83L4 21.41c.39.39.9.59 1.41.59.51 0 1.02-.2 1.41-.59l7.78-7.78 2.81-2.81c.8-.78.8-2.07 0-2.86zM5.41 20L4 18.59l7.72-7.72 1.47 1.35L5.41 20z\"/>\n",
              "  </svg>\n",
              "      </button>\n",
              "      \n",
              "  <style>\n",
              "    .colab-df-container {\n",
              "      display:flex;\n",
              "      flex-wrap:wrap;\n",
              "      gap: 12px;\n",
              "    }\n",
              "\n",
              "    .colab-df-convert {\n",
              "      background-color: #E8F0FE;\n",
              "      border: none;\n",
              "      border-radius: 50%;\n",
              "      cursor: pointer;\n",
              "      display: none;\n",
              "      fill: #1967D2;\n",
              "      height: 32px;\n",
              "      padding: 0 0 0 0;\n",
              "      width: 32px;\n",
              "    }\n",
              "\n",
              "    .colab-df-convert:hover {\n",
              "      background-color: #E2EBFA;\n",
              "      box-shadow: 0px 1px 2px rgba(60, 64, 67, 0.3), 0px 1px 3px 1px rgba(60, 64, 67, 0.15);\n",
              "      fill: #174EA6;\n",
              "    }\n",
              "\n",
              "    [theme=dark] .colab-df-convert {\n",
              "      background-color: #3B4455;\n",
              "      fill: #D2E3FC;\n",
              "    }\n",
              "\n",
              "    [theme=dark] .colab-df-convert:hover {\n",
              "      background-color: #434B5C;\n",
              "      box-shadow: 0px 1px 3px 1px rgba(0, 0, 0, 0.15);\n",
              "      filter: drop-shadow(0px 1px 2px rgba(0, 0, 0, 0.3));\n",
              "      fill: #FFFFFF;\n",
              "    }\n",
              "  </style>\n",
              "\n",
              "      <script>\n",
              "        const buttonEl =\n",
              "          document.querySelector('#df-bb80bba0-2f9e-4cc4-a762-75835a4e7b48 button.colab-df-convert');\n",
              "        buttonEl.style.display =\n",
              "          google.colab.kernel.accessAllowed ? 'block' : 'none';\n",
              "\n",
              "        async function convertToInteractive(key) {\n",
              "          const element = document.querySelector('#df-bb80bba0-2f9e-4cc4-a762-75835a4e7b48');\n",
              "          const dataTable =\n",
              "            await google.colab.kernel.invokeFunction('convertToInteractive',\n",
              "                                                     [key], {});\n",
              "          if (!dataTable) return;\n",
              "\n",
              "          const docLinkHtml = 'Like what you see? Visit the ' +\n",
              "            '<a target=\"_blank\" href=https://colab.research.google.com/notebooks/data_table.ipynb>data table notebook</a>'\n",
              "            + ' to learn more about interactive tables.';\n",
              "          element.innerHTML = '';\n",
              "          dataTable['output_type'] = 'display_data';\n",
              "          await google.colab.output.renderOutput(dataTable, element);\n",
              "          const docLink = document.createElement('div');\n",
              "          docLink.innerHTML = docLinkHtml;\n",
              "          element.appendChild(docLink);\n",
              "        }\n",
              "      </script>\n",
              "    </div>\n",
              "  </div>\n",
              "  "
            ]
          },
          "metadata": {},
          "execution_count": 10
        }
      ]
    },
    {
      "cell_type": "markdown",
      "source": [
        "We observe three columns:\n",
        "\n",
        "*   key: InChiKey representation of the molecules\n",
        "*   input: SMILES\n",
        "*   score: model prediction\n",
        "\n",
        "We can read more about the output of the model in its associated [documentation](https://chembl.gitbook.io/malaria-project/output-file). As we can see, the output is a score, and \"The higher the score is the more likely the compound is predicted to be active. Because there is no normalised score, the user defines a selection threshold.\"\n",
        "\n"
      ],
      "metadata": {
        "id": "6MHvHBWWYjqJ"
      }
    },
    {
      "cell_type": "code",
      "source": [
        "#we can sort the molecules based on its score\n",
        "output.sort_values(\"score\", ascending=False).head()"
      ],
      "metadata": {
        "colab": {
          "base_uri": "https://localhost:8080/",
          "height": 206
        },
        "id": "a4h4iP6t7aOl",
        "outputId": "4062c51e-cc6e-4391-c6a3-7bd5055759ae"
      },
      "execution_count": null,
      "outputs": [
        {
          "output_type": "execute_result",
          "data": {
            "text/plain": [
              "                             key  \\\n",
              "136  HPFVQAYLQOSFOL-UHFFFAOYSA-N   \n",
              "399  ZGMMVVYGDFQTBB-UHFFFAOYSA-N   \n",
              "69   RHZLKBRFIAZMTN-UHFFFAOYSA-N   \n",
              "339  NPWXHTXMBIOHKI-UHFFFAOYSA-N   \n",
              "55   YZZGEZJZTYYZGG-UHFFFAOYSA-N   \n",
              "\n",
              "                                              input      score  \n",
              "136               COc1cccc(Nc2nc(NCCO)c3ccccc3n2)c1  77.199020  \n",
              "399           OCCNc1nc(Nc2ccc(Cl)c(Cl)c2)nc2ccccc12  76.798370  \n",
              "69                Cc1ccc(Nc2nc(NCCO)c3ccccc3n2)cc1C  76.052498  \n",
              "339  Cn1c(=O)n(C)c2cc(CNCCNc3ccnc4cc(Cl)ccc34)ccc21  76.012589  \n",
              "55             CCN(CC)CCNc1ncnc2c1[nH]c1ccc(Cl)cc12  71.951157  "
            ],
            "text/html": [
              "\n",
              "  <div id=\"df-79347228-cb85-4f63-9bcb-b7020da37d84\">\n",
              "    <div class=\"colab-df-container\">\n",
              "      <div>\n",
              "<style scoped>\n",
              "    .dataframe tbody tr th:only-of-type {\n",
              "        vertical-align: middle;\n",
              "    }\n",
              "\n",
              "    .dataframe tbody tr th {\n",
              "        vertical-align: top;\n",
              "    }\n",
              "\n",
              "    .dataframe thead th {\n",
              "        text-align: right;\n",
              "    }\n",
              "</style>\n",
              "<table border=\"1\" class=\"dataframe\">\n",
              "  <thead>\n",
              "    <tr style=\"text-align: right;\">\n",
              "      <th></th>\n",
              "      <th>key</th>\n",
              "      <th>input</th>\n",
              "      <th>score</th>\n",
              "    </tr>\n",
              "  </thead>\n",
              "  <tbody>\n",
              "    <tr>\n",
              "      <th>136</th>\n",
              "      <td>HPFVQAYLQOSFOL-UHFFFAOYSA-N</td>\n",
              "      <td>COc1cccc(Nc2nc(NCCO)c3ccccc3n2)c1</td>\n",
              "      <td>77.199020</td>\n",
              "    </tr>\n",
              "    <tr>\n",
              "      <th>399</th>\n",
              "      <td>ZGMMVVYGDFQTBB-UHFFFAOYSA-N</td>\n",
              "      <td>OCCNc1nc(Nc2ccc(Cl)c(Cl)c2)nc2ccccc12</td>\n",
              "      <td>76.798370</td>\n",
              "    </tr>\n",
              "    <tr>\n",
              "      <th>69</th>\n",
              "      <td>RHZLKBRFIAZMTN-UHFFFAOYSA-N</td>\n",
              "      <td>Cc1ccc(Nc2nc(NCCO)c3ccccc3n2)cc1C</td>\n",
              "      <td>76.052498</td>\n",
              "    </tr>\n",
              "    <tr>\n",
              "      <th>339</th>\n",
              "      <td>NPWXHTXMBIOHKI-UHFFFAOYSA-N</td>\n",
              "      <td>Cn1c(=O)n(C)c2cc(CNCCNc3ccnc4cc(Cl)ccc34)ccc21</td>\n",
              "      <td>76.012589</td>\n",
              "    </tr>\n",
              "    <tr>\n",
              "      <th>55</th>\n",
              "      <td>YZZGEZJZTYYZGG-UHFFFAOYSA-N</td>\n",
              "      <td>CCN(CC)CCNc1ncnc2c1[nH]c1ccc(Cl)cc12</td>\n",
              "      <td>71.951157</td>\n",
              "    </tr>\n",
              "  </tbody>\n",
              "</table>\n",
              "</div>\n",
              "      <button class=\"colab-df-convert\" onclick=\"convertToInteractive('df-79347228-cb85-4f63-9bcb-b7020da37d84')\"\n",
              "              title=\"Convert this dataframe to an interactive table.\"\n",
              "              style=\"display:none;\">\n",
              "        \n",
              "  <svg xmlns=\"http://www.w3.org/2000/svg\" height=\"24px\"viewBox=\"0 0 24 24\"\n",
              "       width=\"24px\">\n",
              "    <path d=\"M0 0h24v24H0V0z\" fill=\"none\"/>\n",
              "    <path d=\"M18.56 5.44l.94 2.06.94-2.06 2.06-.94-2.06-.94-.94-2.06-.94 2.06-2.06.94zm-11 1L8.5 8.5l.94-2.06 2.06-.94-2.06-.94L8.5 2.5l-.94 2.06-2.06.94zm10 10l.94 2.06.94-2.06 2.06-.94-2.06-.94-.94-2.06-.94 2.06-2.06.94z\"/><path d=\"M17.41 7.96l-1.37-1.37c-.4-.4-.92-.59-1.43-.59-.52 0-1.04.2-1.43.59L10.3 9.45l-7.72 7.72c-.78.78-.78 2.05 0 2.83L4 21.41c.39.39.9.59 1.41.59.51 0 1.02-.2 1.41-.59l7.78-7.78 2.81-2.81c.8-.78.8-2.07 0-2.86zM5.41 20L4 18.59l7.72-7.72 1.47 1.35L5.41 20z\"/>\n",
              "  </svg>\n",
              "      </button>\n",
              "      \n",
              "  <style>\n",
              "    .colab-df-container {\n",
              "      display:flex;\n",
              "      flex-wrap:wrap;\n",
              "      gap: 12px;\n",
              "    }\n",
              "\n",
              "    .colab-df-convert {\n",
              "      background-color: #E8F0FE;\n",
              "      border: none;\n",
              "      border-radius: 50%;\n",
              "      cursor: pointer;\n",
              "      display: none;\n",
              "      fill: #1967D2;\n",
              "      height: 32px;\n",
              "      padding: 0 0 0 0;\n",
              "      width: 32px;\n",
              "    }\n",
              "\n",
              "    .colab-df-convert:hover {\n",
              "      background-color: #E2EBFA;\n",
              "      box-shadow: 0px 1px 2px rgba(60, 64, 67, 0.3), 0px 1px 3px 1px rgba(60, 64, 67, 0.15);\n",
              "      fill: #174EA6;\n",
              "    }\n",
              "\n",
              "    [theme=dark] .colab-df-convert {\n",
              "      background-color: #3B4455;\n",
              "      fill: #D2E3FC;\n",
              "    }\n",
              "\n",
              "    [theme=dark] .colab-df-convert:hover {\n",
              "      background-color: #434B5C;\n",
              "      box-shadow: 0px 1px 3px 1px rgba(0, 0, 0, 0.15);\n",
              "      filter: drop-shadow(0px 1px 2px rgba(0, 0, 0, 0.3));\n",
              "      fill: #FFFFFF;\n",
              "    }\n",
              "  </style>\n",
              "\n",
              "      <script>\n",
              "        const buttonEl =\n",
              "          document.querySelector('#df-79347228-cb85-4f63-9bcb-b7020da37d84 button.colab-df-convert');\n",
              "        buttonEl.style.display =\n",
              "          google.colab.kernel.accessAllowed ? 'block' : 'none';\n",
              "\n",
              "        async function convertToInteractive(key) {\n",
              "          const element = document.querySelector('#df-79347228-cb85-4f63-9bcb-b7020da37d84');\n",
              "          const dataTable =\n",
              "            await google.colab.kernel.invokeFunction('convertToInteractive',\n",
              "                                                     [key], {});\n",
              "          if (!dataTable) return;\n",
              "\n",
              "          const docLinkHtml = 'Like what you see? Visit the ' +\n",
              "            '<a target=\"_blank\" href=https://colab.research.google.com/notebooks/data_table.ipynb>data table notebook</a>'\n",
              "            + ' to learn more about interactive tables.';\n",
              "          element.innerHTML = '';\n",
              "          dataTable['output_type'] = 'display_data';\n",
              "          await google.colab.output.renderOutput(dataTable, element);\n",
              "          const docLink = document.createElement('div');\n",
              "          docLink.innerHTML = docLinkHtml;\n",
              "          element.appendChild(docLink);\n",
              "        }\n",
              "      </script>\n",
              "    </div>\n",
              "  </div>\n",
              "  "
            ]
          },
          "metadata": {},
          "execution_count": 27
        }
      ]
    },
    {
      "cell_type": "code",
      "source": [
        "#we can plot the distribution of the scores\n",
        "\n",
        "plt.hist(output[\"score\"], bins=50, color=\"#50285a\")\n",
        "plt.xlabel(\"MAIP Score\")\n",
        "plt.ylabel(\"Number of molecules\")\n",
        "plt.show()"
      ],
      "metadata": {
        "colab": {
          "base_uri": "https://localhost:8080/",
          "height": 279
        },
        "id": "jauKp9yJ8RNc",
        "outputId": "1fd08215-4b1d-4739-ded0-3d93392e4397"
      },
      "execution_count": null,
      "outputs": [
        {
          "output_type": "display_data",
          "data": {
            "text/plain": [
              "<Figure size 432x288 with 1 Axes>"
            ],
            "image/png": "[encoded data removed]"
          },
          "metadata": {
            "needs_background": "light"
          }
        }
      ]
    },
    {
      "cell_type": "markdown",
      "source": [
        "# Breakout session\n",
        "Here is a list of models that can be used for this exercise. Please refer to the [Ersilia Model Hub](https://www.ersilia.io/model-hub) to read more about each one of them, the source of data they use and how can them be applied to our problem.\n",
        "\n",
        "*   Malaria Activity: eos2gth / maip-malaria-surrogate\n",
        "*   Tuberculosis Activity: eos46ev / chemtb\n",
        "*   Antibiotic Activity: eos4e40 / chemprop-antibiotic\n",
        "*   Cardiotoxicity (hERG): eos43at / molgrad-herg\n",
        "*   Retrosynthetic Accessibility: eos2r5a / retrosynthetic-accessibility\n",
        "*   Aqueous Solubility: eos6oli / soltrannet-aqueous-solubility\n",
        "*   Natural Product Likeness: eos9yui / natural-product-likeness"
      ],
      "metadata": {
        "id": "3Q0lNgeH5r-R"
      }
    },
    {
      "cell_type": "code",
      "source": [
        "!ersilia fetch eos46ev\n",
        "!ersilia fetch eos4e40\n",
        "!ersilia fetch eos43at\n",
        "!ersilia fetch eos2r5a\n",
        "!ersilia fetch eos6oli\n",
        "!ersilia fetch eos9yui"
      ],
      "metadata": {
        "id": "OsM-LJbO5qpf",
        "outputId": "827f9f70-a5fa-4b7d-f8af-f7dd91b7b545",
        "colab": {
          "base_uri": "https://localhost:8080/"
        }
      },
      "execution_count": 11,
      "outputs": [
        {
          "output_type": "stream",
          "name": "stdout",
          "text": [
            "\u001b[34m⬇️  Fetching model eos46ev: chemtb\u001b[0m\n",
            "\u001b[32m👍 Model eos46ev fetched successfully!\u001b[0m\n",
            "\u001b[34m⬇️  Fetching model eos4e40: chemprop-antibiotic\u001b[0m\n",
            "\u001b[32m👍 Model eos4e40 fetched successfully!\u001b[0m\n",
            "\u001b[34m⬇️  Fetching model eos43at: molgrad-herg\u001b[0m\n",
            "\u001b[32m👍 Model eos43at fetched successfully!\u001b[0m\n",
            "\u001b[34m⬇️  Fetching model eos2r5a: retrosynthetic-accessibility\u001b[0m\n",
            "\u001b[32m👍 Model eos2r5a fetched successfully!\u001b[0m\n",
            "\u001b[34m⬇️  Fetching model eos6oli: soltrannet-aqueous-solubility\u001b[0m\n",
            "\u001b[32m👍 Model eos6oli fetched successfully!\u001b[0m\n",
            "\u001b[34m⬇️  Fetching model eos9yui: natural-product-likeness\u001b[0m\n",
            "\u001b[32m👍 Model eos9yui fetched successfully!\u001b[0m\n"
          ]
        }
      ]
    },
    {
      "cell_type": "code",
      "source": [
        "models = [\"eos46ev\", \"eos4e40\", \"eos43at\", \"eos2r5a\", \"eos6oli\", \"eos9yui\"]"
      ],
      "metadata": {
        "id": "gps34p8ybUev"
      },
      "execution_count": 12,
      "outputs": []
    },
    {
      "cell_type": "code",
      "source": [
        "for m in models:\n",
        "    model = ErsiliaModel(m)\n",
        "    model.serve()\n",
        "    output = model.predict(input=smiles, output=\"pandas\")\n",
        "    model.close()\n",
        "    output.to_csv(\"drive/MyDrive/DataScience_Workshop/data/day2/{}.csv\".format(m), index=False)"
      ],
      "metadata": {
        "id": "bka8hDGi8Wr5"
      },
      "execution_count": 14,
      "outputs": []
    },
    {
      "cell_type": "markdown",
      "source": [
        "# Results Analysis\n",
        "We have run predictions for all models from the list. In this example solution, we will merge all results in a single file and rank molecules according to our interests. There is more than one possible result, the goal is to practice correlating different model results and understanding their use.\n",
        "First, let's understand the output of each model:"
      ],
      "metadata": {
        "id": "b0jtJtin3Ee8"
      }
    },
    {
      "cell_type": "markdown",
      "source": [
        "### ChemTb\n",
        "Source Publication: [Ye et al, 2021](https://academic.oup.com/bib/article-abstract/22/5/bbab068/6209685)\n",
        "\n",
        "Type of model: Classification\n",
        "\n",
        "Output: Probability of activity against *M.tuberculosis*"
      ],
      "metadata": {
        "id": "kGZ6SA586g5k"
      }
    },
    {
      "cell_type": "code",
      "source": [
        "#we load the model results from the drive\n",
        "chemtb = pd.read_csv(\"drive/MyDrive/DataScience_Workshop/data/day2/eos46ev.csv\")\n",
        "chemtb.head()"
      ],
      "metadata": {
        "colab": {
          "base_uri": "https://localhost:8080/",
          "height": 206
        },
        "id": "-Bw1JJ8N8jZV",
        "outputId": "67b0fcba-3757-4145-cae0-119686b70670"
      },
      "execution_count": 15,
      "outputs": [
        {
          "output_type": "execute_result",
          "data": {
            "text/plain": [
              "                           key  \\\n",
              "0  ALGPHOUNWIZIOQ-UHFFFAOYSA-N   \n",
              "1  QFVDKARCPMTZCS-UHFFFAOYSA-N   \n",
              "2  HKNNPGWJKJDXCN-UHFFFAOYSA-N   \n",
              "3  QQNUVMRXVVLAAU-UHFFFAOYSA-N   \n",
              "4  MSGARPVVCYTSLR-UHFFFAOYSA-N   \n",
              "\n",
              "                                               input  probability  \n",
              "0          COc1ccccc1CNC(=O)CCn1c(=O)[nH]c2ccsc2c1=O     0.139140  \n",
              "1  CN(C)c1ccc(C(O)(c2ccc(N(C)C)cc2)c2ccc(N(C)C)cc...     0.097058  \n",
              "2  Cc1ccc(-c2cc3c(SCC(=O)Nc4cc(C(F)(F)F)ccc4Cl)nc...     0.368746  \n",
              "3  CCOC(=O)C1=C(c2ccccc2)N=c2sc(=Cc3cc(C)n(-c4ccc...     0.318272  \n",
              "4      CCOC(=O)c1cnc2c(C)cc(C)cc2c1Nc1ccc(OC)c(OC)c1     0.110285  "
            ],
            "text/html": [
              "\n",
              "  <div id=\"df-d55c1177-ced1-448c-aa43-833d07e4e9fa\">\n",
              "    <div class=\"colab-df-container\">\n",
              "      <div>\n",
              "<style scoped>\n",
              "    .dataframe tbody tr th:only-of-type {\n",
              "        vertical-align: middle;\n",
              "    }\n",
              "\n",
              "    .dataframe tbody tr th {\n",
              "        vertical-align: top;\n",
              "    }\n",
              "\n",
              "    .dataframe thead th {\n",
              "        text-align: right;\n",
              "    }\n",
              "</style>\n",
              "<table border=\"1\" class=\"dataframe\">\n",
              "  <thead>\n",
              "    <tr style=\"text-align: right;\">\n",
              "      <th></th>\n",
              "      <th>key</th>\n",
              "      <th>input</th>\n",
              "      <th>probability</th>\n",
              "    </tr>\n",
              "  </thead>\n",
              "  <tbody>\n",
              "    <tr>\n",
              "      <th>0</th>\n",
              "      <td>ALGPHOUNWIZIOQ-UHFFFAOYSA-N</td>\n",
              "      <td>COc1ccccc1CNC(=O)CCn1c(=O)[nH]c2ccsc2c1=O</td>\n",
              "      <td>0.139140</td>\n",
              "    </tr>\n",
              "    <tr>\n",
              "      <th>1</th>\n",
              "      <td>QFVDKARCPMTZCS-UHFFFAOYSA-N</td>\n",
              "      <td>CN(C)c1ccc(C(O)(c2ccc(N(C)C)cc2)c2ccc(N(C)C)cc...</td>\n",
              "      <td>0.097058</td>\n",
              "    </tr>\n",
              "    <tr>\n",
              "      <th>2</th>\n",
              "      <td>HKNNPGWJKJDXCN-UHFFFAOYSA-N</td>\n",
              "      <td>Cc1ccc(-c2cc3c(SCC(=O)Nc4cc(C(F)(F)F)ccc4Cl)nc...</td>\n",
              "      <td>0.368746</td>\n",
              "    </tr>\n",
              "    <tr>\n",
              "      <th>3</th>\n",
              "      <td>QQNUVMRXVVLAAU-UHFFFAOYSA-N</td>\n",
              "      <td>CCOC(=O)C1=C(c2ccccc2)N=c2sc(=Cc3cc(C)n(-c4ccc...</td>\n",
              "      <td>0.318272</td>\n",
              "    </tr>\n",
              "    <tr>\n",
              "      <th>4</th>\n",
              "      <td>MSGARPVVCYTSLR-UHFFFAOYSA-N</td>\n",
              "      <td>CCOC(=O)c1cnc2c(C)cc(C)cc2c1Nc1ccc(OC)c(OC)c1</td>\n",
              "      <td>0.110285</td>\n",
              "    </tr>\n",
              "  </tbody>\n",
              "</table>\n",
              "</div>\n",
              "      <button class=\"colab-df-convert\" onclick=\"convertToInteractive('df-d55c1177-ced1-448c-aa43-833d07e4e9fa')\"\n",
              "              title=\"Convert this dataframe to an interactive table.\"\n",
              "              style=\"display:none;\">\n",
              "        \n",
              "  <svg xmlns=\"http://www.w3.org/2000/svg\" height=\"24px\"viewBox=\"0 0 24 24\"\n",
              "       width=\"24px\">\n",
              "    <path d=\"M0 0h24v24H0V0z\" fill=\"none\"/>\n",
              "    <path d=\"M18.56 5.44l.94 2.06.94-2.06 2.06-.94-2.06-.94-.94-2.06-.94 2.06-2.06.94zm-11 1L8.5 8.5l.94-2.06 2.06-.94-2.06-.94L8.5 2.5l-.94 2.06-2.06.94zm10 10l.94 2.06.94-2.06 2.06-.94-2.06-.94-.94-2.06-.94 2.06-2.06.94z\"/><path d=\"M17.41 7.96l-1.37-1.37c-.4-.4-.92-.59-1.43-.59-.52 0-1.04.2-1.43.59L10.3 9.45l-7.72 7.72c-.78.78-.78 2.05 0 2.83L4 21.41c.39.39.9.59 1.41.59.51 0 1.02-.2 1.41-.59l7.78-7.78 2.81-2.81c.8-.78.8-2.07 0-2.86zM5.41 20L4 18.59l7.72-7.72 1.47 1.35L5.41 20z\"/>\n",
              "  </svg>\n",
              "      </button>\n",
              "      \n",
              "  <style>\n",
              "    .colab-df-container {\n",
              "      display:flex;\n",
              "      flex-wrap:wrap;\n",
              "      gap: 12px;\n",
              "    }\n",
              "\n",
              "    .colab-df-convert {\n",
              "      background-color: #E8F0FE;\n",
              "      border: none;\n",
              "      border-radius: 50%;\n",
              "      cursor: pointer;\n",
              "      display: none;\n",
              "      fill: #1967D2;\n",
              "      height: 32px;\n",
              "      padding: 0 0 0 0;\n",
              "      width: 32px;\n",
              "    }\n",
              "\n",
              "    .colab-df-convert:hover {\n",
              "      background-color: #E2EBFA;\n",
              "      box-shadow: 0px 1px 2px rgba(60, 64, 67, 0.3), 0px 1px 3px 1px rgba(60, 64, 67, 0.15);\n",
              "      fill: #174EA6;\n",
              "    }\n",
              "\n",
              "    [theme=dark] .colab-df-convert {\n",
              "      background-color: #3B4455;\n",
              "      fill: #D2E3FC;\n",
              "    }\n",
              "\n",
              "    [theme=dark] .colab-df-convert:hover {\n",
              "      background-color: #434B5C;\n",
              "      box-shadow: 0px 1px 3px 1px rgba(0, 0, 0, 0.15);\n",
              "      filter: drop-shadow(0px 1px 2px rgba(0, 0, 0, 0.3));\n",
              "      fill: #FFFFFF;\n",
              "    }\n",
              "  </style>\n",
              "\n",
              "      <script>\n",
              "        const buttonEl =\n",
              "          document.querySelector('#df-d55c1177-ced1-448c-aa43-833d07e4e9fa button.colab-df-convert');\n",
              "        buttonEl.style.display =\n",
              "          google.colab.kernel.accessAllowed ? 'block' : 'none';\n",
              "\n",
              "        async function convertToInteractive(key) {\n",
              "          const element = document.querySelector('#df-d55c1177-ced1-448c-aa43-833d07e4e9fa');\n",
              "          const dataTable =\n",
              "            await google.colab.kernel.invokeFunction('convertToInteractive',\n",
              "                                                     [key], {});\n",
              "          if (!dataTable) return;\n",
              "\n",
              "          const docLinkHtml = 'Like what you see? Visit the ' +\n",
              "            '<a target=\"_blank\" href=https://colab.research.google.com/notebooks/data_table.ipynb>data table notebook</a>'\n",
              "            + ' to learn more about interactive tables.';\n",
              "          element.innerHTML = '';\n",
              "          dataTable['output_type'] = 'display_data';\n",
              "          await google.colab.output.renderOutput(dataTable, element);\n",
              "          const docLink = document.createElement('div');\n",
              "          docLink.innerHTML = docLinkHtml;\n",
              "          element.appendChild(docLink);\n",
              "        }\n",
              "      </script>\n",
              "    </div>\n",
              "  </div>\n",
              "  "
            ]
          },
          "metadata": {},
          "execution_count": 15
        }
      ]
    },
    {
      "cell_type": "code",
      "source": [
        "#we can check the maximum and minimum values\n",
        "print(chemtb[\"probability\"].max())\n",
        "print(chemtb[\"probability\"].min())"
      ],
      "metadata": {
        "colab": {
          "base_uri": "https://localhost:8080/"
        },
        "id": "eJ4MgXPol3Ko",
        "outputId": "6fca0cf3-a222-4555-f392-0d15f89b3cb2"
      },
      "execution_count": 16,
      "outputs": [
        {
          "output_type": "stream",
          "name": "stdout",
          "text": [
            "0.6524488\n",
            "0.058787655\n"
          ]
        }
      ]
    },
    {
      "cell_type": "code",
      "source": [
        "plt.hist(chemtb[\"probability\"], bins=50, color=\"#50285a\")\n",
        "plt.show()"
      ],
      "metadata": {
        "colab": {
          "base_uri": "https://localhost:8080/",
          "height": 265
        },
        "id": "fdpXbnKR9xD3",
        "outputId": "377bf542-c6e2-4176-e85f-3ee4e591456e"
      },
      "execution_count": 17,
      "outputs": [
        {
          "output_type": "display_data",
          "data": {
            "text/plain": [
              "<Figure size 432x288 with 1 Axes>"
            ],
            "image/png": "[encoded data removed]"
          },
          "metadata": {
            "needs_background": "light"
          }
        }
      ]
    },
    {
      "cell_type": "markdown",
      "source": [
        "*Comments: we can observe a very low probability of activity against M.tuberculosis, as expected since this is a list optimized for malaria activity. We will not take into account this score for the molecular prioritization.*"
      ],
      "metadata": {
        "id": "ODcnba8Olnva"
      }
    },
    {
      "cell_type": "markdown",
      "source": [
        "### Antibiotic Activity\n",
        "Source Publication: [Stokes et al, 2021](https://pubmed.ncbi.nlm.nih.gov/32084340/)\n",
        "\n",
        "Type of model: Classification\n",
        "\n",
        "Output: probability that a molecule inhibits *E.coli* growth (the original training set had a cut-off of 80% inhibition)"
      ],
      "metadata": {
        "id": "AW6bywL58qX2"
      }
    },
    {
      "cell_type": "code",
      "source": [
        "#we load the model results from the drive\n",
        "antib = pd.read_csv(\"drive/MyDrive/DataScience_Workshop/data/day2/eos4e40.csv\")\n",
        "antib.head()"
      ],
      "metadata": {
        "colab": {
          "base_uri": "https://localhost:8080/",
          "height": 206
        },
        "id": "yOAaaPB39AL-",
        "outputId": "e88c5f57-a4aa-4814-d1b1-8f5e71351302"
      },
      "execution_count": 18,
      "outputs": [
        {
          "output_type": "execute_result",
          "data": {
            "text/plain": [
              "                           key  \\\n",
              "0  ALGPHOUNWIZIOQ-UHFFFAOYSA-N   \n",
              "1  QFVDKARCPMTZCS-UHFFFAOYSA-N   \n",
              "2  HKNNPGWJKJDXCN-UHFFFAOYSA-N   \n",
              "3  QQNUVMRXVVLAAU-UHFFFAOYSA-N   \n",
              "4  MSGARPVVCYTSLR-UHFFFAOYSA-N   \n",
              "\n",
              "                                               input  50uM_Inhibition  \n",
              "0          COc1ccccc1CNC(=O)CCn1c(=O)[nH]c2ccsc2c1=O         0.005417  \n",
              "1  CN(C)c1ccc(C(O)(c2ccc(N(C)C)cc2)c2ccc(N(C)C)cc...         0.005198  \n",
              "2  Cc1ccc(-c2cc3c(SCC(=O)Nc4cc(C(F)(F)F)ccc4Cl)nc...         0.031129  \n",
              "3  CCOC(=O)C1=C(c2ccccc2)N=c2sc(=Cc3cc(C)n(-c4ccc...         0.043659  \n",
              "4      CCOC(=O)c1cnc2c(C)cc(C)cc2c1Nc1ccc(OC)c(OC)c1         0.012493  "
            ],
            "text/html": [
              "\n",
              "  <div id=\"df-6ea71923-499e-40f4-9f91-e93bf7ef39a1\">\n",
              "    <div class=\"colab-df-container\">\n",
              "      <div>\n",
              "<style scoped>\n",
              "    .dataframe tbody tr th:only-of-type {\n",
              "        vertical-align: middle;\n",
              "    }\n",
              "\n",
              "    .dataframe tbody tr th {\n",
              "        vertical-align: top;\n",
              "    }\n",
              "\n",
              "    .dataframe thead th {\n",
              "        text-align: right;\n",
              "    }\n",
              "</style>\n",
              "<table border=\"1\" class=\"dataframe\">\n",
              "  <thead>\n",
              "    <tr style=\"text-align: right;\">\n",
              "      <th></th>\n",
              "      <th>key</th>\n",
              "      <th>input</th>\n",
              "      <th>50uM_Inhibition</th>\n",
              "    </tr>\n",
              "  </thead>\n",
              "  <tbody>\n",
              "    <tr>\n",
              "      <th>0</th>\n",
              "      <td>ALGPHOUNWIZIOQ-UHFFFAOYSA-N</td>\n",
              "      <td>COc1ccccc1CNC(=O)CCn1c(=O)[nH]c2ccsc2c1=O</td>\n",
              "      <td>0.005417</td>\n",
              "    </tr>\n",
              "    <tr>\n",
              "      <th>1</th>\n",
              "      <td>QFVDKARCPMTZCS-UHFFFAOYSA-N</td>\n",
              "      <td>CN(C)c1ccc(C(O)(c2ccc(N(C)C)cc2)c2ccc(N(C)C)cc...</td>\n",
              "      <td>0.005198</td>\n",
              "    </tr>\n",
              "    <tr>\n",
              "      <th>2</th>\n",
              "      <td>HKNNPGWJKJDXCN-UHFFFAOYSA-N</td>\n",
              "      <td>Cc1ccc(-c2cc3c(SCC(=O)Nc4cc(C(F)(F)F)ccc4Cl)nc...</td>\n",
              "      <td>0.031129</td>\n",
              "    </tr>\n",
              "    <tr>\n",
              "      <th>3</th>\n",
              "      <td>QQNUVMRXVVLAAU-UHFFFAOYSA-N</td>\n",
              "      <td>CCOC(=O)C1=C(c2ccccc2)N=c2sc(=Cc3cc(C)n(-c4ccc...</td>\n",
              "      <td>0.043659</td>\n",
              "    </tr>\n",
              "    <tr>\n",
              "      <th>4</th>\n",
              "      <td>MSGARPVVCYTSLR-UHFFFAOYSA-N</td>\n",
              "      <td>CCOC(=O)c1cnc2c(C)cc(C)cc2c1Nc1ccc(OC)c(OC)c1</td>\n",
              "      <td>0.012493</td>\n",
              "    </tr>\n",
              "  </tbody>\n",
              "</table>\n",
              "</div>\n",
              "      <button class=\"colab-df-convert\" onclick=\"convertToInteractive('df-6ea71923-499e-40f4-9f91-e93bf7ef39a1')\"\n",
              "              title=\"Convert this dataframe to an interactive table.\"\n",
              "              style=\"display:none;\">\n",
              "        \n",
              "  <svg xmlns=\"http://www.w3.org/2000/svg\" height=\"24px\"viewBox=\"0 0 24 24\"\n",
              "       width=\"24px\">\n",
              "    <path d=\"M0 0h24v24H0V0z\" fill=\"none\"/>\n",
              "    <path d=\"M18.56 5.44l.94 2.06.94-2.06 2.06-.94-2.06-.94-.94-2.06-.94 2.06-2.06.94zm-11 1L8.5 8.5l.94-2.06 2.06-.94-2.06-.94L8.5 2.5l-.94 2.06-2.06.94zm10 10l.94 2.06.94-2.06 2.06-.94-2.06-.94-.94-2.06-.94 2.06-2.06.94z\"/><path d=\"M17.41 7.96l-1.37-1.37c-.4-.4-.92-.59-1.43-.59-.52 0-1.04.2-1.43.59L10.3 9.45l-7.72 7.72c-.78.78-.78 2.05 0 2.83L4 21.41c.39.39.9.59 1.41.59.51 0 1.02-.2 1.41-.59l7.78-7.78 2.81-2.81c.8-.78.8-2.07 0-2.86zM5.41 20L4 18.59l7.72-7.72 1.47 1.35L5.41 20z\"/>\n",
              "  </svg>\n",
              "      </button>\n",
              "      \n",
              "  <style>\n",
              "    .colab-df-container {\n",
              "      display:flex;\n",
              "      flex-wrap:wrap;\n",
              "      gap: 12px;\n",
              "    }\n",
              "\n",
              "    .colab-df-convert {\n",
              "      background-color: #E8F0FE;\n",
              "      border: none;\n",
              "      border-radius: 50%;\n",
              "      cursor: pointer;\n",
              "      display: none;\n",
              "      fill: #1967D2;\n",
              "      height: 32px;\n",
              "      padding: 0 0 0 0;\n",
              "      width: 32px;\n",
              "    }\n",
              "\n",
              "    .colab-df-convert:hover {\n",
              "      background-color: #E2EBFA;\n",
              "      box-shadow: 0px 1px 2px rgba(60, 64, 67, 0.3), 0px 1px 3px 1px rgba(60, 64, 67, 0.15);\n",
              "      fill: #174EA6;\n",
              "    }\n",
              "\n",
              "    [theme=dark] .colab-df-convert {\n",
              "      background-color: #3B4455;\n",
              "      fill: #D2E3FC;\n",
              "    }\n",
              "\n",
              "    [theme=dark] .colab-df-convert:hover {\n",
              "      background-color: #434B5C;\n",
              "      box-shadow: 0px 1px 3px 1px rgba(0, 0, 0, 0.15);\n",
              "      filter: drop-shadow(0px 1px 2px rgba(0, 0, 0, 0.3));\n",
              "      fill: #FFFFFF;\n",
              "    }\n",
              "  </style>\n",
              "\n",
              "      <script>\n",
              "        const buttonEl =\n",
              "          document.querySelector('#df-6ea71923-499e-40f4-9f91-e93bf7ef39a1 button.colab-df-convert');\n",
              "        buttonEl.style.display =\n",
              "          google.colab.kernel.accessAllowed ? 'block' : 'none';\n",
              "\n",
              "        async function convertToInteractive(key) {\n",
              "          const element = document.querySelector('#df-6ea71923-499e-40f4-9f91-e93bf7ef39a1');\n",
              "          const dataTable =\n",
              "            await google.colab.kernel.invokeFunction('convertToInteractive',\n",
              "                                                     [key], {});\n",
              "          if (!dataTable) return;\n",
              "\n",
              "          const docLinkHtml = 'Like what you see? Visit the ' +\n",
              "            '<a target=\"_blank\" href=https://colab.research.google.com/notebooks/data_table.ipynb>data table notebook</a>'\n",
              "            + ' to learn more about interactive tables.';\n",
              "          element.innerHTML = '';\n",
              "          dataTable['output_type'] = 'display_data';\n",
              "          await google.colab.output.renderOutput(dataTable, element);\n",
              "          const docLink = document.createElement('div');\n",
              "          docLink.innerHTML = docLinkHtml;\n",
              "          element.appendChild(docLink);\n",
              "        }\n",
              "      </script>\n",
              "    </div>\n",
              "  </div>\n",
              "  "
            ]
          },
          "metadata": {},
          "execution_count": 18
        }
      ]
    },
    {
      "cell_type": "code",
      "source": [
        "plt.hist(antib[\"50uM_Inhibition\"], bins=50, color=\"#50285a\")\n",
        "plt.show()"
      ],
      "metadata": {
        "colab": {
          "base_uri": "https://localhost:8080/",
          "height": 265
        },
        "id": "HzCyu4Y59vV-",
        "outputId": "e2c9ffb0-9d72-450b-b8fe-9143abb7425b"
      },
      "execution_count": 19,
      "outputs": [
        {
          "output_type": "display_data",
          "data": {
            "text/plain": [
              "<Figure size 432x288 with 1 Axes>"
            ],
            "image/png": "[encoded data removed]"
          },
          "metadata": {
            "needs_background": "light"
          }
        }
      ]
    },
    {
      "cell_type": "code",
      "source": [
        "#we can check the maximum and minimum values\n",
        "print(antib[\"50uM_Inhibition\"].max())\n",
        "print(antib[\"50uM_Inhibition\"].min())"
      ],
      "metadata": {
        "colab": {
          "base_uri": "https://localhost:8080/"
        },
        "id": "wYsVfCeVniq6",
        "outputId": "9d229b27-0faf-4e5e-b1e6-2d7ae203de03"
      },
      "execution_count": 20,
      "outputs": [
        {
          "output_type": "stream",
          "name": "stdout",
          "text": [
            "0.88425463\n",
            "0.00043740415\n"
          ]
        }
      ]
    },
    {
      "cell_type": "markdown",
      "source": [
        "*Again, most of the MMV Malaria Box molecules do not display high predicted activity against other pathogens, expected in a curated dataset.*"
      ],
      "metadata": {
        "id": "nwGRQJCgmFFs"
      }
    },
    {
      "cell_type": "markdown",
      "source": [
        "### Cardiotoxicity\n",
        "Source Publication: [Jiménez-Luna et al, 2021](https://pubs.acs.org/doi/10.1021/acs.jcim.0c01344)\n",
        "\n",
        "Type of model: Regression\n",
        "\n",
        "Output: pIC50 (negative log of the IC50 value when converted to molar). For example IC50 = 1 uM is a pIC50 = 6"
      ],
      "metadata": {
        "id": "z4M3u0_n-s0h"
      }
    },
    {
      "cell_type": "code",
      "source": [
        "herg = pd.read_csv(\"drive/MyDrive/DataScience_Workshop/data/day2/eos43at.csv\")\n",
        "herg.head()"
      ],
      "metadata": {
        "colab": {
          "base_uri": "https://localhost:8080/",
          "height": 206
        },
        "id": "I8xfz4l1-DKH",
        "outputId": "31b60b43-3c8f-426f-9587-143846138d91"
      },
      "execution_count": 21,
      "outputs": [
        {
          "output_type": "execute_result",
          "data": {
            "text/plain": [
              "                           key  \\\n",
              "0  ALGPHOUNWIZIOQ-UHFFFAOYSA-N   \n",
              "1  QFVDKARCPMTZCS-UHFFFAOYSA-N   \n",
              "2  HKNNPGWJKJDXCN-UHFFFAOYSA-N   \n",
              "3  QQNUVMRXVVLAAU-UHFFFAOYSA-N   \n",
              "4  MSGARPVVCYTSLR-UHFFFAOYSA-N   \n",
              "\n",
              "                                               input     pic50  \n",
              "0          COc1ccccc1CNC(=O)CCn1c(=O)[nH]c2ccsc2c1=O  5.859726  \n",
              "1  CN(C)c1ccc(C(O)(c2ccc(N(C)C)cc2)c2ccc(N(C)C)cc...  5.997639  \n",
              "2  Cc1ccc(-c2cc3c(SCC(=O)Nc4cc(C(F)(F)F)ccc4Cl)nc...  5.876915  \n",
              "3  CCOC(=O)C1=C(c2ccccc2)N=c2sc(=Cc3cc(C)n(-c4ccc...  5.637402  \n",
              "4      CCOC(=O)c1cnc2c(C)cc(C)cc2c1Nc1ccc(OC)c(OC)c1  6.062968  "
            ],
            "text/html": [
              "\n",
              "  <div id=\"df-d96105b8-e8e2-449c-b5b9-446a5b7eec2a\">\n",
              "    <div class=\"colab-df-container\">\n",
              "      <div>\n",
              "<style scoped>\n",
              "    .dataframe tbody tr th:only-of-type {\n",
              "        vertical-align: middle;\n",
              "    }\n",
              "\n",
              "    .dataframe tbody tr th {\n",
              "        vertical-align: top;\n",
              "    }\n",
              "\n",
              "    .dataframe thead th {\n",
              "        text-align: right;\n",
              "    }\n",
              "</style>\n",
              "<table border=\"1\" class=\"dataframe\">\n",
              "  <thead>\n",
              "    <tr style=\"text-align: right;\">\n",
              "      <th></th>\n",
              "      <th>key</th>\n",
              "      <th>input</th>\n",
              "      <th>pic50</th>\n",
              "    </tr>\n",
              "  </thead>\n",
              "  <tbody>\n",
              "    <tr>\n",
              "      <th>0</th>\n",
              "      <td>ALGPHOUNWIZIOQ-UHFFFAOYSA-N</td>\n",
              "      <td>COc1ccccc1CNC(=O)CCn1c(=O)[nH]c2ccsc2c1=O</td>\n",
              "      <td>5.859726</td>\n",
              "    </tr>\n",
              "    <tr>\n",
              "      <th>1</th>\n",
              "      <td>QFVDKARCPMTZCS-UHFFFAOYSA-N</td>\n",
              "      <td>CN(C)c1ccc(C(O)(c2ccc(N(C)C)cc2)c2ccc(N(C)C)cc...</td>\n",
              "      <td>5.997639</td>\n",
              "    </tr>\n",
              "    <tr>\n",
              "      <th>2</th>\n",
              "      <td>HKNNPGWJKJDXCN-UHFFFAOYSA-N</td>\n",
              "      <td>Cc1ccc(-c2cc3c(SCC(=O)Nc4cc(C(F)(F)F)ccc4Cl)nc...</td>\n",
              "      <td>5.876915</td>\n",
              "    </tr>\n",
              "    <tr>\n",
              "      <th>3</th>\n",
              "      <td>QQNUVMRXVVLAAU-UHFFFAOYSA-N</td>\n",
              "      <td>CCOC(=O)C1=C(c2ccccc2)N=c2sc(=Cc3cc(C)n(-c4ccc...</td>\n",
              "      <td>5.637402</td>\n",
              "    </tr>\n",
              "    <tr>\n",
              "      <th>4</th>\n",
              "      <td>MSGARPVVCYTSLR-UHFFFAOYSA-N</td>\n",
              "      <td>CCOC(=O)c1cnc2c(C)cc(C)cc2c1Nc1ccc(OC)c(OC)c1</td>\n",
              "      <td>6.062968</td>\n",
              "    </tr>\n",
              "  </tbody>\n",
              "</table>\n",
              "</div>\n",
              "      <button class=\"colab-df-convert\" onclick=\"convertToInteractive('df-d96105b8-e8e2-449c-b5b9-446a5b7eec2a')\"\n",
              "              title=\"Convert this dataframe to an interactive table.\"\n",
              "              style=\"display:none;\">\n",
              "        \n",
              "  <svg xmlns=\"http://www.w3.org/2000/svg\" height=\"24px\"viewBox=\"0 0 24 24\"\n",
              "       width=\"24px\">\n",
              "    <path d=\"M0 0h24v24H0V0z\" fill=\"none\"/>\n",
              "    <path d=\"M18.56 5.44l.94 2.06.94-2.06 2.06-.94-2.06-.94-.94-2.06-.94 2.06-2.06.94zm-11 1L8.5 8.5l.94-2.06 2.06-.94-2.06-.94L8.5 2.5l-.94 2.06-2.06.94zm10 10l.94 2.06.94-2.06 2.06-.94-2.06-.94-.94-2.06-.94 2.06-2.06.94z\"/><path d=\"M17.41 7.96l-1.37-1.37c-.4-.4-.92-.59-1.43-.59-.52 0-1.04.2-1.43.59L10.3 9.45l-7.72 7.72c-.78.78-.78 2.05 0 2.83L4 21.41c.39.39.9.59 1.41.59.51 0 1.02-.2 1.41-.59l7.78-7.78 2.81-2.81c.8-.78.8-2.07 0-2.86zM5.41 20L4 18.59l7.72-7.72 1.47 1.35L5.41 20z\"/>\n",
              "  </svg>\n",
              "      </button>\n",
              "      \n",
              "  <style>\n",
              "    .colab-df-container {\n",
              "      display:flex;\n",
              "      flex-wrap:wrap;\n",
              "      gap: 12px;\n",
              "    }\n",
              "\n",
              "    .colab-df-convert {\n",
              "      background-color: #E8F0FE;\n",
              "      border: none;\n",
              "      border-radius: 50%;\n",
              "      cursor: pointer;\n",
              "      display: none;\n",
              "      fill: #1967D2;\n",
              "      height: 32px;\n",
              "      padding: 0 0 0 0;\n",
              "      width: 32px;\n",
              "    }\n",
              "\n",
              "    .colab-df-convert:hover {\n",
              "      background-color: #E2EBFA;\n",
              "      box-shadow: 0px 1px 2px rgba(60, 64, 67, 0.3), 0px 1px 3px 1px rgba(60, 64, 67, 0.15);\n",
              "      fill: #174EA6;\n",
              "    }\n",
              "\n",
              "    [theme=dark] .colab-df-convert {\n",
              "      background-color: #3B4455;\n",
              "      fill: #D2E3FC;\n",
              "    }\n",
              "\n",
              "    [theme=dark] .colab-df-convert:hover {\n",
              "      background-color: #434B5C;\n",
              "      box-shadow: 0px 1px 3px 1px rgba(0, 0, 0, 0.15);\n",
              "      filter: drop-shadow(0px 1px 2px rgba(0, 0, 0, 0.3));\n",
              "      fill: #FFFFFF;\n",
              "    }\n",
              "  </style>\n",
              "\n",
              "      <script>\n",
              "        const buttonEl =\n",
              "          document.querySelector('#df-d96105b8-e8e2-449c-b5b9-446a5b7eec2a button.colab-df-convert');\n",
              "        buttonEl.style.display =\n",
              "          google.colab.kernel.accessAllowed ? 'block' : 'none';\n",
              "\n",
              "        async function convertToInteractive(key) {\n",
              "          const element = document.querySelector('#df-d96105b8-e8e2-449c-b5b9-446a5b7eec2a');\n",
              "          const dataTable =\n",
              "            await google.colab.kernel.invokeFunction('convertToInteractive',\n",
              "                                                     [key], {});\n",
              "          if (!dataTable) return;\n",
              "\n",
              "          const docLinkHtml = 'Like what you see? Visit the ' +\n",
              "            '<a target=\"_blank\" href=https://colab.research.google.com/notebooks/data_table.ipynb>data table notebook</a>'\n",
              "            + ' to learn more about interactive tables.';\n",
              "          element.innerHTML = '';\n",
              "          dataTable['output_type'] = 'display_data';\n",
              "          await google.colab.output.renderOutput(dataTable, element);\n",
              "          const docLink = document.createElement('div');\n",
              "          docLink.innerHTML = docLinkHtml;\n",
              "          element.appendChild(docLink);\n",
              "        }\n",
              "      </script>\n",
              "    </div>\n",
              "  </div>\n",
              "  "
            ]
          },
          "metadata": {},
          "execution_count": 21
        }
      ]
    },
    {
      "cell_type": "code",
      "source": [
        "plt.hist(herg[\"pic50\"], bins=50, color=\"#50285a\")\n",
        "plt.show()"
      ],
      "metadata": {
        "colab": {
          "base_uri": "https://localhost:8080/",
          "height": 265
        },
        "id": "KHp6utkQ-SNb",
        "outputId": "a5f51472-e918-46b4-9026-d8bfce004c16"
      },
      "execution_count": 22,
      "outputs": [
        {
          "output_type": "display_data",
          "data": {
            "text/plain": [
              "<Figure size 432x288 with 1 Axes>"
            ],
            "image/png": "[encoded data removed]"
          },
          "metadata": {
            "needs_background": "light"
          }
        }
      ]
    },
    {
      "cell_type": "code",
      "source": [
        "#we can check the maximum and minimum values\n",
        "print(herg[\"pic50\"].max())\n",
        "print(herg[\"pic50\"].min())"
      ],
      "metadata": {
        "colab": {
          "base_uri": "https://localhost:8080/"
        },
        "id": "xyDOEEk5_p91",
        "outputId": "a62aa82c-fc83-423a-dad7-57a8c8b39010"
      },
      "execution_count": 23,
      "outputs": [
        {
          "output_type": "stream",
          "name": "stdout",
          "text": [
            "8.091017\n",
            "3.3958933\n"
          ]
        }
      ]
    },
    {
      "cell_type": "markdown",
      "source": [
        "*The outcome is the pIC50 (negative log of the IC50 value when molar). We can select a threshold in uM and convert it to pIC50 to discard molecules with potential cardiotoxic activity.*"
      ],
      "metadata": {
        "id": "_lxmxhhY_O9D"
      }
    },
    {
      "cell_type": "markdown",
      "source": [
        "### Retrosynthetic Accessibility\n",
        "Source Publication: [Thakkar et al, 2021](https://pubs.rsc.org/en/content/articlelanding/2021/sc/d0sc05401a)\n",
        "\n",
        "Type of model: Regression\n",
        "\n",
        "Output: highest score indicates easier retrosynthetic route"
      ],
      "metadata": {
        "id": "pqBVtDVZ-4GB"
      }
    },
    {
      "cell_type": "code",
      "source": [
        "ra = pd.read_csv(\"drive/MyDrive/DataScience_Workshop/data/day2/eos2r5a.csv\")\n",
        "ra.head()"
      ],
      "metadata": {
        "colab": {
          "base_uri": "https://localhost:8080/",
          "height": 206
        },
        "id": "5DqEFWLg-fWU",
        "outputId": "36a056f1-12ef-4f0b-b74b-645dbd587d9b"
      },
      "execution_count": 24,
      "outputs": [
        {
          "output_type": "execute_result",
          "data": {
            "text/plain": [
              "                           key  \\\n",
              "0  ALGPHOUNWIZIOQ-UHFFFAOYSA-N   \n",
              "1  QFVDKARCPMTZCS-UHFFFAOYSA-N   \n",
              "2  HKNNPGWJKJDXCN-UHFFFAOYSA-N   \n",
              "3  QQNUVMRXVVLAAU-UHFFFAOYSA-N   \n",
              "4  MSGARPVVCYTSLR-UHFFFAOYSA-N   \n",
              "\n",
              "                                               input  ra_score  \n",
              "0          COc1ccccc1CNC(=O)CCn1c(=O)[nH]c2ccsc2c1=O  0.992027  \n",
              "1  CN(C)c1ccc(C(O)(c2ccc(N(C)C)cc2)c2ccc(N(C)C)cc...  0.985761  \n",
              "2  Cc1ccc(-c2cc3c(SCC(=O)Nc4cc(C(F)(F)F)ccc4Cl)nc...  0.990044  \n",
              "3  CCOC(=O)C1=C(c2ccccc2)N=c2sc(=Cc3cc(C)n(-c4ccc...  0.014052  \n",
              "4      CCOC(=O)c1cnc2c(C)cc(C)cc2c1Nc1ccc(OC)c(OC)c1  0.762822  "
            ],
            "text/html": [
              "\n",
              "  <div id=\"df-c7a494f7-518f-453a-966e-44d89327d703\">\n",
              "    <div class=\"colab-df-container\">\n",
              "      <div>\n",
              "<style scoped>\n",
              "    .dataframe tbody tr th:only-of-type {\n",
              "        vertical-align: middle;\n",
              "    }\n",
              "\n",
              "    .dataframe tbody tr th {\n",
              "        vertical-align: top;\n",
              "    }\n",
              "\n",
              "    .dataframe thead th {\n",
              "        text-align: right;\n",
              "    }\n",
              "</style>\n",
              "<table border=\"1\" class=\"dataframe\">\n",
              "  <thead>\n",
              "    <tr style=\"text-align: right;\">\n",
              "      <th></th>\n",
              "      <th>key</th>\n",
              "      <th>input</th>\n",
              "      <th>ra_score</th>\n",
              "    </tr>\n",
              "  </thead>\n",
              "  <tbody>\n",
              "    <tr>\n",
              "      <th>0</th>\n",
              "      <td>ALGPHOUNWIZIOQ-UHFFFAOYSA-N</td>\n",
              "      <td>COc1ccccc1CNC(=O)CCn1c(=O)[nH]c2ccsc2c1=O</td>\n",
              "      <td>0.992027</td>\n",
              "    </tr>\n",
              "    <tr>\n",
              "      <th>1</th>\n",
              "      <td>QFVDKARCPMTZCS-UHFFFAOYSA-N</td>\n",
              "      <td>CN(C)c1ccc(C(O)(c2ccc(N(C)C)cc2)c2ccc(N(C)C)cc...</td>\n",
              "      <td>0.985761</td>\n",
              "    </tr>\n",
              "    <tr>\n",
              "      <th>2</th>\n",
              "      <td>HKNNPGWJKJDXCN-UHFFFAOYSA-N</td>\n",
              "      <td>Cc1ccc(-c2cc3c(SCC(=O)Nc4cc(C(F)(F)F)ccc4Cl)nc...</td>\n",
              "      <td>0.990044</td>\n",
              "    </tr>\n",
              "    <tr>\n",
              "      <th>3</th>\n",
              "      <td>QQNUVMRXVVLAAU-UHFFFAOYSA-N</td>\n",
              "      <td>CCOC(=O)C1=C(c2ccccc2)N=c2sc(=Cc3cc(C)n(-c4ccc...</td>\n",
              "      <td>0.014052</td>\n",
              "    </tr>\n",
              "    <tr>\n",
              "      <th>4</th>\n",
              "      <td>MSGARPVVCYTSLR-UHFFFAOYSA-N</td>\n",
              "      <td>CCOC(=O)c1cnc2c(C)cc(C)cc2c1Nc1ccc(OC)c(OC)c1</td>\n",
              "      <td>0.762822</td>\n",
              "    </tr>\n",
              "  </tbody>\n",
              "</table>\n",
              "</div>\n",
              "      <button class=\"colab-df-convert\" onclick=\"convertToInteractive('df-c7a494f7-518f-453a-966e-44d89327d703')\"\n",
              "              title=\"Convert this dataframe to an interactive table.\"\n",
              "              style=\"display:none;\">\n",
              "        \n",
              "  <svg xmlns=\"http://www.w3.org/2000/svg\" height=\"24px\"viewBox=\"0 0 24 24\"\n",
              "       width=\"24px\">\n",
              "    <path d=\"M0 0h24v24H0V0z\" fill=\"none\"/>\n",
              "    <path d=\"M18.56 5.44l.94 2.06.94-2.06 2.06-.94-2.06-.94-.94-2.06-.94 2.06-2.06.94zm-11 1L8.5 8.5l.94-2.06 2.06-.94-2.06-.94L8.5 2.5l-.94 2.06-2.06.94zm10 10l.94 2.06.94-2.06 2.06-.94-2.06-.94-.94-2.06-.94 2.06-2.06.94z\"/><path d=\"M17.41 7.96l-1.37-1.37c-.4-.4-.92-.59-1.43-.59-.52 0-1.04.2-1.43.59L10.3 9.45l-7.72 7.72c-.78.78-.78 2.05 0 2.83L4 21.41c.39.39.9.59 1.41.59.51 0 1.02-.2 1.41-.59l7.78-7.78 2.81-2.81c.8-.78.8-2.07 0-2.86zM5.41 20L4 18.59l7.72-7.72 1.47 1.35L5.41 20z\"/>\n",
              "  </svg>\n",
              "      </button>\n",
              "      \n",
              "  <style>\n",
              "    .colab-df-container {\n",
              "      display:flex;\n",
              "      flex-wrap:wrap;\n",
              "      gap: 12px;\n",
              "    }\n",
              "\n",
              "    .colab-df-convert {\n",
              "      background-color: #E8F0FE;\n",
              "      border: none;\n",
              "      border-radius: 50%;\n",
              "      cursor: pointer;\n",
              "      display: none;\n",
              "      fill: #1967D2;\n",
              "      height: 32px;\n",
              "      padding: 0 0 0 0;\n",
              "      width: 32px;\n",
              "    }\n",
              "\n",
              "    .colab-df-convert:hover {\n",
              "      background-color: #E2EBFA;\n",
              "      box-shadow: 0px 1px 2px rgba(60, 64, 67, 0.3), 0px 1px 3px 1px rgba(60, 64, 67, 0.15);\n",
              "      fill: #174EA6;\n",
              "    }\n",
              "\n",
              "    [theme=dark] .colab-df-convert {\n",
              "      background-color: #3B4455;\n",
              "      fill: #D2E3FC;\n",
              "    }\n",
              "\n",
              "    [theme=dark] .colab-df-convert:hover {\n",
              "      background-color: #434B5C;\n",
              "      box-shadow: 0px 1px 3px 1px rgba(0, 0, 0, 0.15);\n",
              "      filter: drop-shadow(0px 1px 2px rgba(0, 0, 0, 0.3));\n",
              "      fill: #FFFFFF;\n",
              "    }\n",
              "  </style>\n",
              "\n",
              "      <script>\n",
              "        const buttonEl =\n",
              "          document.querySelector('#df-c7a494f7-518f-453a-966e-44d89327d703 button.colab-df-convert');\n",
              "        buttonEl.style.display =\n",
              "          google.colab.kernel.accessAllowed ? 'block' : 'none';\n",
              "\n",
              "        async function convertToInteractive(key) {\n",
              "          const element = document.querySelector('#df-c7a494f7-518f-453a-966e-44d89327d703');\n",
              "          const dataTable =\n",
              "            await google.colab.kernel.invokeFunction('convertToInteractive',\n",
              "                                                     [key], {});\n",
              "          if (!dataTable) return;\n",
              "\n",
              "          const docLinkHtml = 'Like what you see? Visit the ' +\n",
              "            '<a target=\"_blank\" href=https://colab.research.google.com/notebooks/data_table.ipynb>data table notebook</a>'\n",
              "            + ' to learn more about interactive tables.';\n",
              "          element.innerHTML = '';\n",
              "          dataTable['output_type'] = 'display_data';\n",
              "          await google.colab.output.renderOutput(dataTable, element);\n",
              "          const docLink = document.createElement('div');\n",
              "          docLink.innerHTML = docLinkHtml;\n",
              "          element.appendChild(docLink);\n",
              "        }\n",
              "      </script>\n",
              "    </div>\n",
              "  </div>\n",
              "  "
            ]
          },
          "metadata": {},
          "execution_count": 24
        }
      ]
    },
    {
      "cell_type": "code",
      "source": [
        "plt.hist(ra[\"ra_score\"], bins=50, color=\"#50285a\")\n",
        "plt.show()"
      ],
      "metadata": {
        "colab": {
          "base_uri": "https://localhost:8080/",
          "height": 265
        },
        "id": "Vd1Eog1l-WLC",
        "outputId": "f836fb29-0152-4519-b79d-9dc47ee2981b"
      },
      "execution_count": 25,
      "outputs": [
        {
          "output_type": "display_data",
          "data": {
            "text/plain": [
              "<Figure size 432x288 with 1 Axes>"
            ],
            "image/png": "[encoded data removed]"
          },
          "metadata": {
            "needs_background": "light"
          }
        }
      ]
    },
    {
      "cell_type": "code",
      "source": [
        "#we can check the maximum and minimum values\n",
        "print(ra[\"ra_score\"].max())\n",
        "print(ra[\"ra_score\"].min())"
      ],
      "metadata": {
        "colab": {
          "base_uri": "https://localhost:8080/"
        },
        "id": "ax_P6SREoAHF",
        "outputId": "279dcdb5-d78c-4e1e-eeee-a38bfac7bc57"
      },
      "execution_count": 26,
      "outputs": [
        {
          "output_type": "stream",
          "name": "stdout",
          "text": [
            "0.9992656\n",
            "0.0016327174\n"
          ]
        }
      ]
    },
    {
      "cell_type": "markdown",
      "source": [
        "*hints: we observe good RA score for most molecules, since these are selected candidates it is likely that we find good availabilities. We can discard the ones with very low predicted values*"
      ],
      "metadata": {
        "id": "kZsjXC02oFbE"
      }
    },
    {
      "cell_type": "markdown",
      "source": [
        "### Solubility\n",
        "Source Publication: [Francoeur et al, 2021](https://pubs.acs.org/doi/10.1021/acs.jcim.1c00331)\n",
        "\n",
        "Type of model: Regression\n",
        "\n",
        "Output: Prediction of the LogS (logarithm of the solubility in mol/L)"
      ],
      "metadata": {
        "id": "WDFjsMV7_izA"
      }
    },
    {
      "cell_type": "code",
      "source": [
        "sol = pd.read_csv(\"drive/MyDrive/DataScience_Workshop/data/day2/eos6oli.csv\")\n",
        "sol.head()"
      ],
      "metadata": {
        "colab": {
          "base_uri": "https://localhost:8080/",
          "height": 206
        },
        "id": "tMUKr4rH-jz-",
        "outputId": "0d9d2809-b9c3-4ba2-cb26-695a4681a091"
      },
      "execution_count": 27,
      "outputs": [
        {
          "output_type": "execute_result",
          "data": {
            "text/plain": [
              "                           key  \\\n",
              "0  ALGPHOUNWIZIOQ-UHFFFAOYSA-N   \n",
              "1  QFVDKARCPMTZCS-UHFFFAOYSA-N   \n",
              "2  HKNNPGWJKJDXCN-UHFFFAOYSA-N   \n",
              "3  QQNUVMRXVVLAAU-UHFFFAOYSA-N   \n",
              "4  MSGARPVVCYTSLR-UHFFFAOYSA-N   \n",
              "\n",
              "                                               input  solubility  \n",
              "0          COc1ccccc1CNC(=O)CCn1c(=O)[nH]c2ccsc2c1=O      -4.767  \n",
              "1  CN(C)c1ccc(C(O)(c2ccc(N(C)C)cc2)c2ccc(N(C)C)cc...      -3.565  \n",
              "2  Cc1ccc(-c2cc3c(SCC(=O)Nc4cc(C(F)(F)F)ccc4Cl)nc...      -8.075  \n",
              "3  CCOC(=O)C1=C(c2ccccc2)N=c2sc(=Cc3cc(C)n(-c4ccc...      -8.536  \n",
              "4      CCOC(=O)c1cnc2c(C)cc(C)cc2c1Nc1ccc(OC)c(OC)c1      -6.299  "
            ],
            "text/html": [
              "\n",
              "  <div id=\"df-6c7cf9a8-4cf8-4df4-a5b7-ba0a15b09538\">\n",
              "    <div class=\"colab-df-container\">\n",
              "      <div>\n",
              "<style scoped>\n",
              "    .dataframe tbody tr th:only-of-type {\n",
              "        vertical-align: middle;\n",
              "    }\n",
              "\n",
              "    .dataframe tbody tr th {\n",
              "        vertical-align: top;\n",
              "    }\n",
              "\n",
              "    .dataframe thead th {\n",
              "        text-align: right;\n",
              "    }\n",
              "</style>\n",
              "<table border=\"1\" class=\"dataframe\">\n",
              "  <thead>\n",
              "    <tr style=\"text-align: right;\">\n",
              "      <th></th>\n",
              "      <th>key</th>\n",
              "      <th>input</th>\n",
              "      <th>solubility</th>\n",
              "    </tr>\n",
              "  </thead>\n",
              "  <tbody>\n",
              "    <tr>\n",
              "      <th>0</th>\n",
              "      <td>ALGPHOUNWIZIOQ-UHFFFAOYSA-N</td>\n",
              "      <td>COc1ccccc1CNC(=O)CCn1c(=O)[nH]c2ccsc2c1=O</td>\n",
              "      <td>-4.767</td>\n",
              "    </tr>\n",
              "    <tr>\n",
              "      <th>1</th>\n",
              "      <td>QFVDKARCPMTZCS-UHFFFAOYSA-N</td>\n",
              "      <td>CN(C)c1ccc(C(O)(c2ccc(N(C)C)cc2)c2ccc(N(C)C)cc...</td>\n",
              "      <td>-3.565</td>\n",
              "    </tr>\n",
              "    <tr>\n",
              "      <th>2</th>\n",
              "      <td>HKNNPGWJKJDXCN-UHFFFAOYSA-N</td>\n",
              "      <td>Cc1ccc(-c2cc3c(SCC(=O)Nc4cc(C(F)(F)F)ccc4Cl)nc...</td>\n",
              "      <td>-8.075</td>\n",
              "    </tr>\n",
              "    <tr>\n",
              "      <th>3</th>\n",
              "      <td>QQNUVMRXVVLAAU-UHFFFAOYSA-N</td>\n",
              "      <td>CCOC(=O)C1=C(c2ccccc2)N=c2sc(=Cc3cc(C)n(-c4ccc...</td>\n",
              "      <td>-8.536</td>\n",
              "    </tr>\n",
              "    <tr>\n",
              "      <th>4</th>\n",
              "      <td>MSGARPVVCYTSLR-UHFFFAOYSA-N</td>\n",
              "      <td>CCOC(=O)c1cnc2c(C)cc(C)cc2c1Nc1ccc(OC)c(OC)c1</td>\n",
              "      <td>-6.299</td>\n",
              "    </tr>\n",
              "  </tbody>\n",
              "</table>\n",
              "</div>\n",
              "      <button class=\"colab-df-convert\" onclick=\"convertToInteractive('df-6c7cf9a8-4cf8-4df4-a5b7-ba0a15b09538')\"\n",
              "              title=\"Convert this dataframe to an interactive table.\"\n",
              "              style=\"display:none;\">\n",
              "        \n",
              "  <svg xmlns=\"http://www.w3.org/2000/svg\" height=\"24px\"viewBox=\"0 0 24 24\"\n",
              "       width=\"24px\">\n",
              "    <path d=\"M0 0h24v24H0V0z\" fill=\"none\"/>\n",
              "    <path d=\"M18.56 5.44l.94 2.06.94-2.06 2.06-.94-2.06-.94-.94-2.06-.94 2.06-2.06.94zm-11 1L8.5 8.5l.94-2.06 2.06-.94-2.06-.94L8.5 2.5l-.94 2.06-2.06.94zm10 10l.94 2.06.94-2.06 2.06-.94-2.06-.94-.94-2.06-.94 2.06-2.06.94z\"/><path d=\"M17.41 7.96l-1.37-1.37c-.4-.4-.92-.59-1.43-.59-.52 0-1.04.2-1.43.59L10.3 9.45l-7.72 7.72c-.78.78-.78 2.05 0 2.83L4 21.41c.39.39.9.59 1.41.59.51 0 1.02-.2 1.41-.59l7.78-7.78 2.81-2.81c.8-.78.8-2.07 0-2.86zM5.41 20L4 18.59l7.72-7.72 1.47 1.35L5.41 20z\"/>\n",
              "  </svg>\n",
              "      </button>\n",
              "      \n",
              "  <style>\n",
              "    .colab-df-container {\n",
              "      display:flex;\n",
              "      flex-wrap:wrap;\n",
              "      gap: 12px;\n",
              "    }\n",
              "\n",
              "    .colab-df-convert {\n",
              "      background-color: #E8F0FE;\n",
              "      border: none;\n",
              "      border-radius: 50%;\n",
              "      cursor: pointer;\n",
              "      display: none;\n",
              "      fill: #1967D2;\n",
              "      height: 32px;\n",
              "      padding: 0 0 0 0;\n",
              "      width: 32px;\n",
              "    }\n",
              "\n",
              "    .colab-df-convert:hover {\n",
              "      background-color: #E2EBFA;\n",
              "      box-shadow: 0px 1px 2px rgba(60, 64, 67, 0.3), 0px 1px 3px 1px rgba(60, 64, 67, 0.15);\n",
              "      fill: #174EA6;\n",
              "    }\n",
              "\n",
              "    [theme=dark] .colab-df-convert {\n",
              "      background-color: #3B4455;\n",
              "      fill: #D2E3FC;\n",
              "    }\n",
              "\n",
              "    [theme=dark] .colab-df-convert:hover {\n",
              "      background-color: #434B5C;\n",
              "      box-shadow: 0px 1px 3px 1px rgba(0, 0, 0, 0.15);\n",
              "      filter: drop-shadow(0px 1px 2px rgba(0, 0, 0, 0.3));\n",
              "      fill: #FFFFFF;\n",
              "    }\n",
              "  </style>\n",
              "\n",
              "      <script>\n",
              "        const buttonEl =\n",
              "          document.querySelector('#df-6c7cf9a8-4cf8-4df4-a5b7-ba0a15b09538 button.colab-df-convert');\n",
              "        buttonEl.style.display =\n",
              "          google.colab.kernel.accessAllowed ? 'block' : 'none';\n",
              "\n",
              "        async function convertToInteractive(key) {\n",
              "          const element = document.querySelector('#df-6c7cf9a8-4cf8-4df4-a5b7-ba0a15b09538');\n",
              "          const dataTable =\n",
              "            await google.colab.kernel.invokeFunction('convertToInteractive',\n",
              "                                                     [key], {});\n",
              "          if (!dataTable) return;\n",
              "\n",
              "          const docLinkHtml = 'Like what you see? Visit the ' +\n",
              "            '<a target=\"_blank\" href=https://colab.research.google.com/notebooks/data_table.ipynb>data table notebook</a>'\n",
              "            + ' to learn more about interactive tables.';\n",
              "          element.innerHTML = '';\n",
              "          dataTable['output_type'] = 'display_data';\n",
              "          await google.colab.output.renderOutput(dataTable, element);\n",
              "          const docLink = document.createElement('div');\n",
              "          docLink.innerHTML = docLinkHtml;\n",
              "          element.appendChild(docLink);\n",
              "        }\n",
              "      </script>\n",
              "    </div>\n",
              "  </div>\n",
              "  "
            ]
          },
          "metadata": {},
          "execution_count": 27
        }
      ]
    },
    {
      "cell_type": "code",
      "source": [
        "plt.hist(sol[\"solubility\"], bins=50, color=\"#50285a\")\n",
        "plt.show()"
      ],
      "metadata": {
        "colab": {
          "base_uri": "https://localhost:8080/",
          "height": 265
        },
        "id": "Jerbbsgm-YK1",
        "outputId": "091142e3-fba6-4223-9f2f-b449b979fc87"
      },
      "execution_count": 28,
      "outputs": [
        {
          "output_type": "display_data",
          "data": {
            "text/plain": [
              "<Figure size 432x288 with 1 Axes>"
            ],
            "image/png": "[encoded data removed]"
          },
          "metadata": {
            "needs_background": "light"
          }
        }
      ]
    },
    {
      "cell_type": "code",
      "source": [
        "#we can check the maximum and minimum values\n",
        "print(sol[\"solubility\"].max())\n",
        "print(sol[\"solubility\"].min())"
      ],
      "metadata": {
        "id": "K6IMjvlWooUX",
        "outputId": "d2b2c498-df3c-465c-e25f-3a09f5336624",
        "colab": {
          "base_uri": "https://localhost:8080/"
        }
      },
      "execution_count": 29,
      "outputs": [
        {
          "output_type": "stream",
          "name": "stdout",
          "text": [
            "-0.871\n",
            "-8.701\n"
          ]
        }
      ]
    },
    {
      "cell_type": "markdown",
      "source": [
        "*LogS is the log of the solubility (mol/L) at neutral pH. If we look at the publication, the authors set a threshold of LogS > -4 to classify a molecule as soluble. We can use the same to select the highest soluble molecules*"
      ],
      "metadata": {
        "id": "1x6OA3-bBUtE"
      }
    },
    {
      "cell_type": "markdown",
      "source": [
        "### Natural Product Likeness\n",
        "Source Publication: [Francoeur et al, 2021](https://pubs.acs.org/doi/10.1021/acs.jcim.1c00331)\n",
        "\n",
        "Type of model: Regression\n",
        "\n",
        "Output: score indicating similarity to natural products (higher score indicates higher natural product likeness)"
      ],
      "metadata": {
        "id": "YTvrfrV1ANh_"
      }
    },
    {
      "cell_type": "code",
      "source": [
        "np = pd.read_csv(\"drive/MyDrive/DataScience_Workshop/data/day2/eos9yui.csv\")\n",
        "np.head()"
      ],
      "metadata": {
        "colab": {
          "base_uri": "https://localhost:8080/",
          "height": 206
        },
        "id": "8sSQ7H0B-lVR",
        "outputId": "7aad5fb9-2c5e-4233-8849-f6c51c635a88"
      },
      "execution_count": 31,
      "outputs": [
        {
          "output_type": "execute_result",
          "data": {
            "text/plain": [
              "                           key  \\\n",
              "0  ALGPHOUNWIZIOQ-UHFFFAOYSA-N   \n",
              "1  QFVDKARCPMTZCS-UHFFFAOYSA-N   \n",
              "2  HKNNPGWJKJDXCN-UHFFFAOYSA-N   \n",
              "3  QQNUVMRXVVLAAU-UHFFFAOYSA-N   \n",
              "4  MSGARPVVCYTSLR-UHFFFAOYSA-N   \n",
              "\n",
              "                                               input     score  \n",
              "0          COc1ccccc1CNC(=O)CCn1c(=O)[nH]c2ccsc2c1=O -9.805668  \n",
              "1  CN(C)c1ccc(C(O)(c2ccc(N(C)C)cc2)c2ccc(N(C)C)cc... -8.529993  \n",
              "2  Cc1ccc(-c2cc3c(SCC(=O)Nc4cc(C(F)(F)F)ccc4Cl)nc... -6.630119  \n",
              "3  CCOC(=O)C1=C(c2ccccc2)N=c2sc(=Cc3cc(C)n(-c4ccc... -9.085316  \n",
              "4      CCOC(=O)c1cnc2c(C)cc(C)cc2c1Nc1ccc(OC)c(OC)c1 -7.305698  "
            ],
            "text/html": [
              "\n",
              "  <div id=\"df-90a6ce63-f612-41c5-a07a-37d3f14d5842\">\n",
              "    <div class=\"colab-df-container\">\n",
              "      <div>\n",
              "<style scoped>\n",
              "    .dataframe tbody tr th:only-of-type {\n",
              "        vertical-align: middle;\n",
              "    }\n",
              "\n",
              "    .dataframe tbody tr th {\n",
              "        vertical-align: top;\n",
              "    }\n",
              "\n",
              "    .dataframe thead th {\n",
              "        text-align: right;\n",
              "    }\n",
              "</style>\n",
              "<table border=\"1\" class=\"dataframe\">\n",
              "  <thead>\n",
              "    <tr style=\"text-align: right;\">\n",
              "      <th></th>\n",
              "      <th>key</th>\n",
              "      <th>input</th>\n",
              "      <th>score</th>\n",
              "    </tr>\n",
              "  </thead>\n",
              "  <tbody>\n",
              "    <tr>\n",
              "      <th>0</th>\n",
              "      <td>ALGPHOUNWIZIOQ-UHFFFAOYSA-N</td>\n",
              "      <td>COc1ccccc1CNC(=O)CCn1c(=O)[nH]c2ccsc2c1=O</td>\n",
              "      <td>-9.805668</td>\n",
              "    </tr>\n",
              "    <tr>\n",
              "      <th>1</th>\n",
              "      <td>QFVDKARCPMTZCS-UHFFFAOYSA-N</td>\n",
              "      <td>CN(C)c1ccc(C(O)(c2ccc(N(C)C)cc2)c2ccc(N(C)C)cc...</td>\n",
              "      <td>-8.529993</td>\n",
              "    </tr>\n",
              "    <tr>\n",
              "      <th>2</th>\n",
              "      <td>HKNNPGWJKJDXCN-UHFFFAOYSA-N</td>\n",
              "      <td>Cc1ccc(-c2cc3c(SCC(=O)Nc4cc(C(F)(F)F)ccc4Cl)nc...</td>\n",
              "      <td>-6.630119</td>\n",
              "    </tr>\n",
              "    <tr>\n",
              "      <th>3</th>\n",
              "      <td>QQNUVMRXVVLAAU-UHFFFAOYSA-N</td>\n",
              "      <td>CCOC(=O)C1=C(c2ccccc2)N=c2sc(=Cc3cc(C)n(-c4ccc...</td>\n",
              "      <td>-9.085316</td>\n",
              "    </tr>\n",
              "    <tr>\n",
              "      <th>4</th>\n",
              "      <td>MSGARPVVCYTSLR-UHFFFAOYSA-N</td>\n",
              "      <td>CCOC(=O)c1cnc2c(C)cc(C)cc2c1Nc1ccc(OC)c(OC)c1</td>\n",
              "      <td>-7.305698</td>\n",
              "    </tr>\n",
              "  </tbody>\n",
              "</table>\n",
              "</div>\n",
              "      <button class=\"colab-df-convert\" onclick=\"convertToInteractive('df-90a6ce63-f612-41c5-a07a-37d3f14d5842')\"\n",
              "              title=\"Convert this dataframe to an interactive table.\"\n",
              "              style=\"display:none;\">\n",
              "        \n",
              "  <svg xmlns=\"http://www.w3.org/2000/svg\" height=\"24px\"viewBox=\"0 0 24 24\"\n",
              "       width=\"24px\">\n",
              "    <path d=\"M0 0h24v24H0V0z\" fill=\"none\"/>\n",
              "    <path d=\"M18.56 5.44l.94 2.06.94-2.06 2.06-.94-2.06-.94-.94-2.06-.94 2.06-2.06.94zm-11 1L8.5 8.5l.94-2.06 2.06-.94-2.06-.94L8.5 2.5l-.94 2.06-2.06.94zm10 10l.94 2.06.94-2.06 2.06-.94-2.06-.94-.94-2.06-.94 2.06-2.06.94z\"/><path d=\"M17.41 7.96l-1.37-1.37c-.4-.4-.92-.59-1.43-.59-.52 0-1.04.2-1.43.59L10.3 9.45l-7.72 7.72c-.78.78-.78 2.05 0 2.83L4 21.41c.39.39.9.59 1.41.59.51 0 1.02-.2 1.41-.59l7.78-7.78 2.81-2.81c.8-.78.8-2.07 0-2.86zM5.41 20L4 18.59l7.72-7.72 1.47 1.35L5.41 20z\"/>\n",
              "  </svg>\n",
              "      </button>\n",
              "      \n",
              "  <style>\n",
              "    .colab-df-container {\n",
              "      display:flex;\n",
              "      flex-wrap:wrap;\n",
              "      gap: 12px;\n",
              "    }\n",
              "\n",
              "    .colab-df-convert {\n",
              "      background-color: #E8F0FE;\n",
              "      border: none;\n",
              "      border-radius: 50%;\n",
              "      cursor: pointer;\n",
              "      display: none;\n",
              "      fill: #1967D2;\n",
              "      height: 32px;\n",
              "      padding: 0 0 0 0;\n",
              "      width: 32px;\n",
              "    }\n",
              "\n",
              "    .colab-df-convert:hover {\n",
              "      background-color: #E2EBFA;\n",
              "      box-shadow: 0px 1px 2px rgba(60, 64, 67, 0.3), 0px 1px 3px 1px rgba(60, 64, 67, 0.15);\n",
              "      fill: #174EA6;\n",
              "    }\n",
              "\n",
              "    [theme=dark] .colab-df-convert {\n",
              "      background-color: #3B4455;\n",
              "      fill: #D2E3FC;\n",
              "    }\n",
              "\n",
              "    [theme=dark] .colab-df-convert:hover {\n",
              "      background-color: #434B5C;\n",
              "      box-shadow: 0px 1px 3px 1px rgba(0, 0, 0, 0.15);\n",
              "      filter: drop-shadow(0px 1px 2px rgba(0, 0, 0, 0.3));\n",
              "      fill: #FFFFFF;\n",
              "    }\n",
              "  </style>\n",
              "\n",
              "      <script>\n",
              "        const buttonEl =\n",
              "          document.querySelector('#df-90a6ce63-f612-41c5-a07a-37d3f14d5842 button.colab-df-convert');\n",
              "        buttonEl.style.display =\n",
              "          google.colab.kernel.accessAllowed ? 'block' : 'none';\n",
              "\n",
              "        async function convertToInteractive(key) {\n",
              "          const element = document.querySelector('#df-90a6ce63-f612-41c5-a07a-37d3f14d5842');\n",
              "          const dataTable =\n",
              "            await google.colab.kernel.invokeFunction('convertToInteractive',\n",
              "                                                     [key], {});\n",
              "          if (!dataTable) return;\n",
              "\n",
              "          const docLinkHtml = 'Like what you see? Visit the ' +\n",
              "            '<a target=\"_blank\" href=https://colab.research.google.com/notebooks/data_table.ipynb>data table notebook</a>'\n",
              "            + ' to learn more about interactive tables.';\n",
              "          element.innerHTML = '';\n",
              "          dataTable['output_type'] = 'display_data';\n",
              "          await google.colab.output.renderOutput(dataTable, element);\n",
              "          const docLink = document.createElement('div');\n",
              "          docLink.innerHTML = docLinkHtml;\n",
              "          element.appendChild(docLink);\n",
              "        }\n",
              "      </script>\n",
              "    </div>\n",
              "  </div>\n",
              "  "
            ]
          },
          "metadata": {},
          "execution_count": 31
        }
      ]
    },
    {
      "cell_type": "code",
      "source": [
        "plt.hist(np[\"score\"], bins=50, color=\"#50285a\")\n",
        "plt.show()"
      ],
      "metadata": {
        "colab": {
          "base_uri": "https://localhost:8080/",
          "height": 265
        },
        "id": "4fYWYO-Q-YrM",
        "outputId": "92539027-6afc-4824-96d5-7815741ee330"
      },
      "execution_count": 32,
      "outputs": [
        {
          "output_type": "display_data",
          "data": {
            "text/plain": [
              "<Figure size 432x288 with 1 Axes>"
            ],
            "image/png": "[encoded data removed]"
          },
          "metadata": {
            "needs_background": "light"
          }
        }
      ]
    },
    {
      "cell_type": "code",
      "source": [
        "#we can check the maximum and minimum values\n",
        "print(np[\"score\"].max())\n",
        "print(np[\"score\"].min())"
      ],
      "metadata": {
        "id": "c48yXXMuouRf",
        "outputId": "3ef426c0-3bfa-4731-95f4-fa19c27290a2",
        "colab": {
          "base_uri": "https://localhost:8080/"
        }
      },
      "execution_count": 33,
      "outputs": [
        {
          "output_type": "stream",
          "name": "stdout",
          "text": [
            "12.814294\n",
            "-12.594992\n"
          ]
        }
      ]
    },
    {
      "cell_type": "markdown",
      "source": [
        "*we can see how the NP-likeness is low for most molecules, we can even use a fully NP dataset to check which values we obtain. NP score can be useful when looking, for example for new scaffolds.*"
      ],
      "metadata": {
        "id": "dQkMLb8pDLOp"
      }
    },
    {
      "cell_type": "markdown",
      "source": [
        "#### Bringing together all predictions\n",
        "One way to select molecules is to create a table with all predictions and select the molecules that fulfill the desired conditions"
      ],
      "metadata": {
        "id": "n1JRF6UwM0_X"
      }
    },
    {
      "cell_type": "code",
      "source": [
        "#we load all results into a dictionary\n",
        "results = {\"maip\": pd.read_csv(\"drive/MyDrive/DataScience_Workshop/data/day2/eos2gth.csv\"), \n",
        "           \"chemtb\": pd.read_csv(\"drive/MyDrive/DataScience_Workshop/data/day2/eos46ev.csv\"), \n",
        "           \"antib\": pd.read_csv(\"drive/MyDrive/DataScience_Workshop/data/day2/eos4e40.csv\"),\n",
        "           \"herg\": pd.read_csv(\"drive/MyDrive/DataScience_Workshop/data/day2/eos43at.csv\"), \n",
        "           \"ra\": pd.read_csv(\"drive/MyDrive/DataScience_Workshop/data/day2/eos2r5a.csv\"), \n",
        "           \"sol\": pd.read_csv(\"drive/MyDrive/DataScience_Workshop/data/day2/eos6oli.csv\"), \n",
        "           \"np\": pd.read_csv(\"drive/MyDrive/DataScience_Workshop/data/day2/eos9yui.csv\")\n",
        "           }"
      ],
      "metadata": {
        "id": "24Y56UpJ5Fer"
      },
      "execution_count": 34,
      "outputs": []
    },
    {
      "cell_type": "code",
      "source": [
        "#we now append the predictions to the InChiKey and SMILES\n",
        "#the molecule order is maintained in the different models\n",
        "\n",
        "df = results[\"maip\"][results[\"maip\"].columns[:2]] #this creates a dataframe with inchi and smiles only (cols 0 and 1)\n",
        "\n",
        "for k,v in results.items():\n",
        "    output = v[v.columns[2]]\n",
        "    df[\"{}\".format(k)]=output\n",
        "\n",
        "df.to_csv(\"drive/MyDrive/DataScience_Workshop/data/day2/allpreds.csv\")"
      ],
      "metadata": {
        "id": "1g8-NTW55B47"
      },
      "execution_count": 35,
      "outputs": []
    },
    {
      "cell_type": "code",
      "source": [
        "#molecules where malaria activity prediction is above 30\n",
        "df = df[df[\"maip\"]>30]\n",
        "df.shape"
      ],
      "metadata": {
        "colab": {
          "base_uri": "https://localhost:8080/"
        },
        "id": "r0M4Ct6oOkKC",
        "outputId": "dd52d107-2bc1-409e-a20e-d479d25942fb"
      },
      "execution_count": 36,
      "outputs": [
        {
          "output_type": "execute_result",
          "data": {
            "text/plain": [
              "(189, 9)"
            ]
          },
          "metadata": {},
          "execution_count": 36
        }
      ]
    },
    {
      "cell_type": "code",
      "source": [
        "#molecules where ra score is 0.75 or above\n",
        "df = df[df[\"ra\"]>=0.75]\n",
        "df.shape"
      ],
      "metadata": {
        "colab": {
          "base_uri": "https://localhost:8080/"
        },
        "id": "JIfBwDxHOkth",
        "outputId": "a1044ea2-e70f-42af-c833-605aae634522"
      },
      "execution_count": 37,
      "outputs": [
        {
          "output_type": "execute_result",
          "data": {
            "text/plain": [
              "(177, 9)"
            ]
          },
          "metadata": {},
          "execution_count": 37
        }
      ]
    },
    {
      "cell_type": "code",
      "source": [
        "#molecules where solubility is -4 or above\n",
        "df = df[df[\"sol\"]>-4]\n",
        "df.shape"
      ],
      "metadata": {
        "colab": {
          "base_uri": "https://localhost:8080/"
        },
        "id": "pDxLq-_UPC0j",
        "outputId": "39f6920a-90f5-4b2f-c348-aa8e540987fb"
      },
      "execution_count": 38,
      "outputs": [
        {
          "output_type": "execute_result",
          "data": {
            "text/plain": [
              "(49, 9)"
            ]
          },
          "metadata": {},
          "execution_count": 38
        }
      ]
    },
    {
      "cell_type": "code",
      "source": [
        "#molecules where hERG IC50 is more than 10 uM (pIC50=6)\n",
        "df = df[df[\"herg\"]<6]\n",
        "df.shape"
      ],
      "metadata": {
        "colab": {
          "base_uri": "https://localhost:8080/"
        },
        "id": "s319Uj1LPpUV",
        "outputId": "663e8ec5-da14-42fe-a940-005d6093ae77"
      },
      "execution_count": 39,
      "outputs": [
        {
          "output_type": "execute_result",
          "data": {
            "text/plain": [
              "(33, 9)"
            ]
          },
          "metadata": {},
          "execution_count": 39
        }
      ]
    },
    {
      "cell_type": "markdown",
      "source": [
        "With the selected cut-offs, we have obtained 33 molecules, which we can further refine based on our preferences for:\n",
        "*  Activity against other pathogens\n",
        "*  Similarity to Natural Products\n",
        "\n",
        "We can visualise the activities of the selected molecules in the rest of the assays to guide us in making a decision"
      ],
      "metadata": {
        "id": "GwCipY6CQj-J"
      }
    },
    {
      "cell_type": "code",
      "source": [
        "plt.hist(df[\"np\"], color=\"#50285a\")\n",
        "plt.show()"
      ],
      "metadata": {
        "colab": {
          "base_uri": "https://localhost:8080/",
          "height": 265
        },
        "id": "zGlU01c-Pw2T",
        "outputId": "06bf6bc7-8582-4fa0-ed11-ac043473bf19"
      },
      "execution_count": 41,
      "outputs": [
        {
          "output_type": "display_data",
          "data": {
            "text/plain": [
              "<Figure size 432x288 with 1 Axes>"
            ],
            "image/png": "[encoded data removed]"
          },
          "metadata": {
            "needs_background": "light"
          }
        }
      ]
    },
    {
      "cell_type": "code",
      "source": [
        "plt.hist(df[\"chemtb\"], color=\"#50285a\")\n",
        "plt.show()"
      ],
      "metadata": {
        "colab": {
          "base_uri": "https://localhost:8080/",
          "height": 265
        },
        "id": "ATBRDIz6Qfeq",
        "outputId": "2c8ed930-aed8-4896-aedd-38e03ec45327"
      },
      "execution_count": 42,
      "outputs": [
        {
          "output_type": "display_data",
          "data": {
            "text/plain": [
              "<Figure size 432x288 with 1 Axes>"
            ],
            "image/png": "[encoded data removed]"
          },
          "metadata": {
            "needs_background": "light"
          }
        }
      ]
    },
    {
      "cell_type": "code",
      "source": [
        "plt.hist(df[\"antib\"], color=\"#50285a\")\n",
        "plt.show()"
      ],
      "metadata": {
        "colab": {
          "base_uri": "https://localhost:8080/",
          "height": 265
        },
        "id": "9XtoKBJVQ3NS",
        "outputId": "fd27e7f5-43e3-4b12-e0f0-90837f5150cc"
      },
      "execution_count": 43,
      "outputs": [
        {
          "output_type": "display_data",
          "data": {
            "text/plain": [
              "<Figure size 432x288 with 1 Axes>"
            ],
            "image/png": "[encoded data removed]"
          },
          "metadata": {
            "needs_background": "light"
          }
        }
      ]
    },
    {
      "cell_type": "markdown",
      "source": [
        "We don't see an interesting distribution of the selected molecules in these assays, so we can simply rank the 33 by malaria activity and select the 10 highest for this example"
      ],
      "metadata": {
        "id": "m0czQY12Q94k"
      }
    },
    {
      "cell_type": "code",
      "source": [
        "df.sort_values(by=\"maip\", ascending=False, inplace=True)\n",
        "df"
      ],
      "metadata": {
        "colab": {
          "base_uri": "https://localhost:8080/",
          "height": 1000
        },
        "id": "fHsnVIX1Q5Oy",
        "outputId": "ea498058-cf0d-46af-b8ba-26b79b47be5d"
      },
      "execution_count": 44,
      "outputs": [
        {
          "output_type": "execute_result",
          "data": {
            "text/plain": [
              "                             key  \\\n",
              "136  HPFVQAYLQOSFOL-UHFFFAOYSA-N   \n",
              "69   RHZLKBRFIAZMTN-UHFFFAOYSA-N   \n",
              "28   DSQFFQFYQVGMPS-UHFFFAOYSA-N   \n",
              "173  ULJISGNQAXNPOC-UHFFFAOYSA-N   \n",
              "353  VTHMRLOUPKJVSL-UHFFFAOYSA-N   \n",
              "45   OJGAAQMNLKYWSQ-UHFFFAOYSA-N   \n",
              "16   YUNBRHOGRKHXNG-UHFFFAOYSA-N   \n",
              "223  QWAVSGXBYFASKZ-UHFFFAOYSA-N   \n",
              "232  YVFMXQOVHCJUFX-UHFFFAOYSA-N   \n",
              "177  VFFXYVJKHGENTG-UHFFFAOYSA-N   \n",
              "27   VJGUBCUGFXDMEX-UHFFFAOYSA-N   \n",
              "112  MYBHZNWJSKGXNY-UHFFFAOYSA-N   \n",
              "155  LEJZVWKPAYYUCZ-UHFFFAOYSA-N   \n",
              "161  GHWWPKGEXYATFJ-UHFFFAOYSA-N   \n",
              "234  YIQFCULBVMFGTR-UHFFFAOYSA-N   \n",
              "255  SNLLGJBMDQWSKR-UHFFFAOYSA-N   \n",
              "227  RKVBRQUSBUXPGZ-UHFFFAOYSA-N   \n",
              "75   UFFSSWFJZSCGMP-UHFFFAOYSA-O   \n",
              "244  AQPNTDLFSJHABR-UHFFFAOYSA-N   \n",
              "268  RILRKUIAPLEMSF-UHFFFAOYSA-N   \n",
              "189  LGSFGFSFIHSWAC-UHFFFAOYSA-N   \n",
              "123  YOPKSOBTIYZVAH-UHFFFAOYSA-N   \n",
              "220  KSAUAMZGQWQPHW-UHFFFAOYSA-N   \n",
              "113  JDDWQQMMYFXZHN-UHFFFAOYSA-N   \n",
              "51   VKKYZYNAWYQWQN-UHFFFAOYSA-N   \n",
              "218  ABAYPBNJVATNDZ-UHFFFAOYSA-N   \n",
              "138  XSOXWLLLSNOJGJ-UHFFFAOYSA-N   \n",
              "210  XVXWWBFSBXFBOS-UHFFFAOYSA-N   \n",
              "175  UIWHEXAVANZGHK-UHFFFAOYSA-N   \n",
              "393  DMYOHQBLOZMDLP-UHFFFAOYSA-N   \n",
              "179  GPNXIOHGRPOPIQ-UHFFFAOYSA-N   \n",
              "101  MNENUMVAFKDMEM-UHFFFAOYSA-N   \n",
              "38   JTVHIQJYLQMKRA-UHFFFAOYSA-N   \n",
              "\n",
              "                                                 input       maip    chemtb  \\\n",
              "136                  COc1cccc(Nc2nc(NCCO)c3ccccc3n2)c1  77.199020  0.096129   \n",
              "69                   Cc1ccc(Nc2nc(NCCO)c3ccccc3n2)cc1C  76.052500  0.088322   \n",
              "28                            CNCCCNc1ccnc2cc(Cl)ccc12  71.683020  0.087292   \n",
              "173             Clc1ccc2[nH]c3c(NCCCN4CCOCC4)ncnc3c2c1  68.270740  0.117942   \n",
              "353            CN1CCN(c2nc(Nc3ccc(O)cc3)nc3ccccc23)CC1  67.532530  0.082182   \n",
              "45                        CCN(CC)CCNc1ccnc2cc(Cl)ccc12  66.729360  0.085380   \n",
              "16               Fc1ccc2[nH]c3c(NCCCN4CCOCC4)ncnc3c2c1  64.947160  0.148015   \n",
              "223                  CN(C)CCNc1cc(-c2ccccc2)nc2ccccc12  55.696774  0.110157   \n",
              "232              CN1CCN(c2ncnc3c2[nH]c2ccc(Cl)cc23)CC1  54.192310  0.074371   \n",
              "177                Clc1cc(Br)ccc1-c1ccc(CNCC2CCNCC2)o1  48.810190  0.146462   \n",
              "27                       CN(C)CCCNc1c2ccccc2nc2ccccc12  48.005375  0.094058   \n",
              "112                CN(C)c1ccc(-c2nc3cc(N)ccc3[nH]2)cc1  46.979824  0.075029   \n",
              "155  CCCN(CCC)CCCNC(=O)c1cc2c(-c3ccc(OC)c(OC)c3)nn(...  46.587060  0.371476   \n",
              "161         CN1CCN(c2c3c(c(C#N)c4nc5ccccc5n24)CCC3)CC1  45.346584  0.113366   \n",
              "234                CN(C)CCCNCc1ccc(-c2ccc(F)c(Cl)c2)o1  44.281100  0.218054   \n",
              "255     O=C(NCCCN1CCC(N2CCCCC2)CC1)C1=Cc2cc(Br)ccc2OC1  42.608395  0.178332   \n",
              "227                          Clc1ccc2c(N3CCCC3)ccnc2c1  41.572598  0.115778   \n",
              "75                      C[n+]1c2ccccc2nc2ccc(NCCO)cc21  40.801212  0.179829   \n",
              "244  CCN1CCN(c2c(C(=O)c3ccccc3)cnc3cc(OC)c(OC)cc23)CC1  39.722680  0.087443   \n",
              "268                  CC(C)CCNCC(O)Cn1c2ccccc2c2ccccc21  38.852470  0.166164   \n",
              "189             CC(C)(C)CC(C)(C)NCC(O)COc1ccc(Cl)cc1Cl  35.966760  0.097334   \n",
              "123   C=C(C)CCC(C)N1CCC(N2CCC(C(=O)NCCc3ccccc3)CC2)CC1  35.262817  0.089912   \n",
              "220                CN(C)c1ccc(N2C(N)=NC(N)=NC2(C)C)cc1  34.748528  0.085476   \n",
              "113       COc1cccc(O)c1CN1CCC2(CCCN(Cc3ccc(F)cc3)C2)C1  34.593307  0.267995   \n",
              "51                  OC(CNC1CCCCC1)Cn1c2ccccc2c2ccccc21  33.462337  0.133453   \n",
              "218                     CC(C)c1ccc(CNCC(O)c2ccccc2)cc1  32.928440  0.085591   \n",
              "138              CCOc1c(Cl)cc(CNC(C)C(O)c2ccccc2)cc1OC  32.923084  0.088812   \n",
              "210                 CCOc1c(Cl)cc(CNCC(O)c2ccccc2)cc1OC  32.784878  0.099771   \n",
              "175                  OC(CNC1CCCC1)Cn1c2ccccc2c2ccccc21  32.555443  0.132124   \n",
              "393             O=C(CCc1ccccc1)c1ccccc1OCC(O)CN1CCCCC1  32.185913  0.121629   \n",
              "179             CCOc1cc(CNC(C)C(O)c2ccccc2)cc(Cl)c1OCC  31.717377  0.096255   \n",
              "101               CCCCNCC(O)(c1ccc(Cl)cc1)c1ccc(Cl)cc1  31.381207  0.103332   \n",
              "38                     CC(C)(C)c1ccc(O)c(CNC2CCCCC2)c1  30.025620  0.102330   \n",
              "\n",
              "        antib      herg        ra    sol         np  \n",
              "136  0.005617  5.501676  0.987168 -3.457  -9.260608  \n",
              "69   0.006066  5.449112  0.988130 -3.743  -7.866877  \n",
              "28   0.025201  4.933387  0.995203 -2.180  -4.078742  \n",
              "173  0.004766  5.592291  0.989207 -3.008  -7.842378  \n",
              "353  0.018570  5.683293  0.991483 -3.408 -10.478223  \n",
              "45   0.003050  4.903500  0.995497 -2.739  -0.870375  \n",
              "16   0.006703  5.456995  0.988431 -2.814 -11.087439  \n",
              "223  0.034502  5.456350  0.994855 -3.473  -5.867619  \n",
              "232  0.035833  5.215706  0.990962 -2.866  -8.694688  \n",
              "177  0.015274  5.630806  0.994923 -3.047 -11.417738  \n",
              "27   0.064189  5.506955  0.983863 -3.141  -7.165129  \n",
              "112  0.003503  4.718499  0.997402 -3.714 -12.160491  \n",
              "155  0.021326  5.606064  0.988686 -3.936  -2.413084  \n",
              "161  0.203246  5.806401  0.921566 -3.814 -12.594992  \n",
              "234  0.022371  5.828522  0.997862 -2.734 -11.333208  \n",
              "255  0.003523  5.544780  0.997914 -3.255  -8.213172  \n",
              "227  0.004607  5.256718  0.994825 -3.445  -7.089103  \n",
              "75   0.008458  5.380053  0.858313 -2.342  -8.736360  \n",
              "244  0.023100  5.119519  0.986288 -3.771  -5.514531  \n",
              "268  0.008649  5.866611  0.995033 -2.999  -2.156319  \n",
              "189  0.019278  5.202815  0.994795 -3.431  -8.429469  \n",
              "123  0.001536  4.747145  0.984729 -3.444  -9.682134  \n",
              "220  0.006819  5.341333  0.984188 -2.132  -4.403694  \n",
              "113  0.005204  4.590267  0.988514 -3.454   0.037370  \n",
              "51   0.007313  5.576195  0.991662 -3.403  -6.512444  \n",
              "218  0.003206  5.090090  0.996446 -2.493 -10.789006  \n",
              "138  0.018218  5.362716  0.993896 -3.224 -11.771595  \n",
              "210  0.014007  5.523868  0.997639 -2.969 -11.763398  \n",
              "175  0.006049  5.556242  0.992296 -3.127  -6.478551  \n",
              "393  0.003246  5.217811  0.996679 -3.625  -7.124426  \n",
              "179  0.029313  5.463459  0.994591 -3.547 -11.135876  \n",
              "101  0.014131  5.870461  0.992879 -3.455 -11.142045  \n",
              "38   0.003417  5.304744  0.993854 -3.310  -6.104392  "
            ],
            "text/html": [
              "\n",
              "  <div id=\"df-b9bc4d2b-cb72-4c17-a306-493210713934\">\n",
              "    <div class=\"colab-df-container\">\n",
              "      <div>\n",
              "<style scoped>\n",
              "    .dataframe tbody tr th:only-of-type {\n",
              "        vertical-align: middle;\n",
              "    }\n",
              "\n",
              "    .dataframe tbody tr th {\n",
              "        vertical-align: top;\n",
              "    }\n",
              "\n",
              "    .dataframe thead th {\n",
              "        text-align: right;\n",
              "    }\n",
              "</style>\n",
              "<table border=\"1\" class=\"dataframe\">\n",
              "  <thead>\n",
              "    <tr style=\"text-align: right;\">\n",
              "      <th></th>\n",
              "      <th>key</th>\n",
              "      <th>input</th>\n",
              "      <th>maip</th>\n",
              "      <th>chemtb</th>\n",
              "      <th>antib</th>\n",
              "      <th>herg</th>\n",
              "      <th>ra</th>\n",
              "      <th>sol</th>\n",
              "      <th>np</th>\n",
              "    </tr>\n",
              "  </thead>\n",
              "  <tbody>\n",
              "    <tr>\n",
              "      <th>136</th>\n",
              "      <td>HPFVQAYLQOSFOL-UHFFFAOYSA-N</td>\n",
              "      <td>COc1cccc(Nc2nc(NCCO)c3ccccc3n2)c1</td>\n",
              "      <td>77.199020</td>\n",
              "      <td>0.096129</td>\n",
              "      <td>0.005617</td>\n",
              "      <td>5.501676</td>\n",
              "      <td>0.987168</td>\n",
              "      <td>-3.457</td>\n",
              "      <td>-9.260608</td>\n",
              "    </tr>\n",
              "    <tr>\n",
              "      <th>69</th>\n",
              "      <td>RHZLKBRFIAZMTN-UHFFFAOYSA-N</td>\n",
              "      <td>Cc1ccc(Nc2nc(NCCO)c3ccccc3n2)cc1C</td>\n",
              "      <td>76.052500</td>\n",
              "      <td>0.088322</td>\n",
              "      <td>0.006066</td>\n",
              "      <td>5.449112</td>\n",
              "      <td>0.988130</td>\n",
              "      <td>-3.743</td>\n",
              "      <td>-7.866877</td>\n",
              "    </tr>\n",
              "    <tr>\n",
              "      <th>28</th>\n",
              "      <td>DSQFFQFYQVGMPS-UHFFFAOYSA-N</td>\n",
              "      <td>CNCCCNc1ccnc2cc(Cl)ccc12</td>\n",
              "      <td>71.683020</td>\n",
              "      <td>0.087292</td>\n",
              "      <td>0.025201</td>\n",
              "      <td>4.933387</td>\n",
              "      <td>0.995203</td>\n",
              "      <td>-2.180</td>\n",
              "      <td>-4.078742</td>\n",
              "    </tr>\n",
              "    <tr>\n",
              "      <th>173</th>\n",
              "      <td>ULJISGNQAXNPOC-UHFFFAOYSA-N</td>\n",
              "      <td>Clc1ccc2[nH]c3c(NCCCN4CCOCC4)ncnc3c2c1</td>\n",
              "      <td>68.270740</td>\n",
              "      <td>0.117942</td>\n",
              "      <td>0.004766</td>\n",
              "      <td>5.592291</td>\n",
              "      <td>0.989207</td>\n",
              "      <td>-3.008</td>\n",
              "      <td>-7.842378</td>\n",
              "    </tr>\n",
              "    <tr>\n",
              "      <th>353</th>\n",
              "      <td>VTHMRLOUPKJVSL-UHFFFAOYSA-N</td>\n",
              "      <td>CN1CCN(c2nc(Nc3ccc(O)cc3)nc3ccccc23)CC1</td>\n",
              "      <td>67.532530</td>\n",
              "      <td>0.082182</td>\n",
              "      <td>0.018570</td>\n",
              "      <td>5.683293</td>\n",
              "      <td>0.991483</td>\n",
              "      <td>-3.408</td>\n",
              "      <td>-10.478223</td>\n",
              "    </tr>\n",
              "    <tr>\n",
              "      <th>45</th>\n",
              "      <td>OJGAAQMNLKYWSQ-UHFFFAOYSA-N</td>\n",
              "      <td>CCN(CC)CCNc1ccnc2cc(Cl)ccc12</td>\n",
              "      <td>66.729360</td>\n",
              "      <td>0.085380</td>\n",
              "      <td>0.003050</td>\n",
              "      <td>4.903500</td>\n",
              "      <td>0.995497</td>\n",
              "      <td>-2.739</td>\n",
              "      <td>-0.870375</td>\n",
              "    </tr>\n",
              "    <tr>\n",
              "      <th>16</th>\n",
              "      <td>YUNBRHOGRKHXNG-UHFFFAOYSA-N</td>\n",
              "      <td>Fc1ccc2[nH]c3c(NCCCN4CCOCC4)ncnc3c2c1</td>\n",
              "      <td>64.947160</td>\n",
              "      <td>0.148015</td>\n",
              "      <td>0.006703</td>\n",
              "      <td>5.456995</td>\n",
              "      <td>0.988431</td>\n",
              "      <td>-2.814</td>\n",
              "      <td>-11.087439</td>\n",
              "    </tr>\n",
              "    <tr>\n",
              "      <th>223</th>\n",
              "      <td>QWAVSGXBYFASKZ-UHFFFAOYSA-N</td>\n",
              "      <td>CN(C)CCNc1cc(-c2ccccc2)nc2ccccc12</td>\n",
              "      <td>55.696774</td>\n",
              "      <td>0.110157</td>\n",
              "      <td>0.034502</td>\n",
              "      <td>5.456350</td>\n",
              "      <td>0.994855</td>\n",
              "      <td>-3.473</td>\n",
              "      <td>-5.867619</td>\n",
              "    </tr>\n",
              "    <tr>\n",
              "      <th>232</th>\n",
              "      <td>YVFMXQOVHCJUFX-UHFFFAOYSA-N</td>\n",
              "      <td>CN1CCN(c2ncnc3c2[nH]c2ccc(Cl)cc23)CC1</td>\n",
              "      <td>54.192310</td>\n",
              "      <td>0.074371</td>\n",
              "      <td>0.035833</td>\n",
              "      <td>5.215706</td>\n",
              "      <td>0.990962</td>\n",
              "      <td>-2.866</td>\n",
              "      <td>-8.694688</td>\n",
              "    </tr>\n",
              "    <tr>\n",
              "      <th>177</th>\n",
              "      <td>VFFXYVJKHGENTG-UHFFFAOYSA-N</td>\n",
              "      <td>Clc1cc(Br)ccc1-c1ccc(CNCC2CCNCC2)o1</td>\n",
              "      <td>48.810190</td>\n",
              "      <td>0.146462</td>\n",
              "      <td>0.015274</td>\n",
              "      <td>5.630806</td>\n",
              "      <td>0.994923</td>\n",
              "      <td>-3.047</td>\n",
              "      <td>-11.417738</td>\n",
              "    </tr>\n",
              "    <tr>\n",
              "      <th>27</th>\n",
              "      <td>VJGUBCUGFXDMEX-UHFFFAOYSA-N</td>\n",
              "      <td>CN(C)CCCNc1c2ccccc2nc2ccccc12</td>\n",
              "      <td>48.005375</td>\n",
              "      <td>0.094058</td>\n",
              "      <td>0.064189</td>\n",
              "      <td>5.506955</td>\n",
              "      <td>0.983863</td>\n",
              "      <td>-3.141</td>\n",
              "      <td>-7.165129</td>\n",
              "    </tr>\n",
              "    <tr>\n",
              "      <th>112</th>\n",
              "      <td>MYBHZNWJSKGXNY-UHFFFAOYSA-N</td>\n",
              "      <td>CN(C)c1ccc(-c2nc3cc(N)ccc3[nH]2)cc1</td>\n",
              "      <td>46.979824</td>\n",
              "      <td>0.075029</td>\n",
              "      <td>0.003503</td>\n",
              "      <td>4.718499</td>\n",
              "      <td>0.997402</td>\n",
              "      <td>-3.714</td>\n",
              "      <td>-12.160491</td>\n",
              "    </tr>\n",
              "    <tr>\n",
              "      <th>155</th>\n",
              "      <td>LEJZVWKPAYYUCZ-UHFFFAOYSA-N</td>\n",
              "      <td>CCCN(CCC)CCCNC(=O)c1cc2c(-c3ccc(OC)c(OC)c3)nn(...</td>\n",
              "      <td>46.587060</td>\n",
              "      <td>0.371476</td>\n",
              "      <td>0.021326</td>\n",
              "      <td>5.606064</td>\n",
              "      <td>0.988686</td>\n",
              "      <td>-3.936</td>\n",
              "      <td>-2.413084</td>\n",
              "    </tr>\n",
              "    <tr>\n",
              "      <th>161</th>\n",
              "      <td>GHWWPKGEXYATFJ-UHFFFAOYSA-N</td>\n",
              "      <td>CN1CCN(c2c3c(c(C#N)c4nc5ccccc5n24)CCC3)CC1</td>\n",
              "      <td>45.346584</td>\n",
              "      <td>0.113366</td>\n",
              "      <td>0.203246</td>\n",
              "      <td>5.806401</td>\n",
              "      <td>0.921566</td>\n",
              "      <td>-3.814</td>\n",
              "      <td>-12.594992</td>\n",
              "    </tr>\n",
              "    <tr>\n",
              "      <th>234</th>\n",
              "      <td>YIQFCULBVMFGTR-UHFFFAOYSA-N</td>\n",
              "      <td>CN(C)CCCNCc1ccc(-c2ccc(F)c(Cl)c2)o1</td>\n",
              "      <td>44.281100</td>\n",
              "      <td>0.218054</td>\n",
              "      <td>0.022371</td>\n",
              "      <td>5.828522</td>\n",
              "      <td>0.997862</td>\n",
              "      <td>-2.734</td>\n",
              "      <td>-11.333208</td>\n",
              "    </tr>\n",
              "    <tr>\n",
              "      <th>255</th>\n",
              "      <td>SNLLGJBMDQWSKR-UHFFFAOYSA-N</td>\n",
              "      <td>O=C(NCCCN1CCC(N2CCCCC2)CC1)C1=Cc2cc(Br)ccc2OC1</td>\n",
              "      <td>42.608395</td>\n",
              "      <td>0.178332</td>\n",
              "      <td>0.003523</td>\n",
              "      <td>5.544780</td>\n",
              "      <td>0.997914</td>\n",
              "      <td>-3.255</td>\n",
              "      <td>-8.213172</td>\n",
              "    </tr>\n",
              "    <tr>\n",
              "      <th>227</th>\n",
              "      <td>RKVBRQUSBUXPGZ-UHFFFAOYSA-N</td>\n",
              "      <td>Clc1ccc2c(N3CCCC3)ccnc2c1</td>\n",
              "      <td>41.572598</td>\n",
              "      <td>0.115778</td>\n",
              "      <td>0.004607</td>\n",
              "      <td>5.256718</td>\n",
              "      <td>0.994825</td>\n",
              "      <td>-3.445</td>\n",
              "      <td>-7.089103</td>\n",
              "    </tr>\n",
              "    <tr>\n",
              "      <th>75</th>\n",
              "      <td>UFFSSWFJZSCGMP-UHFFFAOYSA-O</td>\n",
              "      <td>C[n+]1c2ccccc2nc2ccc(NCCO)cc21</td>\n",
              "      <td>40.801212</td>\n",
              "      <td>0.179829</td>\n",
              "      <td>0.008458</td>\n",
              "      <td>5.380053</td>\n",
              "      <td>0.858313</td>\n",
              "      <td>-2.342</td>\n",
              "      <td>-8.736360</td>\n",
              "    </tr>\n",
              "    <tr>\n",
              "      <th>244</th>\n",
              "      <td>AQPNTDLFSJHABR-UHFFFAOYSA-N</td>\n",
              "      <td>CCN1CCN(c2c(C(=O)c3ccccc3)cnc3cc(OC)c(OC)cc23)CC1</td>\n",
              "      <td>39.722680</td>\n",
              "      <td>0.087443</td>\n",
              "      <td>0.023100</td>\n",
              "      <td>5.119519</td>\n",
              "      <td>0.986288</td>\n",
              "      <td>-3.771</td>\n",
              "      <td>-5.514531</td>\n",
              "    </tr>\n",
              "    <tr>\n",
              "      <th>268</th>\n",
              "      <td>RILRKUIAPLEMSF-UHFFFAOYSA-N</td>\n",
              "      <td>CC(C)CCNCC(O)Cn1c2ccccc2c2ccccc21</td>\n",
              "      <td>38.852470</td>\n",
              "      <td>0.166164</td>\n",
              "      <td>0.008649</td>\n",
              "      <td>5.866611</td>\n",
              "      <td>0.995033</td>\n",
              "      <td>-2.999</td>\n",
              "      <td>-2.156319</td>\n",
              "    </tr>\n",
              "    <tr>\n",
              "      <th>189</th>\n",
              "      <td>LGSFGFSFIHSWAC-UHFFFAOYSA-N</td>\n",
              "      <td>CC(C)(C)CC(C)(C)NCC(O)COc1ccc(Cl)cc1Cl</td>\n",
              "      <td>35.966760</td>\n",
              "      <td>0.097334</td>\n",
              "      <td>0.019278</td>\n",
              "      <td>5.202815</td>\n",
              "      <td>0.994795</td>\n",
              "      <td>-3.431</td>\n",
              "      <td>-8.429469</td>\n",
              "    </tr>\n",
              "    <tr>\n",
              "      <th>123</th>\n",
              "      <td>YOPKSOBTIYZVAH-UHFFFAOYSA-N</td>\n",
              "      <td>C=C(C)CCC(C)N1CCC(N2CCC(C(=O)NCCc3ccccc3)CC2)CC1</td>\n",
              "      <td>35.262817</td>\n",
              "      <td>0.089912</td>\n",
              "      <td>0.001536</td>\n",
              "      <td>4.747145</td>\n",
              "      <td>0.984729</td>\n",
              "      <td>-3.444</td>\n",
              "      <td>-9.682134</td>\n",
              "    </tr>\n",
              "    <tr>\n",
              "      <th>220</th>\n",
              "      <td>KSAUAMZGQWQPHW-UHFFFAOYSA-N</td>\n",
              "      <td>CN(C)c1ccc(N2C(N)=NC(N)=NC2(C)C)cc1</td>\n",
              "      <td>34.748528</td>\n",
              "      <td>0.085476</td>\n",
              "      <td>0.006819</td>\n",
              "      <td>5.341333</td>\n",
              "      <td>0.984188</td>\n",
              "      <td>-2.132</td>\n",
              "      <td>-4.403694</td>\n",
              "    </tr>\n",
              "    <tr>\n",
              "      <th>113</th>\n",
              "      <td>JDDWQQMMYFXZHN-UHFFFAOYSA-N</td>\n",
              "      <td>COc1cccc(O)c1CN1CCC2(CCCN(Cc3ccc(F)cc3)C2)C1</td>\n",
              "      <td>34.593307</td>\n",
              "      <td>0.267995</td>\n",
              "      <td>0.005204</td>\n",
              "      <td>4.590267</td>\n",
              "      <td>0.988514</td>\n",
              "      <td>-3.454</td>\n",
              "      <td>0.037370</td>\n",
              "    </tr>\n",
              "    <tr>\n",
              "      <th>51</th>\n",
              "      <td>VKKYZYNAWYQWQN-UHFFFAOYSA-N</td>\n",
              "      <td>OC(CNC1CCCCC1)Cn1c2ccccc2c2ccccc21</td>\n",
              "      <td>33.462337</td>\n",
              "      <td>0.133453</td>\n",
              "      <td>0.007313</td>\n",
              "      <td>5.576195</td>\n",
              "      <td>0.991662</td>\n",
              "      <td>-3.403</td>\n",
              "      <td>-6.512444</td>\n",
              "    </tr>\n",
              "    <tr>\n",
              "      <th>218</th>\n",
              "      <td>ABAYPBNJVATNDZ-UHFFFAOYSA-N</td>\n",
              "      <td>CC(C)c1ccc(CNCC(O)c2ccccc2)cc1</td>\n",
              "      <td>32.928440</td>\n",
              "      <td>0.085591</td>\n",
              "      <td>0.003206</td>\n",
              "      <td>5.090090</td>\n",
              "      <td>0.996446</td>\n",
              "      <td>-2.493</td>\n",
              "      <td>-10.789006</td>\n",
              "    </tr>\n",
              "    <tr>\n",
              "      <th>138</th>\n",
              "      <td>XSOXWLLLSNOJGJ-UHFFFAOYSA-N</td>\n",
              "      <td>CCOc1c(Cl)cc(CNC(C)C(O)c2ccccc2)cc1OC</td>\n",
              "      <td>32.923084</td>\n",
              "      <td>0.088812</td>\n",
              "      <td>0.018218</td>\n",
              "      <td>5.362716</td>\n",
              "      <td>0.993896</td>\n",
              "      <td>-3.224</td>\n",
              "      <td>-11.771595</td>\n",
              "    </tr>\n",
              "    <tr>\n",
              "      <th>210</th>\n",
              "      <td>XVXWWBFSBXFBOS-UHFFFAOYSA-N</td>\n",
              "      <td>CCOc1c(Cl)cc(CNCC(O)c2ccccc2)cc1OC</td>\n",
              "      <td>32.784878</td>\n",
              "      <td>0.099771</td>\n",
              "      <td>0.014007</td>\n",
              "      <td>5.523868</td>\n",
              "      <td>0.997639</td>\n",
              "      <td>-2.969</td>\n",
              "      <td>-11.763398</td>\n",
              "    </tr>\n",
              "    <tr>\n",
              "      <th>175</th>\n",
              "      <td>UIWHEXAVANZGHK-UHFFFAOYSA-N</td>\n",
              "      <td>OC(CNC1CCCC1)Cn1c2ccccc2c2ccccc21</td>\n",
              "      <td>32.555443</td>\n",
              "      <td>0.132124</td>\n",
              "      <td>0.006049</td>\n",
              "      <td>5.556242</td>\n",
              "      <td>0.992296</td>\n",
              "      <td>-3.127</td>\n",
              "      <td>-6.478551</td>\n",
              "    </tr>\n",
              "    <tr>\n",
              "      <th>393</th>\n",
              "      <td>DMYOHQBLOZMDLP-UHFFFAOYSA-N</td>\n",
              "      <td>O=C(CCc1ccccc1)c1ccccc1OCC(O)CN1CCCCC1</td>\n",
              "      <td>32.185913</td>\n",
              "      <td>0.121629</td>\n",
              "      <td>0.003246</td>\n",
              "      <td>5.217811</td>\n",
              "      <td>0.996679</td>\n",
              "      <td>-3.625</td>\n",
              "      <td>-7.124426</td>\n",
              "    </tr>\n",
              "    <tr>\n",
              "      <th>179</th>\n",
              "      <td>GPNXIOHGRPOPIQ-UHFFFAOYSA-N</td>\n",
              "      <td>CCOc1cc(CNC(C)C(O)c2ccccc2)cc(Cl)c1OCC</td>\n",
              "      <td>31.717377</td>\n",
              "      <td>0.096255</td>\n",
              "      <td>0.029313</td>\n",
              "      <td>5.463459</td>\n",
              "      <td>0.994591</td>\n",
              "      <td>-3.547</td>\n",
              "      <td>-11.135876</td>\n",
              "    </tr>\n",
              "    <tr>\n",
              "      <th>101</th>\n",
              "      <td>MNENUMVAFKDMEM-UHFFFAOYSA-N</td>\n",
              "      <td>CCCCNCC(O)(c1ccc(Cl)cc1)c1ccc(Cl)cc1</td>\n",
              "      <td>31.381207</td>\n",
              "      <td>0.103332</td>\n",
              "      <td>0.014131</td>\n",
              "      <td>5.870461</td>\n",
              "      <td>0.992879</td>\n",
              "      <td>-3.455</td>\n",
              "      <td>-11.142045</td>\n",
              "    </tr>\n",
              "    <tr>\n",
              "      <th>38</th>\n",
              "      <td>JTVHIQJYLQMKRA-UHFFFAOYSA-N</td>\n",
              "      <td>CC(C)(C)c1ccc(O)c(CNC2CCCCC2)c1</td>\n",
              "      <td>30.025620</td>\n",
              "      <td>0.102330</td>\n",
              "      <td>0.003417</td>\n",
              "      <td>5.304744</td>\n",
              "      <td>0.993854</td>\n",
              "      <td>-3.310</td>\n",
              "      <td>-6.104392</td>\n",
              "    </tr>\n",
              "  </tbody>\n",
              "</table>\n",
              "</div>\n",
              "      <button class=\"colab-df-convert\" onclick=\"convertToInteractive('df-b9bc4d2b-cb72-4c17-a306-493210713934')\"\n",
              "              title=\"Convert this dataframe to an interactive table.\"\n",
              "              style=\"display:none;\">\n",
              "        \n",
              "  <svg xmlns=\"http://www.w3.org/2000/svg\" height=\"24px\"viewBox=\"0 0 24 24\"\n",
              "       width=\"24px\">\n",
              "    <path d=\"M0 0h24v24H0V0z\" fill=\"none\"/>\n",
              "    <path d=\"M18.56 5.44l.94 2.06.94-2.06 2.06-.94-2.06-.94-.94-2.06-.94 2.06-2.06.94zm-11 1L8.5 8.5l.94-2.06 2.06-.94-2.06-.94L8.5 2.5l-.94 2.06-2.06.94zm10 10l.94 2.06.94-2.06 2.06-.94-2.06-.94-.94-2.06-.94 2.06-2.06.94z\"/><path d=\"M17.41 7.96l-1.37-1.37c-.4-.4-.92-.59-1.43-.59-.52 0-1.04.2-1.43.59L10.3 9.45l-7.72 7.72c-.78.78-.78 2.05 0 2.83L4 21.41c.39.39.9.59 1.41.59.51 0 1.02-.2 1.41-.59l7.78-7.78 2.81-2.81c.8-.78.8-2.07 0-2.86zM5.41 20L4 18.59l7.72-7.72 1.47 1.35L5.41 20z\"/>\n",
              "  </svg>\n",
              "      </button>\n",
              "      \n",
              "  <style>\n",
              "    .colab-df-container {\n",
              "      display:flex;\n",
              "      flex-wrap:wrap;\n",
              "      gap: 12px;\n",
              "    }\n",
              "\n",
              "    .colab-df-convert {\n",
              "      background-color: #E8F0FE;\n",
              "      border: none;\n",
              "      border-radius: 50%;\n",
              "      cursor: pointer;\n",
              "      display: none;\n",
              "      fill: #1967D2;\n",
              "      height: 32px;\n",
              "      padding: 0 0 0 0;\n",
              "      width: 32px;\n",
              "    }\n",
              "\n",
              "    .colab-df-convert:hover {\n",
              "      background-color: #E2EBFA;\n",
              "      box-shadow: 0px 1px 2px rgba(60, 64, 67, 0.3), 0px 1px 3px 1px rgba(60, 64, 67, 0.15);\n",
              "      fill: #174EA6;\n",
              "    }\n",
              "\n",
              "    [theme=dark] .colab-df-convert {\n",
              "      background-color: #3B4455;\n",
              "      fill: #D2E3FC;\n",
              "    }\n",
              "\n",
              "    [theme=dark] .colab-df-convert:hover {\n",
              "      background-color: #434B5C;\n",
              "      box-shadow: 0px 1px 3px 1px rgba(0, 0, 0, 0.15);\n",
              "      filter: drop-shadow(0px 1px 2px rgba(0, 0, 0, 0.3));\n",
              "      fill: #FFFFFF;\n",
              "    }\n",
              "  </style>\n",
              "\n",
              "      <script>\n",
              "        const buttonEl =\n",
              "          document.querySelector('#df-b9bc4d2b-cb72-4c17-a306-493210713934 button.colab-df-convert');\n",
              "        buttonEl.style.display =\n",
              "          google.colab.kernel.accessAllowed ? 'block' : 'none';\n",
              "\n",
              "        async function convertToInteractive(key) {\n",
              "          const element = document.querySelector('#df-b9bc4d2b-cb72-4c17-a306-493210713934');\n",
              "          const dataTable =\n",
              "            await google.colab.kernel.invokeFunction('convertToInteractive',\n",
              "                                                     [key], {});\n",
              "          if (!dataTable) return;\n",
              "\n",
              "          const docLinkHtml = 'Like what you see? Visit the ' +\n",
              "            '<a target=\"_blank\" href=https://colab.research.google.com/notebooks/data_table.ipynb>data table notebook</a>'\n",
              "            + ' to learn more about interactive tables.';\n",
              "          element.innerHTML = '';\n",
              "          dataTable['output_type'] = 'display_data';\n",
              "          await google.colab.output.renderOutput(dataTable, element);\n",
              "          const docLink = document.createElement('div');\n",
              "          docLink.innerHTML = docLinkHtml;\n",
              "          element.appendChild(docLink);\n",
              "        }\n",
              "      </script>\n",
              "    </div>\n",
              "  </div>\n",
              "  "
            ]
          },
          "metadata": {},
          "execution_count": 44
        }
      ]
    },
    {
      "cell_type": "code",
      "source": [
        "%%capture\n",
        "!pip install rdkit\n",
        "\n",
        "from rdkit import Chem\n",
        "from rdkit.Chem import Draw"
      ],
      "metadata": {
        "id": "hgzDw9dNSGuy"
      },
      "execution_count": 45,
      "outputs": []
    },
    {
      "cell_type": "code",
      "source": [
        "smiles=df[\"input\"][:10]\n",
        "mols = [Chem.MolFromSmiles(smi) for smi in smiles]\n",
        "Draw.MolsToGridImage(mols)"
      ],
      "metadata": {
        "colab": {
          "base_uri": "https://localhost:8080/",
          "height": 817
        },
        "id": "YGyKvunsRMrI",
        "outputId": "d25690d6-85bf-4b70-aab9-7eeb6504652b"
      },
      "execution_count": 46,
      "outputs": [
        {
          "output_type": "execute_result",
          "data": {
            "text/plain": [
              "<PIL.PngImagePlugin.PngImageFile image mode=RGB size=600x800 at 0x7F8223B8AE10>"
            ],
            "image/png": "[encoded data removed]"
          },
          "metadata": {},
          "execution_count": 46
        }
      ]
    }
  ]
}
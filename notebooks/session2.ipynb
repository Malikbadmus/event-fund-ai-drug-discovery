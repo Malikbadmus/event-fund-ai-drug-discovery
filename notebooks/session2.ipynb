{
  "nbformat": 4,
  "nbformat_minor": 0,
  "metadata": {
    "colab": {
      "provenance": [],
      "include_colab_link": true
    },
    "kernelspec": {
      "name": "python3",
      "display_name": "Python 3"
    },
    "language_info": {
      "name": "python"
    }
  },
  "cells": [
    {
      "cell_type": "markdown",
      "metadata": {
        "id": "view-in-github",
        "colab_type": "text"
      },
      "source": [
        "<a href=\"https://colab.research.google.com/github/ersilia-os/event-fund-ai-drug-discovery/blob/main/notebooks/session2.ipynb\" target=\"_parent\"><img src=\"https://colab.research.google.com/assets/colab-badge.svg\" alt=\"Open In Colab\"/></a>"
      ]
    },
    {
      "cell_type": "markdown",
      "source": [
        "# Session 2: \n",
        "In this session, we will use a simple dataset to train a basic Machine Learning Model and understand the steps involved in their development.\n",
        "\n",
        "*Disclaimer: this pipeline is an example prepared with curated data and should not be reproduced with the student's own datasets. The goal of this workshop is purely academic and does not represent a real research case study.*"
      ],
      "metadata": {
        "id": "yiTOUrB6KLim"
      }
    },
    {
      "cell_type": "markdown",
      "source": [
        "## 1. Data Preparation\n",
        "\n",
        "We will model a critical step in the drug discovery development, **cardiotoxicty due to hERG blockade**. hERG is a potassium channel whose blockage causes prolongued QT intervals and eventually cardiotoxicity, and is one of the major adverse drug reactions that cause compound attrition in the drug discovery pipelines. Therefore, it is essential to identify putative hERG blockers early on the drug discovery cascade.\n",
        "\n",
        "In this exercise, we will leverage the [Therapeutics Data Commons](https://tdcommons.ai/) database, an open science effort to collect AI-ready datasets for biomedical questions (read more on its [publication](https://arxiv.org/abs/2102.09548)).\n",
        "\n",
        "The data cleaning steps discussed in Session 1 have already been done for the TDC data, so we can focus directly on the generation of a ML model to predict hERG blocking activity."
      ],
      "metadata": {
        "id": "XLV1joI8MK51"
      }
    },
    {
      "cell_type": "code",
      "source": [
        "%%capture\n",
        "\n",
        "#TDC can be installed and accessed as a Python package\n",
        "!pip install PyTDC"
      ],
      "metadata": {
        "id": "O-2d8HaIbBM4"
      },
      "execution_count": 2,
      "outputs": []
    },
    {
      "cell_type": "code",
      "source": [
        "# import the hERG dataset, part of the Toxicity data available at TDC\n",
        "from tdc.single_pred import Tox\n",
        "data = Tox(name = \"hERG\")"
      ],
      "metadata": {
        "colab": {
          "base_uri": "https://localhost:8080/"
        },
        "id": "UBWci-dnQZad",
        "outputId": "f5e20623-d6ea-4d39-8d69-30d368d8f070"
      },
      "execution_count": 3,
      "outputs": [
        {
          "output_type": "stream",
          "name": "stderr",
          "text": [
            "Downloading...\n",
            "100%|██████████| 50.2k/50.2k [00:00<00:00, 2.33MiB/s]\n",
            "Loading...\n",
            "Done!\n"
          ]
        }
      ]
    },
    {
      "cell_type": "code",
      "source": [
        "#check what is the \"data\" we have loaded\n",
        "data"
      ],
      "metadata": {
        "colab": {
          "base_uri": "https://localhost:8080/"
        },
        "id": "B3FIYWyUQlyD",
        "outputId": "0ae99e68-2cbe-4abd-8a72-005c347e7011"
      },
      "execution_count": 4,
      "outputs": [
        {
          "output_type": "execute_result",
          "data": {
            "text/plain": [
              "<tdc.single_pred.tox.Tox at 0x7fa1fdff1ad0>"
            ]
          },
          "metadata": {},
          "execution_count": 4
        }
      ]
    },
    {
      "cell_type": "markdown",
      "source": [
        "### 1.1 Data Splits\n",
        "We will start by splitting the data in 3 parts:\n",
        "\n",
        "*   Train: the portion of the dataset that will be used to train the model\n",
        "*   Valid: the validation set, which will be used during the modelling to assert and improve the performance of the algorithm\n",
        "*   Test: a portion of the dataset kept completely separated from the data used to train the model. We will use this to evaluate the final model performance.\n",
        "\n",
        "Usually, this process is done manually and must ensure that the three datasets are balanced (i.e. have an equal representation of positives and negatives and are representative of all the chemical space). \n",
        "\n",
        "For the purpose of the course, we will use the prepared TDC split which already guarantees the above conditions.\n"
      ],
      "metadata": {
        "id": "u7_4FYhnQ2um"
      }
    },
    {
      "cell_type": "code",
      "source": [
        "split = data.get_split()\n",
        "split.keys()"
      ],
      "metadata": {
        "colab": {
          "base_uri": "https://localhost:8080/"
        },
        "id": "IMdTSnWLQ2cy",
        "outputId": "c88da70d-d577-45ff-bc47-7de2d2448d5b"
      },
      "execution_count": 6,
      "outputs": [
        {
          "output_type": "execute_result",
          "data": {
            "text/plain": [
              "dict_keys(['train', 'valid', 'test'])"
            ]
          },
          "metadata": {},
          "execution_count": 6
        }
      ]
    },
    {
      "cell_type": "code",
      "source": [
        "#we can now separate the compressed dataset in the three sections\n",
        "train = split[\"train\"]\n",
        "valid = split[\"valid\"]\n",
        "test = split[\"test\"]"
      ],
      "metadata": {
        "id": "JA7R6Om3TWBZ"
      },
      "execution_count": 7,
      "outputs": []
    },
    {
      "cell_type": "code",
      "source": [
        "#we can check how many molecules we have in each set\n",
        "print(len(train))\n",
        "print(len(valid))\n",
        "print(len(test))"
      ],
      "metadata": {
        "colab": {
          "base_uri": "https://localhost:8080/"
        },
        "id": "ENcfLr9oQyxB",
        "outputId": "7374fdd6-53b3-42ca-e67f-6823925a3e48"
      },
      "execution_count": 8,
      "outputs": [
        {
          "output_type": "stream",
          "name": "stdout",
          "text": [
            "458\n",
            "66\n",
            "131\n"
          ]
        }
      ]
    },
    {
      "cell_type": "code",
      "source": [
        "#let's explore the data\n",
        "#by convention, the input (molecules in this case) is named X, and the output (bioactivity) is Y\n",
        "train.head() "
      ],
      "metadata": {
        "colab": {
          "base_uri": "https://localhost:8080/",
          "height": 206
        },
        "id": "raroUvgcUC6E",
        "outputId": "b11bafe4-aaeb-46fa-feb7-b2ea710bd32e"
      },
      "execution_count": 9,
      "outputs": [
        {
          "output_type": "execute_result",
          "data": {
            "text/plain": [
              "                    Drug_ID  \\\n",
              "0        DEMETHYLASTEMIZOLE   \n",
              "1                 GBR-12909   \n",
              "2       CLOFILIUM PHOSPHATE   \n",
              "3              FLUSPIRILENE   \n",
              "4  VANOXERINE HYDROCHLORIDE   \n",
              "\n",
              "                                                Drug    Y  \n",
              "0  Oc1ccc(CCN2CCC(Nc3nc4ccccc4n3Cc3ccc(F)cc3)CC2)cc1  1.0  \n",
              "1  Fc1ccc(C(OCC[NH+]2CC[NH+](CCCc3ccccc3)CC2)c2cc...  1.0  \n",
              "2  CCCCCCC[N+](CC)(CC)CCCCc1ccc(Cl)cc1.CCCCCCC[N+...  1.0  \n",
              "3  O=C1NCN(c2ccccc2)C12CC[NH+](CCCC(c1ccc(F)cc1)c...  1.0  \n",
              "4  Fc1ccc(C(OCCN2CCN(CCCc3ccccc3)CC2)c2ccc(F)cc2)cc1  1.0  "
            ],
            "text/html": [
              "\n",
              "  <div id=\"df-e042e650-3075-493e-9276-f49423df6ed3\">\n",
              "    <div class=\"colab-df-container\">\n",
              "      <div>\n",
              "<style scoped>\n",
              "    .dataframe tbody tr th:only-of-type {\n",
              "        vertical-align: middle;\n",
              "    }\n",
              "\n",
              "    .dataframe tbody tr th {\n",
              "        vertical-align: top;\n",
              "    }\n",
              "\n",
              "    .dataframe thead th {\n",
              "        text-align: right;\n",
              "    }\n",
              "</style>\n",
              "<table border=\"1\" class=\"dataframe\">\n",
              "  <thead>\n",
              "    <tr style=\"text-align: right;\">\n",
              "      <th></th>\n",
              "      <th>Drug_ID</th>\n",
              "      <th>Drug</th>\n",
              "      <th>Y</th>\n",
              "    </tr>\n",
              "  </thead>\n",
              "  <tbody>\n",
              "    <tr>\n",
              "      <th>0</th>\n",
              "      <td>DEMETHYLASTEMIZOLE</td>\n",
              "      <td>Oc1ccc(CCN2CCC(Nc3nc4ccccc4n3Cc3ccc(F)cc3)CC2)cc1</td>\n",
              "      <td>1.0</td>\n",
              "    </tr>\n",
              "    <tr>\n",
              "      <th>1</th>\n",
              "      <td>GBR-12909</td>\n",
              "      <td>Fc1ccc(C(OCC[NH+]2CC[NH+](CCCc3ccccc3)CC2)c2cc...</td>\n",
              "      <td>1.0</td>\n",
              "    </tr>\n",
              "    <tr>\n",
              "      <th>2</th>\n",
              "      <td>CLOFILIUM PHOSPHATE</td>\n",
              "      <td>CCCCCCC[N+](CC)(CC)CCCCc1ccc(Cl)cc1.CCCCCCC[N+...</td>\n",
              "      <td>1.0</td>\n",
              "    </tr>\n",
              "    <tr>\n",
              "      <th>3</th>\n",
              "      <td>FLUSPIRILENE</td>\n",
              "      <td>O=C1NCN(c2ccccc2)C12CC[NH+](CCCC(c1ccc(F)cc1)c...</td>\n",
              "      <td>1.0</td>\n",
              "    </tr>\n",
              "    <tr>\n",
              "      <th>4</th>\n",
              "      <td>VANOXERINE HYDROCHLORIDE</td>\n",
              "      <td>Fc1ccc(C(OCCN2CCN(CCCc3ccccc3)CC2)c2ccc(F)cc2)cc1</td>\n",
              "      <td>1.0</td>\n",
              "    </tr>\n",
              "  </tbody>\n",
              "</table>\n",
              "</div>\n",
              "      <button class=\"colab-df-convert\" onclick=\"convertToInteractive('df-e042e650-3075-493e-9276-f49423df6ed3')\"\n",
              "              title=\"Convert this dataframe to an interactive table.\"\n",
              "              style=\"display:none;\">\n",
              "        \n",
              "  <svg xmlns=\"http://www.w3.org/2000/svg\" height=\"24px\"viewBox=\"0 0 24 24\"\n",
              "       width=\"24px\">\n",
              "    <path d=\"M0 0h24v24H0V0z\" fill=\"none\"/>\n",
              "    <path d=\"M18.56 5.44l.94 2.06.94-2.06 2.06-.94-2.06-.94-.94-2.06-.94 2.06-2.06.94zm-11 1L8.5 8.5l.94-2.06 2.06-.94-2.06-.94L8.5 2.5l-.94 2.06-2.06.94zm10 10l.94 2.06.94-2.06 2.06-.94-2.06-.94-.94-2.06-.94 2.06-2.06.94z\"/><path d=\"M17.41 7.96l-1.37-1.37c-.4-.4-.92-.59-1.43-.59-.52 0-1.04.2-1.43.59L10.3 9.45l-7.72 7.72c-.78.78-.78 2.05 0 2.83L4 21.41c.39.39.9.59 1.41.59.51 0 1.02-.2 1.41-.59l7.78-7.78 2.81-2.81c.8-.78.8-2.07 0-2.86zM5.41 20L4 18.59l7.72-7.72 1.47 1.35L5.41 20z\"/>\n",
              "  </svg>\n",
              "      </button>\n",
              "      \n",
              "  <style>\n",
              "    .colab-df-container {\n",
              "      display:flex;\n",
              "      flex-wrap:wrap;\n",
              "      gap: 12px;\n",
              "    }\n",
              "\n",
              "    .colab-df-convert {\n",
              "      background-color: #E8F0FE;\n",
              "      border: none;\n",
              "      border-radius: 50%;\n",
              "      cursor: pointer;\n",
              "      display: none;\n",
              "      fill: #1967D2;\n",
              "      height: 32px;\n",
              "      padding: 0 0 0 0;\n",
              "      width: 32px;\n",
              "    }\n",
              "\n",
              "    .colab-df-convert:hover {\n",
              "      background-color: #E2EBFA;\n",
              "      box-shadow: 0px 1px 2px rgba(60, 64, 67, 0.3), 0px 1px 3px 1px rgba(60, 64, 67, 0.15);\n",
              "      fill: #174EA6;\n",
              "    }\n",
              "\n",
              "    [theme=dark] .colab-df-convert {\n",
              "      background-color: #3B4455;\n",
              "      fill: #D2E3FC;\n",
              "    }\n",
              "\n",
              "    [theme=dark] .colab-df-convert:hover {\n",
              "      background-color: #434B5C;\n",
              "      box-shadow: 0px 1px 3px 1px rgba(0, 0, 0, 0.15);\n",
              "      filter: drop-shadow(0px 1px 2px rgba(0, 0, 0, 0.3));\n",
              "      fill: #FFFFFF;\n",
              "    }\n",
              "  </style>\n",
              "\n",
              "      <script>\n",
              "        const buttonEl =\n",
              "          document.querySelector('#df-e042e650-3075-493e-9276-f49423df6ed3 button.colab-df-convert');\n",
              "        buttonEl.style.display =\n",
              "          google.colab.kernel.accessAllowed ? 'block' : 'none';\n",
              "\n",
              "        async function convertToInteractive(key) {\n",
              "          const element = document.querySelector('#df-e042e650-3075-493e-9276-f49423df6ed3');\n",
              "          const dataTable =\n",
              "            await google.colab.kernel.invokeFunction('convertToInteractive',\n",
              "                                                     [key], {});\n",
              "          if (!dataTable) return;\n",
              "\n",
              "          const docLinkHtml = 'Like what you see? Visit the ' +\n",
              "            '<a target=\"_blank\" href=https://colab.research.google.com/notebooks/data_table.ipynb>data table notebook</a>'\n",
              "            + ' to learn more about interactive tables.';\n",
              "          element.innerHTML = '';\n",
              "          dataTable['output_type'] = 'display_data';\n",
              "          await google.colab.output.renderOutput(dataTable, element);\n",
              "          const docLink = document.createElement('div');\n",
              "          docLink.innerHTML = docLinkHtml;\n",
              "          element.appendChild(docLink);\n",
              "        }\n",
              "      </script>\n",
              "    </div>\n",
              "  </div>\n",
              "  "
            ]
          },
          "metadata": {},
          "execution_count": 9
        }
      ]
    },
    {
      "cell_type": "code",
      "source": [
        "#we can check the number of positives and negatives in the train set\n",
        "print(len(train[train[\"Y\"]==0])) #not cardiotoxic\n",
        "print(len(train[train[\"Y\"]==1])) # cardiotoxic"
      ],
      "metadata": {
        "colab": {
          "base_uri": "https://localhost:8080/"
        },
        "id": "6IsUvtsyUQVQ",
        "outputId": "41a10a2c-1afb-43b9-afdd-97dc82e410d1"
      },
      "execution_count": 10,
      "outputs": [
        {
          "output_type": "stream",
          "name": "stdout",
          "text": [
            "148\n",
            "310\n"
          ]
        }
      ]
    },
    {
      "cell_type": "markdown",
      "source": [
        "### 1.2 Data Visualization\n",
        "Finally, before moving onto model training, we can leverage the Python Package RdKit, the largest open source toolbox for chemioinformatics, to explore a bit more the chemical structures of our data"
      ],
      "metadata": {
        "id": "2-ycwnIyUm1P"
      }
    },
    {
      "cell_type": "code",
      "source": [
        "%%capture\n",
        "#we first need to install rdkit in Google Colab and import the packages of interest\n",
        "!pip install rdkit\n",
        "\n",
        "from rdkit import Chem\n",
        "from rdkit.Chem import Draw"
      ],
      "metadata": {
        "id": "nKyz7CAdVCn8"
      },
      "execution_count": 11,
      "outputs": []
    },
    {
      "cell_type": "code",
      "source": [
        "#we select a list of smiles\n",
        "\n",
        "smiles = train[\"Drug\"][449:] # from the 449 to the end of the dataset\n",
        "smiles"
      ],
      "metadata": {
        "id": "JjQyRQBuVNX3",
        "colab": {
          "base_uri": "https://localhost:8080/"
        },
        "outputId": "d0959db8-8401-4066-cacd-0071f90f1c4c"
      },
      "execution_count": 12,
      "outputs": [
        {
          "output_type": "execute_result",
          "data": {
            "text/plain": [
              "449    CC1=C(CC(=O)[O-])c2cc(F)ccc2/C1=C\\c1ccc(S(C)=O...\n",
              "450            CNS(=O)(=O)Cc1ccc2c(c1)C(CC[NH+](C)C)C=N2\n",
              "451                   C[N+]1=NN=C2C(C(N)=O)=NC=[N+]2C1=O\n",
              "452                    CC(C)(C)[NH2+]CC(O)c1cc(O)cc(O)c1\n",
              "453             CC12CCC3C(CCC4=CC(=O)C=CC43C)C1CCC(=O)O2\n",
              "454                  O=C1CCC(N2C(=O)c3ccccc3C2=O)C(=O)N1\n",
              "455       O=P([O-])([O-])C(Sc1ccc(Cl)cc1)P(=O)([O-])[O-]\n",
              "456                         Clc1ccc2nsnc2c1NC1=[NH+]CCN1\n",
              "457      Cc1ccc(C(=O)c2cc(O)c([O-])c([N+](=O)[O-])c2)cc1\n",
              "Name: Drug, dtype: object"
            ]
          },
          "metadata": {},
          "execution_count": 12
        }
      ]
    },
    {
      "cell_type": "code",
      "source": [
        "#convert the smiles to RdKit Molecules (not readable by humans)\n",
        "mols = [Chem.MolFromSmiles(smi) for smi in smiles]\n",
        "mols[0] #again, we can check what is the \"mols\" we have created"
      ],
      "metadata": {
        "colab": {
          "base_uri": "https://localhost:8080/"
        },
        "id": "Z5lHvLc0VVz4",
        "outputId": "5d4a0e85-172b-4abd-f4ed-179027c8dd62"
      },
      "execution_count": 13,
      "outputs": [
        {
          "output_type": "execute_result",
          "data": {
            "text/plain": [
              "<rdkit.Chem.rdchem.Mol at 0x7fa16c9435d0>"
            ]
          },
          "metadata": {},
          "execution_count": 13
        }
      ]
    },
    {
      "cell_type": "code",
      "source": [
        "#use the Draw function to visualise the molecules\n",
        "Draw.MolsToGridImage(mols)"
      ],
      "metadata": {
        "colab": {
          "base_uri": "https://localhost:8080/",
          "height": 617
        },
        "id": "8qn54PERVdB0",
        "outputId": "f5abd6f8-93d1-40b0-ac65-eea05042659f"
      },
      "execution_count": 14,
      "outputs": [
        {
          "output_type": "execute_result",
          "data": {
            "text/plain": [
              "<PIL.PngImagePlugin.PngImageFile image mode=RGB size=600x600 at 0x7FA16C9A1F10>"
            ],
            "image/png": "[encoded data removed]"
          },
          "metadata": {},
          "execution_count": 14
        }
      ]
    },
    {
      "cell_type": "markdown",
      "source": [
        "## 2. Molecule Featurization\n",
        "\n",
        "To train an ML model, we need to be able to pass the molecules to the computer in a format that the computer can understand. That is, numerical vectors or images.\n",
        "\n",
        "In this case, we will use the Chemical Checker to create signatures encompassing not only structural characteristics but also the bioactivity profile of the molecules."
      ],
      "metadata": {
        "id": "vV6BEWeoWgtQ"
      }
    },
    {
      "cell_type": "code",
      "source": [
        "%%capture\n",
        "#first, we install the signaturizer and import it\n",
        "!pip install signaturizer\n",
        "from signaturizer import Signaturizer\n",
        "\n",
        "sign = Signaturizer(\"GLOBAL\")"
      ],
      "metadata": {
        "id": "qosoZqS0W6Ah"
      },
      "execution_count": 5,
      "outputs": []
    },
    {
      "cell_type": "code",
      "source": [
        "#we then convert the smiles (X)\n",
        "X_train = sign.predict(train[\"Drug\"]).signature"
      ],
      "metadata": {
        "colab": {
          "base_uri": "https://localhost:8080/"
        },
        "id": "A1iIZFVIXImL",
        "outputId": "3e7f16f2-6836-459d-a4d6-53813b0b8d3d"
      },
      "execution_count": 15,
      "outputs": [
        {
          "output_type": "stream",
          "name": "stderr",
          "text": [
            "Parsing SMILES: 458it [00:00, 1688.97it/s]\n",
            "Generating signatures: 100%|██████████| 4/4 [00:08<00:00,  2.11s/it]\n"
          ]
        }
      ]
    },
    {
      "cell_type": "code",
      "source": [
        "# we can see how a molecule in the train set has been converted to a vector\n",
        "X_train[0] #0 indicates the first molecule in the list"
      ],
      "metadata": {
        "colab": {
          "base_uri": "https://localhost:8080/"
        },
        "id": "1QmZFHvQXfM-",
        "outputId": "f96487e8-121f-4ea0-b94e-7b790059f3a0"
      },
      "execution_count": 16,
      "outputs": [
        {
          "output_type": "execute_result",
          "data": {
            "text/plain": [
              "array([-0.09308645,  0.09305048, -0.09294817, ..., -0.05613168,\n",
              "       -0.1379203 ,  0.05799835], dtype=float32)"
            ]
          },
          "metadata": {},
          "execution_count": 16
        }
      ]
    },
    {
      "cell_type": "code",
      "source": [
        "#we also convert the Validation and Test sets\n",
        "X_valid = sign.predict(valid[\"Drug\"]).signature\n",
        "X_test = sign.predict(test[\"Drug\"]).signature"
      ],
      "metadata": {
        "colab": {
          "base_uri": "https://localhost:8080/"
        },
        "id": "-eht7y1vXbvY",
        "outputId": "1ea65d30-4e09-4b4d-84ae-2f448756335a"
      },
      "execution_count": 17,
      "outputs": [
        {
          "output_type": "stream",
          "name": "stderr",
          "text": [
            "Parsing SMILES: 66it [00:00, 3787.86it/s]\n",
            "Generating signatures: 100%|██████████| 1/1 [00:00<00:00,  1.80it/s]\n",
            "Parsing SMILES: 131it [00:00, 4391.38it/s]\n",
            "Generating signatures: 100%|██████████| 2/2 [00:01<00:00,  1.81it/s]\n"
          ]
        }
      ]
    },
    {
      "cell_type": "code",
      "source": [
        "#finally, we need to prepare the outputs (Y), creating three lists:\n",
        "Y_train = list(train[\"Y\"])\n",
        "Y_valid = list(valid[\"Y\"])\n",
        "Y_test = list(test[\"Y\"])"
      ],
      "metadata": {
        "id": "vrodQG1RXdB3"
      },
      "execution_count": 18,
      "outputs": []
    },
    {
      "cell_type": "markdown",
      "source": [
        "## 3. Supervised Machine Learning\n",
        "\n",
        "We will use the SciKit-Learn Python package to train an ML model based on a Random Forest algorithm. In this case, since the data is already binarized (0 and 1 for inactive and active, instead of continuous experimental results like IC50) we will train a Classifier."
      ],
      "metadata": {
        "id": "Sk_M-lAAX6Ee"
      }
    },
    {
      "cell_type": "code",
      "source": [
        "%%capture\n",
        "\n",
        "#install scikit-learn (sklearn) and import the RandomForest function\n",
        "!pip install sklearn\n",
        "from sklearn.ensemble import RandomForestClassifier"
      ],
      "metadata": {
        "id": "v8MQBSsIY--h"
      },
      "execution_count": 19,
      "outputs": []
    },
    {
      "cell_type": "code",
      "source": [
        "#in ML, the training of a model is called \"fitting\" the model to the data (the molecules and outputs of the Train set)\n",
        "\n",
        "clf = RandomForestClassifier()\n",
        "clf.fit(X_train, Y_train)"
      ],
      "metadata": {
        "colab": {
          "base_uri": "https://localhost:8080/"
        },
        "id": "ejLHhLWpZIa6",
        "outputId": "7970d64c-a594-4e7b-844c-9e27a2c587c1"
      },
      "execution_count": 20,
      "outputs": [
        {
          "output_type": "execute_result",
          "data": {
            "text/plain": [
              "RandomForestClassifier()"
            ]
          },
          "metadata": {},
          "execution_count": 20
        }
      ]
    },
    {
      "cell_type": "markdown",
      "source": [
        "### 3.1 Model Evaluation\n",
        "To understand whether a model is performing correctly or not, we have several measures. Here, we will use two of them:\n",
        "\n",
        "\n",
        "*   Confusion matrices: a table that indicates how many molecules were correctly classified by the model and how many were misclassified.\n",
        "*   ROC Curve: a probability curve showing the True Positive and False Positive Rates at different classification thresholds."
      ],
      "metadata": {
        "id": "uA_1xJ04Zc0c"
      }
    },
    {
      "cell_type": "code",
      "source": [
        "from sklearn.metrics import ConfusionMatrixDisplay as cdm\n",
        "\n",
        "cdm.from_estimator(clf, X_valid, Y_valid) #we use the validation set to check model performance"
      ],
      "metadata": {
        "colab": {
          "base_uri": "https://localhost:8080/",
          "height": 300
        },
        "id": "FzlMFHZkZUsD",
        "outputId": "c084fc03-ca5f-4d70-a630-eb0bbbb45247"
      },
      "execution_count": 21,
      "outputs": [
        {
          "output_type": "execute_result",
          "data": {
            "text/plain": [
              "<sklearn.metrics._plot.confusion_matrix.ConfusionMatrixDisplay at 0x7fa168100f50>"
            ]
          },
          "metadata": {},
          "execution_count": 21
        },
        {
          "output_type": "display_data",
          "data": {
            "text/plain": [
              "<Figure size 432x288 with 2 Axes>"
            ],
            "image/png": "[encoded data removed]"
          },
          "metadata": {
            "needs_background": "light"
          }
        }
      ]
    },
    {
      "cell_type": "code",
      "source": [
        "from sklearn.metrics import RocCurveDisplay as rdc\n",
        "\n",
        "rdc.from_estimator(clf, X_valid, Y_valid) #we use the validation set to check model performance"
      ],
      "metadata": {
        "colab": {
          "base_uri": "https://localhost:8080/",
          "height": 296
        },
        "id": "kSL96Dq9aSyK",
        "outputId": "e75d2af8-dcba-4448-ed0c-6a4ec81b71b7"
      },
      "execution_count": 22,
      "outputs": [
        {
          "output_type": "execute_result",
          "data": {
            "text/plain": [
              "<sklearn.metrics._plot.roc_curve.RocCurveDisplay at 0x7fa164defd90>"
            ]
          },
          "metadata": {},
          "execution_count": 22
        },
        {
          "output_type": "display_data",
          "data": {
            "text/plain": [
              "<Figure size 432x288 with 1 Axes>"
            ],
            "image/png": "[encoded data removed]"
          },
          "metadata": {
            "needs_background": "light"
          }
        }
      ]
    },
    {
      "cell_type": "code",
      "source": [
        "#we can also try to predict the values in the training set and see how good our algorithm does:\n",
        "cdm.from_estimator(clf, X_train, Y_train)"
      ],
      "metadata": {
        "colab": {
          "base_uri": "https://localhost:8080/",
          "height": 296
        },
        "id": "73zp_0rfaXVZ",
        "outputId": "c65f0705-ea3b-41bd-a676-ab827b32a0e6"
      },
      "execution_count": 23,
      "outputs": [
        {
          "output_type": "execute_result",
          "data": {
            "text/plain": [
              "<sklearn.metrics._plot.confusion_matrix.ConfusionMatrixDisplay at 0x7fa164e29310>"
            ]
          },
          "metadata": {},
          "execution_count": 23
        },
        {
          "output_type": "display_data",
          "data": {
            "text/plain": [
              "<Figure size 432x288 with 2 Axes>"
            ],
            "image/png": "[encoded data removed]"
          },
          "metadata": {
            "needs_background": "light"
          }
        }
      ]
    },
    {
      "cell_type": "code",
      "source": [
        "rdc.from_estimator(clf, X_train, Y_train)"
      ],
      "metadata": {
        "colab": {
          "base_uri": "https://localhost:8080/",
          "height": 296
        },
        "id": "hQcfliszaiHj",
        "outputId": "43f68f7b-286d-42bd-a7c6-c457b9727d8b"
      },
      "execution_count": 24,
      "outputs": [
        {
          "output_type": "execute_result",
          "data": {
            "text/plain": [
              "<sklearn.metrics._plot.roc_curve.RocCurveDisplay at 0x7fa163fcc250>"
            ]
          },
          "metadata": {},
          "execution_count": 24
        },
        {
          "output_type": "display_data",
          "data": {
            "text/plain": [
              "<Figure size 432x288 with 1 Axes>"
            ],
            "image/png": "[encoded data removed]"
          },
          "metadata": {
            "needs_background": "light"
          }
        }
      ]
    },
    {
      "cell_type": "code",
      "source": [
        "#And the performance on the test data\n",
        "\n",
        "import matplotlib.pyplot as plt\n",
        "\n",
        "\n",
        "fig, ax = plt.subplots(1,2, figsize=(10,5))\n",
        "cdm.from_estimator(clf, X_test, Y_test, ax=ax[0])\n",
        "rdc.from_estimator(clf, X_test, Y_test, ax = ax[1])"
      ],
      "metadata": {
        "id": "Xi3M4Dv5ebtW",
        "outputId": "5756ec59-339b-4c5b-c3e9-faff91723c96",
        "colab": {
          "base_uri": "https://localhost:8080/",
          "height": 351
        }
      },
      "execution_count": 32,
      "outputs": [
        {
          "output_type": "execute_result",
          "data": {
            "text/plain": [
              "<sklearn.metrics._plot.roc_curve.RocCurveDisplay at 0x7fa1634ec390>"
            ]
          },
          "metadata": {},
          "execution_count": 32
        },
        {
          "output_type": "display_data",
          "data": {
            "text/plain": [
              "<Figure size 720x360 with 3 Axes>"
            ],
            "image/png": "[encoded data removed]"
          },
          "metadata": {
            "needs_background": "light"
          }
        }
      ]
    }
  ]
}
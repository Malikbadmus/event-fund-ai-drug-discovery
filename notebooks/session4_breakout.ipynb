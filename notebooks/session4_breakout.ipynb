{
  "nbformat": 4,
  "nbformat_minor": 0,
  "metadata": {
    "colab": {
      "provenance": [],
      "authorship_tag": "ABX9TyNTOraak+fvtYgr1N6TMoMY",
      "include_colab_link": true
    },
    "kernelspec": {
      "name": "python3",
      "display_name": "Python 3"
    },
    "language_info": {
      "name": "python"
    }
  },
  "cells": [
    {
      "cell_type": "markdown",
      "metadata": {
        "id": "view-in-github",
        "colab_type": "text"
      },
      "source": [
        "<a href=\"https://colab.research.google.com/github/ersilia-os/event-fund-ai-drug-discovery/blob/main/notebooks/session4_breakout.ipynb\" target=\"_parent\"><img src=\"https://colab.research.google.com/assets/colab-badge.svg\" alt=\"Open In Colab\"/></a>"
      ]
    },
    {
      "cell_type": "markdown",
      "source": [
        "# Session 4: Generative Models\n",
        "\n",
        "This notebook explores generative models based on similarity searches (using a molecule as initial hit, looks for similar molecules in a virtually generated library).\n",
        "We will use our top10 hits from Session 2 to explore how these models work."
      ],
      "metadata": {
        "id": "bPoSHbIg9rcJ"
      }
    },
    {
      "cell_type": "markdown",
      "source": [
        "## Initial Hits\n",
        "\n",
        "Each generative model requires a starting point, a molecule that will serve as a blueprint for the generation of novel molecules.\n",
        "\n",
        "In this exercise, we will use the top10 hits from session 2 that you selected from the MMV malaria box. These should be stored in your drive under DataScience_Workshop/data/day2"
      ],
      "metadata": {
        "id": "Lta64RlR-M8e"
      }
    },
    {
      "cell_type": "code",
      "source": [
        "# Mount Google Drive\n",
        "from google.colab import drive\n",
        "drive.mount('/content/drive')"
      ],
      "metadata": {
        "colab": {
          "base_uri": "https://localhost:8080/"
        },
        "id": "1g_75-Xc-7bH",
        "outputId": "c6bec97f-dd7a-4666-ed74-06025679248a"
      },
      "execution_count": 2,
      "outputs": [
        {
          "output_type": "stream",
          "name": "stdout",
          "text": [
            "Mounted at /content/drive\n"
          ]
        }
      ]
    },
    {
      "cell_type": "code",
      "source": [
        "#import the necessary packages\n",
        "import pandas as pd\n",
        "\n",
        "#we can open it as a pandas dataframe\n",
        "data = \"drive/MyDrive/DataScience_Workshop/data/day2/mmv_malariabox_selection.csv\"\n",
        "df=pd.read_csv(data)\n",
        "df.head()"
      ],
      "metadata": {
        "colab": {
          "base_uri": "https://localhost:8080/",
          "height": 354
        },
        "id": "MliArYlD_Q-G",
        "outputId": "86d3ad55-81e1-4cec-c59e-97b9d6c5e5b2"
      },
      "execution_count": 5,
      "outputs": [
        {
          "output_type": "execute_result",
          "data": {
            "text/plain": [
              "   Unnamed: 0                          key  \\\n",
              "0         136  HPFVQAYLQOSFOL-UHFFFAOYSA-N   \n",
              "1          69  RHZLKBRFIAZMTN-UHFFFAOYSA-N   \n",
              "2          28  DSQFFQFYQVGMPS-UHFFFAOYSA-N   \n",
              "3         173  ULJISGNQAXNPOC-UHFFFAOYSA-N   \n",
              "4         353  VTHMRLOUPKJVSL-UHFFFAOYSA-N   \n",
              "\n",
              "                                     input      maip    chemtb     antib  \\\n",
              "0        COc1cccc(Nc2nc(NCCO)c3ccccc3n2)c1  77.19902  0.096129  0.005617   \n",
              "1        Cc1ccc(Nc2nc(NCCO)c3ccccc3n2)cc1C  76.05250  0.088322  0.006066   \n",
              "2                 CNCCCNc1ccnc2cc(Cl)ccc12  71.68302  0.087292  0.025201   \n",
              "3   Clc1ccc2[nH]c3c(NCCCN4CCOCC4)ncnc3c2c1  68.27074  0.117942  0.004766   \n",
              "4  CN1CCN(c2nc(Nc3ccc(O)cc3)nc3ccccc23)CC1  67.53253  0.082182  0.018570   \n",
              "\n",
              "       herg        ra    sol         np  \n",
              "0  5.501676  0.987168 -3.457  -9.260608  \n",
              "1  5.449112  0.988130 -3.743  -7.866877  \n",
              "2  4.933387  0.995203 -2.180  -4.078742  \n",
              "3  5.592291  0.989207 -3.008  -7.842378  \n",
              "4  5.683293  0.991483 -3.408 -10.478223  "
            ],
            "text/html": [
              "\n",
              "  <div id=\"df-4023b563-1cd0-4314-8951-efd897b8ba92\">\n",
              "    <div class=\"colab-df-container\">\n",
              "      <div>\n",
              "<style scoped>\n",
              "    .dataframe tbody tr th:only-of-type {\n",
              "        vertical-align: middle;\n",
              "    }\n",
              "\n",
              "    .dataframe tbody tr th {\n",
              "        vertical-align: top;\n",
              "    }\n",
              "\n",
              "    .dataframe thead th {\n",
              "        text-align: right;\n",
              "    }\n",
              "</style>\n",
              "<table border=\"1\" class=\"dataframe\">\n",
              "  <thead>\n",
              "    <tr style=\"text-align: right;\">\n",
              "      <th></th>\n",
              "      <th>Unnamed: 0</th>\n",
              "      <th>key</th>\n",
              "      <th>input</th>\n",
              "      <th>maip</th>\n",
              "      <th>chemtb</th>\n",
              "      <th>antib</th>\n",
              "      <th>herg</th>\n",
              "      <th>ra</th>\n",
              "      <th>sol</th>\n",
              "      <th>np</th>\n",
              "    </tr>\n",
              "  </thead>\n",
              "  <tbody>\n",
              "    <tr>\n",
              "      <th>0</th>\n",
              "      <td>136</td>\n",
              "      <td>HPFVQAYLQOSFOL-UHFFFAOYSA-N</td>\n",
              "      <td>COc1cccc(Nc2nc(NCCO)c3ccccc3n2)c1</td>\n",
              "      <td>77.19902</td>\n",
              "      <td>0.096129</td>\n",
              "      <td>0.005617</td>\n",
              "      <td>5.501676</td>\n",
              "      <td>0.987168</td>\n",
              "      <td>-3.457</td>\n",
              "      <td>-9.260608</td>\n",
              "    </tr>\n",
              "    <tr>\n",
              "      <th>1</th>\n",
              "      <td>69</td>\n",
              "      <td>RHZLKBRFIAZMTN-UHFFFAOYSA-N</td>\n",
              "      <td>Cc1ccc(Nc2nc(NCCO)c3ccccc3n2)cc1C</td>\n",
              "      <td>76.05250</td>\n",
              "      <td>0.088322</td>\n",
              "      <td>0.006066</td>\n",
              "      <td>5.449112</td>\n",
              "      <td>0.988130</td>\n",
              "      <td>-3.743</td>\n",
              "      <td>-7.866877</td>\n",
              "    </tr>\n",
              "    <tr>\n",
              "      <th>2</th>\n",
              "      <td>28</td>\n",
              "      <td>DSQFFQFYQVGMPS-UHFFFAOYSA-N</td>\n",
              "      <td>CNCCCNc1ccnc2cc(Cl)ccc12</td>\n",
              "      <td>71.68302</td>\n",
              "      <td>0.087292</td>\n",
              "      <td>0.025201</td>\n",
              "      <td>4.933387</td>\n",
              "      <td>0.995203</td>\n",
              "      <td>-2.180</td>\n",
              "      <td>-4.078742</td>\n",
              "    </tr>\n",
              "    <tr>\n",
              "      <th>3</th>\n",
              "      <td>173</td>\n",
              "      <td>ULJISGNQAXNPOC-UHFFFAOYSA-N</td>\n",
              "      <td>Clc1ccc2[nH]c3c(NCCCN4CCOCC4)ncnc3c2c1</td>\n",
              "      <td>68.27074</td>\n",
              "      <td>0.117942</td>\n",
              "      <td>0.004766</td>\n",
              "      <td>5.592291</td>\n",
              "      <td>0.989207</td>\n",
              "      <td>-3.008</td>\n",
              "      <td>-7.842378</td>\n",
              "    </tr>\n",
              "    <tr>\n",
              "      <th>4</th>\n",
              "      <td>353</td>\n",
              "      <td>VTHMRLOUPKJVSL-UHFFFAOYSA-N</td>\n",
              "      <td>CN1CCN(c2nc(Nc3ccc(O)cc3)nc3ccccc23)CC1</td>\n",
              "      <td>67.53253</td>\n",
              "      <td>0.082182</td>\n",
              "      <td>0.018570</td>\n",
              "      <td>5.683293</td>\n",
              "      <td>0.991483</td>\n",
              "      <td>-3.408</td>\n",
              "      <td>-10.478223</td>\n",
              "    </tr>\n",
              "  </tbody>\n",
              "</table>\n",
              "</div>\n",
              "      <button class=\"colab-df-convert\" onclick=\"convertToInteractive('df-4023b563-1cd0-4314-8951-efd897b8ba92')\"\n",
              "              title=\"Convert this dataframe to an interactive table.\"\n",
              "              style=\"display:none;\">\n",
              "        \n",
              "  <svg xmlns=\"http://www.w3.org/2000/svg\" height=\"24px\"viewBox=\"0 0 24 24\"\n",
              "       width=\"24px\">\n",
              "    <path d=\"M0 0h24v24H0V0z\" fill=\"none\"/>\n",
              "    <path d=\"M18.56 5.44l.94 2.06.94-2.06 2.06-.94-2.06-.94-.94-2.06-.94 2.06-2.06.94zm-11 1L8.5 8.5l.94-2.06 2.06-.94-2.06-.94L8.5 2.5l-.94 2.06-2.06.94zm10 10l.94 2.06.94-2.06 2.06-.94-2.06-.94-.94-2.06-.94 2.06-2.06.94z\"/><path d=\"M17.41 7.96l-1.37-1.37c-.4-.4-.92-.59-1.43-.59-.52 0-1.04.2-1.43.59L10.3 9.45l-7.72 7.72c-.78.78-.78 2.05 0 2.83L4 21.41c.39.39.9.59 1.41.59.51 0 1.02-.2 1.41-.59l7.78-7.78 2.81-2.81c.8-.78.8-2.07 0-2.86zM5.41 20L4 18.59l7.72-7.72 1.47 1.35L5.41 20z\"/>\n",
              "  </svg>\n",
              "      </button>\n",
              "      \n",
              "  <style>\n",
              "    .colab-df-container {\n",
              "      display:flex;\n",
              "      flex-wrap:wrap;\n",
              "      gap: 12px;\n",
              "    }\n",
              "\n",
              "    .colab-df-convert {\n",
              "      background-color: #E8F0FE;\n",
              "      border: none;\n",
              "      border-radius: 50%;\n",
              "      cursor: pointer;\n",
              "      display: none;\n",
              "      fill: #1967D2;\n",
              "      height: 32px;\n",
              "      padding: 0 0 0 0;\n",
              "      width: 32px;\n",
              "    }\n",
              "\n",
              "    .colab-df-convert:hover {\n",
              "      background-color: #E2EBFA;\n",
              "      box-shadow: 0px 1px 2px rgba(60, 64, 67, 0.3), 0px 1px 3px 1px rgba(60, 64, 67, 0.15);\n",
              "      fill: #174EA6;\n",
              "    }\n",
              "\n",
              "    [theme=dark] .colab-df-convert {\n",
              "      background-color: #3B4455;\n",
              "      fill: #D2E3FC;\n",
              "    }\n",
              "\n",
              "    [theme=dark] .colab-df-convert:hover {\n",
              "      background-color: #434B5C;\n",
              "      box-shadow: 0px 1px 3px 1px rgba(0, 0, 0, 0.15);\n",
              "      filter: drop-shadow(0px 1px 2px rgba(0, 0, 0, 0.3));\n",
              "      fill: #FFFFFF;\n",
              "    }\n",
              "  </style>\n",
              "\n",
              "      <script>\n",
              "        const buttonEl =\n",
              "          document.querySelector('#df-4023b563-1cd0-4314-8951-efd897b8ba92 button.colab-df-convert');\n",
              "        buttonEl.style.display =\n",
              "          google.colab.kernel.accessAllowed ? 'block' : 'none';\n",
              "\n",
              "        async function convertToInteractive(key) {\n",
              "          const element = document.querySelector('#df-4023b563-1cd0-4314-8951-efd897b8ba92');\n",
              "          const dataTable =\n",
              "            await google.colab.kernel.invokeFunction('convertToInteractive',\n",
              "                                                     [key], {});\n",
              "          if (!dataTable) return;\n",
              "\n",
              "          const docLinkHtml = 'Like what you see? Visit the ' +\n",
              "            '<a target=\"_blank\" href=https://colab.research.google.com/notebooks/data_table.ipynb>data table notebook</a>'\n",
              "            + ' to learn more about interactive tables.';\n",
              "          element.innerHTML = '';\n",
              "          dataTable['output_type'] = 'display_data';\n",
              "          await google.colab.output.renderOutput(dataTable, element);\n",
              "          const docLink = document.createElement('div');\n",
              "          docLink.innerHTML = docLinkHtml;\n",
              "          element.appendChild(docLink);\n",
              "        }\n",
              "      </script>\n",
              "    </div>\n",
              "  </div>\n",
              "  "
            ]
          },
          "metadata": {},
          "execution_count": 5
        }
      ]
    },
    {
      "cell_type": "code",
      "source": [
        "smiles = df[\"input\"].tolist()"
      ],
      "metadata": {
        "id": "Q0NwG4jtEBFv"
      },
      "execution_count": 6,
      "outputs": []
    },
    {
      "cell_type": "markdown",
      "source": [
        "## Ersilia Model Hub\n",
        "First, we need to install Ersilia in this Google Colab notebook."
      ],
      "metadata": {
        "id": "OqN66B0X0ttq"
      }
    },
    {
      "cell_type": "code",
      "execution_count": 1,
      "metadata": {
        "id": "HK0VmfES9qQ3"
      },
      "outputs": [],
      "source": [
        "#@title The Ersilia Model Hub\n",
        "#@markdown Click on the play button to install Ersilia in this Colab notebook.\n",
        "\n",
        "%%capture\n",
        "%env MINICONDA_INSTALLER_SCRIPT=Miniconda3-py37_4.12.0-Linux-x86_64.sh\n",
        "%env MINICONDA_PREFIX=/usr/local\n",
        "%env PYTHONPATH={PYTHONPATH}:/usr/local/lib/python3.7/site-packages\n",
        "%env CONDA_PREFIX=/usr/local\n",
        "%env CONDA_PREFIX_1=/usr/local\n",
        "%env CONDA_DIR=/usr/local\n",
        "%env CONDA_DEFAULT_ENV=base\n",
        "!wget https://repo.anaconda.com/miniconda/$MINICONDA_INSTALLER_SCRIPT\n",
        "!chmod +x $MINICONDA_INSTALLER_SCRIPT\n",
        "!./$MINICONDA_INSTALLER_SCRIPT -b -f -p $MINICONDA_PREFIX\n",
        "!python -m pip install git+https://github.com/ersilia-os/ersilia.git\n",
        "!python -m pip install requests --upgrade\n",
        "import sys\n",
        "_ = (sys.path.append(\"/usr/local/lib/python3.7/site-packages\"))"
      ]
    },
    {
      "cell_type": "markdown",
      "source": [
        "### Fetching Similarity Models\n",
        "We will work with two similarity models:\n",
        "* eos4b8j: gdbchembl-similarity\n",
        "* eos4b8j gdbmedchem-similarity\n",
        "In short, each of those models uses a virtually generated library of billions of hits to identify the 100 most similar to the starting point. You can read more about them on their respective publications([gdbchembl](https://www.frontiersin.org/articles/10.3389/fchem.2020.00046/full) and [gdbmedchem](https://onlinelibrary.wiley.com/doi/abs/10.1002/minf.201900031))\n",
        "\n",
        "GDBChEMBL contains a collection of 166.4 billion possible molecules of up to 17 atoms, and is browsable [here](http://faerun.gdb.tools/). The GBDMedChEM is a curated version of GDBChEMBL and restricts the search space to 10 million [molecules](http://gdb.unibe.ch)\n",
        "\n",
        "*Disclaimer: both these models post predictions online. If you are concerned about IP privacy issues check the publication for more information on data policy.* "
      ],
      "metadata": {
        "id": "WmcCiz-N98KT"
      }
    },
    {
      "cell_type": "code",
      "source": [
        "#we first fetch both models from the Ersilia repository\n",
        "\n",
        "!ersilia fetch eos4b8j\n",
        "!ersilia fetch eos7jlv"
      ],
      "metadata": {
        "colab": {
          "base_uri": "https://localhost:8080/"
        },
        "id": "qfkpsKdS92e_",
        "outputId": "31783b37-ab3c-4ba8-daf3-518dd5809ed4"
      },
      "execution_count": 13,
      "outputs": [
        {
          "output_type": "stream",
          "name": "stdout",
          "text": [
            "\u001b[34m⬇️  Fetching model eos4b8j: gdbchembl-similarity\u001b[0m\n",
            "\u001b[32m👍 Model eos4b8j fetched successfully!\u001b[0m\n",
            "\u001b[34m⬇️  Fetching model eos7jlv: gdbmedchem-similarity\u001b[0m\n",
            "\u001b[32m👍 Model eos7jlv fetched successfully!\u001b[0m\n"
          ]
        }
      ]
    },
    {
      "cell_type": "code",
      "source": [
        "#running as python package\n",
        "from ersilia import ErsiliaModel\n",
        "\n",
        "model = ErsiliaModel(\"eos4b8j\")\n",
        "model.serve()\n",
        "output = model.predict(input=\"CCCC\", output=\"pandas\")\n",
        "model.close()"
      ],
      "metadata": {
        "id": "6pGhiblP-Ljp"
      },
      "execution_count": null,
      "outputs": []
    },
    {
      "cell_type": "code",
      "source": [
        "from ersilia import ErsiliaModel\n",
        "\n",
        "model = ErsiliaModel(\"eos7jlv\")\n",
        "model.serve()\n",
        "output = model.predict(input=\"CCCC\", output=\"pandas\")\n",
        "model.close()"
      ],
      "metadata": {
        "id": "4PEJoLHgIOz-"
      },
      "execution_count": null,
      "outputs": []
    },
    {
      "cell_type": "markdown",
      "source": [
        "## Generating a 100 molecules from the top hit\n",
        "Together we will walk through an example of how we can generate hits from the best molecule we found in the MMV Malaria Box using the similarity search in ChEMBL"
      ],
      "metadata": {
        "id": "lXcNvrEv5dd2"
      }
    },
    {
      "cell_type": "code",
      "source": [
        "# select the top1 hit and see its structure\n",
        "smi = smiles[1]"
      ],
      "metadata": {
        "id": "tOFcJ9dL7NUL"
      },
      "execution_count": 15,
      "outputs": []
    },
    {
      "cell_type": "code",
      "source": [
        "smi"
      ],
      "metadata": {
        "id": "JbdJyNnn77Ug",
        "outputId": "28c46746-758b-4af5-f9f2-7d615bfa2f09",
        "colab": {
          "base_uri": "https://localhost:8080/",
          "height": 35
        }
      },
      "execution_count": 17,
      "outputs": [
        {
          "output_type": "execute_result",
          "data": {
            "text/plain": [
              "'Cc1ccc(Nc2nc(NCCO)c3ccccc3n2)cc1C'"
            ],
            "application/vnd.google.colaboratory.intrinsic+json": {
              "type": "string"
            }
          },
          "metadata": {},
          "execution_count": 17
        }
      ]
    },
    {
      "cell_type": "code",
      "source": [
        "#revise session 2 skills development if you are unsure about this step to visualise molecules using RdKit\n",
        "%%capture\n",
        "!pip install rdkit\n",
        "\n",
        "from rdkit import Chem\n",
        "from rdkit.Chem import Draw"
      ],
      "metadata": {
        "id": "Aa3SYzM07zRF"
      },
      "execution_count": 18,
      "outputs": []
    },
    {
      "cell_type": "code",
      "source": [
        "mol = Chem.MolFromSmiles(smi)\n",
        "Draw.MolToImage(mol)"
      ],
      "metadata": {
        "id": "edTPug-L7gzk",
        "outputId": "204b1c4e-40f8-4765-edff-aa82d42c2031",
        "colab": {
          "base_uri": "https://localhost:8080/",
          "height": 317
        }
      },
      "execution_count": 22,
      "outputs": [
        {
          "output_type": "execute_result",
          "data": {
            "text/plain": [
              "<PIL.PngImagePlugin.PngImageFile image mode=RGB size=300x300 at 0x7FC78F8D0590>"
            ],
            "image/png": "[encoded data removed]"
          },
          "metadata": {},
          "execution_count": 22
        }
      ]
    },
    {
      "cell_type": "code",
      "source": [
        "!ersilia serve eos4b8j\n",
        "!ersilia api predict -i \"Cc1ccc(Nc2nc(NCCO)c3ccccc3n2)cc1C\" -o \"drive/MyDrive/DataScience_Workshop/data/day4/eos4b8j_top1.csv\""
      ],
      "metadata": {
        "colab": {
          "base_uri": "https://localhost:8080/"
        },
        "id": "dq975CYcKxYS",
        "outputId": "1104be1a-beab-4845-98d1-a99ce381289b"
      },
      "execution_count": 24,
      "outputs": [
        {
          "output_type": "stream",
          "name": "stdout",
          "text": [
            "\u001b[32m🚀 Serving model eos4b8j: gdbchembl-similarity\u001b[0m\n",
            "\u001b[0m\n",
            "\u001b[33m   URL: http://127.0.0.1:60633\u001b[0m\n",
            "\u001b[33m   PID: 3681\u001b[0m\n",
            "\u001b[33m   SRV: conda\u001b[0m\n",
            "\u001b[0m\n",
            "\u001b[34m👉 Available APIs:\u001b[0m\n",
            "\u001b[34m   - predict\u001b[0m\n",
            "Traceback (most recent call last):\n",
            "  File \"/usr/local/bin/ersilia\", line 8, in <module>\n",
            "    sys.exit(cli())\n",
            "  File \"/usr/local/lib/python3.7/site-packages/click/core.py\", line 1130, in __call__\n",
            "    return self.main(*args, **kwargs)\n",
            "  File \"/usr/local/lib/python3.7/site-packages/click/core.py\", line 1055, in main\n",
            "    rv = self.invoke(ctx)\n",
            "  File \"/usr/local/lib/python3.7/site-packages/click/core.py\", line 1657, in invoke\n",
            "    return _process_result(sub_ctx.command.invoke(sub_ctx))\n",
            "  File \"/usr/local/lib/python3.7/site-packages/click/core.py\", line 1404, in invoke\n",
            "    return ctx.invoke(self.callback, **ctx.params)\n",
            "  File \"/usr/local/lib/python3.7/site-packages/click/core.py\", line 760, in invoke\n",
            "    return __callback(*args, **kwargs)\n",
            "  File \"/usr/local/lib/python3.7/site-packages/bentoml/cli/click_utils.py\", line 138, in wrapper\n",
            "    return func(*args, **kwargs)\n",
            "  File \"/usr/local/lib/python3.7/site-packages/bentoml/cli/click_utils.py\", line 115, in wrapper\n",
            "    return_value = func(*args, **kwargs)\n",
            "  File \"/usr/local/lib/python3.7/site-packages/bentoml/cli/click_utils.py\", line 99, in wrapper\n",
            "    return func(*args, **kwargs)\n",
            "  File \"/usr/local/lib/python3.7/site-packages/ersilia/cli/commands/api.py\", line 37, in api\n",
            "    api_name=api_name, input=input, output=output, batch_size=batch_size\n",
            "  File \"/usr/local/lib/python3.7/site-packages/ersilia/core/model.py\", line 312, in api\n",
            "    api_name=api_name, input=input, output=output, batch_size=batch_size\n",
            "  File \"/usr/local/lib/python3.7/site-packages/ersilia/core/model.py\", line 326, in api_task\n",
            "    for r in result:\n",
            "  File \"/usr/local/lib/python3.7/site-packages/ersilia/core/model.py\", line 174, in _api_runner_iter\n",
            "    for result in api.post(input=input, output=output, batch_size=batch_size):\n",
            "  File \"/usr/local/lib/python3.7/site-packages/ersilia/serve/api.py\", line 303, in post\n",
            "    input=unique_input, output=None, batch_size=batch_size\n",
            "  File \"/usr/local/lib/python3.7/site-packages/ersilia/serve/api.py\", line 288, in post_unique_input\n",
            "    or not schema.is_h5_serializable(api_name=self.api_name)\n",
            "  File \"/usr/local/lib/python3.7/site-packages/ersilia/serve/schema.py\", line 87, in is_h5_serializable\n",
            "    schema = self.get_output_by_api(api_name)\n",
            "  File \"/usr/local/lib/python3.7/site-packages/ersilia/serve/schema.py\", line 84, in get_output_by_api\n",
            "    return self.schema[api_name][\"output\"]\n",
            "  File \"/usr/local/lib/python3.7/site-packages/ersilia/serve/schema.py\", line 78, in schema\n",
            "    return self.get()\n",
            "  File \"/usr/local/lib/python3.7/site-packages/ersilia/serve/schema.py\", line 73, in get\n",
            "    data[api][\"output\"][k][\"meta\"] = self._features(o)\n",
            "  File \"/usr/local/lib/python3.7/site-packages/ersilia/serve/schema.py\", line 26, in _features\n",
            "    if o[\"type\"] in self._array_types:\n",
            "KeyError: 'type'\n"
          ]
        }
      ]
    },
    {
      "cell_type": "code",
      "source": [],
      "metadata": {
        "id": "bligBAwx81cm"
      },
      "execution_count": null,
      "outputs": []
    }
  ]
}
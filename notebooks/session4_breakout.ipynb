{
  "cells": [
    {
      "cell_type": "markdown",
      "metadata": {
        "id": "view-in-github",
        "colab_type": "text"
      },
      "source": [
        "<a href=\"https://colab.research.google.com/github/ersilia-os/event-fund-ai-drug-discovery/blob/main/notebooks/session4_breakout.ipynb\" target=\"_parent\"><img src=\"https://colab.research.google.com/assets/colab-badge.svg\" alt=\"Open In Colab\"/></a>"
      ]
    },
    {
      "cell_type": "markdown",
      "metadata": {
        "id": "bPoSHbIg9rcJ"
      },
      "source": [
        "# Session 4: Generative Models\n",
        "\n",
        "This notebook explores generative models based on similarity searches (using a molecule as initial hit, looks for similar molecules in a virtually generated library).\n",
        "We will use our top10 hits from Session 2 to explore how these models work."
      ]
    },
    {
      "cell_type": "code",
      "source": [
        "#@title Mount Google Drive and install the necessary packages\n",
        "\n",
        "%%capture\n",
        "\n",
        "from google.colab import drive\n",
        "drive.mount('/content/drive')\n",
        "\n",
        "\n",
        "!pip install rdkit\n",
        "!pip install umap-learn\n",
        "import sys\n",
        "sys.path.append(\"drive/MyDrive/h3d_ersilia_ai_workshop/data/session1/\")\n",
        "from courseFunctions import *"
      ],
      "metadata": {
        "cellView": "form",
        "id": "8gnO29XUwJ1B"
      },
      "execution_count": null,
      "outputs": []
    },
    {
      "cell_type": "code",
      "source": [
        "#@title Select the SMILES from the MMV list\n",
        "smiles = \"CC(=O)c1sc(NC(=O)Nc2ccc(C)cc2C)nc1C\" #@param {type:\"string\"}"
      ],
      "metadata": {
        "id": "3lbmv5BcZ-gy",
        "cellView": "form"
      },
      "execution_count": null,
      "outputs": []
    },
    {
      "cell_type": "code",
      "execution_count": null,
      "metadata": {
        "id": "Aa3SYzM07zRF"
      },
      "outputs": [],
      "source": [
        "#@markdown Run this cell to visualise the selected compound using RdKit\n",
        "#revise session 2 skills development if you are unsure about this step to visualise molecules using RdKit\n",
        "from rdkit import Chem\n",
        "from rdkit.Chem import Draw\n",
        "\n",
        "mol = Chem.MolFromSmiles(smiles)\n",
        "Draw.MolToImage(mol)"
      ]
    },
    {
      "cell_type": "markdown",
      "metadata": {
        "id": "OqN66B0X0ttq"
      },
      "source": [
        "## Ersilia Model Hub\n",
        "First, we need to install Ersilia in this Google Colab notebook."
      ]
    },
    {
      "cell_type": "code",
      "execution_count": null,
      "metadata": {
        "id": "HK0VmfES9qQ3",
        "cellView": "form"
      },
      "outputs": [],
      "source": [
        "#@markdown Click on the play button to install Ersilia in this Colab notebook.\n",
        "\n",
        "%%capture\n",
        "%env MINICONDA_INSTALLER_SCRIPT=Miniconda3-py37_4.12.0-Linux-x86_64.sh\n",
        "%env MINICONDA_PREFIX=/usr/local\n",
        "%env PYTHONPATH={PYTHONPATH}:/usr/local/lib/python3.7/site-packages\n",
        "%env CONDA_PREFIX=/usr/local\n",
        "%env CONDA_PREFIX_1=/usr/local\n",
        "%env CONDA_DIR=/usr/local\n",
        "%env CONDA_DEFAULT_ENV=base\n",
        "!wget https://repo.anaconda.com/miniconda/$MINICONDA_INSTALLER_SCRIPT\n",
        "!chmod +x $MINICONDA_INSTALLER_SCRIPT\n",
        "!./$MINICONDA_INSTALLER_SCRIPT -b -f -p $MINICONDA_PREFIX\n",
        "!python -m pip install git+https://github.com/ersilia-os/ersilia.git\n",
        "!python -m pip install requests --upgrade\n",
        "import sys\n",
        "_ = (sys.path.append(\"/usr/local/lib/python3.7/site-packages\"))"
      ]
    },
    {
      "cell_type": "markdown",
      "metadata": {
        "id": "WmcCiz-N98KT"
      },
      "source": [
        "### Fetching Similarity Models\n",
        "We will work with two similarity models:\n",
        "* eos4b8j: gdbchembl-similarity\n",
        "* eos4b8j gdbmedchem-similarity\n",
        "\n",
        "In short, each of those models uses a virtually generated library of billions of hits to identify the 100 most similar to the starting point. You can read more about them on their respective publications([gdbchembl](https://www.frontiersin.org/articles/10.3389/fchem.2020.00046/full) and [gdbmedchem](https://onlinelibrary.wiley.com/doi/abs/10.1002/minf.201900031))\n",
        "\n",
        "GDBChEMBL contains a collection of 166.4 billion possible molecules of up to 17 atoms, and is browsable [here](http://faerun.gdb.tools/). The GBDMedChEM is a curated version of GDBChEMBL and restricts the search space to 10 million [molecules](http://gdb.unibe.ch)\n",
        "\n",
        "*Disclaimer: both these models post predictions online. If you are concerned about IP privacy issues check the publication for more information on data policy.* "
      ]
    },
    {
      "cell_type": "markdown",
      "metadata": {
        "id": "lXcNvrEv5dd2"
      },
      "source": [
        "## Generating a 100 molecules from the top hit\n",
        "Together we will walk through an example of how we can generate hits from the best molecule we found in the MMV Malaria Box using the similarity search in ChEMBL"
      ]
    },
    {
      "cell_type": "code",
      "source": [
        "#@title GDBChEMBL Similarity\n",
        "#@markdown Press the play button to run a prediction!\n",
        "!ersilia fetch eos4b8j\n",
        "from ersilia import ErsiliaModel\n",
        "\n",
        "model = ErsiliaModel(\"eos4b8j\")\n",
        "model.serve()\n",
        "output = model.predict(input=smiles, output=\"pandas\")\n",
        "model.close()\n",
        "output.to_csv(\"drive/MyDrive/h3d_ersilia_ai_workshop/data/session4/eos4b8j.csv\", index=False)"
      ],
      "metadata": {
        "cellView": "form",
        "id": "GgqlUuXiqSfK"
      },
      "execution_count": null,
      "outputs": []
    },
    {
      "cell_type": "code",
      "source": [
        "#@title GDBMEdChem Similarity\n",
        "#@markdown Press the play button to run a prediction!\n",
        "!ersilia fetch eos7jlv\n",
        "from ersilia import ErsiliaModel\n",
        "\n",
        "model = ErsiliaModel(\"eos7jlv\")\n",
        "model.serve()\n",
        "output = model.predict(input=smiles, output=\"pandas\")\n",
        "model.close()\n",
        "output.to_csv(\"drive/MyDrive/h3d_ersilia_ai_workshop/data/session4/eos7jlv.csv\", index=False)"
      ],
      "metadata": {
        "cellView": "form",
        "id": "aiFztOqwq3OZ"
      },
      "execution_count": null,
      "outputs": []
    },
    {
      "cell_type": "code",
      "source": [
        "#@title Check the output of ChEMBL eos4b8j\n",
        "eos4b8j_preds = \"drive/MyDrive/h3d_ersilia_ai_workshop/data/session4/eos4b8j.csv\" #@param {type:\"string\"}\n",
        "\n",
        "df1 = pd.read_csv(eos4b8j_preds)\n",
        "df1.head()"
      ],
      "metadata": {
        "cellView": "form",
        "id": "MWxiexlrcc3L"
      },
      "execution_count": null,
      "outputs": []
    },
    {
      "cell_type": "code",
      "source": [
        "#@title Check the molecules predicted by MedChem - eos7jlv\n",
        "eos7jlv_preds = \"drive/MyDrive/h3d_ersilia_ai_workshop/data/session4/eos7jlv.csv\" #@param {type:\"string\"}\n",
        "\n",
        "df2 = pd.read_csv(eos7jlv_preds)\n",
        "df2.head()"
      ],
      "metadata": {
        "cellView": "form",
        "id": "b_AehGuLqdiR"
      },
      "execution_count": null,
      "outputs": []
    },
    {
      "cell_type": "markdown",
      "source": [
        "Discussion: which are the datasets that we have now? What can we do?"
      ],
      "metadata": {
        "id": "AAom8_5Gqspp"
      }
    },
    {
      "cell_type": "code",
      "source": [
        "#@title See the molecules generated by eos4b8j - ChEMBL\n",
        "eos4b8j_smiles = df1[list(df1.columns)[2:]].iloc[0].tolist()\n",
        "data_smiles = pd.DataFrame()\n",
        "data_smiles[\"Smiles\"] = eos4b8j_smiles\n",
        "data_smiles.to_csv(\"drive/MyDrive/h3d_ersilia_ai_workshop/data/session4/eos4b8j_smiles.csv\", index=False)\n",
        "\n",
        "from rdkit import Chem\n",
        "from rdkit.Chem import Draw\n",
        "\n",
        "mols = [Chem.MolFromSmiles(smi) for smi in eos4b8j_smiles]\n",
        "Draw.MolsToGridImage(mols, molsPerRow=5)"
      ],
      "metadata": {
        "cellView": "form",
        "id": "kuopTZS64vjU"
      },
      "execution_count": null,
      "outputs": []
    },
    {
      "cell_type": "code",
      "source": [
        "#@title See the molecules generated by eos7jlv - MedChem\n",
        "eos7jlv_smiles = df2[list(df2.columns)[2:]].iloc[0].tolist()\n",
        "data_smiles = pd.DataFrame()\n",
        "data_smiles[\"Smiles\"] = eos7jlv_smiles\n",
        "data_smiles.to_csv(\"drive/MyDrive/h3d_ersilia_ai_workshop/data/session4/eos7jlv_smiles.csv\", index=False)\n",
        "\n",
        "\n",
        "from rdkit import Chem\n",
        "from rdkit.Chem import Draw\n",
        "\n",
        "mols = [Chem.MolFromSmiles(smi) for smi in eos7jlv_smiles]\n",
        "Draw.MolsToGridImage(mols, molsPerRow=5)"
      ],
      "metadata": {
        "cellView": "form",
        "id": "C0NKYKb1735b"
      },
      "execution_count": null,
      "outputs": []
    },
    {
      "cell_type": "code",
      "source": [
        "#@title Dimensionality Reduction\n",
        "path = \"drive/MyDrive/h3d_ersilia_ai_workshop/data/session4/\"\n",
        "file_list = [\"eos4b8j_smiles.csv\", \"eos7jlv_smiles.csv\", \"input_mol.csv\"]\n",
        "my_plots = plots(path, file_list)\n",
        "\n",
        "my_plots.plot_pca()\n",
        "my_plots.plot_umap()"
      ],
      "metadata": {
        "cellView": "form",
        "id": "IsMgReuQsVTD"
      },
      "execution_count": null,
      "outputs": []
    },
    {
      "cell_type": "code",
      "source": [
        "#@title Prediction of antimalarial activity for the generated molecules using the Ersilia Model Hub\n",
        "\n",
        "\n",
        "!ersilia fetch eos2gth\n",
        "from ersilia import ErsiliaModel\n",
        "\n",
        "model = ErsiliaModel(\"eos2gth\")\n",
        "model.serve()\n",
        "output = model.predict(input=eos4b8j_smiles, output=\"pandas\")\n",
        "model.close()\n",
        "output.to_csv(\"drive/MyDrive/h3d_ersilia_ai_workshop/data/session4/eos2gth_eos4b8j.csv\", index=False)\n",
        "\n",
        "model = ErsiliaModel(\"eos2gth\")\n",
        "model.serve()\n",
        "output = model.predict(input=eos7jlv_smiles, output=\"pandas\")\n",
        "model.close()\n",
        "output.to_csv(\"drive/MyDrive/h3d_ersilia_ai_workshop/data/session4/eos2gth_eos7jlv.csv\", index=False)"
      ],
      "metadata": {
        "cellView": "form",
        "id": "QgFL5VXGtD8I"
      },
      "execution_count": null,
      "outputs": []
    },
    {
      "cell_type": "code",
      "source": [
        "#@title Check the predicted antimalarial activities of the new compounds\n",
        "import matplotlib.pyplot as plt\n",
        "\n",
        "df1 = pd.read_csv(\"drive/MyDrive/h3d_ersilia_ai_workshop/data/session4/eos2gth_eos4b8j.csv\")\n",
        "df2 = pd.read_csv(\"drive/MyDrive/h3d_ersilia_ai_workshop/data/session4/eos2gth_eos7jlv.csv\")\n",
        "\n",
        "plt.hist(df1[\"score\"], label=\"eos4b8j - ChEMBL\", alpha=0.5)\n",
        "plt.hist(df2[\"score\"], label=\"eos7jlv - MedChem\", alpha=0.5)\n",
        "plt.legend()\n",
        "plt.show()"
      ],
      "metadata": {
        "cellView": "form",
        "id": "KPj9-jQr5ukQ"
      },
      "execution_count": null,
      "outputs": []
    },
    {
      "cell_type": "code",
      "source": [
        "#@title ADMETLab2 prediction for the generated molecules using the Ersilia Model Hub\n",
        "\n",
        "\n",
        "!ersilia fetch eos2v11\n",
        "from ersilia import ErsiliaModel\n",
        "\n",
        "model = ErsiliaModel(\"eos2v11\")\n",
        "model.serve()\n",
        "output = model.predict(input=eos4b8j_smiles, output=\"pandas\")\n",
        "model.close()\n",
        "output.to_csv(\"drive/MyDrive/h3d_ersilia_ai_workshop/data/session2/eos2v11_eos4b8j.csv\", index=False)\n",
        "\n",
        "output = model.predict(input=eos7jlv_smiles, output=\"pandas\")\n",
        "model.close()\n",
        "output.to_csv(\"drive/MyDrive/h3d_ersilia_ai_workshop/data/session2/eos2gth_eos7jlv.csv\", index=False)"
      ],
      "metadata": {
        "cellView": "form",
        "id": "c-sZsdOv2niD",
        "outputId": "4eff161b-327b-4a20-e8d4-19e13db6b8d6",
        "colab": {
          "base_uri": "https://localhost:8080/",
          "height": 398
        }
      },
      "execution_count": 16,
      "outputs": [
        {
          "output_type": "stream",
          "name": "stdout",
          "text": [
            "Requested model eos2v11 if not available locally. Do you want to fetch it? [Y/n]"
          ]
        },
        {
          "output_type": "error",
          "ename": "IndexError",
          "evalue": "ignored",
          "traceback": [
            "\u001b[0;31m---------------------------------------------------------------------------\u001b[0m",
            "\u001b[0;31mIndexError\u001b[0m                                Traceback (most recent call last)",
            "\u001b[0;32m<ipython-input-16-4b5eb6aa8f1e>\u001b[0m in \u001b[0;36m<module>\u001b[0;34m\u001b[0m\n\u001b[1;32m      5\u001b[0m \u001b[0;32mfrom\u001b[0m \u001b[0mersilia\u001b[0m \u001b[0;32mimport\u001b[0m \u001b[0mErsiliaModel\u001b[0m\u001b[0;34m\u001b[0m\u001b[0;34m\u001b[0m\u001b[0m\n\u001b[1;32m      6\u001b[0m \u001b[0;34m\u001b[0m\u001b[0m\n\u001b[0;32m----> 7\u001b[0;31m \u001b[0mmodel\u001b[0m \u001b[0;34m=\u001b[0m \u001b[0mErsiliaModel\u001b[0m\u001b[0;34m(\u001b[0m\u001b[0;34m\"eos2v11\"\u001b[0m\u001b[0;34m)\u001b[0m\u001b[0;34m\u001b[0m\u001b[0;34m\u001b[0m\u001b[0m\n\u001b[0m\u001b[1;32m      8\u001b[0m \u001b[0mmodel\u001b[0m\u001b[0;34m.\u001b[0m\u001b[0mserve\u001b[0m\u001b[0;34m(\u001b[0m\u001b[0;34m)\u001b[0m\u001b[0;34m\u001b[0m\u001b[0;34m\u001b[0m\u001b[0m\n\u001b[1;32m      9\u001b[0m \u001b[0moutput\u001b[0m \u001b[0;34m=\u001b[0m \u001b[0mmodel\u001b[0m\u001b[0;34m.\u001b[0m\u001b[0mpredict\u001b[0m\u001b[0;34m(\u001b[0m\u001b[0minput\u001b[0m\u001b[0;34m=\u001b[0m\u001b[0meos4b8j_smiles\u001b[0m\u001b[0;34m,\u001b[0m \u001b[0moutput\u001b[0m\u001b[0;34m=\u001b[0m\u001b[0;34m\"pandas\"\u001b[0m\u001b[0;34m)\u001b[0m\u001b[0;34m\u001b[0m\u001b[0;34m\u001b[0m\u001b[0m\n",
            "\u001b[0;32m/usr/local/lib/python3.7/site-packages/ersilia/core/model.py\u001b[0m in \u001b[0;36m__init__\u001b[0;34m(self, model, save_to_lake, service_class, config_json, credentials_json, verbose, fetch_if_not_available)\u001b[0m\n\u001b[1;32m     91\u001b[0m                     \u001b[0mself\u001b[0m\u001b[0;34m.\u001b[0m\u001b[0mmodel_id\u001b[0m\u001b[0;34m\u001b[0m\u001b[0;34m\u001b[0m\u001b[0m\n\u001b[1;32m     92\u001b[0m                 ),\n\u001b[0;32m---> 93\u001b[0;31m                 \u001b[0mdefault_answer\u001b[0m\u001b[0;34m=\u001b[0m\u001b[0;34m\"Y\"\u001b[0m\u001b[0;34m,\u001b[0m\u001b[0;34m\u001b[0m\u001b[0;34m\u001b[0m\u001b[0m\n\u001b[0m\u001b[1;32m     94\u001b[0m             )\n\u001b[1;32m     95\u001b[0m             \u001b[0;32mif\u001b[0m \u001b[0mdo_fetch\u001b[0m\u001b[0;34m:\u001b[0m\u001b[0;34m\u001b[0m\u001b[0;34m\u001b[0m\u001b[0m\n",
            "\u001b[0;32m/usr/local/lib/python3.7/site-packages/ersilia/utils/terminal.py\u001b[0m in \u001b[0;36myes_no_input\u001b[0;34m(prompt, default_answer, timeout)\u001b[0m\n\u001b[1;32m     83\u001b[0m         \u001b[0;32mreturn\u001b[0m \u001b[0mdefault_answer\u001b[0m\u001b[0;34m\u001b[0m\u001b[0;34m\u001b[0m\u001b[0m\n\u001b[1;32m     84\u001b[0m     \u001b[0mans\u001b[0m \u001b[0;34m=\u001b[0m \u001b[0mstr\u001b[0m\u001b[0;34m(\u001b[0m\u001b[0mans\u001b[0m\u001b[0;34m)\u001b[0m\u001b[0;34m.\u001b[0m\u001b[0mlower\u001b[0m\u001b[0;34m(\u001b[0m\u001b[0;34m)\u001b[0m\u001b[0;34m\u001b[0m\u001b[0;34m\u001b[0m\u001b[0m\n\u001b[0;32m---> 85\u001b[0;31m     \u001b[0;32mif\u001b[0m \u001b[0mans\u001b[0m\u001b[0;34m[\u001b[0m\u001b[0;36m0\u001b[0m\u001b[0;34m]\u001b[0m \u001b[0;34m==\u001b[0m \u001b[0;34m\"n\"\u001b[0m\u001b[0;34m:\u001b[0m\u001b[0;34m\u001b[0m\u001b[0;34m\u001b[0m\u001b[0m\n\u001b[0m\u001b[1;32m     86\u001b[0m         \u001b[0;32mreturn\u001b[0m \u001b[0;32mFalse\u001b[0m\u001b[0;34m\u001b[0m\u001b[0;34m\u001b[0m\u001b[0m\n\u001b[1;32m     87\u001b[0m     \u001b[0;32melse\u001b[0m\u001b[0;34m:\u001b[0m\u001b[0;34m\u001b[0m\u001b[0;34m\u001b[0m\u001b[0m\n",
            "\u001b[0;31mIndexError\u001b[0m: string index out of range"
          ]
        }
      ]
    }
  ],
  "metadata": {
    "colab": {
      "provenance": [],
      "include_colab_link": true
    },
    "kernelspec": {
      "display_name": "Python 3.10.4 64-bit",
      "language": "python",
      "name": "python3"
    },
    "language_info": {
      "name": "python",
      "version": "3.10.4"
    },
    "vscode": {
      "interpreter": {
        "hash": "916dbcbb3f70747c44a77c7bcd40155683ae19c65e1c03b4aa3499c5328201f1"
      }
    }
  },
  "nbformat": 4,
  "nbformat_minor": 0
}
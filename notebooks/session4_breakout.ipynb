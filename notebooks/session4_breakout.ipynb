{
  "cells": [
    {
      "cell_type": "markdown",
      "metadata": {
        "id": "view-in-github",
        "colab_type": "text"
      },
      "source": [
        "<a href=\"https://colab.research.google.com/github/ersilia-os/event-fund-ai-drug-discovery/blob/main/notebooks/session4_breakout.ipynb\" target=\"_parent\"><img src=\"https://colab.research.google.com/assets/colab-badge.svg\" alt=\"Open In Colab\"/></a>"
      ]
    },
    {
      "cell_type": "markdown",
      "metadata": {
        "id": "bPoSHbIg9rcJ"
      },
      "source": [
        "# Session 4: Generative Models\n",
        "\n",
        "This notebook explores generative models based on similarity searches (using a molecule as initial hit, looks for similar molecules in a virtually generated library).\n",
        "We will use our top10 hits from Session 2 to explore how these models work."
      ]
    },
    {
      "cell_type": "markdown",
      "metadata": {
        "id": "Lta64RlR-M8e"
      },
      "source": [
        "## Initial Hits\n",
        "\n",
        "Each generative model requires a starting point, a molecule that will serve as a blueprint for the generation of novel molecules.\n",
        "\n",
        "In this exercise, we will use the top10 hits from session 2 that you selected from the MMV malaria box. These should be stored in your drive under DataScience_Workshop/data/day2"
      ]
    },
    {
      "cell_type": "code",
      "execution_count": null,
      "metadata": {
        "id": "1g_75-Xc-7bH"
      },
      "outputs": [],
      "source": [
        "# Mount Google Drive\n",
        "from google.colab import drive\n",
        "drive.mount('/content/drive')"
      ]
    },
    {
      "cell_type": "code",
      "execution_count": null,
      "metadata": {
        "id": "MliArYlD_Q-G"
      },
      "outputs": [],
      "source": [
        "#import the necessary packages\n",
        "import pandas as pd\n",
        "\n",
        "#we can open it as a pandas dataframe\n",
        "data = \"drive/MyDrive/h3d_ersilia_ai_workshop/data/session2/mmv_malariabox_selection.csv\"\n",
        "df=pd.read_csv(data)\n",
        "df.head()"
      ]
    },
    {
      "cell_type": "code",
      "execution_count": null,
      "metadata": {
        "id": "Q0NwG4jtEBFv"
      },
      "outputs": [],
      "source": [
        "smiles = df[\"input\"].tolist()"
      ]
    },
    {
      "cell_type": "code",
      "execution_count": null,
      "metadata": {
        "id": "tOFcJ9dL7NUL"
      },
      "outputs": [],
      "source": [
        "# select the top1 hit and see its structure\n",
        "smi = smiles[1]"
      ]
    },
    {
      "cell_type": "code",
      "execution_count": null,
      "metadata": {
        "id": "JbdJyNnn77Ug"
      },
      "outputs": [],
      "source": [
        "smi"
      ]
    },
    {
      "cell_type": "code",
      "execution_count": null,
      "metadata": {
        "id": "Aa3SYzM07zRF"
      },
      "outputs": [],
      "source": [
        "#revise session 2 skills development if you are unsure about this step to visualise molecules using RdKit\n",
        "%%capture\n",
        "!pip install rdkit\n",
        "\n",
        "from rdkit import Chem\n",
        "from rdkit.Chem import Draw"
      ]
    },
    {
      "cell_type": "code",
      "execution_count": null,
      "metadata": {
        "id": "edTPug-L7gzk"
      },
      "outputs": [],
      "source": [
        "mol = Chem.MolFromSmiles(smi)\n",
        "Draw.MolToImage(mol)"
      ]
    },
    {
      "cell_type": "markdown",
      "metadata": {
        "id": "OqN66B0X0ttq"
      },
      "source": [
        "## Ersilia Model Hub\n",
        "First, we need to install Ersilia in this Google Colab notebook."
      ]
    },
    {
      "cell_type": "code",
      "execution_count": null,
      "metadata": {
        "id": "HK0VmfES9qQ3",
        "cellView": "form"
      },
      "outputs": [],
      "source": [
        "#@markdown Click on the play button to install Ersilia in this Colab notebook.\n",
        "\n",
        "%%capture\n",
        "%env MINICONDA_INSTALLER_SCRIPT=Miniconda3-py37_4.12.0-Linux-x86_64.sh\n",
        "%env MINICONDA_PREFIX=/usr/local\n",
        "%env PYTHONPATH={PYTHONPATH}:/usr/local/lib/python3.7/site-packages\n",
        "%env CONDA_PREFIX=/usr/local\n",
        "%env CONDA_PREFIX_1=/usr/local\n",
        "%env CONDA_DIR=/usr/local\n",
        "%env CONDA_DEFAULT_ENV=base\n",
        "!wget https://repo.anaconda.com/miniconda/$MINICONDA_INSTALLER_SCRIPT\n",
        "!chmod +x $MINICONDA_INSTALLER_SCRIPT\n",
        "!./$MINICONDA_INSTALLER_SCRIPT -b -f -p $MINICONDA_PREFIX\n",
        "!python -m pip install git+https://github.com/ersilia-os/ersilia.git\n",
        "!python -m pip install requests --upgrade\n",
        "import sys\n",
        "_ = (sys.path.append(\"/usr/local/lib/python3.7/site-packages\"))"
      ]
    },
    {
      "cell_type": "markdown",
      "metadata": {
        "id": "WmcCiz-N98KT"
      },
      "source": [
        "### Fetching Similarity Models\n",
        "We will work with two similarity models:\n",
        "* eos4b8j: gdbchembl-similarity\n",
        "* eos4b8j gdbmedchem-similarity\n",
        "\n",
        "In short, each of those models uses a virtually generated library of billions of hits to identify the 100 most similar to the starting point. You can read more about them on their respective publications([gdbchembl](https://www.frontiersin.org/articles/10.3389/fchem.2020.00046/full) and [gdbmedchem](https://onlinelibrary.wiley.com/doi/abs/10.1002/minf.201900031))\n",
        "\n",
        "GDBChEMBL contains a collection of 166.4 billion possible molecules of up to 17 atoms, and is browsable [here](http://faerun.gdb.tools/). The GBDMedChEM is a curated version of GDBChEMBL and restricts the search space to 10 million [molecules](http://gdb.unibe.ch)\n",
        "\n",
        "*Disclaimer: both these models post predictions online. If you are concerned about IP privacy issues check the publication for more information on data policy.* "
      ]
    },
    {
      "cell_type": "markdown",
      "metadata": {
        "id": "lXcNvrEv5dd2"
      },
      "source": [
        "## Generating a 100 molecules from the top hit\n",
        "Together we will walk through an example of how we can generate hits from the best molecule we found in the MMV Malaria Box using the similarity search in ChEMBL"
      ]
    },
    {
      "cell_type": "code",
      "source": [
        "#You can write here the molecule you want to get predictions for:\n",
        "molecule = \"CCCCC\""
      ],
      "metadata": {
        "id": "aPXg1BkLqJlB"
      },
      "execution_count": null,
      "outputs": []
    },
    {
      "cell_type": "code",
      "source": [
        "#@title GDBChEMBL Similarity\n",
        "#@markdown Press the play button to run a prediction!\n",
        "!ersilia fetch eos4b8j\n",
        "from ersilia import ErsiliaModel\n",
        "\n",
        "model = ErsiliaModel(\"eos4b8j\")\n",
        "model.serve()\n",
        "output = model.predict(input=molecule, output=\"pandas\")\n",
        "model.close()\n",
        "output.to_csv(\"drive/MyDrive/h3d_ersilia_ai_workshop/data/session2/eos4b8j.csv\", index=False)"
      ],
      "metadata": {
        "cellView": "form",
        "id": "GgqlUuXiqSfK"
      },
      "execution_count": null,
      "outputs": []
    },
    {
      "cell_type": "code",
      "source": [
        "#@title GDBMEdChem Similarity\n",
        "#@markdown Press the play button to run a prediction!\n",
        "!ersilia fetch eos7jlv\n",
        "from ersilia import ErsiliaModel\n",
        "\n",
        "model = ErsiliaModel(\"eos7jlv\")\n",
        "model.serve()\n",
        "output = model.predict(input=molecule, output=\"pandas\")\n",
        "model.close()\n",
        "output.to_csv(\"drive/MyDrive/h3d_ersilia_ai_workshop/data/session2/eos7jlv.csv\", index=False)"
      ],
      "metadata": {
        "cellView": "form",
        "id": "aiFztOqwq3OZ"
      },
      "execution_count": null,
      "outputs": []
    },
    {
      "cell_type": "code",
      "execution_count": null,
      "metadata": {
        "id": "4PEJoLHgIOz-"
      },
      "outputs": [],
      "source": [
        "from ersilia import ErsiliaModel\n",
        "\n",
        "model = ErsiliaModel(\"eos7jlv\")\n",
        "model.serve()\n",
        "output = model.predict(input=\"CCCC\")\n",
        "for x in output:\n",
        "    print(x)"
      ]
    }
  ],
  "metadata": {
    "colab": {
      "provenance": [],
      "include_colab_link": true
    },
    "kernelspec": {
      "display_name": "Python 3.10.4 64-bit",
      "language": "python",
      "name": "python3"
    },
    "language_info": {
      "name": "python",
      "version": "3.10.4"
    },
    "vscode": {
      "interpreter": {
        "hash": "916dbcbb3f70747c44a77c7bcd40155683ae19c65e1c03b4aa3499c5328201f1"
      }
    }
  },
  "nbformat": 4,
  "nbformat_minor": 0
}
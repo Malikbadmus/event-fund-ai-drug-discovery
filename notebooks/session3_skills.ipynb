{
  "nbformat": 4,
  "nbformat_minor": 0,
  "metadata": {
    "colab": {
      "provenance": [],
      "authorship_tag": "ABX9TyPaNwk3pDX+n4w0qzPaMYHS",
      "include_colab_link": true
    },
    "kernelspec": {
      "name": "python3",
      "display_name": "Python 3"
    },
    "language_info": {
      "name": "python"
    }
  },
  "cells": [
    {
      "cell_type": "markdown",
      "metadata": {
        "id": "view-in-github",
        "colab_type": "text"
      },
      "source": [
        "<a href=\"https://colab.research.google.com/github/ersilia-os/event-fund-ai-drug-discovery/blob/main/notebooks/session3_skills.ipynb\" target=\"_parent\"><img src=\"https://colab.research.google.com/assets/colab-badge.svg\" alt=\"Open In Colab\"/></a>"
      ]
    },
    {
      "cell_type": "markdown",
      "source": [
        "# Session 3\n",
        "\n",
        "In this session, we will use the Ersilia Model Hub to access a suite of AI models for Absorption, Distribution, Metabolism, Excretion and Toxicity activities, [ADMETLab](https://admetmesh.scbdd.com/).\n",
        "\n",
        "*Disclaimer: ADMETLab2.0 is provided as a web-based server, therefore molecules are submitted to a third party browser, which compromises its use for IP-sensitive data. In this exercises we will be using ADMETLab 2.0. The Ersilia Model Hub also contains models from ADMETLab1.0, which run on user's local system and do not post data to third party servers.*\n"
      ],
      "metadata": {
        "id": "N5r4Bj21hreI"
      }
    },
    {
      "cell_type": "markdown",
      "source": [
        "# Dataset \n",
        "\n",
        "Information about which data we will use in the session"
      ],
      "metadata": {
        "id": "JySxKHPnywR-"
      }
    },
    {
      "cell_type": "code",
      "source": [
        "# Mount Google Drive\n",
        "from google.colab import drive\n",
        "drive.mount('/content/drive')"
      ],
      "metadata": {
        "id": "iJvgl6Ea4e3n",
        "outputId": "da153f75-edbe-49dc-90bd-a0ba7bbc28fa",
        "colab": {
          "base_uri": "https://localhost:8080/"
        }
      },
      "execution_count": 24,
      "outputs": [
        {
          "output_type": "stream",
          "name": "stdout",
          "text": [
            "Drive already mounted at /content/drive; to attempt to forcibly remount, call drive.mount(\"/content/drive\", force_remount=True).\n"
          ]
        }
      ]
    },
    {
      "cell_type": "code",
      "source": [
        "# Load molecules\n",
        "import pandas as pd\n",
        "\n",
        "df = pd.read_csv(\"drive/MyDrive/DataScience_Workshop/data/day3/session3_compounds.csv\")"
      ],
      "metadata": {
        "id": "mDuX9dNty1Yb"
      },
      "execution_count": 25,
      "outputs": []
    },
    {
      "cell_type": "code",
      "source": [
        "df"
      ],
      "metadata": {
        "id": "sotV0SU_pAcd",
        "outputId": "5bd40d27-63cc-4411-987e-ca1314b602ff",
        "colab": {
          "base_uri": "https://localhost:8080/",
          "height": 332
        }
      },
      "execution_count": 26,
      "outputs": [
        {
          "output_type": "execute_result",
          "data": {
            "text/plain": [
              "              compound                                         CAN_SMILES\n",
              "0              Quinine              C=CC1CN2CCC1CC2C(O)c1ccnc2ccc(OC)cc12\n",
              "1          Chloroquine                  CCN(CC)CCCC(C)Nc1ccnc2cc(Cl)ccc12\n",
              "2          Amodiaquine             CCN(CC)Cc1cc(Nc2ccnc3cc(Cl)ccc23)ccc1O\n",
              "3  Desethylamodiaquine                 CCNCc1cc(Nc2ccnc3cc(Cl)ccc23)ccc1O\n",
              "4           Artemether                COC1OC2OC3(C)CCC4C(C)CCC(C1C)C24OO3\n",
              "5         Lumefantrine  CCCCN(CCCC)CC(O)c1cc(Cl)cc2c1-c1ccc(Cl)cc1C2=C...\n",
              "6           Amlodipine    CCOC(=O)C1=C(COCCN)NC(C)=C(C(=O)OC)C1c1ccccc1Cl\n",
              "7           Nifedipine  COC(=O)C1=C(C)NC(C)=C(C(=O)OC)C1c1ccccc1[N+](=...\n",
              "8            Ritonavir  CC(C)c1nc(CN(C)C(=O)NC(C(=O)NC(Cc2ccccc2)CC(O)..."
            ],
            "text/html": [
              "\n",
              "  <div id=\"df-e013cb01-c3c3-4e42-9665-0fa9dd3fd74c\">\n",
              "    <div class=\"colab-df-container\">\n",
              "      <div>\n",
              "<style scoped>\n",
              "    .dataframe tbody tr th:only-of-type {\n",
              "        vertical-align: middle;\n",
              "    }\n",
              "\n",
              "    .dataframe tbody tr th {\n",
              "        vertical-align: top;\n",
              "    }\n",
              "\n",
              "    .dataframe thead th {\n",
              "        text-align: right;\n",
              "    }\n",
              "</style>\n",
              "<table border=\"1\" class=\"dataframe\">\n",
              "  <thead>\n",
              "    <tr style=\"text-align: right;\">\n",
              "      <th></th>\n",
              "      <th>compound</th>\n",
              "      <th>CAN_SMILES</th>\n",
              "    </tr>\n",
              "  </thead>\n",
              "  <tbody>\n",
              "    <tr>\n",
              "      <th>0</th>\n",
              "      <td>Quinine</td>\n",
              "      <td>C=CC1CN2CCC1CC2C(O)c1ccnc2ccc(OC)cc12</td>\n",
              "    </tr>\n",
              "    <tr>\n",
              "      <th>1</th>\n",
              "      <td>Chloroquine</td>\n",
              "      <td>CCN(CC)CCCC(C)Nc1ccnc2cc(Cl)ccc12</td>\n",
              "    </tr>\n",
              "    <tr>\n",
              "      <th>2</th>\n",
              "      <td>Amodiaquine</td>\n",
              "      <td>CCN(CC)Cc1cc(Nc2ccnc3cc(Cl)ccc23)ccc1O</td>\n",
              "    </tr>\n",
              "    <tr>\n",
              "      <th>3</th>\n",
              "      <td>Desethylamodiaquine</td>\n",
              "      <td>CCNCc1cc(Nc2ccnc3cc(Cl)ccc23)ccc1O</td>\n",
              "    </tr>\n",
              "    <tr>\n",
              "      <th>4</th>\n",
              "      <td>Artemether</td>\n",
              "      <td>COC1OC2OC3(C)CCC4C(C)CCC(C1C)C24OO3</td>\n",
              "    </tr>\n",
              "    <tr>\n",
              "      <th>5</th>\n",
              "      <td>Lumefantrine</td>\n",
              "      <td>CCCCN(CCCC)CC(O)c1cc(Cl)cc2c1-c1ccc(Cl)cc1C2=C...</td>\n",
              "    </tr>\n",
              "    <tr>\n",
              "      <th>6</th>\n",
              "      <td>Amlodipine</td>\n",
              "      <td>CCOC(=O)C1=C(COCCN)NC(C)=C(C(=O)OC)C1c1ccccc1Cl</td>\n",
              "    </tr>\n",
              "    <tr>\n",
              "      <th>7</th>\n",
              "      <td>Nifedipine</td>\n",
              "      <td>COC(=O)C1=C(C)NC(C)=C(C(=O)OC)C1c1ccccc1[N+](=...</td>\n",
              "    </tr>\n",
              "    <tr>\n",
              "      <th>8</th>\n",
              "      <td>Ritonavir</td>\n",
              "      <td>CC(C)c1nc(CN(C)C(=O)NC(C(=O)NC(Cc2ccccc2)CC(O)...</td>\n",
              "    </tr>\n",
              "  </tbody>\n",
              "</table>\n",
              "</div>\n",
              "      <button class=\"colab-df-convert\" onclick=\"convertToInteractive('df-e013cb01-c3c3-4e42-9665-0fa9dd3fd74c')\"\n",
              "              title=\"Convert this dataframe to an interactive table.\"\n",
              "              style=\"display:none;\">\n",
              "        \n",
              "  <svg xmlns=\"http://www.w3.org/2000/svg\" height=\"24px\"viewBox=\"0 0 24 24\"\n",
              "       width=\"24px\">\n",
              "    <path d=\"M0 0h24v24H0V0z\" fill=\"none\"/>\n",
              "    <path d=\"M18.56 5.44l.94 2.06.94-2.06 2.06-.94-2.06-.94-.94-2.06-.94 2.06-2.06.94zm-11 1L8.5 8.5l.94-2.06 2.06-.94-2.06-.94L8.5 2.5l-.94 2.06-2.06.94zm10 10l.94 2.06.94-2.06 2.06-.94-2.06-.94-.94-2.06-.94 2.06-2.06.94z\"/><path d=\"M17.41 7.96l-1.37-1.37c-.4-.4-.92-.59-1.43-.59-.52 0-1.04.2-1.43.59L10.3 9.45l-7.72 7.72c-.78.78-.78 2.05 0 2.83L4 21.41c.39.39.9.59 1.41.59.51 0 1.02-.2 1.41-.59l7.78-7.78 2.81-2.81c.8-.78.8-2.07 0-2.86zM5.41 20L4 18.59l7.72-7.72 1.47 1.35L5.41 20z\"/>\n",
              "  </svg>\n",
              "      </button>\n",
              "      \n",
              "  <style>\n",
              "    .colab-df-container {\n",
              "      display:flex;\n",
              "      flex-wrap:wrap;\n",
              "      gap: 12px;\n",
              "    }\n",
              "\n",
              "    .colab-df-convert {\n",
              "      background-color: #E8F0FE;\n",
              "      border: none;\n",
              "      border-radius: 50%;\n",
              "      cursor: pointer;\n",
              "      display: none;\n",
              "      fill: #1967D2;\n",
              "      height: 32px;\n",
              "      padding: 0 0 0 0;\n",
              "      width: 32px;\n",
              "    }\n",
              "\n",
              "    .colab-df-convert:hover {\n",
              "      background-color: #E2EBFA;\n",
              "      box-shadow: 0px 1px 2px rgba(60, 64, 67, 0.3), 0px 1px 3px 1px rgba(60, 64, 67, 0.15);\n",
              "      fill: #174EA6;\n",
              "    }\n",
              "\n",
              "    [theme=dark] .colab-df-convert {\n",
              "      background-color: #3B4455;\n",
              "      fill: #D2E3FC;\n",
              "    }\n",
              "\n",
              "    [theme=dark] .colab-df-convert:hover {\n",
              "      background-color: #434B5C;\n",
              "      box-shadow: 0px 1px 3px 1px rgba(0, 0, 0, 0.15);\n",
              "      filter: drop-shadow(0px 1px 2px rgba(0, 0, 0, 0.3));\n",
              "      fill: #FFFFFF;\n",
              "    }\n",
              "  </style>\n",
              "\n",
              "      <script>\n",
              "        const buttonEl =\n",
              "          document.querySelector('#df-e013cb01-c3c3-4e42-9665-0fa9dd3fd74c button.colab-df-convert');\n",
              "        buttonEl.style.display =\n",
              "          google.colab.kernel.accessAllowed ? 'block' : 'none';\n",
              "\n",
              "        async function convertToInteractive(key) {\n",
              "          const element = document.querySelector('#df-e013cb01-c3c3-4e42-9665-0fa9dd3fd74c');\n",
              "          const dataTable =\n",
              "            await google.colab.kernel.invokeFunction('convertToInteractive',\n",
              "                                                     [key], {});\n",
              "          if (!dataTable) return;\n",
              "\n",
              "          const docLinkHtml = 'Like what you see? Visit the ' +\n",
              "            '<a target=\"_blank\" href=https://colab.research.google.com/notebooks/data_table.ipynb>data table notebook</a>'\n",
              "            + ' to learn more about interactive tables.';\n",
              "          element.innerHTML = '';\n",
              "          dataTable['output_type'] = 'display_data';\n",
              "          await google.colab.output.renderOutput(dataTable, element);\n",
              "          const docLink = document.createElement('div');\n",
              "          docLink.innerHTML = docLinkHtml;\n",
              "          element.appendChild(docLink);\n",
              "        }\n",
              "      </script>\n",
              "    </div>\n",
              "  </div>\n",
              "  "
            ]
          },
          "metadata": {},
          "execution_count": 26
        }
      ]
    },
    {
      "cell_type": "code",
      "source": [
        "smiles = df[\"CAN_SMILES\"].tolist()"
      ],
      "metadata": {
        "id": "NVSOMDKYpRoT"
      },
      "execution_count": 27,
      "outputs": []
    },
    {
      "cell_type": "markdown",
      "source": [
        "# Ersilia Model Hub\n",
        "\n",
        "First, we need to install the Ersilia Model Hub in this Colab notebook and fetch the ADMETLab2.0 (eos2v11 or admetlab-2)"
      ],
      "metadata": {
        "id": "PSrBsiSAy3l9"
      }
    },
    {
      "cell_type": "code",
      "source": [
        "#@title The Ersilia Model Hub\n",
        "#@markdown Click on the play button to install Ersilia in this Colab notebook.\n",
        "\n",
        "%%capture\n",
        "%env MINICONDA_INSTALLER_SCRIPT=Miniconda3-py37_4.12.0-Linux-x86_64.sh\n",
        "%env MINICONDA_PREFIX=/usr/local\n",
        "%env PYTHONPATH={PYTHONPATH}:/usr/local/lib/python3.7/site-packages\n",
        "%env CONDA_PREFIX=/usr/local\n",
        "%env CONDA_PREFIX_1=/usr/local\n",
        "%env CONDA_DIR=/usr/local\n",
        "%env CONDA_DEFAULT_ENV=base\n",
        "!wget https://repo.anaconda.com/miniconda/$MINICONDA_INSTALLER_SCRIPT\n",
        "!chmod +x $MINICONDA_INSTALLER_SCRIPT\n",
        "!./$MINICONDA_INSTALLER_SCRIPT -b -f -p $MINICONDA_PREFIX\n",
        "!python -m pip install git+https://github.com/ersilia-os/ersilia.git\n",
        "!python -m pip install requests --upgrade\n",
        "import sys\n",
        "_ = (sys.path.append(\"/usr/local/lib/python3.7/site-packages\"))"
      ],
      "metadata": {
        "id": "fmOdvwPhi7P_"
      },
      "execution_count": 28,
      "outputs": []
    },
    {
      "cell_type": "code",
      "source": [
        "# fetch admetlab2\n",
        "!ersilia fetch eos2v11"
      ],
      "metadata": {
        "id": "TAzyby3Dj-zt",
        "outputId": "5d2120e1-46dd-4699-e992-a8fd47ca8f0f",
        "colab": {
          "base_uri": "https://localhost:8080/"
        }
      },
      "execution_count": 29,
      "outputs": [
        {
          "output_type": "stream",
          "name": "stdout",
          "text": [
            "\u001b[34m⬇️  Fetching model eos2v11: admetlab-2\u001b[0m\n",
            "\u001b[32m👍 Model eos2v11 fetched successfully!\u001b[0m\n"
          ]
        }
      ]
    },
    {
      "cell_type": "code",
      "source": [
        "!ersilia serve eos2v11"
      ],
      "metadata": {
        "id": "6VTVdQ9r1B1g",
        "outputId": "dc2d4a70-bdf5-4e1f-de77-efb18ea629f1",
        "colab": {
          "base_uri": "https://localhost:8080/"
        }
      },
      "execution_count": 30,
      "outputs": [
        {
          "output_type": "stream",
          "name": "stdout",
          "text": [
            "\u001b[32m🚀 Serving model eos2v11: admetlab-2\u001b[0m\n",
            "\u001b[0m\n",
            "\u001b[33m   URL: http://127.0.0.1:58641\u001b[0m\n",
            "\u001b[33m   PID: 8396\u001b[0m\n",
            "\u001b[33m   SRV: conda\u001b[0m\n",
            "\u001b[0m\n",
            "\u001b[34m👉 Available APIs:\u001b[0m\n",
            "\u001b[34m   - predict\u001b[0m\n"
          ]
        }
      ]
    },
    {
      "cell_type": "code",
      "source": [
        "smiles"
      ],
      "metadata": {
        "id": "j1uE9VhsxPP8",
        "outputId": "bb1fc8b0-f2cd-4eba-cff8-22805c64ffd8",
        "colab": {
          "base_uri": "https://localhost:8080/"
        }
      },
      "execution_count": 33,
      "outputs": [
        {
          "output_type": "execute_result",
          "data": {
            "text/plain": [
              "['C=CC1CN2CCC1CC2C(O)c1ccnc2ccc(OC)cc12',\n",
              " 'CCN(CC)CCCC(C)Nc1ccnc2cc(Cl)ccc12',\n",
              " 'CCN(CC)Cc1cc(Nc2ccnc3cc(Cl)ccc23)ccc1O',\n",
              " 'CCNCc1cc(Nc2ccnc3cc(Cl)ccc23)ccc1O',\n",
              " 'COC1OC2OC3(C)CCC4C(C)CCC(C1C)C24OO3',\n",
              " 'CCCCN(CCCC)CC(O)c1cc(Cl)cc2c1-c1ccc(Cl)cc1C2=Cc1ccc(Cl)cc1',\n",
              " 'CCOC(=O)C1=C(COCCN)NC(C)=C(C(=O)OC)C1c1ccccc1Cl',\n",
              " 'COC(=O)C1=C(C)NC(C)=C(C(=O)OC)C1c1ccccc1[N+](=O)[O-]',\n",
              " 'CC(C)c1nc(CN(C)C(=O)NC(C(=O)NC(Cc2ccccc2)CC(O)C(Cc2ccccc2)NC(=O)OCc2cncs2)C(C)C)cs1']"
            ]
          },
          "metadata": {},
          "execution_count": 33
        }
      ]
    },
    {
      "cell_type": "code",
      "source": [
        "!ersilia api predict -i \"drive/MyDrive/DataScience_Workshop/data/day3/session3_compounds.csv\" -o \"drive/MyDrive/DataScience_Workshop/data/day3/admet_prediction.csv\""
      ],
      "metadata": {
        "id": "zpQlnFqfw4Dt",
        "outputId": "a5db60c7-1bbe-4062-eb0f-87c26d6be4a7",
        "colab": {
          "base_uri": "https://localhost:8080/"
        }
      },
      "execution_count": 34,
      "outputs": [
        {
          "output_type": "stream",
          "name": "stdout",
          "text": [
            "drive/MyDrive/DataScience_Workshop/data/day3/admet_prediction.csv\u001b[0m\n"
          ]
        }
      ]
    },
    {
      "cell_type": "code",
      "source": [
        "import pandas as pd\n",
        "df = pd.read_csv(\"drive/MyDrive/DataScience_Workshop/data/day3/admet_prediction.csv\")"
      ],
      "metadata": {
        "id": "WiCe02BY4081"
      },
      "execution_count": 35,
      "outputs": []
    },
    {
      "cell_type": "code",
      "source": [
        "df"
      ],
      "metadata": {
        "id": "y-L4zjN8zY2U",
        "outputId": "2de42487-4920-4273-f57e-0dda6089b421",
        "colab": {
          "base_uri": "https://localhost:8080/",
          "height": 616
        }
      },
      "execution_count": 36,
      "outputs": [
        {
          "output_type": "execute_result",
          "data": {
            "text/plain": [
              "                           key  \\\n",
              "0  LOUPRKONTZGTKE-UHFFFAOYSA-N   \n",
              "1  WHTVZRBIWZFKQO-UHFFFAOYSA-N   \n",
              "2  OVCDSSHSILBFBN-UHFFFAOYSA-N   \n",
              "3  VRXFDHAGFYWGHT-UHFFFAOYSA-N   \n",
              "4  SXYIRMFQILZOAM-UHFFFAOYSA-N   \n",
              "5  DYLGFOYVTXJFJP-UHFFFAOYSA-N   \n",
              "6  HTIQEAQVCYTUBX-UHFFFAOYSA-N   \n",
              "7  HYIMSNHJOBLJNT-UHFFFAOYSA-N   \n",
              "8  NCDNCNXCDXHOMX-UHFFFAOYSA-N   \n",
              "\n",
              "                                               input   LogS   LogD   LogP  \\\n",
              "0              C=CC1CN2CCC1CC2C(O)c1ccnc2ccc(OC)cc12 -2.751  2.446  2.719   \n",
              "1                  CCN(CC)CCCC(C)Nc1ccnc2cc(Cl)ccc12 -3.902  3.723  4.511   \n",
              "2             CCN(CC)Cc1cc(Nc2ccnc3cc(Cl)ccc23)ccc1O -4.100  3.993  4.714   \n",
              "3                 CCNCc1cc(Nc2ccnc3cc(Cl)ccc23)ccc1O -3.251  3.441  4.098   \n",
              "4                COC1OC2OC3(C)CCC4C(C)CCC(C1C)C24OO3 -4.677  3.149  3.333   \n",
              "5  CCCCN(CCCC)CC(O)c1cc(Cl)cc2c1-c1ccc(Cl)cc1C2=C... -5.321  4.679  7.612   \n",
              "6    CCOC(=O)C1=C(COCCN)NC(C)=C(C(=O)OC)C1c1ccccc1Cl -2.754  2.445  2.104   \n",
              "7  COC(=O)C1=C(C)NC(C)=C(C(=O)OC)C1c1ccccc1[N+](=... -3.448  2.773  2.384   \n",
              "8  CC(C)c1nc(CN(C)C(=O)NC(C(=O)NC(Cc2ccccc2)CC(O)... -4.677  4.592  4.500   \n",
              "\n",
              "   Pgp-inh  Pgp-sub    HIA  F(20%)  F(30%)  ...  MCE-18  \\\n",
              "0    0.965    0.164  0.027   0.007   0.003  ...  73.138   \n",
              "1    0.752    0.985  0.002   0.069   0.013  ...  24.000   \n",
              "2    0.897    0.952  0.003   0.025   0.004  ...  17.000   \n",
              "3    0.694    0.147  0.004   0.015   0.842  ...  16.000   \n",
              "4    0.099    0.001  0.002   0.002   0.032  ...  90.000   \n",
              "5    1.000    0.995  0.002   0.009   0.327  ...  72.000   \n",
              "6    0.501    0.185  0.002   0.015   0.004  ...  47.069   \n",
              "7    0.968    0.023  0.004   0.594   0.673  ...  50.783   \n",
              "8    0.991    0.684  0.961   0.007   0.496  ...  54.000   \n",
              "\n",
              "   Natural Product-likeness  Alarm_NMR  BMS  Chelating PAINS  Lipinski  \\\n",
              "0                     0.831        2.0  0.0        0.0   0.0  Accepted   \n",
              "1                    -0.891        0.0  0.0        0.0   0.0  Accepted   \n",
              "2                    -0.907        3.0  0.0        0.0   1.0  Accepted   \n",
              "3                    -0.595        3.0  0.0        0.0   1.0  Accepted   \n",
              "4                     3.830        0.0  1.0        0.0   0.0  Accepted   \n",
              "5                    -0.599        0.0  0.0        0.0   0.0  Rejected   \n",
              "6                    -0.736        1.0  0.0        0.0   0.0  Accepted   \n",
              "7                    -1.096        2.0  0.0        0.0   0.0  Accepted   \n",
              "8                    -0.618        1.0  0.0        0.0   0.0  Rejected   \n",
              "\n",
              "     Pfizer       GSK  GoldenTriangle  \n",
              "0  Accepted  Accepted        Accepted  \n",
              "1  Rejected  Rejected        Accepted  \n",
              "2  Rejected  Rejected        Accepted  \n",
              "3  Rejected  Rejected        Accepted  \n",
              "4  Rejected  Accepted        Accepted  \n",
              "5  Rejected  Rejected        Rejected  \n",
              "6  Accepted  Rejected        Accepted  \n",
              "7  Accepted  Accepted        Accepted  \n",
              "8  Accepted  Rejected        Rejected  \n",
              "\n",
              "[9 rows x 90 columns]"
            ],
            "text/html": [
              "\n",
              "  <div id=\"df-23dddb76-da75-489d-acb9-6ad62f435c14\">\n",
              "    <div class=\"colab-df-container\">\n",
              "      <div>\n",
              "<style scoped>\n",
              "    .dataframe tbody tr th:only-of-type {\n",
              "        vertical-align: middle;\n",
              "    }\n",
              "\n",
              "    .dataframe tbody tr th {\n",
              "        vertical-align: top;\n",
              "    }\n",
              "\n",
              "    .dataframe thead th {\n",
              "        text-align: right;\n",
              "    }\n",
              "</style>\n",
              "<table border=\"1\" class=\"dataframe\">\n",
              "  <thead>\n",
              "    <tr style=\"text-align: right;\">\n",
              "      <th></th>\n",
              "      <th>key</th>\n",
              "      <th>input</th>\n",
              "      <th>LogS</th>\n",
              "      <th>LogD</th>\n",
              "      <th>LogP</th>\n",
              "      <th>Pgp-inh</th>\n",
              "      <th>Pgp-sub</th>\n",
              "      <th>HIA</th>\n",
              "      <th>F(20%)</th>\n",
              "      <th>F(30%)</th>\n",
              "      <th>...</th>\n",
              "      <th>MCE-18</th>\n",
              "      <th>Natural Product-likeness</th>\n",
              "      <th>Alarm_NMR</th>\n",
              "      <th>BMS</th>\n",
              "      <th>Chelating</th>\n",
              "      <th>PAINS</th>\n",
              "      <th>Lipinski</th>\n",
              "      <th>Pfizer</th>\n",
              "      <th>GSK</th>\n",
              "      <th>GoldenTriangle</th>\n",
              "    </tr>\n",
              "  </thead>\n",
              "  <tbody>\n",
              "    <tr>\n",
              "      <th>0</th>\n",
              "      <td>LOUPRKONTZGTKE-UHFFFAOYSA-N</td>\n",
              "      <td>C=CC1CN2CCC1CC2C(O)c1ccnc2ccc(OC)cc12</td>\n",
              "      <td>-2.751</td>\n",
              "      <td>2.446</td>\n",
              "      <td>2.719</td>\n",
              "      <td>0.965</td>\n",
              "      <td>0.164</td>\n",
              "      <td>0.027</td>\n",
              "      <td>0.007</td>\n",
              "      <td>0.003</td>\n",
              "      <td>...</td>\n",
              "      <td>73.138</td>\n",
              "      <td>0.831</td>\n",
              "      <td>2.0</td>\n",
              "      <td>0.0</td>\n",
              "      <td>0.0</td>\n",
              "      <td>0.0</td>\n",
              "      <td>Accepted</td>\n",
              "      <td>Accepted</td>\n",
              "      <td>Accepted</td>\n",
              "      <td>Accepted</td>\n",
              "    </tr>\n",
              "    <tr>\n",
              "      <th>1</th>\n",
              "      <td>WHTVZRBIWZFKQO-UHFFFAOYSA-N</td>\n",
              "      <td>CCN(CC)CCCC(C)Nc1ccnc2cc(Cl)ccc12</td>\n",
              "      <td>-3.902</td>\n",
              "      <td>3.723</td>\n",
              "      <td>4.511</td>\n",
              "      <td>0.752</td>\n",
              "      <td>0.985</td>\n",
              "      <td>0.002</td>\n",
              "      <td>0.069</td>\n",
              "      <td>0.013</td>\n",
              "      <td>...</td>\n",
              "      <td>24.000</td>\n",
              "      <td>-0.891</td>\n",
              "      <td>0.0</td>\n",
              "      <td>0.0</td>\n",
              "      <td>0.0</td>\n",
              "      <td>0.0</td>\n",
              "      <td>Accepted</td>\n",
              "      <td>Rejected</td>\n",
              "      <td>Rejected</td>\n",
              "      <td>Accepted</td>\n",
              "    </tr>\n",
              "    <tr>\n",
              "      <th>2</th>\n",
              "      <td>OVCDSSHSILBFBN-UHFFFAOYSA-N</td>\n",
              "      <td>CCN(CC)Cc1cc(Nc2ccnc3cc(Cl)ccc23)ccc1O</td>\n",
              "      <td>-4.100</td>\n",
              "      <td>3.993</td>\n",
              "      <td>4.714</td>\n",
              "      <td>0.897</td>\n",
              "      <td>0.952</td>\n",
              "      <td>0.003</td>\n",
              "      <td>0.025</td>\n",
              "      <td>0.004</td>\n",
              "      <td>...</td>\n",
              "      <td>17.000</td>\n",
              "      <td>-0.907</td>\n",
              "      <td>3.0</td>\n",
              "      <td>0.0</td>\n",
              "      <td>0.0</td>\n",
              "      <td>1.0</td>\n",
              "      <td>Accepted</td>\n",
              "      <td>Rejected</td>\n",
              "      <td>Rejected</td>\n",
              "      <td>Accepted</td>\n",
              "    </tr>\n",
              "    <tr>\n",
              "      <th>3</th>\n",
              "      <td>VRXFDHAGFYWGHT-UHFFFAOYSA-N</td>\n",
              "      <td>CCNCc1cc(Nc2ccnc3cc(Cl)ccc23)ccc1O</td>\n",
              "      <td>-3.251</td>\n",
              "      <td>3.441</td>\n",
              "      <td>4.098</td>\n",
              "      <td>0.694</td>\n",
              "      <td>0.147</td>\n",
              "      <td>0.004</td>\n",
              "      <td>0.015</td>\n",
              "      <td>0.842</td>\n",
              "      <td>...</td>\n",
              "      <td>16.000</td>\n",
              "      <td>-0.595</td>\n",
              "      <td>3.0</td>\n",
              "      <td>0.0</td>\n",
              "      <td>0.0</td>\n",
              "      <td>1.0</td>\n",
              "      <td>Accepted</td>\n",
              "      <td>Rejected</td>\n",
              "      <td>Rejected</td>\n",
              "      <td>Accepted</td>\n",
              "    </tr>\n",
              "    <tr>\n",
              "      <th>4</th>\n",
              "      <td>SXYIRMFQILZOAM-UHFFFAOYSA-N</td>\n",
              "      <td>COC1OC2OC3(C)CCC4C(C)CCC(C1C)C24OO3</td>\n",
              "      <td>-4.677</td>\n",
              "      <td>3.149</td>\n",
              "      <td>3.333</td>\n",
              "      <td>0.099</td>\n",
              "      <td>0.001</td>\n",
              "      <td>0.002</td>\n",
              "      <td>0.002</td>\n",
              "      <td>0.032</td>\n",
              "      <td>...</td>\n",
              "      <td>90.000</td>\n",
              "      <td>3.830</td>\n",
              "      <td>0.0</td>\n",
              "      <td>1.0</td>\n",
              "      <td>0.0</td>\n",
              "      <td>0.0</td>\n",
              "      <td>Accepted</td>\n",
              "      <td>Rejected</td>\n",
              "      <td>Accepted</td>\n",
              "      <td>Accepted</td>\n",
              "    </tr>\n",
              "    <tr>\n",
              "      <th>5</th>\n",
              "      <td>DYLGFOYVTXJFJP-UHFFFAOYSA-N</td>\n",
              "      <td>CCCCN(CCCC)CC(O)c1cc(Cl)cc2c1-c1ccc(Cl)cc1C2=C...</td>\n",
              "      <td>-5.321</td>\n",
              "      <td>4.679</td>\n",
              "      <td>7.612</td>\n",
              "      <td>1.000</td>\n",
              "      <td>0.995</td>\n",
              "      <td>0.002</td>\n",
              "      <td>0.009</td>\n",
              "      <td>0.327</td>\n",
              "      <td>...</td>\n",
              "      <td>72.000</td>\n",
              "      <td>-0.599</td>\n",
              "      <td>0.0</td>\n",
              "      <td>0.0</td>\n",
              "      <td>0.0</td>\n",
              "      <td>0.0</td>\n",
              "      <td>Rejected</td>\n",
              "      <td>Rejected</td>\n",
              "      <td>Rejected</td>\n",
              "      <td>Rejected</td>\n",
              "    </tr>\n",
              "    <tr>\n",
              "      <th>6</th>\n",
              "      <td>HTIQEAQVCYTUBX-UHFFFAOYSA-N</td>\n",
              "      <td>CCOC(=O)C1=C(COCCN)NC(C)=C(C(=O)OC)C1c1ccccc1Cl</td>\n",
              "      <td>-2.754</td>\n",
              "      <td>2.445</td>\n",
              "      <td>2.104</td>\n",
              "      <td>0.501</td>\n",
              "      <td>0.185</td>\n",
              "      <td>0.002</td>\n",
              "      <td>0.015</td>\n",
              "      <td>0.004</td>\n",
              "      <td>...</td>\n",
              "      <td>47.069</td>\n",
              "      <td>-0.736</td>\n",
              "      <td>1.0</td>\n",
              "      <td>0.0</td>\n",
              "      <td>0.0</td>\n",
              "      <td>0.0</td>\n",
              "      <td>Accepted</td>\n",
              "      <td>Accepted</td>\n",
              "      <td>Rejected</td>\n",
              "      <td>Accepted</td>\n",
              "    </tr>\n",
              "    <tr>\n",
              "      <th>7</th>\n",
              "      <td>HYIMSNHJOBLJNT-UHFFFAOYSA-N</td>\n",
              "      <td>COC(=O)C1=C(C)NC(C)=C(C(=O)OC)C1c1ccccc1[N+](=...</td>\n",
              "      <td>-3.448</td>\n",
              "      <td>2.773</td>\n",
              "      <td>2.384</td>\n",
              "      <td>0.968</td>\n",
              "      <td>0.023</td>\n",
              "      <td>0.004</td>\n",
              "      <td>0.594</td>\n",
              "      <td>0.673</td>\n",
              "      <td>...</td>\n",
              "      <td>50.783</td>\n",
              "      <td>-1.096</td>\n",
              "      <td>2.0</td>\n",
              "      <td>0.0</td>\n",
              "      <td>0.0</td>\n",
              "      <td>0.0</td>\n",
              "      <td>Accepted</td>\n",
              "      <td>Accepted</td>\n",
              "      <td>Accepted</td>\n",
              "      <td>Accepted</td>\n",
              "    </tr>\n",
              "    <tr>\n",
              "      <th>8</th>\n",
              "      <td>NCDNCNXCDXHOMX-UHFFFAOYSA-N</td>\n",
              "      <td>CC(C)c1nc(CN(C)C(=O)NC(C(=O)NC(Cc2ccccc2)CC(O)...</td>\n",
              "      <td>-4.677</td>\n",
              "      <td>4.592</td>\n",
              "      <td>4.500</td>\n",
              "      <td>0.991</td>\n",
              "      <td>0.684</td>\n",
              "      <td>0.961</td>\n",
              "      <td>0.007</td>\n",
              "      <td>0.496</td>\n",
              "      <td>...</td>\n",
              "      <td>54.000</td>\n",
              "      <td>-0.618</td>\n",
              "      <td>1.0</td>\n",
              "      <td>0.0</td>\n",
              "      <td>0.0</td>\n",
              "      <td>0.0</td>\n",
              "      <td>Rejected</td>\n",
              "      <td>Accepted</td>\n",
              "      <td>Rejected</td>\n",
              "      <td>Rejected</td>\n",
              "    </tr>\n",
              "  </tbody>\n",
              "</table>\n",
              "<p>9 rows × 90 columns</p>\n",
              "</div>\n",
              "      <button class=\"colab-df-convert\" onclick=\"convertToInteractive('df-23dddb76-da75-489d-acb9-6ad62f435c14')\"\n",
              "              title=\"Convert this dataframe to an interactive table.\"\n",
              "              style=\"display:none;\">\n",
              "        \n",
              "  <svg xmlns=\"http://www.w3.org/2000/svg\" height=\"24px\"viewBox=\"0 0 24 24\"\n",
              "       width=\"24px\">\n",
              "    <path d=\"M0 0h24v24H0V0z\" fill=\"none\"/>\n",
              "    <path d=\"M18.56 5.44l.94 2.06.94-2.06 2.06-.94-2.06-.94-.94-2.06-.94 2.06-2.06.94zm-11 1L8.5 8.5l.94-2.06 2.06-.94-2.06-.94L8.5 2.5l-.94 2.06-2.06.94zm10 10l.94 2.06.94-2.06 2.06-.94-2.06-.94-.94-2.06-.94 2.06-2.06.94z\"/><path d=\"M17.41 7.96l-1.37-1.37c-.4-.4-.92-.59-1.43-.59-.52 0-1.04.2-1.43.59L10.3 9.45l-7.72 7.72c-.78.78-.78 2.05 0 2.83L4 21.41c.39.39.9.59 1.41.59.51 0 1.02-.2 1.41-.59l7.78-7.78 2.81-2.81c.8-.78.8-2.07 0-2.86zM5.41 20L4 18.59l7.72-7.72 1.47 1.35L5.41 20z\"/>\n",
              "  </svg>\n",
              "      </button>\n",
              "      \n",
              "  <style>\n",
              "    .colab-df-container {\n",
              "      display:flex;\n",
              "      flex-wrap:wrap;\n",
              "      gap: 12px;\n",
              "    }\n",
              "\n",
              "    .colab-df-convert {\n",
              "      background-color: #E8F0FE;\n",
              "      border: none;\n",
              "      border-radius: 50%;\n",
              "      cursor: pointer;\n",
              "      display: none;\n",
              "      fill: #1967D2;\n",
              "      height: 32px;\n",
              "      padding: 0 0 0 0;\n",
              "      width: 32px;\n",
              "    }\n",
              "\n",
              "    .colab-df-convert:hover {\n",
              "      background-color: #E2EBFA;\n",
              "      box-shadow: 0px 1px 2px rgba(60, 64, 67, 0.3), 0px 1px 3px 1px rgba(60, 64, 67, 0.15);\n",
              "      fill: #174EA6;\n",
              "    }\n",
              "\n",
              "    [theme=dark] .colab-df-convert {\n",
              "      background-color: #3B4455;\n",
              "      fill: #D2E3FC;\n",
              "    }\n",
              "\n",
              "    [theme=dark] .colab-df-convert:hover {\n",
              "      background-color: #434B5C;\n",
              "      box-shadow: 0px 1px 3px 1px rgba(0, 0, 0, 0.15);\n",
              "      filter: drop-shadow(0px 1px 2px rgba(0, 0, 0, 0.3));\n",
              "      fill: #FFFFFF;\n",
              "    }\n",
              "  </style>\n",
              "\n",
              "      <script>\n",
              "        const buttonEl =\n",
              "          document.querySelector('#df-23dddb76-da75-489d-acb9-6ad62f435c14 button.colab-df-convert');\n",
              "        buttonEl.style.display =\n",
              "          google.colab.kernel.accessAllowed ? 'block' : 'none';\n",
              "\n",
              "        async function convertToInteractive(key) {\n",
              "          const element = document.querySelector('#df-23dddb76-da75-489d-acb9-6ad62f435c14');\n",
              "          const dataTable =\n",
              "            await google.colab.kernel.invokeFunction('convertToInteractive',\n",
              "                                                     [key], {});\n",
              "          if (!dataTable) return;\n",
              "\n",
              "          const docLinkHtml = 'Like what you see? Visit the ' +\n",
              "            '<a target=\"_blank\" href=https://colab.research.google.com/notebooks/data_table.ipynb>data table notebook</a>'\n",
              "            + ' to learn more about interactive tables.';\n",
              "          element.innerHTML = '';\n",
              "          dataTable['output_type'] = 'display_data';\n",
              "          await google.colab.output.renderOutput(dataTable, element);\n",
              "          const docLink = document.createElement('div');\n",
              "          docLink.innerHTML = docLinkHtml;\n",
              "          element.appendChild(docLink);\n",
              "        }\n",
              "      </script>\n",
              "    </div>\n",
              "  </div>\n",
              "  "
            ]
          },
          "metadata": {},
          "execution_count": 36
        }
      ]
    },
    {
      "cell_type": "code",
      "source": [
        "from ersilia import ErsiliaModel\n",
        "\n",
        "model = ErsiliaModel(\"eos2v11\")\n",
        "model.serve()\n",
        "output = model.predict(input=smiles, output=\"pandas\")\n",
        "model.close()"
      ],
      "metadata": {
        "id": "T2PI96fvxlKm",
        "outputId": "2501c452-f219-4ca2-bd49-0b8b4488dfc6",
        "colab": {
          "base_uri": "https://localhost:8080/",
          "height": 363
        }
      },
      "execution_count": 37,
      "outputs": [
        {
          "output_type": "error",
          "ename": "ValueError",
          "evalue": "ignored",
          "traceback": [
            "\u001b[0;31m---------------------------------------------------------------------------\u001b[0m",
            "\u001b[0;31mValueError\u001b[0m                                Traceback (most recent call last)",
            "\u001b[0;32m<ipython-input-37-9ca77775b063>\u001b[0m in \u001b[0;36m<module>\u001b[0;34m\u001b[0m\n\u001b[1;32m      3\u001b[0m \u001b[0mmodel\u001b[0m \u001b[0;34m=\u001b[0m \u001b[0mErsiliaModel\u001b[0m\u001b[0;34m(\u001b[0m\u001b[0;34m\"eos2v11\"\u001b[0m\u001b[0;34m)\u001b[0m\u001b[0;34m\u001b[0m\u001b[0;34m\u001b[0m\u001b[0m\n\u001b[1;32m      4\u001b[0m \u001b[0mmodel\u001b[0m\u001b[0;34m.\u001b[0m\u001b[0mserve\u001b[0m\u001b[0;34m(\u001b[0m\u001b[0;34m)\u001b[0m\u001b[0;34m\u001b[0m\u001b[0;34m\u001b[0m\u001b[0m\n\u001b[0;32m----> 5\u001b[0;31m \u001b[0moutput\u001b[0m \u001b[0;34m=\u001b[0m \u001b[0mmodel\u001b[0m\u001b[0;34m.\u001b[0m\u001b[0mpredict\u001b[0m\u001b[0;34m(\u001b[0m\u001b[0minput\u001b[0m\u001b[0;34m=\u001b[0m\u001b[0msmiles\u001b[0m\u001b[0;34m,\u001b[0m \u001b[0moutput\u001b[0m\u001b[0;34m=\u001b[0m\u001b[0;34m\"pandas\"\u001b[0m\u001b[0;34m)\u001b[0m\u001b[0;34m\u001b[0m\u001b[0;34m\u001b[0m\u001b[0m\n\u001b[0m\u001b[1;32m      6\u001b[0m \u001b[0mmodel\u001b[0m\u001b[0;34m.\u001b[0m\u001b[0mclose\u001b[0m\u001b[0;34m(\u001b[0m\u001b[0;34m)\u001b[0m\u001b[0;34m\u001b[0m\u001b[0;34m\u001b[0m\u001b[0m\n",
            "\u001b[0;32m/usr/local/lib/python3.7/site-packages/ersilia/core/model.py\u001b[0m in \u001b[0;36m_method\u001b[0;34m(input, output, batch_size)\u001b[0m\n\u001b[1;32m    123\u001b[0m     \u001b[0;32mdef\u001b[0m \u001b[0m_set_api\u001b[0m\u001b[0;34m(\u001b[0m\u001b[0mself\u001b[0m\u001b[0;34m,\u001b[0m \u001b[0mapi_name\u001b[0m\u001b[0;34m)\u001b[0m\u001b[0;34m:\u001b[0m\u001b[0;34m\u001b[0m\u001b[0;34m\u001b[0m\u001b[0m\n\u001b[1;32m    124\u001b[0m         \u001b[0;32mdef\u001b[0m \u001b[0m_method\u001b[0m\u001b[0;34m(\u001b[0m\u001b[0minput\u001b[0m\u001b[0;34m=\u001b[0m\u001b[0;32mNone\u001b[0m\u001b[0;34m,\u001b[0m \u001b[0moutput\u001b[0m\u001b[0;34m=\u001b[0m\u001b[0;32mNone\u001b[0m\u001b[0;34m,\u001b[0m \u001b[0mbatch_size\u001b[0m\u001b[0;34m=\u001b[0m\u001b[0mDEFAULT_BATCH_SIZE\u001b[0m\u001b[0;34m)\u001b[0m\u001b[0;34m:\u001b[0m\u001b[0;34m\u001b[0m\u001b[0;34m\u001b[0m\u001b[0m\n\u001b[0;32m--> 125\u001b[0;31m             \u001b[0;32mreturn\u001b[0m \u001b[0mself\u001b[0m\u001b[0;34m.\u001b[0m\u001b[0mapi\u001b[0m\u001b[0;34m(\u001b[0m\u001b[0mapi_name\u001b[0m\u001b[0;34m,\u001b[0m \u001b[0minput\u001b[0m\u001b[0;34m,\u001b[0m \u001b[0moutput\u001b[0m\u001b[0;34m,\u001b[0m \u001b[0mbatch_size\u001b[0m\u001b[0;34m)\u001b[0m\u001b[0;34m\u001b[0m\u001b[0;34m\u001b[0m\u001b[0m\n\u001b[0m\u001b[1;32m    126\u001b[0m \u001b[0;34m\u001b[0m\u001b[0m\n\u001b[1;32m    127\u001b[0m         \u001b[0msetattr\u001b[0m\u001b[0;34m(\u001b[0m\u001b[0mself\u001b[0m\u001b[0;34m,\u001b[0m \u001b[0mapi_name\u001b[0m\u001b[0;34m,\u001b[0m \u001b[0m_method\u001b[0m\u001b[0;34m)\u001b[0m\u001b[0;34m\u001b[0m\u001b[0;34m\u001b[0m\u001b[0m\n",
            "\u001b[0;32m/usr/local/lib/python3.7/site-packages/ersilia/core/model.py\u001b[0m in \u001b[0;36mapi\u001b[0;34m(self, api_name, input, output, batch_size)\u001b[0m\n\u001b[1;32m    310\u001b[0m         \u001b[0;32melse\u001b[0m\u001b[0;34m:\u001b[0m\u001b[0;34m\u001b[0m\u001b[0;34m\u001b[0m\u001b[0m\n\u001b[1;32m    311\u001b[0m             return self.api_task(\n\u001b[0;32m--> 312\u001b[0;31m                 \u001b[0mapi_name\u001b[0m\u001b[0;34m=\u001b[0m\u001b[0mapi_name\u001b[0m\u001b[0;34m,\u001b[0m \u001b[0minput\u001b[0m\u001b[0;34m=\u001b[0m\u001b[0minput\u001b[0m\u001b[0;34m,\u001b[0m \u001b[0moutput\u001b[0m\u001b[0;34m=\u001b[0m\u001b[0moutput\u001b[0m\u001b[0;34m,\u001b[0m \u001b[0mbatch_size\u001b[0m\u001b[0;34m=\u001b[0m\u001b[0mbatch_size\u001b[0m\u001b[0;34m\u001b[0m\u001b[0;34m\u001b[0m\u001b[0m\n\u001b[0m\u001b[1;32m    313\u001b[0m             )\n\u001b[1;32m    314\u001b[0m \u001b[0;34m\u001b[0m\u001b[0m\n",
            "\u001b[0;32m/usr/local/lib/python3.7/site-packages/ersilia/core/model.py\u001b[0m in \u001b[0;36mapi_task\u001b[0;34m(self, api_name, input, output, batch_size)\u001b[0m\n\u001b[1;32m    317\u001b[0m         \u001b[0mapi_runner\u001b[0m \u001b[0;34m=\u001b[0m \u001b[0mself\u001b[0m\u001b[0;34m.\u001b[0m\u001b[0m_get_api_runner\u001b[0m\u001b[0;34m(\u001b[0m\u001b[0moutput\u001b[0m\u001b[0;34m=\u001b[0m\u001b[0moutput\u001b[0m\u001b[0;34m)\u001b[0m\u001b[0;34m\u001b[0m\u001b[0;34m\u001b[0m\u001b[0m\n\u001b[1;32m    318\u001b[0m         result = api_runner(\n\u001b[0;32m--> 319\u001b[0;31m             \u001b[0mapi\u001b[0m\u001b[0;34m=\u001b[0m\u001b[0mapi_instance\u001b[0m\u001b[0;34m,\u001b[0m \u001b[0minput\u001b[0m\u001b[0;34m=\u001b[0m\u001b[0minput\u001b[0m\u001b[0;34m,\u001b[0m \u001b[0moutput\u001b[0m\u001b[0;34m=\u001b[0m\u001b[0moutput\u001b[0m\u001b[0;34m,\u001b[0m \u001b[0mbatch_size\u001b[0m\u001b[0;34m=\u001b[0m\u001b[0mbatch_size\u001b[0m\u001b[0;34m\u001b[0m\u001b[0;34m\u001b[0m\u001b[0m\n\u001b[0m\u001b[1;32m    320\u001b[0m         )\n\u001b[1;32m    321\u001b[0m         \u001b[0;32mif\u001b[0m \u001b[0moutput\u001b[0m \u001b[0;32mis\u001b[0m \u001b[0;32mNone\u001b[0m\u001b[0;34m:\u001b[0m\u001b[0;34m\u001b[0m\u001b[0;34m\u001b[0m\u001b[0m\n",
            "\u001b[0;32m/usr/local/lib/python3.7/site-packages/ersilia/core/model.py\u001b[0m in \u001b[0;36m_api_runner_return\u001b[0;34m(self, api, input, output, batch_size)\u001b[0m\n\u001b[1;32m    192\u001b[0m             \u001b[0mtmp_output\u001b[0m \u001b[0;34m=\u001b[0m \u001b[0mos\u001b[0m\u001b[0;34m.\u001b[0m\u001b[0mpath\u001b[0m\u001b[0;34m.\u001b[0m\u001b[0mjoin\u001b[0m\u001b[0;34m(\u001b[0m\u001b[0mtmp_folder\u001b[0m\u001b[0;34m,\u001b[0m \u001b[0;34m\"temporary.h5\"\u001b[0m\u001b[0;34m)\u001b[0m\u001b[0;34m\u001b[0m\u001b[0;34m\u001b[0m\u001b[0m\n\u001b[1;32m    193\u001b[0m             for r in self._api_runner_iter(\n\u001b[0;32m--> 194\u001b[0;31m                 \u001b[0mapi\u001b[0m\u001b[0;34m=\u001b[0m\u001b[0mapi\u001b[0m\u001b[0;34m,\u001b[0m \u001b[0minput\u001b[0m\u001b[0;34m=\u001b[0m\u001b[0minput\u001b[0m\u001b[0;34m,\u001b[0m \u001b[0moutput\u001b[0m\u001b[0;34m=\u001b[0m\u001b[0mtmp_output\u001b[0m\u001b[0;34m,\u001b[0m \u001b[0mbatch_size\u001b[0m\u001b[0;34m=\u001b[0m\u001b[0mbatch_size\u001b[0m\u001b[0;34m\u001b[0m\u001b[0;34m\u001b[0m\u001b[0m\n\u001b[0m\u001b[1;32m    195\u001b[0m             ):\n\u001b[1;32m    196\u001b[0m                 \u001b[0;32mcontinue\u001b[0m\u001b[0;34m\u001b[0m\u001b[0;34m\u001b[0m\u001b[0m\n",
            "\u001b[0;32m/usr/local/lib/python3.7/site-packages/ersilia/core/model.py\u001b[0m in \u001b[0;36m_api_runner_iter\u001b[0;34m(self, api, input, output, batch_size)\u001b[0m\n\u001b[1;32m    172\u001b[0m \u001b[0;34m\u001b[0m\u001b[0m\n\u001b[1;32m    173\u001b[0m     \u001b[0;32mdef\u001b[0m \u001b[0m_api_runner_iter\u001b[0m\u001b[0;34m(\u001b[0m\u001b[0mself\u001b[0m\u001b[0;34m,\u001b[0m \u001b[0mapi\u001b[0m\u001b[0;34m,\u001b[0m \u001b[0minput\u001b[0m\u001b[0;34m,\u001b[0m \u001b[0moutput\u001b[0m\u001b[0;34m,\u001b[0m \u001b[0mbatch_size\u001b[0m\u001b[0;34m)\u001b[0m\u001b[0;34m:\u001b[0m\u001b[0;34m\u001b[0m\u001b[0;34m\u001b[0m\u001b[0m\n\u001b[0;32m--> 174\u001b[0;31m         \u001b[0;32mfor\u001b[0m \u001b[0mresult\u001b[0m \u001b[0;32min\u001b[0m \u001b[0mapi\u001b[0m\u001b[0;34m.\u001b[0m\u001b[0mpost\u001b[0m\u001b[0;34m(\u001b[0m\u001b[0minput\u001b[0m\u001b[0;34m=\u001b[0m\u001b[0minput\u001b[0m\u001b[0;34m,\u001b[0m \u001b[0moutput\u001b[0m\u001b[0;34m=\u001b[0m\u001b[0moutput\u001b[0m\u001b[0;34m,\u001b[0m \u001b[0mbatch_size\u001b[0m\u001b[0;34m=\u001b[0m\u001b[0mbatch_size\u001b[0m\u001b[0;34m)\u001b[0m\u001b[0;34m:\u001b[0m\u001b[0;34m\u001b[0m\u001b[0;34m\u001b[0m\u001b[0m\n\u001b[0m\u001b[1;32m    175\u001b[0m             assert (\n\u001b[1;32m    176\u001b[0m                 \u001b[0mresult\u001b[0m \u001b[0;32mis\u001b[0m \u001b[0;32mnot\u001b[0m \u001b[0;32mNone\u001b[0m\u001b[0;34m\u001b[0m\u001b[0;34m\u001b[0m\u001b[0m\n",
            "\u001b[0;32m/usr/local/lib/python3.7/site-packages/ersilia/serve/api.py\u001b[0m in \u001b[0;36mpost\u001b[0;34m(self, input, output, batch_size)\u001b[0m\n\u001b[1;32m    311\u001b[0m             \u001b[0mresults\u001b[0m \u001b[0;34m=\u001b[0m \u001b[0mjson\u001b[0m\u001b[0;34m.\u001b[0m\u001b[0mdumps\u001b[0m\u001b[0;34m(\u001b[0m\u001b[0mresults\u001b[0m\u001b[0;34m)\u001b[0m\u001b[0;34m\u001b[0m\u001b[0;34m\u001b[0m\u001b[0m\n\u001b[1;32m    312\u001b[0m             self.output_adapter.adapt(\n\u001b[0;32m--> 313\u001b[0;31m                 \u001b[0mresults\u001b[0m\u001b[0;34m,\u001b[0m \u001b[0moutput\u001b[0m\u001b[0;34m,\u001b[0m \u001b[0mmodel_id\u001b[0m\u001b[0;34m=\u001b[0m\u001b[0mself\u001b[0m\u001b[0;34m.\u001b[0m\u001b[0mmodel_id\u001b[0m\u001b[0;34m,\u001b[0m \u001b[0mapi_name\u001b[0m\u001b[0;34m=\u001b[0m\u001b[0mself\u001b[0m\u001b[0;34m.\u001b[0m\u001b[0mapi_name\u001b[0m\u001b[0;34m\u001b[0m\u001b[0;34m\u001b[0m\u001b[0m\n\u001b[0m\u001b[1;32m    314\u001b[0m             )\n\u001b[1;32m    315\u001b[0m             \u001b[0;32mfor\u001b[0m \u001b[0mo\u001b[0m \u001b[0;32min\u001b[0m \u001b[0;34m[\u001b[0m\u001b[0moutput\u001b[0m\u001b[0;34m]\u001b[0m\u001b[0;34m:\u001b[0m\u001b[0;34m\u001b[0m\u001b[0;34m\u001b[0m\u001b[0m\n",
            "\u001b[0;32m/usr/local/lib/python3.7/site-packages/ersilia/io/output.py\u001b[0m in \u001b[0;36madapt\u001b[0;34m(self, result, output, model_id, api_name)\u001b[0m\n\u001b[1;32m    269\u001b[0m         \u001b[0;32mif\u001b[0m \u001b[0mself\u001b[0m\u001b[0;34m.\u001b[0m\u001b[0m_has_extension\u001b[0m\u001b[0;34m(\u001b[0m\u001b[0moutput\u001b[0m\u001b[0;34m,\u001b[0m \u001b[0;34m\"h5\"\u001b[0m\u001b[0;34m)\u001b[0m\u001b[0;34m:\u001b[0m\u001b[0;34m\u001b[0m\u001b[0;34m\u001b[0m\u001b[0m\n\u001b[1;32m    270\u001b[0m             \u001b[0mdf\u001b[0m \u001b[0;34m=\u001b[0m \u001b[0mself\u001b[0m\u001b[0;34m.\u001b[0m\u001b[0m_to_dataframe\u001b[0m\u001b[0;34m(\u001b[0m\u001b[0mresult\u001b[0m\u001b[0;34m)\u001b[0m\u001b[0;34m\u001b[0m\u001b[0;34m\u001b[0m\u001b[0m\n\u001b[0;32m--> 271\u001b[0;31m             \u001b[0mdf\u001b[0m\u001b[0;34m.\u001b[0m\u001b[0mwrite\u001b[0m\u001b[0;34m(\u001b[0m\u001b[0moutput\u001b[0m\u001b[0;34m)\u001b[0m\u001b[0;34m\u001b[0m\u001b[0;34m\u001b[0m\u001b[0m\n\u001b[0m\u001b[1;32m    272\u001b[0m         \u001b[0;32mreturn\u001b[0m \u001b[0mresult\u001b[0m\u001b[0;34m\u001b[0m\u001b[0;34m\u001b[0m\u001b[0m\n\u001b[1;32m    273\u001b[0m \u001b[0;34m\u001b[0m\u001b[0m\n",
            "\u001b[0;32m/usr/local/lib/python3.7/site-packages/ersilia/io/output.py\u001b[0m in \u001b[0;36mwrite\u001b[0;34m(self, file_name, delimiter)\u001b[0m\n\u001b[1;32m     63\u001b[0m     \u001b[0;32mdef\u001b[0m \u001b[0mwrite\u001b[0m\u001b[0;34m(\u001b[0m\u001b[0mself\u001b[0m\u001b[0;34m,\u001b[0m \u001b[0mfile_name\u001b[0m\u001b[0;34m,\u001b[0m \u001b[0mdelimiter\u001b[0m\u001b[0;34m=\u001b[0m\u001b[0;32mNone\u001b[0m\u001b[0;34m)\u001b[0m\u001b[0;34m:\u001b[0m\u001b[0;34m\u001b[0m\u001b[0;34m\u001b[0m\u001b[0m\n\u001b[1;32m     64\u001b[0m         \u001b[0;32mif\u001b[0m \u001b[0mself\u001b[0m\u001b[0;34m.\u001b[0m\u001b[0m_is_h5\u001b[0m\u001b[0;34m(\u001b[0m\u001b[0mfile_name\u001b[0m\u001b[0;34m)\u001b[0m\u001b[0;34m:\u001b[0m\u001b[0;34m\u001b[0m\u001b[0;34m\u001b[0m\u001b[0m\n\u001b[0;32m---> 65\u001b[0;31m             \u001b[0mself\u001b[0m\u001b[0;34m.\u001b[0m\u001b[0mwrite_hdf5\u001b[0m\u001b[0;34m(\u001b[0m\u001b[0mfile_name\u001b[0m\u001b[0;34m)\u001b[0m\u001b[0;34m\u001b[0m\u001b[0;34m\u001b[0m\u001b[0m\n\u001b[0m\u001b[1;32m     66\u001b[0m         \u001b[0;32melse\u001b[0m\u001b[0;34m:\u001b[0m\u001b[0;34m\u001b[0m\u001b[0;34m\u001b[0m\u001b[0m\n\u001b[1;32m     67\u001b[0m             \u001b[0mself\u001b[0m\u001b[0;34m.\u001b[0m\u001b[0mwrite_text\u001b[0m\u001b[0;34m(\u001b[0m\u001b[0mfile_name\u001b[0m\u001b[0;34m,\u001b[0m \u001b[0mdelimiter\u001b[0m\u001b[0;34m=\u001b[0m\u001b[0mdelimiter\u001b[0m\u001b[0;34m)\u001b[0m\u001b[0;34m\u001b[0m\u001b[0;34m\u001b[0m\u001b[0m\n",
            "\u001b[0;32m/usr/local/lib/python3.7/site-packages/ersilia/io/output.py\u001b[0m in \u001b[0;36mwrite_hdf5\u001b[0;34m(self, file_name)\u001b[0m\n\u001b[1;32m     48\u001b[0m             \u001b[0mkeys\u001b[0m\u001b[0;34m=\u001b[0m\u001b[0mres\u001b[0m\u001b[0;34m[\u001b[0m\u001b[0;34m\"keys\"\u001b[0m\u001b[0;34m]\u001b[0m\u001b[0;34m,\u001b[0m\u001b[0;34m\u001b[0m\u001b[0;34m\u001b[0m\u001b[0m\n\u001b[1;32m     49\u001b[0m             \u001b[0minputs\u001b[0m\u001b[0;34m=\u001b[0m\u001b[0mres\u001b[0m\u001b[0;34m[\u001b[0m\u001b[0;34m\"inputs\"\u001b[0m\u001b[0;34m]\u001b[0m\u001b[0;34m,\u001b[0m\u001b[0;34m\u001b[0m\u001b[0;34m\u001b[0m\u001b[0m\n\u001b[0;32m---> 50\u001b[0;31m             \u001b[0mfeatures\u001b[0m\u001b[0;34m=\u001b[0m\u001b[0mres\u001b[0m\u001b[0;34m[\u001b[0m\u001b[0;34m\"features\"\u001b[0m\u001b[0;34m]\u001b[0m\u001b[0;34m,\u001b[0m\u001b[0;34m\u001b[0m\u001b[0;34m\u001b[0m\u001b[0m\n\u001b[0m\u001b[1;32m     51\u001b[0m         )\n\u001b[1;32m     52\u001b[0m         \u001b[0mhdf5\u001b[0m\u001b[0;34m.\u001b[0m\u001b[0msave\u001b[0m\u001b[0;34m(\u001b[0m\u001b[0mfile_name\u001b[0m\u001b[0;34m)\u001b[0m\u001b[0;34m\u001b[0m\u001b[0;34m\u001b[0m\u001b[0m\n",
            "\u001b[0;32m/usr/local/lib/python3.7/site-packages/ersilia/utils/hdf5.py\u001b[0m in \u001b[0;36m__init__\u001b[0;34m(self, values, keys, inputs, features)\u001b[0m\n\u001b[1;32m      5\u001b[0m \u001b[0;32mclass\u001b[0m \u001b[0mHdf5Data\u001b[0m\u001b[0;34m(\u001b[0m\u001b[0mobject\u001b[0m\u001b[0;34m)\u001b[0m\u001b[0;34m:\u001b[0m\u001b[0;34m\u001b[0m\u001b[0;34m\u001b[0m\u001b[0m\n\u001b[1;32m      6\u001b[0m     \u001b[0;32mdef\u001b[0m \u001b[0m__init__\u001b[0m\u001b[0;34m(\u001b[0m\u001b[0mself\u001b[0m\u001b[0;34m,\u001b[0m \u001b[0mvalues\u001b[0m\u001b[0;34m,\u001b[0m \u001b[0mkeys\u001b[0m\u001b[0;34m,\u001b[0m \u001b[0minputs\u001b[0m\u001b[0;34m,\u001b[0m \u001b[0mfeatures\u001b[0m\u001b[0;34m)\u001b[0m\u001b[0;34m:\u001b[0m\u001b[0;34m\u001b[0m\u001b[0;34m\u001b[0m\u001b[0m\n\u001b[0;32m----> 7\u001b[0;31m         \u001b[0mself\u001b[0m\u001b[0;34m.\u001b[0m\u001b[0mvalues\u001b[0m \u001b[0;34m=\u001b[0m \u001b[0mnp\u001b[0m\u001b[0;34m.\u001b[0m\u001b[0marray\u001b[0m\u001b[0;34m(\u001b[0m\u001b[0mvalues\u001b[0m\u001b[0;34m,\u001b[0m \u001b[0mdtype\u001b[0m\u001b[0;34m=\u001b[0m\u001b[0mnp\u001b[0m\u001b[0;34m.\u001b[0m\u001b[0mfloat32\u001b[0m\u001b[0;34m)\u001b[0m\u001b[0;34m\u001b[0m\u001b[0;34m\u001b[0m\u001b[0m\n\u001b[0m\u001b[1;32m      8\u001b[0m         \u001b[0mself\u001b[0m\u001b[0;34m.\u001b[0m\u001b[0mkeys\u001b[0m \u001b[0;34m=\u001b[0m \u001b[0mnp\u001b[0m\u001b[0;34m.\u001b[0m\u001b[0marray\u001b[0m\u001b[0;34m(\u001b[0m\u001b[0mkeys\u001b[0m\u001b[0;34m,\u001b[0m \u001b[0mdtype\u001b[0m\u001b[0;34m=\u001b[0m\u001b[0mh5py\u001b[0m\u001b[0;34m.\u001b[0m\u001b[0mstring_dtype\u001b[0m\u001b[0;34m(\u001b[0m\u001b[0;34m)\u001b[0m\u001b[0;34m)\u001b[0m\u001b[0;34m\u001b[0m\u001b[0;34m\u001b[0m\u001b[0m\n\u001b[1;32m      9\u001b[0m         \u001b[0mself\u001b[0m\u001b[0;34m.\u001b[0m\u001b[0minputs\u001b[0m \u001b[0;34m=\u001b[0m \u001b[0mnp\u001b[0m\u001b[0;34m.\u001b[0m\u001b[0marray\u001b[0m\u001b[0;34m(\u001b[0m\u001b[0minputs\u001b[0m\u001b[0;34m,\u001b[0m \u001b[0mdtype\u001b[0m\u001b[0;34m=\u001b[0m\u001b[0mh5py\u001b[0m\u001b[0;34m.\u001b[0m\u001b[0mstring_dtype\u001b[0m\u001b[0;34m(\u001b[0m\u001b[0;34m)\u001b[0m\u001b[0;34m)\u001b[0m\u001b[0;34m\u001b[0m\u001b[0;34m\u001b[0m\u001b[0m\n",
            "\u001b[0;31mValueError\u001b[0m: could not convert string to float: '81.2536849975586%'"
          ]
        }
      ]
    },
    {
      "cell_type": "code",
      "source": [],
      "metadata": {
        "id": "Exn9kl-5xprM"
      },
      "execution_count": null,
      "outputs": []
    }
  ]
}
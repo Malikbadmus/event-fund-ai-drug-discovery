{
  "nbformat": 4,
  "nbformat_minor": 0,
  "metadata": {
    "colab": {
      "provenance": [],
      "authorship_tag": "ABX9TyOnJqPATVzArQqynyGoFLYI",
      "include_colab_link": true
    },
    "kernelspec": {
      "name": "python3",
      "display_name": "Python 3"
    },
    "language_info": {
      "name": "python"
    }
  },
  "cells": [
    {
      "cell_type": "markdown",
      "metadata": {
        "id": "view-in-github",
        "colab_type": "text"
      },
      "source": [
        "<a href=\"https://colab.research.google.com/github/ersilia-os/event-fund-ai-drug-discovery/blob/main/notebooks/session3_skills.ipynb\" target=\"_parent\"><img src=\"https://colab.research.google.com/assets/colab-badge.svg\" alt=\"Open In Colab\"/></a>"
      ]
    },
    {
      "cell_type": "markdown",
      "source": [
        "# Session 3\n",
        "\n",
        "In this session, we will use the Ersilia Model Hub to access a suite of AI models for Absorption, Distribution, Metabolism, Excretion and Toxicity activities, [ADMETLab](https://admetmesh.scbdd.com/).\n",
        "\n",
        "*Disclaimer: ADMETLab2.0 is provided as a web-based server, therefore molecules are submitted to a third party browser, which compromises its use for IP-sensitive data. In this exercises we will be using ADMETLab 2.0. The Ersilia Model Hub also contains models from ADMETLab1.0, which run on user's local system and do not post data to third party servers.*\n"
      ],
      "metadata": {
        "id": "N5r4Bj21hreI"
      }
    },
    {
      "cell_type": "markdown",
      "source": [
        "# Dataset \n",
        "\n",
        "Information about which data we will use in the session"
      ],
      "metadata": {
        "id": "JySxKHPnywR-"
      }
    },
    {
      "cell_type": "code",
      "source": [
        "# Mount Google Drive\n",
        "from google.colab import drive\n",
        "drive.mount('/content/drive')"
      ],
      "metadata": {
        "id": "iJvgl6Ea4e3n",
        "outputId": "3a4f4114-c2d0-4fb9-ab8b-f5c069050bca",
        "colab": {
          "base_uri": "https://localhost:8080/"
        }
      },
      "execution_count": 21,
      "outputs": [
        {
          "output_type": "stream",
          "name": "stdout",
          "text": [
            "Mounted at /content/drive\n"
          ]
        }
      ]
    },
    {
      "cell_type": "code",
      "source": [
        "# Load molecules"
      ],
      "metadata": {
        "id": "mDuX9dNty1Yb"
      },
      "execution_count": null,
      "outputs": []
    },
    {
      "cell_type": "markdown",
      "source": [
        "# Ersilia Model Hub\n",
        "\n",
        "First, we need to install the Ersilia Model Hub in this Colab notebook and fetch the ADMETLab2.0 (eos2v11 or admetlab-2)"
      ],
      "metadata": {
        "id": "PSrBsiSAy3l9"
      }
    },
    {
      "cell_type": "code",
      "source": [
        "#@title The Ersilia Model Hub\n",
        "#@markdown Click on the play button to install Ersilia in this Colab notebook.\n",
        "\n",
        "%%capture\n",
        "%env MINICONDA_INSTALLER_SCRIPT=Miniconda3-py37_4.12.0-Linux-x86_64.sh\n",
        "%env MINICONDA_PREFIX=/usr/local\n",
        "%env PYTHONPATH={PYTHONPATH}:/usr/local/lib/python3.7/site-packages\n",
        "%env CONDA_PREFIX=/usr/local\n",
        "%env CONDA_PREFIX_1=/usr/local\n",
        "%env CONDA_DIR=/usr/local\n",
        "%env CONDA_DEFAULT_ENV=base\n",
        "!wget https://repo.anaconda.com/miniconda/$MINICONDA_INSTALLER_SCRIPT\n",
        "!chmod +x $MINICONDA_INSTALLER_SCRIPT\n",
        "!./$MINICONDA_INSTALLER_SCRIPT -b -f -p $MINICONDA_PREFIX\n",
        "!python -m pip install git+https://github.com/ersilia-os/ersilia.git\n",
        "!python -m pip install requests --upgrade\n",
        "import sys\n",
        "_ = (sys.path.append(\"/usr/local/lib/python3.7/site-packages\"))"
      ],
      "metadata": {
        "id": "fmOdvwPhi7P_"
      },
      "execution_count": 3,
      "outputs": []
    },
    {
      "cell_type": "code",
      "source": [
        "# fetch admetlab2\n",
        "\n",
        "!ersilia fetch eos2v11"
      ],
      "metadata": {
        "id": "TAzyby3Dj-zt"
      },
      "execution_count": null,
      "outputs": []
    },
    {
      "cell_type": "code",
      "source": [
        "!ersilia serve eos2v11"
      ],
      "metadata": {
        "id": "6VTVdQ9r1B1g",
        "outputId": "ccc8805a-e7da-45c8-e07d-01e7ba4f164f",
        "colab": {
          "base_uri": "https://localhost:8080/"
        }
      },
      "execution_count": 6,
      "outputs": [
        {
          "output_type": "stream",
          "name": "stdout",
          "text": [
            "\u001b[32m🚀 Serving model eos2v11: admetlab-2\u001b[0m\n",
            "\u001b[0m\n",
            "\u001b[33m   URL: http://127.0.0.1:56921\u001b[0m\n",
            "\u001b[33m   PID: 4327\u001b[0m\n",
            "\u001b[33m   SRV: conda\u001b[0m\n",
            "\u001b[0m\n",
            "\u001b[34m👉 Available APIs:\u001b[0m\n",
            "\u001b[34m   - predict\u001b[0m\n"
          ]
        }
      ]
    },
    {
      "cell_type": "code",
      "source": [
        "!ersilia api predict -i \"CCCC\" -o \"drive/MyDrive/DataScience_Workshop/data/day3/admet_prediction.csv\""
      ],
      "metadata": {
        "id": "67FagOtM1E3Z",
        "outputId": "42d7db85-4057-4ec9-be41-e1fa23f1b540",
        "colab": {
          "base_uri": "https://localhost:8080/"
        }
      },
      "execution_count": 22,
      "outputs": [
        {
          "output_type": "stream",
          "name": "stdout",
          "text": [
            "drive/MyDrive/DataScience_Workshop/data/day3/admet_prediction.csv\u001b[0m\n"
          ]
        }
      ]
    },
    {
      "cell_type": "code",
      "source": [
        "import pandas as pd\n",
        "df = pd.read_csv(\"drive/MyDrive/DataScience_Workshop/data/day3/admet_prediction.csv\")"
      ],
      "metadata": {
        "id": "WiCe02BY4081"
      },
      "execution_count": 23,
      "outputs": []
    },
    {
      "cell_type": "code",
      "source": [
        "df"
      ],
      "metadata": {
        "id": "y-L4zjN8zY2U",
        "outputId": "ef52e02c-7fd0-49c9-ce12-35f7bd93f08b",
        "colab": {
          "base_uri": "https://localhost:8080/",
          "height": 226
        }
      },
      "execution_count": 24,
      "outputs": [
        {
          "output_type": "execute_result",
          "data": {
            "text/plain": [
              "                           key input   LogS   LogD   LogP  Pgp-inh  Pgp-sub  \\\n",
              "0  IJDNQMDRQITEOD-UHFFFAOYSA-N  CCCC -2.557  2.741  2.853      0.0    0.046   \n",
              "\n",
              "     HIA  F(20%)  F(30%)  ...  MCE-18  Natural Product-likeness  Alarm_NMR  \\\n",
              "0  0.003   0.274   0.679  ...     0.0                    -0.021        0.0   \n",
              "\n",
              "   BMS  Chelating PAINS  Lipinski    Pfizer       GSK  GoldenTriangle  \n",
              "0  0.0        0.0   0.0  Accepted  Accepted  Accepted        Rejected  \n",
              "\n",
              "[1 rows x 90 columns]"
            ],
            "text/html": [
              "\n",
              "  <div id=\"df-77548cf4-2cbe-421e-a44d-537223b9ff6a\">\n",
              "    <div class=\"colab-df-container\">\n",
              "      <div>\n",
              "<style scoped>\n",
              "    .dataframe tbody tr th:only-of-type {\n",
              "        vertical-align: middle;\n",
              "    }\n",
              "\n",
              "    .dataframe tbody tr th {\n",
              "        vertical-align: top;\n",
              "    }\n",
              "\n",
              "    .dataframe thead th {\n",
              "        text-align: right;\n",
              "    }\n",
              "</style>\n",
              "<table border=\"1\" class=\"dataframe\">\n",
              "  <thead>\n",
              "    <tr style=\"text-align: right;\">\n",
              "      <th></th>\n",
              "      <th>key</th>\n",
              "      <th>input</th>\n",
              "      <th>LogS</th>\n",
              "      <th>LogD</th>\n",
              "      <th>LogP</th>\n",
              "      <th>Pgp-inh</th>\n",
              "      <th>Pgp-sub</th>\n",
              "      <th>HIA</th>\n",
              "      <th>F(20%)</th>\n",
              "      <th>F(30%)</th>\n",
              "      <th>...</th>\n",
              "      <th>MCE-18</th>\n",
              "      <th>Natural Product-likeness</th>\n",
              "      <th>Alarm_NMR</th>\n",
              "      <th>BMS</th>\n",
              "      <th>Chelating</th>\n",
              "      <th>PAINS</th>\n",
              "      <th>Lipinski</th>\n",
              "      <th>Pfizer</th>\n",
              "      <th>GSK</th>\n",
              "      <th>GoldenTriangle</th>\n",
              "    </tr>\n",
              "  </thead>\n",
              "  <tbody>\n",
              "    <tr>\n",
              "      <th>0</th>\n",
              "      <td>IJDNQMDRQITEOD-UHFFFAOYSA-N</td>\n",
              "      <td>CCCC</td>\n",
              "      <td>-2.557</td>\n",
              "      <td>2.741</td>\n",
              "      <td>2.853</td>\n",
              "      <td>0.0</td>\n",
              "      <td>0.046</td>\n",
              "      <td>0.003</td>\n",
              "      <td>0.274</td>\n",
              "      <td>0.679</td>\n",
              "      <td>...</td>\n",
              "      <td>0.0</td>\n",
              "      <td>-0.021</td>\n",
              "      <td>0.0</td>\n",
              "      <td>0.0</td>\n",
              "      <td>0.0</td>\n",
              "      <td>0.0</td>\n",
              "      <td>Accepted</td>\n",
              "      <td>Accepted</td>\n",
              "      <td>Accepted</td>\n",
              "      <td>Rejected</td>\n",
              "    </tr>\n",
              "  </tbody>\n",
              "</table>\n",
              "<p>1 rows × 90 columns</p>\n",
              "</div>\n",
              "      <button class=\"colab-df-convert\" onclick=\"convertToInteractive('df-77548cf4-2cbe-421e-a44d-537223b9ff6a')\"\n",
              "              title=\"Convert this dataframe to an interactive table.\"\n",
              "              style=\"display:none;\">\n",
              "        \n",
              "  <svg xmlns=\"http://www.w3.org/2000/svg\" height=\"24px\"viewBox=\"0 0 24 24\"\n",
              "       width=\"24px\">\n",
              "    <path d=\"M0 0h24v24H0V0z\" fill=\"none\"/>\n",
              "    <path d=\"M18.56 5.44l.94 2.06.94-2.06 2.06-.94-2.06-.94-.94-2.06-.94 2.06-2.06.94zm-11 1L8.5 8.5l.94-2.06 2.06-.94-2.06-.94L8.5 2.5l-.94 2.06-2.06.94zm10 10l.94 2.06.94-2.06 2.06-.94-2.06-.94-.94-2.06-.94 2.06-2.06.94z\"/><path d=\"M17.41 7.96l-1.37-1.37c-.4-.4-.92-.59-1.43-.59-.52 0-1.04.2-1.43.59L10.3 9.45l-7.72 7.72c-.78.78-.78 2.05 0 2.83L4 21.41c.39.39.9.59 1.41.59.51 0 1.02-.2 1.41-.59l7.78-7.78 2.81-2.81c.8-.78.8-2.07 0-2.86zM5.41 20L4 18.59l7.72-7.72 1.47 1.35L5.41 20z\"/>\n",
              "  </svg>\n",
              "      </button>\n",
              "      \n",
              "  <style>\n",
              "    .colab-df-container {\n",
              "      display:flex;\n",
              "      flex-wrap:wrap;\n",
              "      gap: 12px;\n",
              "    }\n",
              "\n",
              "    .colab-df-convert {\n",
              "      background-color: #E8F0FE;\n",
              "      border: none;\n",
              "      border-radius: 50%;\n",
              "      cursor: pointer;\n",
              "      display: none;\n",
              "      fill: #1967D2;\n",
              "      height: 32px;\n",
              "      padding: 0 0 0 0;\n",
              "      width: 32px;\n",
              "    }\n",
              "\n",
              "    .colab-df-convert:hover {\n",
              "      background-color: #E2EBFA;\n",
              "      box-shadow: 0px 1px 2px rgba(60, 64, 67, 0.3), 0px 1px 3px 1px rgba(60, 64, 67, 0.15);\n",
              "      fill: #174EA6;\n",
              "    }\n",
              "\n",
              "    [theme=dark] .colab-df-convert {\n",
              "      background-color: #3B4455;\n",
              "      fill: #D2E3FC;\n",
              "    }\n",
              "\n",
              "    [theme=dark] .colab-df-convert:hover {\n",
              "      background-color: #434B5C;\n",
              "      box-shadow: 0px 1px 3px 1px rgba(0, 0, 0, 0.15);\n",
              "      filter: drop-shadow(0px 1px 2px rgba(0, 0, 0, 0.3));\n",
              "      fill: #FFFFFF;\n",
              "    }\n",
              "  </style>\n",
              "\n",
              "      <script>\n",
              "        const buttonEl =\n",
              "          document.querySelector('#df-77548cf4-2cbe-421e-a44d-537223b9ff6a button.colab-df-convert');\n",
              "        buttonEl.style.display =\n",
              "          google.colab.kernel.accessAllowed ? 'block' : 'none';\n",
              "\n",
              "        async function convertToInteractive(key) {\n",
              "          const element = document.querySelector('#df-77548cf4-2cbe-421e-a44d-537223b9ff6a');\n",
              "          const dataTable =\n",
              "            await google.colab.kernel.invokeFunction('convertToInteractive',\n",
              "                                                     [key], {});\n",
              "          if (!dataTable) return;\n",
              "\n",
              "          const docLinkHtml = 'Like what you see? Visit the ' +\n",
              "            '<a target=\"_blank\" href=https://colab.research.google.com/notebooks/data_table.ipynb>data table notebook</a>'\n",
              "            + ' to learn more about interactive tables.';\n",
              "          element.innerHTML = '';\n",
              "          dataTable['output_type'] = 'display_data';\n",
              "          await google.colab.output.renderOutput(dataTable, element);\n",
              "          const docLink = document.createElement('div');\n",
              "          docLink.innerHTML = docLinkHtml;\n",
              "          element.appendChild(docLink);\n",
              "        }\n",
              "      </script>\n",
              "    </div>\n",
              "  </div>\n",
              "  "
            ]
          },
          "metadata": {},
          "execution_count": 24
        }
      ]
    }
  ]
}
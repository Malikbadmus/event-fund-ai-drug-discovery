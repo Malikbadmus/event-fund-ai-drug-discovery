{
  "nbformat": 4,
  "nbformat_minor": 0,
  "metadata": {
    "colab": {
      "provenance": [],
      "collapsed_sections": [],
      "authorship_tag": "ABX9TyNNlTNKkcj8ZKcMSYFjXUMl",
      "include_colab_link": true
    },
    "kernelspec": {
      "name": "python3",
      "display_name": "Python 3"
    },
    "language_info": {
      "name": "python"
    }
  },
  "cells": [
    {
      "cell_type": "markdown",
      "metadata": {
        "id": "view-in-github",
        "colab_type": "text"
      },
      "source": [
        "<a href=\"https://colab.research.google.com/github/ersilia-os/event-fund-ai-drug-discovery/blob/main/notebooks/session2_breakout.ipynb\" target=\"_parent\"><img src=\"https://colab.research.google.com/assets/colab-badge.svg\" alt=\"Open In Colab\"/></a>"
      ]
    },
    {
      "cell_type": "markdown",
      "source": [
        "# Ersilia Model Hub\n",
        "The Ersilia Model Hub is a repository of pre-trained, ready-to-use AI models for drug discovery. A list of models and its applications is available [here](https://ersilia.io/model-hub).\n",
        "\n",
        "You can run the Ersilia Model Hub in your computer by installing the [Ersilia Python Package](https://github.com/ersilia-os/ersilia). In this session, we will use the Google Colab implementation of the Ersilia Model Hub to ensure compatibility with all systems. \n"
      ],
      "metadata": {
        "id": "EQQx_ldqtTz_"
      }
    },
    {
      "cell_type": "code",
      "execution_count": 10,
      "metadata": {
        "id": "iZbMIx43tRJE"
      },
      "outputs": [],
      "source": [
        "# Installation on Google Colaboratory\n",
        "%%capture\n",
        "%env MINICONDA_INSTALLER_SCRIPT=Miniconda3-py37_4.12.0-Linux-x86_64.sh\n",
        "%env MINICONDA_PREFIX=/usr/local\n",
        "%env PYTHONPATH={PYTHONPATH}:/usr/local/lib/python3.7/site-packages\n",
        "%env CONDA_PREFIX=/usr/local\n",
        "%env CONDA_PREFIX_1=/usr/local\n",
        "%env CONDA_DEFAULT_ENV=base\n",
        "!pip install git+https://github.com/ersilia-os/ersilia.git\n",
        "!wget https://repo.anaconda.com/miniconda/$MINICONDA_INSTALLER_SCRIPT\n",
        "!chmod +x $MINICONDA_INSTALLER_SCRIPT\n",
        "!./$MINICONDA_INSTALLER_SCRIPT -b -f -p $MINICONDA_PREFIX\n",
        "!python -m pip install flask\n",
        "!python -m pip install urllib<=1.25\n",
        "!python -m pip install chardet<=5.0\n",
        "import sys\n",
        "_ = (sys.path.append(\"/usr/local/lib/python3.7/site-packages\"))"
      ]
    },
    {
      "cell_type": "code",
      "source": [
        "!python -m pip install urllib==1.26.5"
      ],
      "metadata": {
        "id": "mLr_ShmjyYvh",
        "outputId": "eda80e92-ca85-4365-aec4-d75bb41d2e63",
        "colab": {
          "base_uri": "https://localhost:8080/"
        }
      },
      "execution_count": 13,
      "outputs": [
        {
          "output_type": "stream",
          "name": "stdout",
          "text": [
            "Looking in indexes: https://pypi.org/simple, https://us-python.pkg.dev/colab-wheels/public/simple/\n",
            "\u001b[31mERROR: Could not find a version that satisfies the requirement urllib==1.26.5 (from versions: none)\u001b[0m\n",
            "\u001b[31mERROR: No matching distribution found for urllib==1.26.5\u001b[0m\n"
          ]
        }
      ]
    },
    {
      "cell_type": "code",
      "source": [
        "!pip3 list|grep urllib"
      ],
      "metadata": {
        "id": "Ea8iVuj2wAh2",
        "outputId": "28cdd4f3-deec-49b8-a761-493defe17b20",
        "colab": {
          "base_uri": "https://localhost:8080/"
        }
      },
      "execution_count": 12,
      "outputs": [
        {
          "output_type": "stream",
          "name": "stdout",
          "text": [
            "urllib3                   1.25.11\n"
          ]
        }
      ]
    },
    {
      "cell_type": "markdown",
      "source": [
        "## Breakout activity\n",
        "\n",
        "We will use the Ersilia Model Hub to filter a list of 400 compounds (the MMV Pathogen Box) to try and identify the best ones for experimental testing.\n",
        "\n",
        "First, let's mount again our Drive for retrieving the data and storing the files we will need during the session."
      ],
      "metadata": {
        "id": "khZMT1jNw3UB"
      }
    },
    {
      "cell_type": "code",
      "source": [
        "from google.colab import drive\n",
        "drive.mount('/content/drive')"
      ],
      "metadata": {
        "colab": {
          "base_uri": "https://localhost:8080/"
        },
        "id": "UicMIulu2Ht_",
        "outputId": "24f3fe5e-6922-4f6e-ffb6-b4a30e3c2207"
      },
      "execution_count": 2,
      "outputs": [
        {
          "output_type": "stream",
          "name": "stdout",
          "text": [
            "Drive already mounted at /content/drive; to attempt to forcibly remount, call drive.mount(\"/content/drive\", force_remount=True).\n"
          ]
        }
      ]
    },
    {
      "cell_type": "code",
      "source": [
        "#do not run this if you already did during Session 1\n",
        "\n",
        "!mkdir /content/drive/MyDrive/DataScience_Workshop\n",
        "!git clone https://github.com/ersilia-os/event-fund-ai-drug-discovery.git /content/drive/MyDrive/DataScience_Workshop"
      ],
      "metadata": {
        "id": "uTwws9hh7Tlo",
        "outputId": "4a575ee8-4734-4541-c000-a2bcd9e30c34",
        "colab": {
          "base_uri": "https://localhost:8080/"
        }
      },
      "execution_count": 14,
      "outputs": [
        {
          "output_type": "stream",
          "name": "stdout",
          "text": [
            "Cloning into '/content/drive/MyDrive/DataScience_Workshop'...\n",
            "remote: Enumerating objects: 110, done.\u001b[K\n",
            "remote: Counting objects: 100% (110/110), done.\u001b[K\n",
            "remote: Compressing objects: 100% (83/83), done.\u001b[K\n",
            "remote: Total 110 (delta 45), reused 69 (delta 23), pack-reused 0\u001b[K\n",
            "Receiving objects: 100% (110/110), 1.65 MiB | 7.27 MiB/s, done.\n",
            "Resolving deltas: 100% (45/45), done.\n"
          ]
        }
      ]
    },
    {
      "cell_type": "markdown",
      "source": [
        "## Example Model Prediction\n",
        "We will use one model as a step-by-step guide of how to use the Ersilia Model Hub and analyse the results.\n",
        "\n",
        "Each Ersilia model is identified by a code (eosxxxx) and a slug (one - two word identifier). We will always refer to the models by either the code or the slug. There are three basic commands to run a model with Ersilia:\n",
        "1.   Fetch: retrieves a model from its online storage\n",
        "2.   Serve: brings the model alive, ready to be used\n",
        "3.   Predict: makes predictions for any input molecules of interest\n",
        "\n",
        "More details are available in the Ersilia Model Hub [documentation](https://ersilia.gitbook.io/ersilia-book/).\n",
        "\n",
        "### Antimalarial Activity\n",
        "The Ersilia Model Hub contains a surrogate version of MAIP, a web-based model for predicting blood-stage malaria inhibitors, published in [Bosc et al, 2021](https://jcheminf.biomedcentral.com/articles/10.1186/s13321-021-00487-2)"
      ],
      "metadata": {
        "id": "hkIjFXAE421m"
      }
    },
    {
      "cell_type": "code",
      "source": [
        "!ersilia -v fetch eos2gth"
      ],
      "metadata": {
        "colab": {
          "base_uri": "https://localhost:8080/"
        },
        "id": "XRQicO5Zumtd",
        "outputId": "7f30dc3f-7939-4d9d-f5e5-ea8ada8757f6"
      },
      "execution_count": 11,
      "outputs": [
        {
          "output_type": "stream",
          "name": "stdout",
          "text": [
            "/usr/local/lib/python3.7/site-packages/requests/__init__.py:104: RequestsDependencyWarning: urllib3 (1.25.11) or chardet (5.0.0)/charset_normalizer (2.0.4) doesn't match a supported version!\n",
            "  RequestsDependencyWarning)\n",
            "\u001b[34m⬇️  Fetching model eos2gth: maip-malaria-surrogate\u001b[0m\n",
            "14:09:25 | INFO     | Starting delete of model eos2gth\n",
            "14:09:25 | INFO     | Removing folder /root/eos/dest/eos2gth\n",
            "/usr/local/lib/python3.7/site-packages/requests/__init__.py:104: RequestsDependencyWarning: urllib3 (1.25.11) or chardet (5.0.0)/charset_normalizer (2.0.4) doesn't match a supported version!\n",
            "  RequestsDependencyWarning)\n",
            "14:09:28 | INFO     | Deleting conda environment eos2gth\n",
            "/usr/local/lib/python3.7/site-packages/requests/__init__.py:104: RequestsDependencyWarning: urllib3 (1.25.11) or chardet (5.0.0)/charset_normalizer (2.0.4) doesn't match a supported version!\n",
            "  RequestsDependencyWarning)\n",
            "14:09:29 | DEBUG    | Deleting /root/eos/isaura/lake/eos2gth_local.h5\n",
            "14:09:29 | DEBUG    | Deleting /root/eos/isaura/lake/eos2gth_public.h5\n",
            "14:09:29 | DEBUG    | Model entry eos2gth was not available in the fetched models registry\n",
            "14:09:29 | SUCCESS  | Model eos2gth deleted successfully\n",
            "14:09:29 | DEBUG    | Cloning from github to /root/eos/dest/eos2gth\n",
            "14:09:30 | DEBUG    | Check if model can be run with vanilla (system) code (i.e. dockerfile has no installs)\n",
            "14:09:30 | DEBUG    | Check bentoml and python version\n",
            "14:09:30 | INFO     | BentoML version {'version': '0.11.0', 'slim': False, 'python': 'py37'}\n",
            "14:09:30 | INFO     | Since BentoML is version 0.11, protobuf will been downgraded to 3.19.0\n",
            "14:09:30 | DEBUG    | Model needs some installs\n",
            "14:09:30 | DEBUG    | Checking if only python/conda install will be sufficient\n",
            "14:09:30 | DEBUG    | Mode: conda\n",
            "14:09:30 | DEBUG    | Trying to remove path: /root/bentoml/repository/eos2gth\n",
            "14:09:30 | DEBUG    | ...successfully\n",
            "14:09:30 | DEBUG    | ...but path did not exist!\n",
            "14:09:30 | DEBUG    | Initializing conda packer\n",
            "14:09:30 | DEBUG    | Packing model with Conda\n",
            "14:09:30 | DEBUG    | Writing install commands\n",
            "14:09:30 | DEBUG    | Run commands: ['conda install -c conda-forge rdkit=2020.03 -y', 'pip install flaml==0.6.9', 'pip install lightgbm==2.3.1', 'pip install protobuf==3.19.0']\n",
            "14:09:30 | DEBUG    | Writing install commands in /root/eos/dest/eos2gth/model_install_commands.sh\n",
            "14:09:30 | DEBUG    | Setting up\n",
            "14:09:30 | DEBUG    | Installs file /root/eos/dest/eos2gth/model_install_commands.sh\n",
            "14:09:30 | DEBUG    | Conda environment eos2gth\n",
            "/usr/local/lib/python3.7/site-packages/requests/__init__.py:104: RequestsDependencyWarning: urllib3 (1.25.11) or chardet (5.0.0)/charset_normalizer (2.0.4) doesn't match a supported version!\n",
            "  RequestsDependencyWarning)\n",
            "14:09:31 | DEBUG    | Environment eos2gth does not exist\n",
            "/usr/local/lib/python3.7/site-packages/requests/__init__.py:104: RequestsDependencyWarning: urllib3 (1.25.11) or chardet (5.0.0)/charset_normalizer (2.0.4) doesn't match a supported version!\n",
            "  RequestsDependencyWarning)\n",
            "14:09:32 | INFO     | Cloning base conda environment and adding model dependencies\n",
            "/usr/local/lib/python3.7/site-packages/requests/__init__.py:104: RequestsDependencyWarning: urllib3 (1.25.11) or chardet (5.0.0)/charset_normalizer (2.0.4) doesn't match a supported version!\n",
            "  RequestsDependencyWarning)\n",
            "/usr/local/lib/python3.7/site-packages/requests/__init__.py:104: RequestsDependencyWarning: urllib3 (1.25.11) or chardet (5.0.0)/charset_normalizer (2.0.4) doesn't match a supported version!\n",
            "  RequestsDependencyWarning)\n",
            "/usr/local/lib/python3.7/site-packages/requests/__init__.py:104: RequestsDependencyWarning: urllib3 (1.25.11) or chardet (5.0.0)/charset_normalizer (2.0.4) doesn't match a supported version!\n",
            "  RequestsDependencyWarning)\n",
            "\n",
            "# >>>>>>>>>>>>>>>>>>>>>> ERROR REPORT <<<<<<<<<<<<<<<<<<<<<<\n",
            "\n",
            "    Traceback (most recent call last):\n",
            "      File \"/usr/local/lib/python3.7/site-packages/conda/exceptions.py\", line 1082, in __call__\n",
            "        return func(*args, **kwargs)\n",
            "      File \"/usr/local/lib/python3.7/site-packages/conda/cli/main.py\", line 87, in _main\n",
            "        exit_code = do_call(args, p)\n",
            "      File \"/usr/local/lib/python3.7/site-packages/conda/cli/conda_argparse.py\", line 84, in do_call\n",
            "        return getattr(module, func_name)(args, parser)\n",
            "      File \"/usr/local/lib/python3.7/site-packages/conda/cli/main_create.py\", line 41, in execute\n",
            "        install(args, parser, 'create')\n",
            "      File \"/usr/local/lib/python3.7/site-packages/conda/cli/install.py\", line 116, in install\n",
            "        if context.use_only_tar_bz2:\n",
            "      File \"/usr/local/lib/python3.7/site-packages/conda/base/context.py\", line 775, in use_only_tar_bz2\n",
            "        import conda_package_handling.api\n",
            "      File \"/usr/local/lib/python3.7/site-packages/conda_package_handling/api.py\", line 6, in <module>\n",
            "        import tqdm as _tqdm\n",
            "    ModuleNotFoundError: No module named 'tqdm'\n",
            "\n",
            "`$ /usr/local/bin/conda create --clone eosbase-bentoml-0.11.0-py37 --name eos2gth -y`\n",
            "\n",
            "  environment variables:\n",
            "                 CIO_TEST=<not set>\n",
            "        CONDA_DEFAULT_ENV=base\n",
            "                CONDA_EXE=/usr/local/bin/conda\n",
            "             CONDA_PREFIX=/usr/local\n",
            "           CONDA_PREFIX_1=/usr/local\n",
            "         CONDA_PYTHON_EXE=/usr/local/bin/python\n",
            "               CONDA_ROOT=/usr/local\n",
            "              CONDA_SHLVL=0\n",
            "           CURL_CA_BUNDLE=<not set>\n",
            "          LD_LIBRARY_PATH=/usr/local/nvidia/lib:/usr/local/nvidia/lib64\n",
            "             LIBRARY_PATH=/usr/local/cuda/lib64/stubs\n",
            "                     PATH=/usr/local/bin:/usr/local/condabin:/opt/bin:/usr/local/nvidia/bin:/usr\n",
            "                          /local/cuda/bin:/usr/local/sbin:/usr/local/bin:/usr/sbin:/usr/bin:/sbi\n",
            "                          n:/bin:/tools/node/bin:/tools/google-cloud-sdk/bin\n",
            "               PYTHONPATH={PYTHONPATH}:/usr/local/lib/python3.7/site-packages\n",
            "           PYTHONWARNINGS=ignore:::pip._internal.cli.base_command\n",
            "       REQUESTS_CA_BUNDLE=<not set>\n",
            "            SSL_CERT_FILE=<not set>\n",
            "\n",
            "     active environment : base\n",
            "    active env location : /usr/local\n",
            "            shell level : 0\n",
            "       user config file : /root/.condarc\n",
            " populated config files : \n",
            "          conda version : 4.12.0\n",
            "    conda-build version : not installed\n",
            "         python version : 3.7.13.final.0\n",
            "       virtual packages : __linux=5.10.133=0\n",
            "                          __glibc=2.27=0\n",
            "                          __unix=0=0\n",
            "                          __archspec=1=x86_64\n",
            "       base environment : /usr/local  (writable)\n",
            "      conda av data dir : /usr/local/etc/conda\n",
            "  conda av metadata url : None\n",
            "           channel URLs : https://repo.anaconda.com/pkgs/main/linux-64\n",
            "                          https://repo.anaconda.com/pkgs/main/noarch\n",
            "                          https://repo.anaconda.com/pkgs/r/linux-64\n",
            "                          https://repo.anaconda.com/pkgs/r/noarch\n",
            "          package cache : /usr/local/pkgs\n",
            "                          /root/.conda/pkgs\n",
            "       envs directories : /usr/local/envs\n",
            "                          /root/.conda/envs\n",
            "               platform : linux-64\n",
            "             user-agent : conda/4.12.0 requests/2.27.1 CPython/3.7.13 Linux/5.10.133+ ubuntu/18.04.6 glibc/2.27\n",
            "                UID:GID : 0:0\n",
            "             netrc file : None\n",
            "           offline mode : False\n",
            "\n",
            "\n",
            "An unexpected error has occurred. Conda has prepared the above report.\n",
            "\n",
            "Upload successful.\n",
            "14:09:37 | DEBUG    | Run commandlines on eos2gth\n",
            "14:09:37 | DEBUG    | conda install -c conda-forge rdkit=2020.03 -y\n",
            "python -m pip --disable-pip-version-check install flaml==0.6.9\n",
            "python -m pip --disable-pip-version-check install lightgbm==2.3.1\n",
            "python -m pip --disable-pip-version-check install protobuf==3.19.0\n",
            "python -m pip --disable-pip-version-check install bentoml==0.11.0\n",
            "\n",
            "/usr/local/lib/python3.7/site-packages/requests/__init__.py:104: RequestsDependencyWarning: urllib3 (1.25.11) or chardet (5.0.0)/charset_normalizer (2.0.4) doesn't match a supported version!\n",
            "  RequestsDependencyWarning)\n",
            "Traceback (most recent call last):\n",
            "  File \"/usr/local/bin/ersilia\", line 8, in <module>\n",
            "    sys.exit(cli())\n",
            "  File \"/usr/local/lib/python3.7/site-packages/click/core.py\", line 1130, in __call__\n",
            "    return self.main(*args, **kwargs)\n",
            "  File \"/usr/local/lib/python3.7/site-packages/click/core.py\", line 1055, in main\n",
            "    rv = self.invoke(ctx)\n",
            "  File \"/usr/local/lib/python3.7/site-packages/click/core.py\", line 1657, in invoke\n",
            "    return _process_result(sub_ctx.command.invoke(sub_ctx))\n",
            "  File \"/usr/local/lib/python3.7/site-packages/click/core.py\", line 1404, in invoke\n",
            "    return ctx.invoke(self.callback, **ctx.params)\n",
            "  File \"/usr/local/lib/python3.7/site-packages/click/core.py\", line 760, in invoke\n",
            "    return __callback(*args, **kwargs)\n",
            "  File \"/usr/local/lib/python3.7/site-packages/bentoml/cli/click_utils.py\", line 138, in wrapper\n",
            "    return func(*args, **kwargs)\n",
            "  File \"/usr/local/lib/python3.7/site-packages/bentoml/cli/click_utils.py\", line 115, in wrapper\n",
            "    return_value = func(*args, **kwargs)\n",
            "  File \"/usr/local/lib/python3.7/site-packages/bentoml/cli/click_utils.py\", line 99, in wrapper\n",
            "    return func(*args, **kwargs)\n",
            "  File \"/usr/local/lib/python3.7/site-packages/ersilia/cli/commands/fetch.py\", line 44, in fetch\n",
            "    _fetch(mf, model_id)\n",
            "  File \"/usr/local/lib/python3.7/site-packages/ersilia/cli/commands/fetch.py\", line 15, in _fetch\n",
            "    mf.fetch(model_id)\n",
            "  File \"/usr/local/lib/python3.7/site-packages/ersilia/hub/fetch/fetch.py\", line 96, in fetch\n",
            "    self._pack()\n",
            "  File \"/usr/local/lib/python3.7/site-packages/ersilia/hub/fetch/fetch.py\", line 60, in _pack\n",
            "    mp.pack()\n",
            "  File \"/usr/local/lib/python3.7/site-packages/ersilia/hub/fetch/actions/pack.py\", line 63, in pack\n",
            "    self._run()\n",
            "  File \"/usr/local/lib/python3.7/site-packages/ersilia/hub/fetch/actions/pack.py\", line 58, in _run\n",
            "    runner.run()\n",
            "  File \"/usr/local/lib/python3.7/site-packages/ersilia/hub/fetch/pack/runners.py\", line 141, in run\n",
            "    self._run()\n",
            "  File \"/usr/local/lib/python3.7/site-packages/ersilia/hub/fetch/pack/runners.py\", line 123, in _run\n",
            "    env = self._setup()\n",
            "  File \"/usr/local/lib/python3.7/site-packages/ersilia/hub/fetch/pack/runners.py\", line 108, in _setup\n",
            "    self.conda.run_commandlines(environment=env, commandlines=commandlines)\n",
            "  File \"/usr/local/lib/python3.7/site-packages/ersilia/utils/conda.py\", line 358, in run_commandlines\n",
            "    raise Exception(\"{0} environment does not exist\".format(environment))\n",
            "Exception: eos2gth environment does not exist\n"
          ]
        }
      ]
    },
    {
      "cell_type": "code",
      "source": [
        "!ersilia serve eos2gth"
      ],
      "metadata": {
        "colab": {
          "base_uri": "https://localhost:8080/"
        },
        "id": "K-IhH8LNytBF",
        "outputId": "ab469e3c-4c8c-4601-d281-0bfdc6ba1f2e"
      },
      "execution_count": 7,
      "outputs": [
        {
          "output_type": "stream",
          "name": "stdout",
          "text": [
            "\u001b[32m🚀 Serving model eos2gth: maip-malaria-surrogate\u001b[0m\n",
            "\u001b[0m\n",
            "\u001b[33m   URL: http://127.0.0.1:33797\u001b[0m\n",
            "\u001b[33m   PID: 4460\u001b[0m\n",
            "\u001b[33m   SRV: conda\u001b[0m\n",
            "\u001b[0m\n",
            "\u001b[34m👉 Available APIs:\u001b[0m\n",
            "\u001b[34m   - predict\u001b[0m\n"
          ]
        }
      ]
    },
    {
      "cell_type": "code",
      "source": [
        "!ersilia api predict -i \"drive/MyDrive/DataScience_Workshop/data/day2/mmv_malariabox.csv\" -o \"drive/MyDrive/DataScience_Workshop/data/day2/eos2gth.csv\""
      ],
      "metadata": {
        "colab": {
          "base_uri": "https://localhost:8080/"
        },
        "id": "igfDEK-L0YUm",
        "outputId": "184eb170-026c-4e21-aafe-b06c99df08a6"
      },
      "execution_count": 16,
      "outputs": [
        {
          "output_type": "stream",
          "name": "stdout",
          "text": [
            "drive/MyDrive/DataScience_Workshop/data/day2/eos2gth.csv\u001b[0m\n"
          ]
        }
      ]
    },
    {
      "cell_type": "markdown",
      "source": [
        "### Analysing the predictions\n",
        "We can use the Pandas Package to work with .CSV files and Matplotlib to plot the results of the models. We can also go directly to GoogleDrive and work with the excel files."
      ],
      "metadata": {
        "id": "fWA5rgWd5cp4"
      }
    },
    {
      "cell_type": "code",
      "source": [
        "import pandas as pd\n",
        "import matplotlib.pyplot as plt\n",
        "\n",
        "df = pd.read_csv(\"drive/MyDrive/DataScience_Workshop/data/day2/eos2gth.csv\")"
      ],
      "metadata": {
        "id": "3dhnZDKB5bpv"
      },
      "execution_count": 17,
      "outputs": []
    },
    {
      "cell_type": "code",
      "source": [
        "df.head()"
      ],
      "metadata": {
        "id": "wfxAkcpn-p1a",
        "outputId": "cc588f21-bd66-40e7-f411-a6d771399fde",
        "colab": {
          "base_uri": "https://localhost:8080/",
          "height": 206
        }
      },
      "execution_count": 18,
      "outputs": [
        {
          "output_type": "execute_result",
          "data": {
            "text/plain": [
              "                           key  \\\n",
              "0  ALGPHOUNWIZIOQ-UHFFFAOYSA-N   \n",
              "1  QFVDKARCPMTZCS-UHFFFAOYSA-N   \n",
              "2  HKNNPGWJKJDXCN-UHFFFAOYSA-N   \n",
              "3  QQNUVMRXVVLAAU-UHFFFAOYSA-N   \n",
              "4  MSGARPVVCYTSLR-UHFFFAOYSA-N   \n",
              "\n",
              "                                               input      score  \n",
              "0          COc1ccccc1CNC(=O)CCn1c(=O)[nH]c2ccsc2c1=O   6.886159  \n",
              "1  CN(C)c1ccc(C(O)(c2ccc(N(C)C)cc2)c2ccc(N(C)C)cc...  15.483177  \n",
              "2  Cc1ccc(-c2cc3c(SCC(=O)Nc4cc(C(F)(F)F)ccc4Cl)nc...  27.288106  \n",
              "3  CCOC(=O)C1=C(c2ccccc2)N=c2sc(=Cc3cc(C)n(-c4ccc...  12.532308  \n",
              "4      CCOC(=O)c1cnc2c(C)cc(C)cc2c1Nc1ccc(OC)c(OC)c1  37.554438  "
            ],
            "text/html": [
              "\n",
              "  <div id=\"df-c7c888a7-91ea-4fd4-bd3f-a4172177290c\">\n",
              "    <div class=\"colab-df-container\">\n",
              "      <div>\n",
              "<style scoped>\n",
              "    .dataframe tbody tr th:only-of-type {\n",
              "        vertical-align: middle;\n",
              "    }\n",
              "\n",
              "    .dataframe tbody tr th {\n",
              "        vertical-align: top;\n",
              "    }\n",
              "\n",
              "    .dataframe thead th {\n",
              "        text-align: right;\n",
              "    }\n",
              "</style>\n",
              "<table border=\"1\" class=\"dataframe\">\n",
              "  <thead>\n",
              "    <tr style=\"text-align: right;\">\n",
              "      <th></th>\n",
              "      <th>key</th>\n",
              "      <th>input</th>\n",
              "      <th>score</th>\n",
              "    </tr>\n",
              "  </thead>\n",
              "  <tbody>\n",
              "    <tr>\n",
              "      <th>0</th>\n",
              "      <td>ALGPHOUNWIZIOQ-UHFFFAOYSA-N</td>\n",
              "      <td>COc1ccccc1CNC(=O)CCn1c(=O)[nH]c2ccsc2c1=O</td>\n",
              "      <td>6.886159</td>\n",
              "    </tr>\n",
              "    <tr>\n",
              "      <th>1</th>\n",
              "      <td>QFVDKARCPMTZCS-UHFFFAOYSA-N</td>\n",
              "      <td>CN(C)c1ccc(C(O)(c2ccc(N(C)C)cc2)c2ccc(N(C)C)cc...</td>\n",
              "      <td>15.483177</td>\n",
              "    </tr>\n",
              "    <tr>\n",
              "      <th>2</th>\n",
              "      <td>HKNNPGWJKJDXCN-UHFFFAOYSA-N</td>\n",
              "      <td>Cc1ccc(-c2cc3c(SCC(=O)Nc4cc(C(F)(F)F)ccc4Cl)nc...</td>\n",
              "      <td>27.288106</td>\n",
              "    </tr>\n",
              "    <tr>\n",
              "      <th>3</th>\n",
              "      <td>QQNUVMRXVVLAAU-UHFFFAOYSA-N</td>\n",
              "      <td>CCOC(=O)C1=C(c2ccccc2)N=c2sc(=Cc3cc(C)n(-c4ccc...</td>\n",
              "      <td>12.532308</td>\n",
              "    </tr>\n",
              "    <tr>\n",
              "      <th>4</th>\n",
              "      <td>MSGARPVVCYTSLR-UHFFFAOYSA-N</td>\n",
              "      <td>CCOC(=O)c1cnc2c(C)cc(C)cc2c1Nc1ccc(OC)c(OC)c1</td>\n",
              "      <td>37.554438</td>\n",
              "    </tr>\n",
              "  </tbody>\n",
              "</table>\n",
              "</div>\n",
              "      <button class=\"colab-df-convert\" onclick=\"convertToInteractive('df-c7c888a7-91ea-4fd4-bd3f-a4172177290c')\"\n",
              "              title=\"Convert this dataframe to an interactive table.\"\n",
              "              style=\"display:none;\">\n",
              "        \n",
              "  <svg xmlns=\"http://www.w3.org/2000/svg\" height=\"24px\"viewBox=\"0 0 24 24\"\n",
              "       width=\"24px\">\n",
              "    <path d=\"M0 0h24v24H0V0z\" fill=\"none\"/>\n",
              "    <path d=\"M18.56 5.44l.94 2.06.94-2.06 2.06-.94-2.06-.94-.94-2.06-.94 2.06-2.06.94zm-11 1L8.5 8.5l.94-2.06 2.06-.94-2.06-.94L8.5 2.5l-.94 2.06-2.06.94zm10 10l.94 2.06.94-2.06 2.06-.94-2.06-.94-.94-2.06-.94 2.06-2.06.94z\"/><path d=\"M17.41 7.96l-1.37-1.37c-.4-.4-.92-.59-1.43-.59-.52 0-1.04.2-1.43.59L10.3 9.45l-7.72 7.72c-.78.78-.78 2.05 0 2.83L4 21.41c.39.39.9.59 1.41.59.51 0 1.02-.2 1.41-.59l7.78-7.78 2.81-2.81c.8-.78.8-2.07 0-2.86zM5.41 20L4 18.59l7.72-7.72 1.47 1.35L5.41 20z\"/>\n",
              "  </svg>\n",
              "      </button>\n",
              "      \n",
              "  <style>\n",
              "    .colab-df-container {\n",
              "      display:flex;\n",
              "      flex-wrap:wrap;\n",
              "      gap: 12px;\n",
              "    }\n",
              "\n",
              "    .colab-df-convert {\n",
              "      background-color: #E8F0FE;\n",
              "      border: none;\n",
              "      border-radius: 50%;\n",
              "      cursor: pointer;\n",
              "      display: none;\n",
              "      fill: #1967D2;\n",
              "      height: 32px;\n",
              "      padding: 0 0 0 0;\n",
              "      width: 32px;\n",
              "    }\n",
              "\n",
              "    .colab-df-convert:hover {\n",
              "      background-color: #E2EBFA;\n",
              "      box-shadow: 0px 1px 2px rgba(60, 64, 67, 0.3), 0px 1px 3px 1px rgba(60, 64, 67, 0.15);\n",
              "      fill: #174EA6;\n",
              "    }\n",
              "\n",
              "    [theme=dark] .colab-df-convert {\n",
              "      background-color: #3B4455;\n",
              "      fill: #D2E3FC;\n",
              "    }\n",
              "\n",
              "    [theme=dark] .colab-df-convert:hover {\n",
              "      background-color: #434B5C;\n",
              "      box-shadow: 0px 1px 3px 1px rgba(0, 0, 0, 0.15);\n",
              "      filter: drop-shadow(0px 1px 2px rgba(0, 0, 0, 0.3));\n",
              "      fill: #FFFFFF;\n",
              "    }\n",
              "  </style>\n",
              "\n",
              "      <script>\n",
              "        const buttonEl =\n",
              "          document.querySelector('#df-c7c888a7-91ea-4fd4-bd3f-a4172177290c button.colab-df-convert');\n",
              "        buttonEl.style.display =\n",
              "          google.colab.kernel.accessAllowed ? 'block' : 'none';\n",
              "\n",
              "        async function convertToInteractive(key) {\n",
              "          const element = document.querySelector('#df-c7c888a7-91ea-4fd4-bd3f-a4172177290c');\n",
              "          const dataTable =\n",
              "            await google.colab.kernel.invokeFunction('convertToInteractive',\n",
              "                                                     [key], {});\n",
              "          if (!dataTable) return;\n",
              "\n",
              "          const docLinkHtml = 'Like what you see? Visit the ' +\n",
              "            '<a target=\"_blank\" href=https://colab.research.google.com/notebooks/data_table.ipynb>data table notebook</a>'\n",
              "            + ' to learn more about interactive tables.';\n",
              "          element.innerHTML = '';\n",
              "          dataTable['output_type'] = 'display_data';\n",
              "          await google.colab.output.renderOutput(dataTable, element);\n",
              "          const docLink = document.createElement('div');\n",
              "          docLink.innerHTML = docLinkHtml;\n",
              "          element.appendChild(docLink);\n",
              "        }\n",
              "      </script>\n",
              "    </div>\n",
              "  </div>\n",
              "  "
            ]
          },
          "metadata": {},
          "execution_count": 18
        }
      ]
    },
    {
      "cell_type": "code",
      "source": [
        "df.sort_values(\"score\", ascending=False)"
      ],
      "metadata": {
        "id": "3n82FQkT-q_m",
        "outputId": "7559aedd-fd40-4be3-a4f6-dc5a18df2975",
        "colab": {
          "base_uri": "https://localhost:8080/",
          "height": 424
        }
      },
      "execution_count": 19,
      "outputs": [
        {
          "output_type": "execute_result",
          "data": {
            "text/plain": [
              "                             key  \\\n",
              "136  HPFVQAYLQOSFOL-UHFFFAOYSA-N   \n",
              "399  ZGMMVVYGDFQTBB-UHFFFAOYSA-N   \n",
              "69   RHZLKBRFIAZMTN-UHFFFAOYSA-N   \n",
              "339  NPWXHTXMBIOHKI-UHFFFAOYSA-N   \n",
              "55   YZZGEZJZTYYZGG-UHFFFAOYSA-N   \n",
              "..                           ...   \n",
              "285  HURFFFRCSHQNDT-UHFFFAOYSA-N   \n",
              "337  GIIJJSVNYMYHHB-UHFFFAOYSA-N   \n",
              "37   YBPABXGFEMOUTB-UHFFFAOYSA-N   \n",
              "64   ZMRHGYILDNXKHW-UHFFFAOYSA-N   \n",
              "235  QIFXARBSCYEPAY-UHFFFAOYSA-N   \n",
              "\n",
              "                                                 input      score  \n",
              "136                  COc1cccc(Nc2nc(NCCO)c3ccccc3n2)c1  77.199021  \n",
              "399              OCCNc1nc(Nc2ccc(Cl)c(Cl)c2)nc2ccccc12  76.798370  \n",
              "69                   Cc1ccc(Nc2nc(NCCO)c3ccccc3n2)cc1C  76.052494  \n",
              "339     Cn1c(=O)n(C)c2cc(CNCCNc3ccnc4cc(Cl)ccc34)ccc21  76.012591  \n",
              "55                CCN(CC)CCNc1ncnc2c1[nH]c1ccc(Cl)cc12  71.951154  \n",
              "..                                                 ...        ...  \n",
              "285  CCOC(=O)C1=C(C)N=c2sc(=Cc3ccccc3O)c(=O)n2C1c1c...  -0.457356  \n",
              "337                COc1ccc(C=C2SC(Nc3ccccc3)=NC2=O)cc1  -0.646291  \n",
              "37             COc1ccc(C=C2SC(=N)N(c3ccccc3OC)C2=O)cc1  -4.133714  \n",
              "64               CCCCCCOC(=O)C1=C(C)NC(=O)NC1c1ccccc1F  -5.453928  \n",
              "235                 CCC(=O)Nc1nnc(Cc2ccc(OC)c(OC)c2)s1 -10.987070  \n",
              "\n",
              "[400 rows x 3 columns]"
            ],
            "text/html": [
              "\n",
              "  <div id=\"df-94079409-fbe2-4b73-b1ae-4b98cdfcd14b\">\n",
              "    <div class=\"colab-df-container\">\n",
              "      <div>\n",
              "<style scoped>\n",
              "    .dataframe tbody tr th:only-of-type {\n",
              "        vertical-align: middle;\n",
              "    }\n",
              "\n",
              "    .dataframe tbody tr th {\n",
              "        vertical-align: top;\n",
              "    }\n",
              "\n",
              "    .dataframe thead th {\n",
              "        text-align: right;\n",
              "    }\n",
              "</style>\n",
              "<table border=\"1\" class=\"dataframe\">\n",
              "  <thead>\n",
              "    <tr style=\"text-align: right;\">\n",
              "      <th></th>\n",
              "      <th>key</th>\n",
              "      <th>input</th>\n",
              "      <th>score</th>\n",
              "    </tr>\n",
              "  </thead>\n",
              "  <tbody>\n",
              "    <tr>\n",
              "      <th>136</th>\n",
              "      <td>HPFVQAYLQOSFOL-UHFFFAOYSA-N</td>\n",
              "      <td>COc1cccc(Nc2nc(NCCO)c3ccccc3n2)c1</td>\n",
              "      <td>77.199021</td>\n",
              "    </tr>\n",
              "    <tr>\n",
              "      <th>399</th>\n",
              "      <td>ZGMMVVYGDFQTBB-UHFFFAOYSA-N</td>\n",
              "      <td>OCCNc1nc(Nc2ccc(Cl)c(Cl)c2)nc2ccccc12</td>\n",
              "      <td>76.798370</td>\n",
              "    </tr>\n",
              "    <tr>\n",
              "      <th>69</th>\n",
              "      <td>RHZLKBRFIAZMTN-UHFFFAOYSA-N</td>\n",
              "      <td>Cc1ccc(Nc2nc(NCCO)c3ccccc3n2)cc1C</td>\n",
              "      <td>76.052494</td>\n",
              "    </tr>\n",
              "    <tr>\n",
              "      <th>339</th>\n",
              "      <td>NPWXHTXMBIOHKI-UHFFFAOYSA-N</td>\n",
              "      <td>Cn1c(=O)n(C)c2cc(CNCCNc3ccnc4cc(Cl)ccc34)ccc21</td>\n",
              "      <td>76.012591</td>\n",
              "    </tr>\n",
              "    <tr>\n",
              "      <th>55</th>\n",
              "      <td>YZZGEZJZTYYZGG-UHFFFAOYSA-N</td>\n",
              "      <td>CCN(CC)CCNc1ncnc2c1[nH]c1ccc(Cl)cc12</td>\n",
              "      <td>71.951154</td>\n",
              "    </tr>\n",
              "    <tr>\n",
              "      <th>...</th>\n",
              "      <td>...</td>\n",
              "      <td>...</td>\n",
              "      <td>...</td>\n",
              "    </tr>\n",
              "    <tr>\n",
              "      <th>285</th>\n",
              "      <td>HURFFFRCSHQNDT-UHFFFAOYSA-N</td>\n",
              "      <td>CCOC(=O)C1=C(C)N=c2sc(=Cc3ccccc3O)c(=O)n2C1c1c...</td>\n",
              "      <td>-0.457356</td>\n",
              "    </tr>\n",
              "    <tr>\n",
              "      <th>337</th>\n",
              "      <td>GIIJJSVNYMYHHB-UHFFFAOYSA-N</td>\n",
              "      <td>COc1ccc(C=C2SC(Nc3ccccc3)=NC2=O)cc1</td>\n",
              "      <td>-0.646291</td>\n",
              "    </tr>\n",
              "    <tr>\n",
              "      <th>37</th>\n",
              "      <td>YBPABXGFEMOUTB-UHFFFAOYSA-N</td>\n",
              "      <td>COc1ccc(C=C2SC(=N)N(c3ccccc3OC)C2=O)cc1</td>\n",
              "      <td>-4.133714</td>\n",
              "    </tr>\n",
              "    <tr>\n",
              "      <th>64</th>\n",
              "      <td>ZMRHGYILDNXKHW-UHFFFAOYSA-N</td>\n",
              "      <td>CCCCCCOC(=O)C1=C(C)NC(=O)NC1c1ccccc1F</td>\n",
              "      <td>-5.453928</td>\n",
              "    </tr>\n",
              "    <tr>\n",
              "      <th>235</th>\n",
              "      <td>QIFXARBSCYEPAY-UHFFFAOYSA-N</td>\n",
              "      <td>CCC(=O)Nc1nnc(Cc2ccc(OC)c(OC)c2)s1</td>\n",
              "      <td>-10.987070</td>\n",
              "    </tr>\n",
              "  </tbody>\n",
              "</table>\n",
              "<p>400 rows × 3 columns</p>\n",
              "</div>\n",
              "      <button class=\"colab-df-convert\" onclick=\"convertToInteractive('df-94079409-fbe2-4b73-b1ae-4b98cdfcd14b')\"\n",
              "              title=\"Convert this dataframe to an interactive table.\"\n",
              "              style=\"display:none;\">\n",
              "        \n",
              "  <svg xmlns=\"http://www.w3.org/2000/svg\" height=\"24px\"viewBox=\"0 0 24 24\"\n",
              "       width=\"24px\">\n",
              "    <path d=\"M0 0h24v24H0V0z\" fill=\"none\"/>\n",
              "    <path d=\"M18.56 5.44l.94 2.06.94-2.06 2.06-.94-2.06-.94-.94-2.06-.94 2.06-2.06.94zm-11 1L8.5 8.5l.94-2.06 2.06-.94-2.06-.94L8.5 2.5l-.94 2.06-2.06.94zm10 10l.94 2.06.94-2.06 2.06-.94-2.06-.94-.94-2.06-.94 2.06-2.06.94z\"/><path d=\"M17.41 7.96l-1.37-1.37c-.4-.4-.92-.59-1.43-.59-.52 0-1.04.2-1.43.59L10.3 9.45l-7.72 7.72c-.78.78-.78 2.05 0 2.83L4 21.41c.39.39.9.59 1.41.59.51 0 1.02-.2 1.41-.59l7.78-7.78 2.81-2.81c.8-.78.8-2.07 0-2.86zM5.41 20L4 18.59l7.72-7.72 1.47 1.35L5.41 20z\"/>\n",
              "  </svg>\n",
              "      </button>\n",
              "      \n",
              "  <style>\n",
              "    .colab-df-container {\n",
              "      display:flex;\n",
              "      flex-wrap:wrap;\n",
              "      gap: 12px;\n",
              "    }\n",
              "\n",
              "    .colab-df-convert {\n",
              "      background-color: #E8F0FE;\n",
              "      border: none;\n",
              "      border-radius: 50%;\n",
              "      cursor: pointer;\n",
              "      display: none;\n",
              "      fill: #1967D2;\n",
              "      height: 32px;\n",
              "      padding: 0 0 0 0;\n",
              "      width: 32px;\n",
              "    }\n",
              "\n",
              "    .colab-df-convert:hover {\n",
              "      background-color: #E2EBFA;\n",
              "      box-shadow: 0px 1px 2px rgba(60, 64, 67, 0.3), 0px 1px 3px 1px rgba(60, 64, 67, 0.15);\n",
              "      fill: #174EA6;\n",
              "    }\n",
              "\n",
              "    [theme=dark] .colab-df-convert {\n",
              "      background-color: #3B4455;\n",
              "      fill: #D2E3FC;\n",
              "    }\n",
              "\n",
              "    [theme=dark] .colab-df-convert:hover {\n",
              "      background-color: #434B5C;\n",
              "      box-shadow: 0px 1px 3px 1px rgba(0, 0, 0, 0.15);\n",
              "      filter: drop-shadow(0px 1px 2px rgba(0, 0, 0, 0.3));\n",
              "      fill: #FFFFFF;\n",
              "    }\n",
              "  </style>\n",
              "\n",
              "      <script>\n",
              "        const buttonEl =\n",
              "          document.querySelector('#df-94079409-fbe2-4b73-b1ae-4b98cdfcd14b button.colab-df-convert');\n",
              "        buttonEl.style.display =\n",
              "          google.colab.kernel.accessAllowed ? 'block' : 'none';\n",
              "\n",
              "        async function convertToInteractive(key) {\n",
              "          const element = document.querySelector('#df-94079409-fbe2-4b73-b1ae-4b98cdfcd14b');\n",
              "          const dataTable =\n",
              "            await google.colab.kernel.invokeFunction('convertToInteractive',\n",
              "                                                     [key], {});\n",
              "          if (!dataTable) return;\n",
              "\n",
              "          const docLinkHtml = 'Like what you see? Visit the ' +\n",
              "            '<a target=\"_blank\" href=https://colab.research.google.com/notebooks/data_table.ipynb>data table notebook</a>'\n",
              "            + ' to learn more about interactive tables.';\n",
              "          element.innerHTML = '';\n",
              "          dataTable['output_type'] = 'display_data';\n",
              "          await google.colab.output.renderOutput(dataTable, element);\n",
              "          const docLink = document.createElement('div');\n",
              "          docLink.innerHTML = docLinkHtml;\n",
              "          element.appendChild(docLink);\n",
              "        }\n",
              "      </script>\n",
              "    </div>\n",
              "  </div>\n",
              "  "
            ]
          },
          "metadata": {},
          "execution_count": 19
        }
      ]
    },
    {
      "cell_type": "code",
      "source": [
        "plt.hist(df[\"score\"], bins=50, color=\"#50285a\")\n",
        "plt.show()"
      ],
      "metadata": {
        "id": "7d24J0bu-1l1",
        "outputId": "7170cdc7-a078-46ac-ba79-9b7b02f4e8af",
        "colab": {
          "base_uri": "https://localhost:8080/",
          "height": 265
        }
      },
      "execution_count": 23,
      "outputs": [
        {
          "output_type": "display_data",
          "data": {
            "text/plain": [
              "<Figure size 432x288 with 1 Axes>"
            ],
            "image/png": "[encoded data removed]"
          },
          "metadata": {
            "needs_background": "light"
          }
        }
      ]
    },
    {
      "cell_type": "markdown",
      "source": [
        "Here is a list of models that can be used for this exercise. Please refer to the [Ersilia Model Hub](https://www.ersilia.io/model-hub) to read more about each one of them, the source of data they use and how can them be applied to our problem.\n",
        "\n",
        "*   Malaria Activity: eos2gth / maip-malaria-surrogate\n",
        "*   Tuberculosis Activity: eos46ev / chemtb\n",
        "*   Antibiotic Activity: eos4e40 / chemprop-antibiotic\n",
        "*   Cardiotoxicity (hERG): eos2ta5 / cardiotox-net\n",
        "*   Natural Product Likeness: eos9yui / natural-product-likeness\n",
        "*   Retrosynthetic Accessibility: eos2r5a / retrosynthetic-accessibility\n",
        "*   Aqueous Solubility: eos6oli / soltrannet-aqueous-solubility"
      ],
      "metadata": {
        "id": "4K0wfN9DyDC8"
      }
    },
    {
      "cell_type": "code",
      "source": [
        "!ersilia -v fetch eos46ev\n",
        "!ersilia serve eos46ev\n",
        "!ersilia api predict -i \"drive/MyDrive/DataScience_Workshop/data/day2/mmv_malariabox.csv\" -o \"drive/MyDrive/DataScience_Workshop/data/day2/eos46ev.csv\""
      ],
      "metadata": {
        "id": "Hx163ILhxJws",
        "outputId": "3d02fd78-59eb-46df-f58c-cd04d30e2584",
        "colab": {
          "base_uri": "https://localhost:8080/"
        }
      },
      "execution_count": 2,
      "outputs": [
        {
          "output_type": "stream",
          "name": "stdout",
          "text": [
            "Traceback (most recent call last):\n",
            "  File \"/usr/local/bin/ersilia\", line 8, in <module>\n",
            "    sys.exit(cli())\n",
            "  File \"/usr/local/lib/python3.7/site-packages/click/core.py\", line 1130, in __call__\n",
            "    return self.main(*args, **kwargs)\n",
            "  File \"/usr/local/lib/python3.7/site-packages/click/core.py\", line 1055, in main\n",
            "    rv = self.invoke(ctx)\n",
            "  File \"/usr/local/lib/python3.7/site-packages/click/core.py\", line 1657, in invoke\n",
            "    return _process_result(sub_ctx.command.invoke(sub_ctx))\n",
            "  File \"/usr/local/lib/python3.7/site-packages/click/core.py\", line 1404, in invoke\n",
            "    return ctx.invoke(self.callback, **ctx.params)\n",
            "  File \"/usr/local/lib/python3.7/site-packages/click/core.py\", line 760, in invoke\n",
            "    return __callback(*args, **kwargs)\n",
            "  File \"/usr/local/lib/python3.7/site-packages/bentoml/cli/click_utils.py\", line 138, in wrapper\n",
            "    return func(*args, **kwargs)\n",
            "  File \"/usr/local/lib/python3.7/site-packages/bentoml/cli/click_utils.py\", line 115, in wrapper\n",
            "    return_value = func(*args, **kwargs)\n",
            "  File \"/usr/local/lib/python3.7/site-packages/bentoml/cli/click_utils.py\", line 99, in wrapper\n",
            "    return func(*args, **kwargs)\n",
            "  File \"/usr/local/lib/python3.7/site-packages/ersilia/cli/commands/serve.py\", line 22, in serve\n",
            "    mdl = ErsiliaModel(model, save_to_lake=lake, service_class=service_class)\n",
            "  File \"/usr/local/lib/python3.7/site-packages/ersilia/core/model.py\", line 99, in __init__\n",
            "    mf.fetch(self.model_id)\n",
            "  File \"/usr/local/lib/python3.7/site-packages/ersilia/hub/fetch/fetch.py\", line 96, in fetch\n",
            "    self._pack()\n",
            "  File \"/usr/local/lib/python3.7/site-packages/ersilia/hub/fetch/fetch.py\", line 60, in _pack\n",
            "    mp.pack()\n",
            "  File \"/usr/local/lib/python3.7/site-packages/ersilia/hub/fetch/actions/pack.py\", line 63, in pack\n",
            "    self._run()\n",
            "  File \"/usr/local/lib/python3.7/site-packages/ersilia/hub/fetch/actions/pack.py\", line 58, in _run\n",
            "    runner.run()\n",
            "  File \"/usr/local/lib/python3.7/site-packages/ersilia/hub/fetch/pack/runners.py\", line 141, in run\n",
            "    self._run()\n",
            "  File \"/usr/local/lib/python3.7/site-packages/ersilia/hub/fetch/pack/runners.py\", line 123, in _run\n",
            "    env = self._setup()\n",
            "  File \"/usr/local/lib/python3.7/site-packages/ersilia/hub/fetch/pack/runners.py\", line 108, in _setup\n",
            "    self.conda.run_commandlines(environment=env, commandlines=commandlines)\n",
            "  File \"/usr/local/lib/python3.7/site-packages/ersilia/utils/conda.py\", line 358, in run_commandlines\n",
            "    raise Exception(\"{0} environment does not exist\".format(environment))\n",
            "Exception: eos46ev environment does not exist\n",
            "/usr/local/lib/python3.7/site-packages/requests/__init__.py:104: RequestsDependencyWarning: urllib3 (1.25.11) or chardet (5.0.0)/charset_normalizer (2.0.4) doesn't match a supported version!\n",
            "  RequestsDependencyWarning)\n",
            "\n",
            "Aborted!\n"
          ]
        }
      ]
    },
    {
      "cell_type": "code",
      "source": [
        "!ersilia fetch eos4e40\n",
        "!ersilia serve eos4e40\n",
        "!ersilia api predict -i \"drive/MyDrive/DataScience_Workshop/data/day2/mmv_malariabox.csv\" -o \"drive/MyDrive/DataScience_Workshop/data/day2/eos4e40.csv\""
      ],
      "metadata": {
        "id": "yzAQUfzxi1qc",
        "outputId": "92a08845-3a99-4a47-debd-e80a629082d7",
        "colab": {
          "base_uri": "https://localhost:8080/"
        }
      },
      "execution_count": 4,
      "outputs": [
        {
          "output_type": "stream",
          "name": "stdout",
          "text": [
            "\u001b[34m⬇️  Fetching model eos4e40: chemprop-antibiotic\u001b[0m\n",
            "\u001b[32m👍 Model eos4e40 fetched successfully!\u001b[0m\n",
            "\u001b[32m🚀 Serving model eos4e40: chemprop-antibiotic\u001b[0m\n",
            "\u001b[0m\n",
            "\u001b[33m   URL: http://127.0.0.1:59317\u001b[0m\n",
            "\u001b[33m   PID: 6445\u001b[0m\n",
            "\u001b[33m   SRV: conda\u001b[0m\n",
            "\u001b[0m\n",
            "\u001b[34m👉 Available APIs:\u001b[0m\n",
            "\u001b[34m   - predict\u001b[0m\n",
            "drive/MyDrive/DataScience_Workshop/data/day2/eos4e40.csv\u001b[0m\n"
          ]
        }
      ]
    },
    {
      "cell_type": "code",
      "source": [
        "!ersilia -v fetch eos2ta5\n",
        "!ersilia serve eos2ta5\n",
        "!ersilia api predict -i \"drive/MyDrive/DataScience_Workshop/data/day2/mmv_malariabox.csv\" -o \"drive/MyDrive/DataScience_Workshop/data/day2/eos2ta5.csv\""
      ],
      "metadata": {
        "id": "KprqfA0Ri7PG"
      },
      "execution_count": null,
      "outputs": []
    },
    {
      "cell_type": "code",
      "source": [
        "!ersilia -v fetch eos9yui\n",
        "!ersilia serve eos9yui\n",
        "!ersilia api predict -i \"drive/MyDrive/DataScience_Workshop/data/day2/mmv_malariabox.csv\" -o \"drive/MyDrive/DataScience_Workshop/data/day2/eos9yui.csv\""
      ],
      "metadata": {
        "id": "1SWJWoOui7oZ"
      },
      "execution_count": null,
      "outputs": []
    },
    {
      "cell_type": "code",
      "source": [
        "!ersilia fetch eos2r5a\n",
        "!ersilia serve eos2r5a\n",
        "!ersilia api predict -i \"drive/MyDrive/DataScience_Workshop/data/day2/mmv_malariabox.csv\" -o \"drive/MyDrive/DataScience_Workshop/data/day2/eos2r5a.csv\""
      ],
      "metadata": {
        "id": "8rBwvea_jDOE",
        "outputId": "d2f6d0f3-4a8d-4a38-89bd-070e8f8e65ee",
        "colab": {
          "base_uri": "https://localhost:8080/"
        }
      },
      "execution_count": 4,
      "outputs": [
        {
          "output_type": "stream",
          "name": "stdout",
          "text": [
            "/usr/local/lib/python3.7/site-packages/requests/__init__.py:104: RequestsDependencyWarning: urllib3 (1.25.11) or chardet (5.0.0)/charset_normalizer (2.0.4) doesn't match a supported version!\n",
            "  RequestsDependencyWarning)\n",
            "Traceback (most recent call last):\n",
            "  File \"/usr/local/bin/ersilia\", line 5, in <module>\n",
            "    from ersilia.cli import cli\n",
            "  File \"/usr/local/lib/python3.7/site-packages/ersilia/cli/__init__.py\", line 1, in <module>\n",
            "    from .create_cli import create_ersilia_cli\n",
            "  File \"/usr/local/lib/python3.7/site-packages/ersilia/cli/create_cli.py\", line 3, in <module>\n",
            "    from .commands import ersilia_cli\n",
            "  File \"/usr/local/lib/python3.7/site-packages/ersilia/cli/commands/__init__.py\", line 2, in <module>\n",
            "    from bentoml.cli.click_utils import BentoMLCommandGroup\n",
            "  File \"/usr/local/lib/python3.7/site-packages/bentoml/cli/__init__.py\", line 19, in <module>\n",
            "    from bentoml.cli.bento_management import add_bento_sub_command\n",
            "  File \"/usr/local/lib/python3.7/site-packages/bentoml/cli/bento_management.py\", line 28, in <module>\n",
            "    from bentoml.yatai.client import get_yatai_client\n",
            "  File \"/usr/local/lib/python3.7/site-packages/bentoml/yatai/client/__init__.py\", line 21, in <module>\n",
            "    from bentoml.yatai.client.bento_repository_api import BentoRepositoryAPIClient\n",
            "  File \"/usr/local/lib/python3.7/site-packages/bentoml/yatai/client/bento_repository_api.py\", line 30, in <module>\n",
            "    from bentoml.yatai.label_store import _validate_labels\n",
            "  File \"/usr/local/lib/python3.7/site-packages/bentoml/yatai/label_store.py\", line 7, in <module>\n",
            "    from bentoml.yatai.db import Base\n",
            "  File \"/usr/local/lib/python3.7/site-packages/bentoml/yatai/db.py\", line 21, in <module>\n",
            "    from sqlalchemy.ext.declarative import declarative_base\n",
            "  File \"/usr/local/lib/python3.7/site-packages/sqlalchemy/ext/declarative/__init__.py\", line 8, in <module>\n",
            "    from .api import AbstractConcreteBase\n",
            "  File \"/usr/local/lib/python3.7/site-packages/sqlalchemy/ext/declarative/api.py\", line 13, in <module>\n",
            "    from .base import _add_attribute\n",
            "  File \"/usr/local/lib/python3.7/site-packages/sqlalchemy/ext/declarative/base.py\", line 12, in <module>\n",
            "    from sqlalchemy.orm import instrumentation\n",
            "  File \"/usr/local/lib/python3.7/site-packages/sqlalchemy/orm/__init__.py\", line 22, in <module>\n",
            "    from .descriptor_props import ComparableProperty  # noqa\n",
            "  File \"/usr/local/lib/python3.7/site-packages/sqlalchemy/orm/descriptor_props.py\", line 16, in <module>\n",
            "    from . import query\n",
            "  File \"/usr/local/lib/python3.7/site-packages/sqlalchemy/orm/query.py\", line 64, in <module>\n",
            "    class Query(object):\n",
            "  File \"/usr/local/lib/python3.7/site-packages/sqlalchemy/orm/query.py\", line 3017, in Query\n",
            "    @_generative(_no_clauseelement_condition)\n",
            "  File \"/usr/local/lib/python3.7/site-packages/sqlalchemy/util/langhelpers.py\", line 142, in decorate\n",
            "    metadata.update(format_argspec_plus(spec, grouped=False))\n",
            "  File \"/usr/local/lib/python3.7/site-packages/sqlalchemy/util/langhelpers.py\", line 465, in format_argspec_plus\n",
            "    spec[0], spec[1], spec[2], None, spec[4]\n",
            "KeyboardInterrupt\n",
            "/usr/local/lib/python3.7/site-packages/requests/__init__.py:104: RequestsDependencyWarning: urllib3 (1.25.11) or chardet (5.0.0)/charset_normalizer (2.0.4) doesn't match a supported version!\n",
            "  RequestsDependencyWarning)\n",
            "Requested model eos2r5a if not available locally. Do you want to fetch it? [Y/n]\n",
            "/usr/local/lib/python3.7/site-packages/requests/__init__.py:104: RequestsDependencyWarning: urllib3 (1.25.11) or chardet (5.0.0)/charset_normalizer (2.0.4) doesn't match a supported version!\n",
            "  RequestsDependencyWarning)\n",
            "Traceback (most recent call last):\n",
            "  File \"/usr/local/bin/ersilia\", line 8, in <module>\n",
            "    sys.exit(cli())\n",
            "  File \"/usr/local/lib/python3.7/site-packages/click/core.py\", line 1130, in __call__\n",
            "    return self.main(*args, **kwargs)\n",
            "  File \"/usr/local/lib/python3.7/site-packages/click/core.py\", line 1055, in main\n",
            "    rv = self.invoke(ctx)\n",
            "  File \"/usr/local/lib/python3.7/site-packages/click/core.py\", line 1657, in invoke\n",
            "    return _process_result(sub_ctx.command.invoke(sub_ctx))\n",
            "  File \"/usr/local/lib/python3.7/site-packages/click/core.py\", line 1404, in invoke\n",
            "    return ctx.invoke(self.callback, **ctx.params)\n",
            "  File \"/usr/local/lib/python3.7/site-packages/click/core.py\", line 760, in invoke\n",
            "    return __callback(*args, **kwargs)\n",
            "  File \"/usr/local/lib/python3.7/site-packages/bentoml/cli/click_utils.py\", line 138, in wrapper\n",
            "    return func(*args, **kwargs)\n",
            "  File \"/usr/local/lib/python3.7/site-packages/bentoml/cli/click_utils.py\", line 115, in wrapper\n",
            "    return_value = func(*args, **kwargs)\n",
            "  File \"/usr/local/lib/python3.7/site-packages/bentoml/cli/click_utils.py\", line 99, in wrapper\n",
            "    return func(*args, **kwargs)\n",
            "  File \"/usr/local/lib/python3.7/site-packages/ersilia/cli/commands/serve.py\", line 22, in serve\n",
            "    mdl = ErsiliaModel(model, save_to_lake=lake, service_class=service_class)\n",
            "  File \"/usr/local/lib/python3.7/site-packages/ersilia/core/model.py\", line 99, in __init__\n",
            "    mf.fetch(self.model_id)\n",
            "  File \"/usr/local/lib/python3.7/site-packages/ersilia/hub/fetch/fetch.py\", line 96, in fetch\n",
            "    self._pack()\n",
            "  File \"/usr/local/lib/python3.7/site-packages/ersilia/hub/fetch/fetch.py\", line 60, in _pack\n",
            "    mp.pack()\n",
            "  File \"/usr/local/lib/python3.7/site-packages/ersilia/hub/fetch/actions/pack.py\", line 63, in pack\n",
            "    self._run()\n",
            "  File \"/usr/local/lib/python3.7/site-packages/ersilia/hub/fetch/actions/pack.py\", line 58, in _run\n",
            "    runner.run()\n",
            "  File \"/usr/local/lib/python3.7/site-packages/ersilia/hub/fetch/pack/runners.py\", line 141, in run\n",
            "    self._run()\n",
            "  File \"/usr/local/lib/python3.7/site-packages/ersilia/hub/fetch/pack/runners.py\", line 123, in _run\n",
            "    env = self._setup()\n",
            "  File \"/usr/local/lib/python3.7/site-packages/ersilia/hub/fetch/pack/runners.py\", line 108, in _setup\n",
            "    self.conda.run_commandlines(environment=env, commandlines=commandlines)\n",
            "  File \"/usr/local/lib/python3.7/site-packages/ersilia/utils/conda.py\", line 358, in run_commandlines\n",
            "    raise Exception(\"{0} environment does not exist\".format(environment))\n",
            "Exception: eos2r5a environment does not exist\n",
            "/usr/local/lib/python3.7/site-packages/requests/__init__.py:104: RequestsDependencyWarning: urllib3 (1.25.11) or chardet (5.0.0)/charset_normalizer (2.0.4) doesn't match a supported version!\n",
            "  RequestsDependencyWarning)\n",
            "\n",
            "Aborted!\n"
          ]
        }
      ]
    },
    {
      "cell_type": "code",
      "source": [
        "!ersilia fetch eos6oli\n",
        "!ersilia serve eos6oli\n",
        "!ersilia api predict -i \"drive/MyDrive/DataScience_Workshop/data/day2/mmv_malariabox.csv\" -o \"drive/MyDrive/DataScience_Workshop/data/day2/eos6oli.csv\""
      ],
      "metadata": {
        "id": "gDhRVIXyjHy7"
      },
      "execution_count": null,
      "outputs": []
    }
  ]
}
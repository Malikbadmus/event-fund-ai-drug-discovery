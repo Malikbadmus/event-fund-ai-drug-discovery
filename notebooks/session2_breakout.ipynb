{
  "nbformat": 4,
  "nbformat_minor": 0,
  "metadata": {
    "colab": {
      "provenance": [],
      "collapsed_sections": [],
      "mount_file_id": "https://github.com/ersilia-os/event-fund-ai-drug-discovery/blob/main/session2_breakout_solved.ipynb",
      "authorship_tag": "ABX9TyN+pOEuK7KGHl21W5tVOBW7",
      "include_colab_link": true
    },
    "kernelspec": {
      "name": "python3",
      "display_name": "Python 3"
    },
    "language_info": {
      "name": "python"
    }
  },
  "cells": [
    {
      "cell_type": "markdown",
      "metadata": {
        "id": "view-in-github",
        "colab_type": "text"
      },
      "source": [
        "<a href=\"https://colab.research.google.com/github/ersilia-os/event-fund-ai-drug-discovery/blob/main/notebooks/session2_breakout.ipynb\" target=\"_parent\"><img src=\"https://colab.research.google.com/assets/colab-badge.svg\" alt=\"Open In Colab\"/></a>"
      ]
    },
    {
      "cell_type": "markdown",
      "source": [
        "# MMV Malaria Dataset\n",
        "We will use the list of 400 compounds from the MMV Malaria Box for this exercise. The list of molecules is already prepared in the /data folder of the google drive DataScience_Workshop we created during Session 1\n",
        "First, we will mount Google Drive on the notebook to access the data."
      ],
      "metadata": {
        "id": "xjJsxgmC0Pzs"
      }
    },
    {
      "cell_type": "code",
      "source": [
        "# Mount Google Drive\n",
        "from google.colab import drive\n",
        "drive.mount('/content/drive')\n",
        "\n",
        "#import necessary packages\n",
        "import matplotlib.pyplot as plt\n",
        "import pandas as pd"
      ],
      "metadata": {
        "colab": {
          "base_uri": "https://localhost:8080/"
        },
        "id": "FFlKZR-uy9hj",
        "outputId": "0571663a-72f1-4ab2-d349-decd7d71d0c8"
      },
      "execution_count": null,
      "outputs": [
        {
          "output_type": "stream",
          "name": "stdout",
          "text": [
            "Drive already mounted at /content/drive; to attempt to forcibly remount, call drive.mount(\"/content/drive\", force_remount=True).\n"
          ]
        }
      ]
    },
    {
      "cell_type": "code",
      "source": [
        "#do not run this if you already did during Session 1\n",
        "!mkdir /content/drive/MyDrive/DataScience_Workshop\n",
        "!git clone https://github.com/ersilia-os/event-fund-ai-drug-discovery.git /content/drive/MyDrive/DataScience_Workshop"
      ],
      "metadata": {
        "id": "sMT0at1jzF-X",
        "outputId": "6faca46d-33cb-49c6-9226-957e00558012",
        "colab": {
          "base_uri": "https://localhost:8080/"
        }
      },
      "execution_count": null,
      "outputs": [
        {
          "output_type": "stream",
          "name": "stdout",
          "text": [
            "Cloning into '/content/drive/MyDrive/DataScience_Workshop'...\n",
            "remote: Enumerating objects: 143, done.\u001b[K\n",
            "remote: Counting objects: 100% (143/143), done.\u001b[K\n",
            "remote: Compressing objects: 100% (112/112), done.\u001b[K\n",
            "remote: Total 143 (delta 64), reused 82 (delta 27), pack-reused 0\u001b[K\n",
            "Receiving objects: 100% (143/143), 1.85 MiB | 7.45 MiB/s, done.\n",
            "Resolving deltas: 100% (64/64), done.\n"
          ]
        }
      ]
    },
    {
      "cell_type": "code",
      "source": [
        "#we can open it as a pandas dataframe\n",
        "smiles = \"drive/MyDrive/DataScience_Workshop/data/day2/mmv_malariabox.csv\"\n",
        "df=pd.read_csv(smiles)\n",
        "df.head()"
      ],
      "metadata": {
        "id": "VMuOGn-O0e5n",
        "outputId": "009c81d5-cf02-43cf-f0eb-0d124415a6b1",
        "colab": {
          "base_uri": "https://localhost:8080/",
          "height": 206
        }
      },
      "execution_count": null,
      "outputs": [
        {
          "output_type": "execute_result",
          "data": {
            "text/plain": [
              "                                          CAN_SMILES\n",
              "0          COc1ccccc1CNC(=O)CCn1c(=O)[nH]c2ccsc2c1=O\n",
              "1  CN(C)c1ccc(C(O)(c2ccc(N(C)C)cc2)c2ccc(N(C)C)cc...\n",
              "2  Cc1ccc(-c2cc3c(SCC(=O)Nc4cc(C(F)(F)F)ccc4Cl)nc...\n",
              "3  CCOC(=O)C1=C(c2ccccc2)N=c2sc(=Cc3cc(C)n(-c4ccc...\n",
              "4      CCOC(=O)c1cnc2c(C)cc(C)cc2c1Nc1ccc(OC)c(OC)c1"
            ],
            "text/html": [
              "\n",
              "  <div id=\"df-8fb791b4-189b-4bfd-a844-cd6f16528a8b\">\n",
              "    <div class=\"colab-df-container\">\n",
              "      <div>\n",
              "<style scoped>\n",
              "    .dataframe tbody tr th:only-of-type {\n",
              "        vertical-align: middle;\n",
              "    }\n",
              "\n",
              "    .dataframe tbody tr th {\n",
              "        vertical-align: top;\n",
              "    }\n",
              "\n",
              "    .dataframe thead th {\n",
              "        text-align: right;\n",
              "    }\n",
              "</style>\n",
              "<table border=\"1\" class=\"dataframe\">\n",
              "  <thead>\n",
              "    <tr style=\"text-align: right;\">\n",
              "      <th></th>\n",
              "      <th>CAN_SMILES</th>\n",
              "    </tr>\n",
              "  </thead>\n",
              "  <tbody>\n",
              "    <tr>\n",
              "      <th>0</th>\n",
              "      <td>COc1ccccc1CNC(=O)CCn1c(=O)[nH]c2ccsc2c1=O</td>\n",
              "    </tr>\n",
              "    <tr>\n",
              "      <th>1</th>\n",
              "      <td>CN(C)c1ccc(C(O)(c2ccc(N(C)C)cc2)c2ccc(N(C)C)cc...</td>\n",
              "    </tr>\n",
              "    <tr>\n",
              "      <th>2</th>\n",
              "      <td>Cc1ccc(-c2cc3c(SCC(=O)Nc4cc(C(F)(F)F)ccc4Cl)nc...</td>\n",
              "    </tr>\n",
              "    <tr>\n",
              "      <th>3</th>\n",
              "      <td>CCOC(=O)C1=C(c2ccccc2)N=c2sc(=Cc3cc(C)n(-c4ccc...</td>\n",
              "    </tr>\n",
              "    <tr>\n",
              "      <th>4</th>\n",
              "      <td>CCOC(=O)c1cnc2c(C)cc(C)cc2c1Nc1ccc(OC)c(OC)c1</td>\n",
              "    </tr>\n",
              "  </tbody>\n",
              "</table>\n",
              "</div>\n",
              "      <button class=\"colab-df-convert\" onclick=\"convertToInteractive('df-8fb791b4-189b-4bfd-a844-cd6f16528a8b')\"\n",
              "              title=\"Convert this dataframe to an interactive table.\"\n",
              "              style=\"display:none;\">\n",
              "        \n",
              "  <svg xmlns=\"http://www.w3.org/2000/svg\" height=\"24px\"viewBox=\"0 0 24 24\"\n",
              "       width=\"24px\">\n",
              "    <path d=\"M0 0h24v24H0V0z\" fill=\"none\"/>\n",
              "    <path d=\"M18.56 5.44l.94 2.06.94-2.06 2.06-.94-2.06-.94-.94-2.06-.94 2.06-2.06.94zm-11 1L8.5 8.5l.94-2.06 2.06-.94-2.06-.94L8.5 2.5l-.94 2.06-2.06.94zm10 10l.94 2.06.94-2.06 2.06-.94-2.06-.94-.94-2.06-.94 2.06-2.06.94z\"/><path d=\"M17.41 7.96l-1.37-1.37c-.4-.4-.92-.59-1.43-.59-.52 0-1.04.2-1.43.59L10.3 9.45l-7.72 7.72c-.78.78-.78 2.05 0 2.83L4 21.41c.39.39.9.59 1.41.59.51 0 1.02-.2 1.41-.59l7.78-7.78 2.81-2.81c.8-.78.8-2.07 0-2.86zM5.41 20L4 18.59l7.72-7.72 1.47 1.35L5.41 20z\"/>\n",
              "  </svg>\n",
              "      </button>\n",
              "      \n",
              "  <style>\n",
              "    .colab-df-container {\n",
              "      display:flex;\n",
              "      flex-wrap:wrap;\n",
              "      gap: 12px;\n",
              "    }\n",
              "\n",
              "    .colab-df-convert {\n",
              "      background-color: #E8F0FE;\n",
              "      border: none;\n",
              "      border-radius: 50%;\n",
              "      cursor: pointer;\n",
              "      display: none;\n",
              "      fill: #1967D2;\n",
              "      height: 32px;\n",
              "      padding: 0 0 0 0;\n",
              "      width: 32px;\n",
              "    }\n",
              "\n",
              "    .colab-df-convert:hover {\n",
              "      background-color: #E2EBFA;\n",
              "      box-shadow: 0px 1px 2px rgba(60, 64, 67, 0.3), 0px 1px 3px 1px rgba(60, 64, 67, 0.15);\n",
              "      fill: #174EA6;\n",
              "    }\n",
              "\n",
              "    [theme=dark] .colab-df-convert {\n",
              "      background-color: #3B4455;\n",
              "      fill: #D2E3FC;\n",
              "    }\n",
              "\n",
              "    [theme=dark] .colab-df-convert:hover {\n",
              "      background-color: #434B5C;\n",
              "      box-shadow: 0px 1px 3px 1px rgba(0, 0, 0, 0.15);\n",
              "      filter: drop-shadow(0px 1px 2px rgba(0, 0, 0, 0.3));\n",
              "      fill: #FFFFFF;\n",
              "    }\n",
              "  </style>\n",
              "\n",
              "      <script>\n",
              "        const buttonEl =\n",
              "          document.querySelector('#df-8fb791b4-189b-4bfd-a844-cd6f16528a8b button.colab-df-convert');\n",
              "        buttonEl.style.display =\n",
              "          google.colab.kernel.accessAllowed ? 'block' : 'none';\n",
              "\n",
              "        async function convertToInteractive(key) {\n",
              "          const element = document.querySelector('#df-8fb791b4-189b-4bfd-a844-cd6f16528a8b');\n",
              "          const dataTable =\n",
              "            await google.colab.kernel.invokeFunction('convertToInteractive',\n",
              "                                                     [key], {});\n",
              "          if (!dataTable) return;\n",
              "\n",
              "          const docLinkHtml = 'Like what you see? Visit the ' +\n",
              "            '<a target=\"_blank\" href=https://colab.research.google.com/notebooks/data_table.ipynb>data table notebook</a>'\n",
              "            + ' to learn more about interactive tables.';\n",
              "          element.innerHTML = '';\n",
              "          dataTable['output_type'] = 'display_data';\n",
              "          await google.colab.output.renderOutput(dataTable, element);\n",
              "          const docLink = document.createElement('div');\n",
              "          docLink.innerHTML = docLinkHtml;\n",
              "          element.appendChild(docLink);\n",
              "        }\n",
              "      </script>\n",
              "    </div>\n",
              "  </div>\n",
              "  "
            ]
          },
          "metadata": {},
          "execution_count": 5
        }
      ]
    },
    {
      "cell_type": "markdown",
      "source": [
        "# Ersilia Model Hub\n",
        "The Ersilia Model Hub is a repository of pre-trained, ready-to-use AI models for drug discovery. A list of models and its applications is available [here](https://ersilia.io/model-hub).\n",
        "\n",
        "You can run the Ersilia Model Hub in your computer by installing the [Ersilia Python Package](https://github.com/ersilia-os/ersilia). In this session, we will use the Google Colab implementation of the Ersilia Model Hub to ensure compatibility with all systems."
      ],
      "metadata": {
        "id": "878ye_rfyPE1"
      }
    },
    {
      "cell_type": "code",
      "source": [
        "#@title The Ersilia Model Hub\n",
        "#@markdown Click on the play button to install Ersilia in this Colab notebook.\n",
        "\n",
        "%%capture\n",
        "%env MINICONDA_INSTALLER_SCRIPT=Miniconda3-py37_4.12.0-Linux-x86_64.sh\n",
        "%env MINICONDA_PREFIX=/usr/local\n",
        "%env PYTHONPATH={PYTHONPATH}:/usr/local/lib/python3.7/site-packages\n",
        "%env CONDA_PREFIX=/usr/local\n",
        "%env CONDA_PREFIX_1=/usr/local\n",
        "%env CONDA_DIR=/usr/local\n",
        "%env CONDA_DEFAULT_ENV=base\n",
        "!wget https://repo.anaconda.com/miniconda/$MINICONDA_INSTALLER_SCRIPT\n",
        "!chmod +x $MINICONDA_INSTALLER_SCRIPT\n",
        "!./$MINICONDA_INSTALLER_SCRIPT -b -f -p $MINICONDA_PREFIX\n",
        "!python -m pip install git+https://github.com/ersilia-os/ersilia.git\n",
        "!python -m pip install requests --upgrade\n",
        "import sys\n",
        "_ = (sys.path.append(\"/usr/local/lib/python3.7/site-packages\"))"
      ],
      "metadata": {
        "id": "hLxIH8hxyOte"
      },
      "execution_count": null,
      "outputs": []
    },
    {
      "cell_type": "markdown",
      "source": [
        "# Example Model Prediction\n",
        "We will use one model as a step-by-step guide of how to use the Ersilia Model Hub and analyse the results. Each Ersilia model is identified by a code (eosxxxx) and a slug (one - two word identifier). We will always refer to the models by either the code or the slug. More details are available in the Ersilia Model Hub [documentation](https://ersilia.gitbook.io/ersilia-book/).\n",
        "\n"
      ],
      "metadata": {
        "id": "TWA7BLGtzgWg"
      }
    },
    {
      "cell_type": "markdown",
      "source": [
        "## Antimalarial Activity\n",
        "The Ersilia Model Hub contains a surrogate version of MAIP, a web-based model for predicting blood-stage malaria inhibitors, published in [Bosc et al, 2021](https://jcheminf.biomedcentral.com/articles/10.1186/s13321-021-00487-2).\n",
        "\n",
        "### Steps\n",
        "1. Fetch the model from the online repositor using a bash command (!) \n",
        "2. Import the ersilia package as a Python function\n",
        "3. Load the selected model, \"eos2gth\"\n",
        "4. Run predictions for the input of interest (the MMV Malaria Box smiles list). The output will be loaded in a Pandas dataframe\n",
        "5. Close the model"
      ],
      "metadata": {
        "id": "c7Bpe3pbz5YY"
      }
    },
    {
      "cell_type": "code",
      "source": [
        "!ersilia fetch eos2gth"
      ],
      "metadata": {
        "colab": {
          "base_uri": "https://localhost:8080/"
        },
        "id": "0Opjm0Wq5lfi",
        "outputId": "1b12e3c2-bbc1-4a43-adf5-f03d70c8b915"
      },
      "execution_count": null,
      "outputs": [
        {
          "output_type": "stream",
          "name": "stdout",
          "text": [
            "\u001b[34m⬇️  Fetching model eos2gth: maip-malaria-surrogate\u001b[0m\n",
            "\u001b[32m👍 Model eos2gth fetched successfully!\u001b[0m\n"
          ]
        }
      ]
    },
    {
      "cell_type": "code",
      "execution_count": null,
      "metadata": {
        "id": "T2lNuiazx9m5"
      },
      "outputs": [],
      "source": [
        "from ersilia import ErsiliaModel\n",
        "\n",
        "model = ErsiliaModel(\"eos2gth\")\n",
        "model.serve()\n",
        "output = model.predict(input=smiles, output=\"pandas\")\n",
        "model.close()"
      ]
    },
    {
      "cell_type": "code",
      "source": [
        "#once the model has run the predictions, let's save the output in our Google Drive\n",
        "output.to_csv(\"drive/MyDrive/DataScience_Workshop/data/day2/eos2gth.csv\", index=False)"
      ],
      "metadata": {
        "id": "CL0BURmg7oKM"
      },
      "execution_count": null,
      "outputs": []
    },
    {
      "cell_type": "markdown",
      "source": [
        "### Analyising the model output"
      ],
      "metadata": {
        "id": "wL3TVCz07M3L"
      }
    },
    {
      "cell_type": "code",
      "source": [
        "#First, let's load the predictions we just stored in drive\n",
        "\n",
        "maip = pd.read_csv(\"drive/MyDrive/DataScience_Workshop/data/day2/eos2gth.csv\")\n",
        "maip.head()"
      ],
      "metadata": {
        "id": "QKoufpayYWIw",
        "outputId": "9e821d76-bed9-47a9-86dd-f6722c76aff4",
        "colab": {
          "base_uri": "https://localhost:8080/",
          "height": 206
        }
      },
      "execution_count": null,
      "outputs": [
        {
          "output_type": "execute_result",
          "data": {
            "text/plain": [
              "                           key  \\\n",
              "0  ALGPHOUNWIZIOQ-UHFFFAOYSA-N   \n",
              "1  QFVDKARCPMTZCS-UHFFFAOYSA-N   \n",
              "2  HKNNPGWJKJDXCN-UHFFFAOYSA-N   \n",
              "3  QQNUVMRXVVLAAU-UHFFFAOYSA-N   \n",
              "4  MSGARPVVCYTSLR-UHFFFAOYSA-N   \n",
              "\n",
              "                                               input      score  \n",
              "0          COc1ccccc1CNC(=O)CCn1c(=O)[nH]c2ccsc2c1=O   6.886159  \n",
              "1  CN(C)c1ccc(C(O)(c2ccc(N(C)C)cc2)c2ccc(N(C)C)cc...  15.483176  \n",
              "2  Cc1ccc(-c2cc3c(SCC(=O)Nc4cc(C(F)(F)F)ccc4Cl)nc...  27.288107  \n",
              "3  CCOC(=O)C1=C(c2ccccc2)N=c2sc(=Cc3cc(C)n(-c4ccc...  12.532308  \n",
              "4      CCOC(=O)c1cnc2c(C)cc(C)cc2c1Nc1ccc(OC)c(OC)c1  37.554440  "
            ],
            "text/html": [
              "\n",
              "  <div id=\"df-bb80bba0-2f9e-4cc4-a762-75835a4e7b48\">\n",
              "    <div class=\"colab-df-container\">\n",
              "      <div>\n",
              "<style scoped>\n",
              "    .dataframe tbody tr th:only-of-type {\n",
              "        vertical-align: middle;\n",
              "    }\n",
              "\n",
              "    .dataframe tbody tr th {\n",
              "        vertical-align: top;\n",
              "    }\n",
              "\n",
              "    .dataframe thead th {\n",
              "        text-align: right;\n",
              "    }\n",
              "</style>\n",
              "<table border=\"1\" class=\"dataframe\">\n",
              "  <thead>\n",
              "    <tr style=\"text-align: right;\">\n",
              "      <th></th>\n",
              "      <th>key</th>\n",
              "      <th>input</th>\n",
              "      <th>score</th>\n",
              "    </tr>\n",
              "  </thead>\n",
              "  <tbody>\n",
              "    <tr>\n",
              "      <th>0</th>\n",
              "      <td>ALGPHOUNWIZIOQ-UHFFFAOYSA-N</td>\n",
              "      <td>COc1ccccc1CNC(=O)CCn1c(=O)[nH]c2ccsc2c1=O</td>\n",
              "      <td>6.886159</td>\n",
              "    </tr>\n",
              "    <tr>\n",
              "      <th>1</th>\n",
              "      <td>QFVDKARCPMTZCS-UHFFFAOYSA-N</td>\n",
              "      <td>CN(C)c1ccc(C(O)(c2ccc(N(C)C)cc2)c2ccc(N(C)C)cc...</td>\n",
              "      <td>15.483176</td>\n",
              "    </tr>\n",
              "    <tr>\n",
              "      <th>2</th>\n",
              "      <td>HKNNPGWJKJDXCN-UHFFFAOYSA-N</td>\n",
              "      <td>Cc1ccc(-c2cc3c(SCC(=O)Nc4cc(C(F)(F)F)ccc4Cl)nc...</td>\n",
              "      <td>27.288107</td>\n",
              "    </tr>\n",
              "    <tr>\n",
              "      <th>3</th>\n",
              "      <td>QQNUVMRXVVLAAU-UHFFFAOYSA-N</td>\n",
              "      <td>CCOC(=O)C1=C(c2ccccc2)N=c2sc(=Cc3cc(C)n(-c4ccc...</td>\n",
              "      <td>12.532308</td>\n",
              "    </tr>\n",
              "    <tr>\n",
              "      <th>4</th>\n",
              "      <td>MSGARPVVCYTSLR-UHFFFAOYSA-N</td>\n",
              "      <td>CCOC(=O)c1cnc2c(C)cc(C)cc2c1Nc1ccc(OC)c(OC)c1</td>\n",
              "      <td>37.554440</td>\n",
              "    </tr>\n",
              "  </tbody>\n",
              "</table>\n",
              "</div>\n",
              "      <button class=\"colab-df-convert\" onclick=\"convertToInteractive('df-bb80bba0-2f9e-4cc4-a762-75835a4e7b48')\"\n",
              "              title=\"Convert this dataframe to an interactive table.\"\n",
              "              style=\"display:none;\">\n",
              "        \n",
              "  <svg xmlns=\"http://www.w3.org/2000/svg\" height=\"24px\"viewBox=\"0 0 24 24\"\n",
              "       width=\"24px\">\n",
              "    <path d=\"M0 0h24v24H0V0z\" fill=\"none\"/>\n",
              "    <path d=\"M18.56 5.44l.94 2.06.94-2.06 2.06-.94-2.06-.94-.94-2.06-.94 2.06-2.06.94zm-11 1L8.5 8.5l.94-2.06 2.06-.94-2.06-.94L8.5 2.5l-.94 2.06-2.06.94zm10 10l.94 2.06.94-2.06 2.06-.94-2.06-.94-.94-2.06-.94 2.06-2.06.94z\"/><path d=\"M17.41 7.96l-1.37-1.37c-.4-.4-.92-.59-1.43-.59-.52 0-1.04.2-1.43.59L10.3 9.45l-7.72 7.72c-.78.78-.78 2.05 0 2.83L4 21.41c.39.39.9.59 1.41.59.51 0 1.02-.2 1.41-.59l7.78-7.78 2.81-2.81c.8-.78.8-2.07 0-2.86zM5.41 20L4 18.59l7.72-7.72 1.47 1.35L5.41 20z\"/>\n",
              "  </svg>\n",
              "      </button>\n",
              "      \n",
              "  <style>\n",
              "    .colab-df-container {\n",
              "      display:flex;\n",
              "      flex-wrap:wrap;\n",
              "      gap: 12px;\n",
              "    }\n",
              "\n",
              "    .colab-df-convert {\n",
              "      background-color: #E8F0FE;\n",
              "      border: none;\n",
              "      border-radius: 50%;\n",
              "      cursor: pointer;\n",
              "      display: none;\n",
              "      fill: #1967D2;\n",
              "      height: 32px;\n",
              "      padding: 0 0 0 0;\n",
              "      width: 32px;\n",
              "    }\n",
              "\n",
              "    .colab-df-convert:hover {\n",
              "      background-color: #E2EBFA;\n",
              "      box-shadow: 0px 1px 2px rgba(60, 64, 67, 0.3), 0px 1px 3px 1px rgba(60, 64, 67, 0.15);\n",
              "      fill: #174EA6;\n",
              "    }\n",
              "\n",
              "    [theme=dark] .colab-df-convert {\n",
              "      background-color: #3B4455;\n",
              "      fill: #D2E3FC;\n",
              "    }\n",
              "\n",
              "    [theme=dark] .colab-df-convert:hover {\n",
              "      background-color: #434B5C;\n",
              "      box-shadow: 0px 1px 3px 1px rgba(0, 0, 0, 0.15);\n",
              "      filter: drop-shadow(0px 1px 2px rgba(0, 0, 0, 0.3));\n",
              "      fill: #FFFFFF;\n",
              "    }\n",
              "  </style>\n",
              "\n",
              "      <script>\n",
              "        const buttonEl =\n",
              "          document.querySelector('#df-bb80bba0-2f9e-4cc4-a762-75835a4e7b48 button.colab-df-convert');\n",
              "        buttonEl.style.display =\n",
              "          google.colab.kernel.accessAllowed ? 'block' : 'none';\n",
              "\n",
              "        async function convertToInteractive(key) {\n",
              "          const element = document.querySelector('#df-bb80bba0-2f9e-4cc4-a762-75835a4e7b48');\n",
              "          const dataTable =\n",
              "            await google.colab.kernel.invokeFunction('convertToInteractive',\n",
              "                                                     [key], {});\n",
              "          if (!dataTable) return;\n",
              "\n",
              "          const docLinkHtml = 'Like what you see? Visit the ' +\n",
              "            '<a target=\"_blank\" href=https://colab.research.google.com/notebooks/data_table.ipynb>data table notebook</a>'\n",
              "            + ' to learn more about interactive tables.';\n",
              "          element.innerHTML = '';\n",
              "          dataTable['output_type'] = 'display_data';\n",
              "          await google.colab.output.renderOutput(dataTable, element);\n",
              "          const docLink = document.createElement('div');\n",
              "          docLink.innerHTML = docLinkHtml;\n",
              "          element.appendChild(docLink);\n",
              "        }\n",
              "      </script>\n",
              "    </div>\n",
              "  </div>\n",
              "  "
            ]
          },
          "metadata": {},
          "execution_count": 10
        }
      ]
    },
    {
      "cell_type": "markdown",
      "source": [
        "We observe three columns:\n",
        "\n",
        "*   key: InChiKey representation of the molecules\n",
        "*   input: SMILES\n",
        "*   score: model prediction\n",
        "\n",
        "We can read more about the output of the model in its associated [documentation](https://chembl.gitbook.io/malaria-project/output-file). As we can see, the output is a score, and \"The higher the score is the more likely the compound is predicted to be active. Because there is no normalised score, the user defines a selection threshold.\"\n",
        "\n"
      ],
      "metadata": {
        "id": "6MHvHBWWYjqJ"
      }
    },
    {
      "cell_type": "code",
      "source": [
        "#we can sort the molecules based on its score\n",
        "output.sort_values(\"score\", ascending=False).head()"
      ],
      "metadata": {
        "colab": {
          "base_uri": "https://localhost:8080/",
          "height": 206
        },
        "id": "a4h4iP6t7aOl",
        "outputId": "4062c51e-cc6e-4391-c6a3-7bd5055759ae"
      },
      "execution_count": null,
      "outputs": [
        {
          "output_type": "execute_result",
          "data": {
            "text/plain": [
              "                             key  \\\n",
              "136  HPFVQAYLQOSFOL-UHFFFAOYSA-N   \n",
              "399  ZGMMVVYGDFQTBB-UHFFFAOYSA-N   \n",
              "69   RHZLKBRFIAZMTN-UHFFFAOYSA-N   \n",
              "339  NPWXHTXMBIOHKI-UHFFFAOYSA-N   \n",
              "55   YZZGEZJZTYYZGG-UHFFFAOYSA-N   \n",
              "\n",
              "                                              input      score  \n",
              "136               COc1cccc(Nc2nc(NCCO)c3ccccc3n2)c1  77.199020  \n",
              "399           OCCNc1nc(Nc2ccc(Cl)c(Cl)c2)nc2ccccc12  76.798370  \n",
              "69                Cc1ccc(Nc2nc(NCCO)c3ccccc3n2)cc1C  76.052498  \n",
              "339  Cn1c(=O)n(C)c2cc(CNCCNc3ccnc4cc(Cl)ccc34)ccc21  76.012589  \n",
              "55             CCN(CC)CCNc1ncnc2c1[nH]c1ccc(Cl)cc12  71.951157  "
            ],
            "text/html": [
              "\n",
              "  <div id=\"df-79347228-cb85-4f63-9bcb-b7020da37d84\">\n",
              "    <div class=\"colab-df-container\">\n",
              "      <div>\n",
              "<style scoped>\n",
              "    .dataframe tbody tr th:only-of-type {\n",
              "        vertical-align: middle;\n",
              "    }\n",
              "\n",
              "    .dataframe tbody tr th {\n",
              "        vertical-align: top;\n",
              "    }\n",
              "\n",
              "    .dataframe thead th {\n",
              "        text-align: right;\n",
              "    }\n",
              "</style>\n",
              "<table border=\"1\" class=\"dataframe\">\n",
              "  <thead>\n",
              "    <tr style=\"text-align: right;\">\n",
              "      <th></th>\n",
              "      <th>key</th>\n",
              "      <th>input</th>\n",
              "      <th>score</th>\n",
              "    </tr>\n",
              "  </thead>\n",
              "  <tbody>\n",
              "    <tr>\n",
              "      <th>136</th>\n",
              "      <td>HPFVQAYLQOSFOL-UHFFFAOYSA-N</td>\n",
              "      <td>COc1cccc(Nc2nc(NCCO)c3ccccc3n2)c1</td>\n",
              "      <td>77.199020</td>\n",
              "    </tr>\n",
              "    <tr>\n",
              "      <th>399</th>\n",
              "      <td>ZGMMVVYGDFQTBB-UHFFFAOYSA-N</td>\n",
              "      <td>OCCNc1nc(Nc2ccc(Cl)c(Cl)c2)nc2ccccc12</td>\n",
              "      <td>76.798370</td>\n",
              "    </tr>\n",
              "    <tr>\n",
              "      <th>69</th>\n",
              "      <td>RHZLKBRFIAZMTN-UHFFFAOYSA-N</td>\n",
              "      <td>Cc1ccc(Nc2nc(NCCO)c3ccccc3n2)cc1C</td>\n",
              "      <td>76.052498</td>\n",
              "    </tr>\n",
              "    <tr>\n",
              "      <th>339</th>\n",
              "      <td>NPWXHTXMBIOHKI-UHFFFAOYSA-N</td>\n",
              "      <td>Cn1c(=O)n(C)c2cc(CNCCNc3ccnc4cc(Cl)ccc34)ccc21</td>\n",
              "      <td>76.012589</td>\n",
              "    </tr>\n",
              "    <tr>\n",
              "      <th>55</th>\n",
              "      <td>YZZGEZJZTYYZGG-UHFFFAOYSA-N</td>\n",
              "      <td>CCN(CC)CCNc1ncnc2c1[nH]c1ccc(Cl)cc12</td>\n",
              "      <td>71.951157</td>\n",
              "    </tr>\n",
              "  </tbody>\n",
              "</table>\n",
              "</div>\n",
              "      <button class=\"colab-df-convert\" onclick=\"convertToInteractive('df-79347228-cb85-4f63-9bcb-b7020da37d84')\"\n",
              "              title=\"Convert this dataframe to an interactive table.\"\n",
              "              style=\"display:none;\">\n",
              "        \n",
              "  <svg xmlns=\"http://www.w3.org/2000/svg\" height=\"24px\"viewBox=\"0 0 24 24\"\n",
              "       width=\"24px\">\n",
              "    <path d=\"M0 0h24v24H0V0z\" fill=\"none\"/>\n",
              "    <path d=\"M18.56 5.44l.94 2.06.94-2.06 2.06-.94-2.06-.94-.94-2.06-.94 2.06-2.06.94zm-11 1L8.5 8.5l.94-2.06 2.06-.94-2.06-.94L8.5 2.5l-.94 2.06-2.06.94zm10 10l.94 2.06.94-2.06 2.06-.94-2.06-.94-.94-2.06-.94 2.06-2.06.94z\"/><path d=\"M17.41 7.96l-1.37-1.37c-.4-.4-.92-.59-1.43-.59-.52 0-1.04.2-1.43.59L10.3 9.45l-7.72 7.72c-.78.78-.78 2.05 0 2.83L4 21.41c.39.39.9.59 1.41.59.51 0 1.02-.2 1.41-.59l7.78-7.78 2.81-2.81c.8-.78.8-2.07 0-2.86zM5.41 20L4 18.59l7.72-7.72 1.47 1.35L5.41 20z\"/>\n",
              "  </svg>\n",
              "      </button>\n",
              "      \n",
              "  <style>\n",
              "    .colab-df-container {\n",
              "      display:flex;\n",
              "      flex-wrap:wrap;\n",
              "      gap: 12px;\n",
              "    }\n",
              "\n",
              "    .colab-df-convert {\n",
              "      background-color: #E8F0FE;\n",
              "      border: none;\n",
              "      border-radius: 50%;\n",
              "      cursor: pointer;\n",
              "      display: none;\n",
              "      fill: #1967D2;\n",
              "      height: 32px;\n",
              "      padding: 0 0 0 0;\n",
              "      width: 32px;\n",
              "    }\n",
              "\n",
              "    .colab-df-convert:hover {\n",
              "      background-color: #E2EBFA;\n",
              "      box-shadow: 0px 1px 2px rgba(60, 64, 67, 0.3), 0px 1px 3px 1px rgba(60, 64, 67, 0.15);\n",
              "      fill: #174EA6;\n",
              "    }\n",
              "\n",
              "    [theme=dark] .colab-df-convert {\n",
              "      background-color: #3B4455;\n",
              "      fill: #D2E3FC;\n",
              "    }\n",
              "\n",
              "    [theme=dark] .colab-df-convert:hover {\n",
              "      background-color: #434B5C;\n",
              "      box-shadow: 0px 1px 3px 1px rgba(0, 0, 0, 0.15);\n",
              "      filter: drop-shadow(0px 1px 2px rgba(0, 0, 0, 0.3));\n",
              "      fill: #FFFFFF;\n",
              "    }\n",
              "  </style>\n",
              "\n",
              "      <script>\n",
              "        const buttonEl =\n",
              "          document.querySelector('#df-79347228-cb85-4f63-9bcb-b7020da37d84 button.colab-df-convert');\n",
              "        buttonEl.style.display =\n",
              "          google.colab.kernel.accessAllowed ? 'block' : 'none';\n",
              "\n",
              "        async function convertToInteractive(key) {\n",
              "          const element = document.querySelector('#df-79347228-cb85-4f63-9bcb-b7020da37d84');\n",
              "          const dataTable =\n",
              "            await google.colab.kernel.invokeFunction('convertToInteractive',\n",
              "                                                     [key], {});\n",
              "          if (!dataTable) return;\n",
              "\n",
              "          const docLinkHtml = 'Like what you see? Visit the ' +\n",
              "            '<a target=\"_blank\" href=https://colab.research.google.com/notebooks/data_table.ipynb>data table notebook</a>'\n",
              "            + ' to learn more about interactive tables.';\n",
              "          element.innerHTML = '';\n",
              "          dataTable['output_type'] = 'display_data';\n",
              "          await google.colab.output.renderOutput(dataTable, element);\n",
              "          const docLink = document.createElement('div');\n",
              "          docLink.innerHTML = docLinkHtml;\n",
              "          element.appendChild(docLink);\n",
              "        }\n",
              "      </script>\n",
              "    </div>\n",
              "  </div>\n",
              "  "
            ]
          },
          "metadata": {},
          "execution_count": 27
        }
      ]
    },
    {
      "cell_type": "code",
      "source": [
        "#we can plot the distribution of the scores\n",
        "\n",
        "plt.hist(output[\"score\"], bins=50, color=\"#50285a\")\n",
        "plt.xlabel(\"MAIP Score\")\n",
        "plt.ylabel(\"Number of molecules\")\n",
        "plt.show()"
      ],
      "metadata": {
        "colab": {
          "base_uri": "https://localhost:8080/",
          "height": 279
        },
        "id": "jauKp9yJ8RNc",
        "outputId": "1fd08215-4b1d-4739-ded0-3d93392e4397"
      },
      "execution_count": null,
      "outputs": [
        {
          "output_type": "display_data",
          "data": {
            "text/plain": [
              "<Figure size 432x288 with 1 Axes>"
            ],
            "image/png": "[encoded data removed]"
          },
          "metadata": {
            "needs_background": "light"
          }
        }
      ]
    },
    {
      "cell_type": "markdown",
      "source": [
        "# Breakout session\n",
        "Here is a list of models that can be used for this exercise. Please refer to the [Ersilia Model Hub](https://www.ersilia.io/model-hub) to read more about each one of them, the source of data they use and how can them be applied to our problem.\n",
        "\n",
        "*   Malaria Activity: eos2gth / maip-malaria-surrogate\n",
        "*   Tuberculosis Activity: eos46ev / chemtb\n",
        "*   Antibiotic Activity: eos4e40 / chemprop-antibiotic\n",
        "*   Cardiotoxicity (hERG): eos43at / molgrad-herg\n",
        "*   Retrosynthetic Accessibility: eos2r5a / retrosynthetic-accessibility\n",
        "*   Aqueous Solubility: eos6oli / soltrannet-aqueous-solubility\n",
        "*   Natural Product Likeness: eos9yui / natural-product-likeness"
      ],
      "metadata": {
        "id": "3Q0lNgeH5r-R"
      }
    },
    {
      "cell_type": "code",
      "source": [
        "!ersilia fetch eos46ev\n",
        "!ersilia fetch eos4e40\n",
        "!ersilia fetch eos43at\n",
        "!ersilia fetch eos2r5a\n",
        "!ersilia fetch eos6oli\n",
        "!ersilia fetch eos9yui"
      ],
      "metadata": {
        "id": "OsM-LJbO5qpf",
        "outputId": "827f9f70-a5fa-4b7d-f8af-f7dd91b7b545",
        "colab": {
          "base_uri": "https://localhost:8080/"
        }
      },
      "execution_count": null,
      "outputs": [
        {
          "output_type": "stream",
          "name": "stdout",
          "text": [
            "\u001b[34m⬇️  Fetching model eos46ev: chemtb\u001b[0m\n",
            "\u001b[32m👍 Model eos46ev fetched successfully!\u001b[0m\n",
            "\u001b[34m⬇️  Fetching model eos4e40: chemprop-antibiotic\u001b[0m\n",
            "\u001b[32m👍 Model eos4e40 fetched successfully!\u001b[0m\n",
            "\u001b[34m⬇️  Fetching model eos43at: molgrad-herg\u001b[0m\n",
            "\u001b[32m👍 Model eos43at fetched successfully!\u001b[0m\n",
            "\u001b[34m⬇️  Fetching model eos2r5a: retrosynthetic-accessibility\u001b[0m\n",
            "\u001b[32m👍 Model eos2r5a fetched successfully!\u001b[0m\n",
            "\u001b[34m⬇️  Fetching model eos6oli: soltrannet-aqueous-solubility\u001b[0m\n",
            "\u001b[32m👍 Model eos6oli fetched successfully!\u001b[0m\n",
            "\u001b[34m⬇️  Fetching model eos9yui: natural-product-likeness\u001b[0m\n",
            "\u001b[32m👍 Model eos9yui fetched successfully!\u001b[0m\n"
          ]
        }
      ]
    }
  ]
}
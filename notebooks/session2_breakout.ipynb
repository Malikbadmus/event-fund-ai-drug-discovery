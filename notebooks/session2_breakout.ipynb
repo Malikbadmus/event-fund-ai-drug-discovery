{
  "nbformat": 4,
  "nbformat_minor": 0,
  "metadata": {
    "colab": {
      "provenance": [],
      "collapsed_sections": [],
      "authorship_tag": "ABX9TyNXQm5sd15WQ5L+Xbq2bJBw",
      "include_colab_link": true
    },
    "kernelspec": {
      "name": "python3",
      "display_name": "Python 3"
    },
    "language_info": {
      "name": "python"
    }
  },
  "cells": [
    {
      "cell_type": "markdown",
      "metadata": {
        "id": "view-in-github",
        "colab_type": "text"
      },
      "source": [
        "<a href=\"https://colab.research.google.com/github/ersilia-os/event-fund-ai-drug-discovery/blob/main/session2_breakout.ipynb\" target=\"_parent\"><img src=\"https://colab.research.google.com/assets/colab-badge.svg\" alt=\"Open In Colab\"/></a>"
      ]
    },
    {
      "cell_type": "markdown",
      "source": [
        "# Ersilia Model Hub\n",
        "The Ersilia Model Hub is a repository of pre-trained, ready-to-use AI models for drug discovery. A list of models and its applications is available [here](https://ersilia.io/model-hub).\n",
        "\n",
        "You can run the Ersilia Model Hub in your computer by installing the [Ersilia Python Package](https://github.com/ersilia-os/ersilia). In this session, we will use the Google Colab implementation of the Ersilia Model Hub to ensure compatibility with all systems. \n"
      ],
      "metadata": {
        "id": "EQQx_ldqtTz_"
      }
    },
    {
      "cell_type": "code",
      "execution_count": 1,
      "metadata": {
        "id": "iZbMIx43tRJE"
      },
      "outputs": [],
      "source": [
        "# Installation on Google Colaboratory\n",
        "%%capture\n",
        "%env MINICONDA_INSTALLER_SCRIPT=Miniconda3-py37_4.12.0-Linux-x86_64.sh\n",
        "%env MINICONDA_PREFIX=/usr/local\n",
        "%env PYTHONPATH={PYTHONPATH}:/usr/local/lib/python3.7/site-packages\n",
        "%env CONDA_PREFIX=/usr/local\n",
        "%env CONDA_PREFIX_1=/usr/local\n",
        "%env CONDA_DEFAULT_ENV=base\n",
        "!pip install git+https://github.com/ersilia-os/ersilia.git\n",
        "!wget https://repo.anaconda.com/miniconda/$MINICONDA_INSTALLER_SCRIPT\n",
        "!chmod +x $MINICONDA_INSTALLER_SCRIPT\n",
        "!./$MINICONDA_INSTALLER_SCRIPT -b -f -p $MINICONDA_PREFIX\n",
        "!python -m pip install flask\n",
        "!python -m pip install urllib<=1.25\n",
        "!python -m pip install chardet<=5.0\n",
        "import sys\n",
        "_ = (sys.path.append(\"/usr/local/lib/python3.7/site-packages\"))"
      ]
    },
    {
      "cell_type": "markdown",
      "source": [],
      "metadata": {
        "id": "OwvB5T0M164G"
      }
    },
    {
      "cell_type": "code",
      "source": [],
      "metadata": {
        "id": "x5y3X2w615vV"
      },
      "execution_count": null,
      "outputs": []
    },
    {
      "cell_type": "markdown",
      "source": [
        "## Breakout activity\n",
        "\n",
        "We will use the Ersilia Model Hub to filter a list of 400 compounds (the MMV Pathogen Box) to try and identify the best ones for experimental testing.\n",
        "\n",
        "We will use our directory on Google Drive to store predictions."
      ],
      "metadata": {
        "id": "khZMT1jNw3UB"
      }
    },
    {
      "cell_type": "code",
      "source": [
        "from google.colab import drive\n",
        "drive.mount('/content/drive')\n",
        "!mkdir /content/drive/MyDrive/DataScience_Workshop\n",
        "!git clone https://github.com/ersilia-os/event-fund-ai-drug-discovery.git /content/drive/MyDrive/DataScience_Workshop"
      ],
      "metadata": {
        "colab": {
          "base_uri": "https://localhost:8080/"
        },
        "id": "UicMIulu2Ht_",
        "outputId": "2d75c16b-3b6e-44d2-c470-fc11aa6695ad"
      },
      "execution_count": 5,
      "outputs": [
        {
          "output_type": "stream",
          "name": "stdout",
          "text": [
            "Mounted at /content/drive\n",
            "Cloning into '/content/drive/MyDrive/DataScience_Workshop'...\n",
            "remote: Enumerating objects: 84, done.\u001b[K\n",
            "remote: Counting objects: 100% (84/84), done.\u001b[K\n",
            "remote: Compressing objects: 100% (61/61), done.\u001b[K\n",
            "remote: Total 84 (delta 33), reused 53 (delta 19), pack-reused 0\u001b[K\n",
            "Unpacking objects: 100% (84/84), done.\n"
          ]
        }
      ]
    },
    {
      "cell_type": "code",
      "source": [],
      "metadata": {
        "id": "cV45logN2YTQ"
      },
      "execution_count": null,
      "outputs": []
    },
    {
      "cell_type": "markdown",
      "source": [
        "There are three basic commands to run a model with Ersilia:\n",
        "1.   Fetch: retrieves a model from its online storage\n",
        "2.   Serve: brings the model alive, ready to be used\n",
        "3.   Predict: makes predictions for any input molecules of interest\n",
        "\n",
        "More details are available in the Ersilia Model Hub [documentation](https://ersilia.gitbook.io/ersilia-book/).\n",
        "\n"
      ],
      "metadata": {
        "id": "VrG6j69murLt"
      }
    },
    {
      "cell_type": "code",
      "source": [
        "!ersilia fetch eos2gth"
      ],
      "metadata": {
        "colab": {
          "base_uri": "https://localhost:8080/"
        },
        "id": "XRQicO5Zumtd",
        "outputId": "e3c8afd1-320a-441a-92fc-81526c475476"
      },
      "execution_count": 2,
      "outputs": [
        {
          "output_type": "stream",
          "name": "stdout",
          "text": [
            "\u001b[34m⬇️  Fetching model eos2gth: maip-malaria-surrogate\u001b[0m\n",
            "\u001b[32m👍 Model eos2gth fetched successfully!\u001b[0m\n"
          ]
        }
      ]
    },
    {
      "cell_type": "code",
      "source": [
        "!ersilia serve eos2gth"
      ],
      "metadata": {
        "colab": {
          "base_uri": "https://localhost:8080/"
        },
        "id": "K-IhH8LNytBF",
        "outputId": "b1b55703-9f1e-4235-a308-d807c0c147ff"
      },
      "execution_count": 3,
      "outputs": [
        {
          "output_type": "stream",
          "name": "stdout",
          "text": [
            "\u001b[32m🚀 Serving model eos2gth: maip-malaria-surrogate\u001b[0m\n",
            "\u001b[0m\n",
            "\u001b[33m   URL: http://127.0.0.1:40415\u001b[0m\n",
            "\u001b[33m   PID: 4245\u001b[0m\n",
            "\u001b[33m   SRV: conda\u001b[0m\n",
            "\u001b[0m\n",
            "\u001b[34m👉 Available APIs:\u001b[0m\n",
            "\u001b[34m   - predict\u001b[0m\n"
          ]
        }
      ]
    },
    {
      "cell_type": "code",
      "source": [
        "!ersilia api predict -i \"drive/MyDrive/DataScience_Workshop/data/test_drugs.csv\" -o \"drive/MyDrive/DataScience_Workshop/data/eos2gth.csv\""
      ],
      "metadata": {
        "colab": {
          "base_uri": "https://localhost:8080/"
        },
        "id": "igfDEK-L0YUm",
        "outputId": "ac489322-5c2e-4b5f-e4ea-47e902e76963"
      },
      "execution_count": 7,
      "outputs": [
        {
          "output_type": "stream",
          "name": "stdout",
          "text": [
            "drive/MyDrive/DataScience_Workshop/data/eos2gth.csv\u001b[0m\n"
          ]
        }
      ]
    },
    {
      "cell_type": "markdown",
      "source": [
        "We will fetch the different models we can use for the exercise:\n",
        "\n",
        "\n",
        "*   Malaria Activity\n",
        "*   Tuberculosis Activity\n",
        "*   Antibiotic Activity\n",
        "*   Cardiotoxicity (hERG)\n",
        "*   Natural Product Likeness\n",
        "*   Retrosynthetic Accessibility\n",
        "*   Aqueous Solubility\n",
        "\n"
      ],
      "metadata": {
        "id": "4K0wfN9DyDC8"
      }
    },
    {
      "cell_type": "code",
      "source": [],
      "metadata": {
        "id": "Hx163ILhxJws"
      },
      "execution_count": null,
      "outputs": []
    }
  ]
}
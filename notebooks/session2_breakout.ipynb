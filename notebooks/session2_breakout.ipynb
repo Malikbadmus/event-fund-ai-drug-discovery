{
  "cells": [
    {
      "cell_type": "markdown",
      "metadata": {
        "id": "878ye_rfyPE1"
      },
      "source": [
        "# Ersilia Model Hub\n",
        "The Ersilia Model Hub is a repository of pre-trained, ready-to-use AI models for drug discovery. A list of models and its applications is available [here](https://ersilia.io/model-hub).\n",
        "\n",
        "You can run the Ersilia Model Hub in your computer by installing the [Ersilia Python Package](https://github.com/ersilia-os/ersilia). In this session, we will use the Google Colab implementation of the Ersilia Model Hub to ensure compatibility with all systems."
      ]
    },
    {
      "cell_type": "code",
      "execution_count": null,
      "metadata": {
        "id": "hLxIH8hxyOte",
        "cellView": "form"
      },
      "outputs": [],
      "source": [
        "#@markdown Click on the play button to install Ersilia in this Colab notebook.\n",
        "\n",
        "%%capture\n",
        "%env MINICONDA_INSTALLER_SCRIPT=Miniconda3-py37_4.12.0-Linux-x86_64.sh\n",
        "%env MINICONDA_PREFIX=/usr/local\n",
        "%env PYTHONPATH={PYTHONPATH}:/usr/local/lib/python3.7/site-packages\n",
        "%env CONDA_PREFIX=/usr/local\n",
        "%env CONDA_PREFIX_1=/usr/local\n",
        "%env CONDA_DIR=/usr/local\n",
        "%env CONDA_DEFAULT_ENV=base\n",
        "!wget https://repo.anaconda.com/miniconda/$MINICONDA_INSTALLER_SCRIPT\n",
        "!chmod +x $MINICONDA_INSTALLER_SCRIPT\n",
        "!./$MINICONDA_INSTALLER_SCRIPT -b -f -p $MINICONDA_PREFIX\n",
        "!python -m pip install git+https://github.com/ersilia-os/ersilia.git\n",
        "!python -m pip install requests --upgrade\n",
        "import sys\n",
        "_ = (sys.path.append(\"/usr/local/lib/python3.7/site-packages\"))"
      ]
    },
    {
      "cell_type": "markdown",
      "metadata": {
        "id": "xjJsxgmC0Pzs"
      },
      "source": [
        "# MMV Malaria Dataset\n",
        "We will use the list of 400 compounds from the MMV Malaria Box for this exercise. The list of molecules is already prepared in the /data folder of the google drive h3d_ersilia_ai_workshop we created during Session 1.\n",
        "First, we will mount Google Drive on the notebook to access the data."
      ]
    },
    {
      "cell_type": "code",
      "execution_count": null,
      "metadata": {
        "id": "FFlKZR-uy9hj"
      },
      "outputs": [],
      "source": [
        "# Mount Google Drive\n",
        "from google.colab import drive\n",
        "drive.mount('/content/drive')\n",
        "\n",
        "#import necessary packages\n",
        "import matplotlib.pyplot as plt\n",
        "import pandas as pd"
      ]
    },
    {
      "cell_type": "code",
      "execution_count": null,
      "metadata": {
        "id": "VMuOGn-O0e5n"
      },
      "outputs": [],
      "source": [
        "#we can open it as a pandas dataframe\n",
        "smiles = \"drive/MyDrive/h3d_ersilia_ai_workshop/data/session2/mmv_malariabox.csv\"\n",
        "df=pd.read_csv(smiles)\n",
        "df.head()"
      ]
    },
    {
      "cell_type": "markdown",
      "metadata": {
        "id": "TWA7BLGtzgWg"
      },
      "source": [
        "# Example Model Prediction\n",
        "We will use one model as a step-by-step guide of how to use the Ersilia Model Hub and analyse the results. Each Ersilia model is identified by a code (eosxxxx) and a slug (one - two word identifier). We will always refer to the models by either the code or the slug. More details are available in the Ersilia Model Hub [documentation](https://ersilia.gitbook.io/ersilia-book/).\n",
        "\n"
      ]
    },
    {
      "cell_type": "markdown",
      "metadata": {
        "id": "c7Bpe3pbz5YY"
      },
      "source": [
        "## Antimalarial Activity\n",
        "The Ersilia Model Hub contains a surrogate version of MAIP, a web-based model for predicting blood-stage malaria inhibitors, published in [Bosc et al, 2021](https://jcheminf.biomedcentral.com/articles/10.1186/s13321-021-00487-2).\n",
        "\n",
        "### Steps\n",
        "1. Fetch the model from the online repositor using a bash command (!) \n",
        "2. Import the ersilia package as a Python function\n",
        "3. Load the selected model, \"eos2gth\"\n",
        "4. Run predictions for the input of interest (the MMV Malaria Box smiles list). The output will be loaded in a Pandas dataframe\n",
        "5. Close the model"
      ]
    },
    {
      "cell_type": "code",
      "execution_count": null,
      "metadata": {
        "id": "0Opjm0Wq5lfi"
      },
      "outputs": [],
      "source": [
        "!ersilia fetch eos2gth"
      ]
    },
    {
      "cell_type": "code",
      "execution_count": null,
      "metadata": {
        "id": "T2lNuiazx9m5"
      },
      "outputs": [],
      "source": [
        "from ersilia import ErsiliaModel\n",
        "\n",
        "model = ErsiliaModel(\"eos2gth\")\n",
        "model.serve()\n",
        "output = model.predict(input=smiles, output=\"pandas\")\n",
        "model.close()"
      ]
    },
    {
      "cell_type": "code",
      "execution_count": null,
      "metadata": {
        "id": "CL0BURmg7oKM"
      },
      "outputs": [],
      "source": [
        "#once the model has run the predictions, let's save the output in our Google Drive\n",
        "output.to_csv(\"drive/MyDrive/h3d_ersilia_ai_workshop/data/session2/eos2gth.csv\", index=False)"
      ]
    },
    {
      "cell_type": "markdown",
      "metadata": {
        "id": "wL3TVCz07M3L"
      },
      "source": [
        "### Analyising the model output"
      ]
    },
    {
      "cell_type": "code",
      "execution_count": null,
      "metadata": {
        "id": "QKoufpayYWIw"
      },
      "outputs": [],
      "source": [
        "#First, let's load the predictions we just stored in drive\n",
        "\n",
        "maip = pd.read_csv(\"drive/MyDrive/h3d_ersilia_ai_workshop/data/session2/eos2gth.csv\")\n",
        "maip.head()"
      ]
    },
    {
      "cell_type": "markdown",
      "metadata": {
        "id": "6MHvHBWWYjqJ"
      },
      "source": [
        "We observe three columns:\n",
        "\n",
        "*   key: InChiKey representation of the molecules\n",
        "*   input: SMILES\n",
        "*   score: model prediction\n",
        "\n",
        "We can read more about the output of the model in its associated [documentation](https://chembl.gitbook.io/malaria-project/output-file). As we can see, the output is a score, and \"The higher the score is the more likely the compound is predicted to be active. Because there is no normalised score, the user defines a selection threshold.\"\n",
        "\n"
      ]
    },
    {
      "cell_type": "code",
      "execution_count": null,
      "metadata": {
        "id": "a4h4iP6t7aOl"
      },
      "outputs": [],
      "source": [
        "#we can sort the molecules based on its score\n",
        "output.sort_values(\"score\", ascending=False).head()"
      ]
    },
    {
      "cell_type": "code",
      "execution_count": null,
      "metadata": {
        "id": "jauKp9yJ8RNc"
      },
      "outputs": [],
      "source": [
        "#we can plot the distribution of the scores\n",
        "\n",
        "plt.hist(output[\"score\"], bins=50, color=\"#50285a\")\n",
        "plt.xlabel(\"MAIP Score\")\n",
        "plt.ylabel(\"Number of molecules\")\n",
        "plt.show()"
      ]
    },
    {
      "cell_type": "markdown",
      "metadata": {
        "id": "3Q0lNgeH5r-R"
      },
      "source": [
        "# Breakout session\n",
        "Here is a list of models that can be used for this exercise. Please refer to the [Ersilia Model Hub](https://www.ersilia.io/model-hub) to read more about each one of them, the source of data they use and how can them be applied to our problem.\n",
        "\n",
        "*   Malaria Activity: eos2gth / maip-malaria-surrogate\n",
        "*   Tuberculosis Activity: eos46ev / chemtb\n",
        "*   Antibiotic Activity: eos4e41 / chemprop-antibiotic-lite\n",
        "*   Cardiotoxicity (hERG): eos43at / molgrad-herg\n",
        "*   Retrosynthetic Accessibility: eos2r5a / retrosynthetic-accessibility\n",
        "*   Aqueous Solubility: eos6oli / soltrannet-aqueous-solubility\n",
        "*   Natural Product Likeness: eos9yui / natural-product-likeness\n"
      ]
    },
    {
      "cell_type": "code",
      "source": [
        "#@title ChemTB\n",
        "#@markdown Click on the play button to run predictions using ChemTB (eos46ev)\n",
        "!ersilia fetch eos46ev\n",
        "from ersilia import ErsiliaModel\n",
        "\n",
        "model = ErsiliaModel(\"eos46ev\")\n",
        "model.serve()\n",
        "output = model.predict(input=smiles, output=\"pandas\")\n",
        "model.close()\n",
        "\n",
        "output.to_csv(\"drive/MyDrive/h3d_ersilia_ai_workshop/data/session2/eos46ev.csv\", index=False)"
      ],
      "metadata": {
        "cellView": "form",
        "id": "NL8XWTPDkiQn"
      },
      "execution_count": null,
      "outputs": []
    },
    {
      "cell_type": "code",
      "source": [
        "#@title Chemprop Antibiotic\n",
        "#@markdown Click on the play button to run predictions using Chemprop Antibiotic (eos4e41)\n",
        "from ersilia import ErsiliaModel\n",
        "!ersilia fetch eos4e41\n",
        "\n",
        "model = ErsiliaModel(\"eos4e41\")\n",
        "model.serve()\n",
        "output = model.predict(input=smiles, output=\"pandas\")\n",
        "model.close()\n",
        "\n",
        "output.to_csv(\"drive/MyDrive/h3d_ersilia_ai_workshop/data/session2/eos4e41.csv\", index=False)"
      ],
      "metadata": {
        "cellView": "form",
        "id": "3vy8dgYhlIue"
      },
      "execution_count": null,
      "outputs": []
    },
    {
      "cell_type": "code",
      "source": [
        "#@title Cardiotoxicity\n",
        "#@markdown Click on the play button to run predictions using Cardiotoxicity(eos43at)\n",
        "!ersilia fetch eos43at\n",
        "\n",
        "model = ErsiliaModel(\"eos43at\")\n",
        "model.serve()\n",
        "output = model.predict(input=smiles, output=\"pandas\")\n",
        "model.close()\n",
        "\n",
        "output.to_csv(\"drive/MyDrive/h3d_ersilia_ai_workshop/data/session2/eos43at.csv\", index=False)"
      ],
      "metadata": {
        "cellView": "form",
        "id": "ugxwvz08lS0G"
      },
      "execution_count": null,
      "outputs": []
    },
    {
      "cell_type": "code",
      "source": [
        "#@title Retrosynthetic Accessibility\n",
        "#@markdown Click on the play button to run predictions using RA (eos2r5a)\n",
        "!ersilia fetch eos2r5a\n",
        "\n",
        "model = ErsiliaModel(\"eos2r5a\")\n",
        "model.serve()\n",
        "output = model.predict(input=smiles, output=\"pandas\")\n",
        "model.close()\n",
        "\n",
        "output.to_csv(\"drive/MyDrive/h3d_ersilia_ai_workshop/data/session2/eos2r5a.csv\", index=False)"
      ],
      "metadata": {
        "cellView": "form",
        "id": "p9Q6dQgaldne"
      },
      "execution_count": null,
      "outputs": []
    },
    {
      "cell_type": "code",
      "source": [
        "#@title Aqueous Solubility\n",
        "#@markdown Click on the play button to run predictions using Solubility (eos6oli)\n",
        "!ersilia fetch eos6oli\n",
        "\n",
        "model = ErsiliaModel(\"eos6oli\")\n",
        "model.serve()\n",
        "output = model.predict(input=smiles, output=\"pandas\")\n",
        "model.close()\n",
        "\n",
        "output.to_csv(\"drive/MyDrive/h3d_ersilia_ai_workshop/data/session2/eo6oli.csv\", index=False)"
      ],
      "metadata": {
        "cellView": "form",
        "id": "uSb5oefWlrN_"
      },
      "execution_count": null,
      "outputs": []
    },
    {
      "cell_type": "code",
      "source": [
        "#@title Natural Product Likeness\n",
        "#@markdown Click on the play button to run predictions using NP Likeness (eos9yui)\n",
        "!ersilia fetch eos9yui\n",
        "\n",
        "model = ErsiliaModel(\"eos9yui\")\n",
        "model.serve()\n",
        "output = model.predict(input=smiles, output=\"pandas\")\n",
        "model.close()\n",
        "\n",
        "output.to_csv(\"drive/MyDrive/h3d_ersilia_ai_workshop/data/session2/eos9yui.csv\", index=False)"
      ],
      "metadata": {
        "cellView": "form",
        "id": "u7PgM1Vbl7eg"
      },
      "execution_count": null,
      "outputs": []
    }
  ],
  "metadata": {
    "colab": {
      "collapsed_sections": [],
      "provenance": []
    },
    "kernelspec": {
      "display_name": "Python 3.10.4 64-bit",
      "language": "python",
      "name": "python3"
    },
    "language_info": {
      "name": "python",
      "version": "3.10.4"
    },
    "vscode": {
      "interpreter": {
        "hash": "916dbcbb3f70747c44a77c7bcd40155683ae19c65e1c03b4aa3499c5328201f1"
      }
    }
  },
  "nbformat": 4,
  "nbformat_minor": 0
}
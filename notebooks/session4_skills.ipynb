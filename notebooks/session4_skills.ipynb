{
  "nbformat": 4,
  "nbformat_minor": 0,
  "metadata": {
    "colab": {
      "provenance": [],
      "authorship_tag": "ABX9TyOMoxnUZW5yYpuk3ANWZ4Es",
      "include_colab_link": true
    },
    "kernelspec": {
      "name": "python3",
      "display_name": "Python 3"
    },
    "language_info": {
      "name": "python"
    }
  },
  "cells": [
    {
      "cell_type": "markdown",
      "metadata": {
        "id": "view-in-github",
        "colab_type": "text"
      },
      "source": [
        "<a href=\"https://colab.research.google.com/github/ersilia-os/event-fund-ai-drug-discovery/blob/main/notebooks/session4_skills.ipynb\" target=\"_parent\"><img src=\"https://colab.research.google.com/assets/colab-badge.svg\" alt=\"Open In Colab\"/></a>"
      ]
    },
    {
      "cell_type": "code",
      "source": [
        "#@title 🔀 Connect to Google Drive\n",
        "#@markdown This implementation of the Ersilia Model Hub uses Google Drive as a storing system. \n",
        "#@markdown The molecules you want to predict must be uploaded as a .csv file in Drive and the output will also be stored in Derive\n",
        "\n",
        "from google.colab import drive\n",
        "drive.mount('/content/drive')"
      ],
      "metadata": {
        "cellView": "form",
        "id": "e-hG4_wnIXPY"
      },
      "execution_count": null,
      "outputs": []
    },
    {
      "cell_type": "code",
      "source": [
        "#@title 🔍 Import Python Packages\n",
        "#@markdown Run this cell to import the necessary python packages to run the notebook.\n",
        "%%capture\n",
        "\n",
        "!pip install standardiser\n",
        "!pip install rdkit\n",
        "\n",
        "from standardiser import standardise\n",
        "from rdkit import Chem\n",
        "\n",
        "import pandas as pd\n",
        "import matplotlib.pyplot as plt"
      ],
      "metadata": {
        "cellView": "form",
        "id": "GD8W35I-JFeI"
      },
      "execution_count": null,
      "outputs": []
    },
    {
      "cell_type": "markdown",
      "source": [
        "# 📩 Input Data\n"
      ],
      "metadata": {
        "id": "CG7xMjhow_A5"
      }
    },
    {
      "cell_type": "code",
      "source": [
        "#@markdown ✍ Add the path to your input file in Google Drive\n",
        "file_path = \"drive/MyDrive/ersilia_hub/chembl3882128.csv\" #@param {type:\"string\"}\n"
      ],
      "metadata": {
        "cellView": "form",
        "id": "P4HXma-k0nYE"
      },
      "execution_count": null,
      "outputs": []
    },
    {
      "cell_type": "code",
      "source": [
        "#@markdown Run this cell to get a visualisation of your data table!\n",
        "\n",
        "df = pd.read_csv(file_path)\n",
        "df.head()"
      ],
      "metadata": {
        "cellView": "form",
        "id": "R5p-NgwXxLgj"
      },
      "execution_count": null,
      "outputs": []
    },
    {
      "cell_type": "code",
      "source": [
        "#@markdown ✍ Specify the name of the SMILES column. Remember that Python requires exact matching of letters, including lower and upper cases.\n",
        "smiles_column = \"Smiles\" #@param {type:\"string\"}"
      ],
      "metadata": {
        "cellView": "form",
        "id": "iQJGgWvm8gAx"
      },
      "execution_count": null,
      "outputs": []
    },
    {
      "cell_type": "code",
      "source": [
        "#@title ♻ Standardise molecules\n",
        "#@markdown By running this cell you will standardise your molecules according to the rules defined by ChEMBL's [standardiser](https://github.com/flatkinson/standardiser/blob/master/standardiser/docs/standardiser.pdf)\n",
        "\n",
        "mols = [Chem.MolFromSmiles(smi) for smi in df[smiles_column].tolist()]\n",
        "st_mols = [standardise.run(mol) for mol in mols]\n",
        "st_smiles = [Chem.MolToSmiles(st_mol) for st_mol in st_mols]\n",
        "print(st_smiles)"
      ],
      "metadata": {
        "cellView": "form",
        "id": "wi19_sM_x8kH"
      },
      "execution_count": null,
      "outputs": []
    },
    {
      "cell_type": "code",
      "source": [
        "#@markdown ✍ Please specify where you want to save the standard smiles list. Be careful not to overwrite your other files by giving it a different name.\n",
        "#@markdown By running this cell, you will save the molecules in a.csv file ready to be inputed to the Ersilia Model Hub!\n",
        "standard_data = \"drive/MyDrive/ersilia_hub/chembl3882128_smiles.csv\" #@param {type:\"string\"}\n",
        "stdf = pd.DataFrame()\n",
        "stdf[\"smiles\"] = st_smiles\n",
        "stdf.to_csv(standard_data, index=False)"
      ],
      "metadata": {
        "cellView": "form",
        "id": "RrpQ_MtwzW8J"
      },
      "execution_count": null,
      "outputs": []
    },
    {
      "cell_type": "markdown",
      "source": [
        "# 💻 The Ersilia Model Hub\n",
        "\n",
        "The Ersilia Model Hub is a Python Library developed for UNIX environments (MacOS, Linux). It can be installed and accessed via CLI natively on Linux and MacOS computers and on a Windows Subsystem for Linux.\n",
        "\n",
        "This notebook implements a selection of models from the Ersilia Model Hub in Colab."
      ],
      "metadata": {
        "id": "tGfhFCkv0KhJ"
      }
    },
    {
      "cell_type": "code",
      "execution_count": null,
      "metadata": {
        "id": "HK0VmfES9qQ3",
        "cellView": "form"
      },
      "outputs": [],
      "source": [
        "#@title Click on the play button to install Ersilia in this Colab notebook.\n",
        "\n",
        "%%capture\n",
        "%env MINICONDA_INSTALLER_SCRIPT=Miniconda3-py37_4.12.0-Linux-x86_64.sh\n",
        "%env MINICONDA_PREFIX=/usr/local\n",
        "%env PYTHONPATH={PYTHONPATH}:/usr/local/lib/python3.7/site-packages\n",
        "%env CONDA_PREFIX=/usr/local\n",
        "%env CONDA_PREFIX_1=/usr/local\n",
        "%env CONDA_DIR=/usr/local\n",
        "%env CONDA_DEFAULT_ENV=base\n",
        "!wget https://repo.anaconda.com/miniconda/$MINICONDA_INSTALLER_SCRIPT\n",
        "!chmod +x $MINICONDA_INSTALLER_SCRIPT\n",
        "!./$MINICONDA_INSTALLER_SCRIPT -b -f -p $MINICONDA_PREFIX\n",
        "!python -m pip install git+https://github.com/ersilia-os/ersilia.git\n",
        "!python -m pip install requests --upgrade\n",
        "import sys\n",
        "_ = (sys.path.append(\"/usr/local/lib/python3.7/site-packages\"))"
      ]
    },
    {
      "cell_type": "code",
      "source": [
        "#@markdown ✍ Select the model of interest from the [Ersilia Model Hub](https://ersilia.io/model-hub)\n",
        "model = \"eos96ia\" #@param {type:\"string\"}\n"
      ],
      "metadata": {
        "cellView": "form",
        "id": "B2ggmRLs9QIS"
      },
      "execution_count": null,
      "outputs": []
    },
    {
      "cell_type": "code",
      "source": [
        "#@markdown ✍ Insert the path to the input smiles (.csv with a SMILES column) and the path to the desired output file.\n",
        "input_smiles = \"drive/MyDrive/ersilia_hub/chembl3882128_smiles.csv\" #@param {type:\"string\"}\n",
        "output_file = \"drive/MyDrive/ersilia_hub/chembl3882128_eos96ia.csv\" #@param {type:\"string\"}\n"
      ],
      "metadata": {
        "cellView": "form",
        "id": "ypqWDmuu92O-"
      },
      "execution_count": null,
      "outputs": []
    },
    {
      "cell_type": "code",
      "source": [
        "#@title ⏬ Fetch the model\n",
        "import os\n",
        "os.environ[\"EOS_ID\"] = model\n",
        "!ersilia fetch $EOS_ID"
      ],
      "metadata": {
        "cellView": "form",
        "id": "rzOv5XpFLGAP"
      },
      "execution_count": null,
      "outputs": []
    },
    {
      "cell_type": "code",
      "source": [
        "#@title ⚡ Serve the model\n",
        "!ersilia serve $EOS_ID"
      ],
      "metadata": {
        "cellView": "form",
        "id": "vx5xnjY9P10D"
      },
      "execution_count": null,
      "outputs": []
    },
    {
      "cell_type": "code",
      "source": [
        "#@title 🚀 Run predictions and store results in the specified Drive folder\n",
        "os.environ[\"INPUT\"] = input_smiles\n",
        "os.environ[\"OUTPUT\"] = output_file\n",
        "!ersilia api -i $INPUT -o $OUTPUT"
      ],
      "metadata": {
        "cellView": "form",
        "id": "D1x1P5ijQHUF"
      },
      "execution_count": null,
      "outputs": []
    },
    {
      "cell_type": "markdown",
      "source": [
        "## 📋 Results interpretation\n",
        "\n",
        "The Ersilia Model Hub output in a .csv file always contain:\n",
        "\n",
        "*   key: InChiKey representation of the input molecules\n",
        "*   input: canonical smiles of the input molecules\n",
        "*   column 3: results column, contains the predicted values, probabilities... the name of the colum depends on the model\n",
        "\n",
        "*some models provide more than one output, which you will find in subsequent columns 4, 5 ...*\n",
        "\n"
      ],
      "metadata": {
        "id": "smH0ZozqRJis"
      }
    },
    {
      "cell_type": "code",
      "source": [
        "#@title Check the model output\n",
        "#@markdown This cell will print the first 5 rows of the Ersilia Model Hub output.\n",
        "\n",
        "df = pd.read_csv(output_file)\n",
        "df.head()"
      ],
      "metadata": {
        "cellView": "form",
        "id": "PaIqSEE8R5Mm"
      },
      "execution_count": null,
      "outputs": []
    },
    {
      "cell_type": "code",
      "source": [
        "#@title Distribution of predictions\n",
        "#@markdown This cell takes the values in the THIRD column and plots a simple histogram. If you want to plot other columns in a histogram, please change the column number in the code below.\n",
        "\n",
        "plt.hist(df.iloc[:,2], color=\"#50285a\")\n",
        "plt.show()"
      ],
      "metadata": {
        "cellView": "form",
        "id": "8ULw1X-4R5Bs"
      },
      "execution_count": null,
      "outputs": []
    },
    {
      "cell_type": "markdown",
      "source": [
        "# ❗ If something went wrong:\n",
        "\n",
        "If you find an error when running a specific model, please open an issue on the [Ersilia Model Hub GitHub](https://github.com/ersilia-os/ersilia/issues) and we will respond as soon as possible.\n",
        "\n",
        "*Note that you need a GitHub account to post issues*"
      ],
      "metadata": {
        "id": "cARelXKJUfEd"
      }
    }
  ]
}